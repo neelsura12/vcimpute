{
 "cells": [
  {
   "cell_type": "code",
   "execution_count": 1,
   "id": "c65f9757",
   "metadata": {},
   "outputs": [],
   "source": [
    "import numpy as np\n",
    "import pandas as pd\n",
    "from matplotlib import pyplot as plt\n",
    "\n",
    "from gcimpute.helper_mask import mask_MCAR\n",
    "from gcimpute.gaussian_copula import GaussianCopula\n",
    "from gcimpute.helper_evaluation import get_smae"
   ]
  },
  {
   "cell_type": "code",
   "execution_count": 37,
   "id": "5e74c398",
   "metadata": {},
   "outputs": [],
   "source": [
    "dat = pd.read_csv('abalone.csv')\n",
    "dat = dat[dat['Sex'] == 'F']\n",
    "dat = dat.sample(1000)"
   ]
  },
  {
   "cell_type": "code",
   "execution_count": 38,
   "id": "5a65bc3c",
   "metadata": {},
   "outputs": [],
   "source": [
    "all_cols = dat.columns[1:]\n",
    "cts_cols = ['Length', 'Diameter', 'Whole weight', 'Shucked weight', 'Viscera weight', 'Shell weight']\n",
    "X = dat[cts_cols].values"
   ]
  },
  {
   "cell_type": "code",
   "execution_count": 39,
   "id": "3c6d7940",
   "metadata": {},
   "outputs": [],
   "source": [
    "X_mask = mask_MCAR(X, mask_fraction=0.1)"
   ]
  },
  {
   "cell_type": "code",
   "execution_count": 2,
   "id": "99ad9587",
   "metadata": {},
   "outputs": [],
   "source": [
    "mask_MCAR?"
   ]
  },
  {
   "cell_type": "code",
   "execution_count": 40,
   "id": "6f6b0c1c",
   "metadata": {},
   "outputs": [
    {
     "name": "stdout",
     "output_type": "stream",
     "text": [
      "Iteration 1: copula parameter change 0.0731, likelihood -3.6985\n",
      "Iteration 2: copula parameter change 0.0083, likelihood -2.9446\n",
      "Convergence achieved at iteration 2\n"
     ]
    }
   ],
   "source": [
    "model = GaussianCopula(verbose=1)\n",
    "X_imp = model.fit_transform(X=X_mask)"
   ]
  },
  {
   "cell_type": "code",
   "execution_count": 42,
   "id": "b5c3537a",
   "metadata": {},
   "outputs": [],
   "source": [
    "from scipy.stats import kendalltau"
   ]
  },
  {
   "cell_type": "code",
   "execution_count": 50,
   "id": "319c738b",
   "metadata": {},
   "outputs": [
    {
     "data": {
      "text/plain": [
       "array([[1.        , 0.95112656, 0.94052696, 0.90823451, 0.90544939,\n",
       "        0.89369036],\n",
       "       [0.95112656, 1.        , 0.93599194, 0.89079752, 0.89335534,\n",
       "        0.90203698],\n",
       "       [0.94052696, 0.93599194, 1.        , 0.93997133, 0.93625281,\n",
       "        0.92727736],\n",
       "       [0.90823451, 0.89079752, 0.93997133, 1.        , 0.89344066,\n",
       "        0.83647749],\n",
       "       [0.90544939, 0.89335534, 0.93625281, 0.89344066, 1.        ,\n",
       "        0.8664208 ],\n",
       "       [0.89369036, 0.90203698, 0.92727736, 0.83647749, 0.8664208 ,\n",
       "        1.        ]])"
      ]
     },
     "execution_count": 50,
     "metadata": {},
     "output_type": "execute_result"
    }
   ],
   "source": []
  },
  {
   "cell_type": "code",
   "execution_count": 51,
   "id": "f7322afa",
   "metadata": {},
   "outputs": [],
   "source": [
    "kt = np.empty((6,6))\n",
    "for i in range(6):\n",
    "    for j in range(6):\n",
    "        kt[i, j] = kendalltau(X_imp[:,i], X_imp[:,j]).correlation"
   ]
  },
  {
   "cell_type": "code",
   "execution_count": 53,
   "id": "332d21e2",
   "metadata": {},
   "outputs": [
    {
     "data": {
      "text/html": [
       "<div>\n",
       "<style scoped>\n",
       "    .dataframe tbody tr th:only-of-type {\n",
       "        vertical-align: middle;\n",
       "    }\n",
       "\n",
       "    .dataframe tbody tr th {\n",
       "        vertical-align: top;\n",
       "    }\n",
       "\n",
       "    .dataframe thead th {\n",
       "        text-align: right;\n",
       "    }\n",
       "</style>\n",
       "<table border=\"1\" class=\"dataframe\">\n",
       "  <thead>\n",
       "    <tr style=\"text-align: right;\">\n",
       "      <th></th>\n",
       "      <th>0</th>\n",
       "      <th>1</th>\n",
       "      <th>2</th>\n",
       "      <th>3</th>\n",
       "      <th>4</th>\n",
       "      <th>5</th>\n",
       "    </tr>\n",
       "  </thead>\n",
       "  <tbody>\n",
       "    <tr>\n",
       "      <th>0</th>\n",
       "      <td>1.000000</td>\n",
       "      <td>0.870676</td>\n",
       "      <td>0.825552</td>\n",
       "      <td>0.772882</td>\n",
       "      <td>0.762206</td>\n",
       "      <td>0.752445</td>\n",
       "    </tr>\n",
       "    <tr>\n",
       "      <th>1</th>\n",
       "      <td>0.870676</td>\n",
       "      <td>1.000000</td>\n",
       "      <td>0.828223</td>\n",
       "      <td>0.755223</td>\n",
       "      <td>0.753782</td>\n",
       "      <td>0.774542</td>\n",
       "    </tr>\n",
       "    <tr>\n",
       "      <th>2</th>\n",
       "      <td>0.825552</td>\n",
       "      <td>0.828223</td>\n",
       "      <td>1.000000</td>\n",
       "      <td>0.831921</td>\n",
       "      <td>0.817189</td>\n",
       "      <td>0.807794</td>\n",
       "    </tr>\n",
       "    <tr>\n",
       "      <th>3</th>\n",
       "      <td>0.772882</td>\n",
       "      <td>0.755223</td>\n",
       "      <td>0.831921</td>\n",
       "      <td>1.000000</td>\n",
       "      <td>0.748236</td>\n",
       "      <td>0.671554</td>\n",
       "    </tr>\n",
       "    <tr>\n",
       "      <th>4</th>\n",
       "      <td>0.762206</td>\n",
       "      <td>0.753782</td>\n",
       "      <td>0.817189</td>\n",
       "      <td>0.748236</td>\n",
       "      <td>1.000000</td>\n",
       "      <td>0.711903</td>\n",
       "    </tr>\n",
       "    <tr>\n",
       "      <th>5</th>\n",
       "      <td>0.752445</td>\n",
       "      <td>0.774542</td>\n",
       "      <td>0.807794</td>\n",
       "      <td>0.671554</td>\n",
       "      <td>0.711903</td>\n",
       "      <td>1.000000</td>\n",
       "    </tr>\n",
       "  </tbody>\n",
       "</table>\n",
       "</div>"
      ],
      "text/plain": [
       "          0         1         2         3         4         5\n",
       "0  1.000000  0.870676  0.825552  0.772882  0.762206  0.752445\n",
       "1  0.870676  1.000000  0.828223  0.755223  0.753782  0.774542\n",
       "2  0.825552  0.828223  1.000000  0.831921  0.817189  0.807794\n",
       "3  0.772882  0.755223  0.831921  1.000000  0.748236  0.671554\n",
       "4  0.762206  0.753782  0.817189  0.748236  1.000000  0.711903\n",
       "5  0.752445  0.774542  0.807794  0.671554  0.711903  1.000000"
      ]
     },
     "execution_count": 53,
     "metadata": {},
     "output_type": "execute_result"
    }
   ],
   "source": [
    "pd.DataFrame(kt)"
   ]
  }
 ],
 "metadata": {
  "kernelspec": {
   "display_name": "Python 3 (ipykernel)",
   "language": "python",
   "name": "python3"
  },
  "language_info": {
   "codemirror_mode": {
    "name": "ipython",
    "version": 3
   },
   "file_extension": ".py",
   "mimetype": "text/x-python",
   "name": "python",
   "nbconvert_exporter": "python",
   "pygments_lexer": "ipython3",
   "version": "3.7.11"
  }
 },
 "nbformat": 4,
 "nbformat_minor": 5
}
