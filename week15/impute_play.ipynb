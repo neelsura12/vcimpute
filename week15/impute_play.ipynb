{
 "cells": [
  {
   "cell_type": "code",
   "execution_count": 3,
   "id": "06cc3818",
   "metadata": {},
   "outputs": [],
   "source": [
    "import numpy as np\n",
    "import pandas as pd\n",
    "from matplotlib import pyplot as plt\n",
    "\n",
    "import pyvinecopulib as pv\n",
    "from gcimpute.helper_data import load_GSS\n",
    "from gcimpute.gaussian_copula import GaussianCopula\n",
    "from gcimpute.helper_data import generate_mixed_from_gc\n",
    "from gcimpute.helper_mask import mask_MCAR\n",
    "from gcimpute.helper_evaluation import get_smae\n",
    "\n",
    "X = generate_mixed_from_gc(n=2000)\n",
    "X_mask = mask_MCAR(X, mask_fraction=0.4)\n",
    "X_mask = X_mask[:, :5]\n",
    "all_empty = np.where(np.all(np.isnan(X_mask), axis=1))[0]\n",
    "X_mask[all_empty, :] = X[all_empty, :5]"
   ]
  },
  {
   "cell_type": "code",
   "execution_count": null,
   "id": "64bc1522",
   "metadata": {},
   "outputs": [],
   "source": [
    "model = GaussianCopula(verbose=1)\n",
    "X_imp = model.fit_transform(X=X_mask)\n",
    "\n",
    "# Evaluation: compute the scaled-MAE (SMAE) for each data type (scaled by MAE of median imputation) \n",
    "smae = get_smae(X_imp, X, X_mask)"
   ]
  },
  {
   "cell_type": "code",
   "execution_count": 9,
   "id": "96cabf35",
   "metadata": {},
   "outputs": [],
   "source": [
    "u = pv.to_pseudo_obs(X[:,:5])\n",
    "cop = pv.Vinecop(data=u)"
   ]
  },
  {
   "cell_type": "code",
   "execution_count": 8,
   "id": "7b04f304",
   "metadata": {},
   "outputs": [
    {
     "name": "stdout",
     "output_type": "stream",
     "text": [
      "<pyvinecopulib.Vinecop>\n",
      "** Tree: 0\n",
      "1,2 <-> TLL, parameters = [30x30 grid]\n",
      "\n"
     ]
    }
   ],
   "source": [
    "print(cop)"
   ]
  },
  {
   "cell_type": "code",
   "execution_count": null,
   "id": "96f9e9ec",
   "metadata": {},
   "outputs": [],
   "source": []
  },
  {
   "cell_type": "code",
   "execution_count": null,
   "id": "c3c2dfaa",
   "metadata": {},
   "outputs": [],
   "source": [
    "plt.hist(X_imp[:,4])\n",
    "\n",
    "dat.isnull().sum(axis=0)\n",
    "\n",
    "X_mask\n",
    "\n",
    "\n",
    "cop = pv.Bicop(family=pv.BicopFamily.student, rotation=0, parameters=[0.5, 4])\n",
    "u = cop.simulate(n=10, seeds=[1, 2, 3])\n",
    "\n",
    "\n",
    "# Or create directly from data\n",
    "cop3 = pv.Bicop(data=u)\n",
    "print(cop3)\n",
    "\n",
    "cop2 = pv.Bicop(pv.BicopFamily.student)\n",
    "cop2.fit(data=u)\n",
    "print(cop2)\n",
    "\n",
    "\n",
    "controls = pv.FitControlsBicop(family_set=[pv.BicopFamily.student])\n",
    "print(controls)\n",
    "cop2 = pv.Bicop(data=u, controls=controls)\n",
    "print(cop2)\n",
    "\n",
    "\n",
    "\n",
    "\n",
    "\n",
    "dat\n",
    "\n",
    "\n",
    "model = GaussianCopula(verbose=1)\n",
    "X_imp = model.fit_transform(X=X_mask)"
   ]
  }
 ],
 "metadata": {
  "kernelspec": {
   "display_name": "Python 3 (ipykernel)",
   "language": "python",
   "name": "python3"
  },
  "language_info": {
   "codemirror_mode": {
    "name": "ipython",
    "version": 3
   },
   "file_extension": ".py",
   "mimetype": "text/x-python",
   "name": "python",
   "nbconvert_exporter": "python",
   "pygments_lexer": "ipython3",
   "version": "3.7.11"
  }
 },
 "nbformat": 4,
 "nbformat_minor": 5
}
