{
 "cells": [
  {
   "cell_type": "code",
   "execution_count": 83,
   "id": "31b90213",
   "metadata": {},
   "outputs": [],
   "source": [
    "from matplotlib import pyplot as plt"
   ]
  },
  {
   "cell_type": "code",
   "execution_count": 84,
   "id": "871afe30",
   "metadata": {},
   "outputs": [],
   "source": [
    "import numpy as np\n",
    "\n",
    "from gcimpute.gaussian_copula import GaussianCopula\n",
    "from gcimpute.helper_data import generate_mixed_from_gc\n",
    "from gcimpute.helper_evaluation import get_smae\n",
    "from gcimpute.helper_mask import mask_MCAR\n",
    "\n",
    "import pyvinecopulib as pv # https://vinecopulib.github.io/pyvinecopulib/_generate/pyvinecopulib.Vinecop.cdf.html"
   ]
  },
  {
   "cell_type": "code",
   "execution_count": 85,
   "id": "1677db16",
   "metadata": {},
   "outputs": [],
   "source": [
    "d = 6"
   ]
  },
  {
   "cell_type": "code",
   "execution_count": 86,
   "id": "85fba324",
   "metadata": {},
   "outputs": [
    {
     "name": "stdout",
     "output_type": "stream",
     "text": [
      "Iteration 1: copula parameter change 0.0657, likelihood -6.9793\n",
      "Iteration 2: copula parameter change 0.0357, likelihood -6.9296\n",
      "Iteration 3: copula parameter change 0.0229, likelihood -6.9012\n",
      "Iteration 4: copula parameter change 0.0166, likelihood -6.8831\n",
      "Iteration 5: copula parameter change 0.0129, likelihood -6.8705\n",
      "Iteration 6: copula parameter change 0.0103, likelihood -6.8611\n",
      "Iteration 7: copula parameter change 0.0084, likelihood -6.8538\n",
      "Convergence achieved at iteration 7\n"
     ]
    }
   ],
   "source": [
    "# generate and mask 15-dim mixed data (5 continuous variables, 5 ordinal variables (1-5) and 5 boolean variables) \n",
    "X = generate_mixed_from_gc(n=100, var_types={'cont': list(range(d))})\n",
    "X_mask = mask_MCAR(X, mask_fraction=0.3, allow_empty_row=False)\n",
    "\n",
    "# model fitting \n",
    "model = GaussianCopula(verbose=1)\n",
    "X_imp = model.fit_transform(X=X_mask)"
   ]
  },
  {
   "cell_type": "code",
   "execution_count": 87,
   "id": "30a5e735",
   "metadata": {},
   "outputs": [
    {
     "name": "stdout",
     "output_type": "stream",
     "text": [
      "The SMAE across continous variables: mean 0.738 and std 0.113\n"
     ]
    }
   ],
   "source": [
    "# Evaluation: compute the scaled-MAE (SMAE) for each data type (scaled by MAE of median imputation) \n",
    "smae = get_smae(X_imp, X, X_mask)\n",
    "print(f'The SMAE across continous variables: mean {smae[:d].mean():.3f} and std {smae[:d].std():.3f}')"
   ]
  },
  {
   "cell_type": "raw",
   "id": "c7f6d724",
   "metadata": {},
   "source": [
    "//! @brief Converts `struct_array_` to natural order.\n",
    "inline TriangularArray<size_t>\n",
    "RVineStructure::to_natural_order() const\n",
    "{\n",
    "  // create vector of new variable labels\n",
    "  auto order = tools_stl::get_order(get_order());\n",
    "\n",
    "  // relabel to natural order\n",
    "  TriangularArray<size_t> struct_array(d_, trunc_lvl_);\n",
    "  for (size_t j = 0; j < d_ - 1; j++) {\n",
    "    for (size_t i = 0; i < std::min(d_ - 1 - j, trunc_lvl_); i++) {\n",
    "      struct_array(i, j) = order[struct_array_(i, j) - 1] + 1;\n",
    "    }\n",
    "  }\n",
    "\n",
    "  return struct_array;\n",
    "}"
   ]
  },
  {
   "cell_type": "code",
   "execution_count": 88,
   "id": "884e8e74",
   "metadata": {},
   "outputs": [],
   "source": [
    "cop = pv.Vinecop(d=d)\n",
    "u = pv.to_pseudo_obs(X)\n",
    "cop.select(data=u)"
   ]
  },
  {
   "cell_type": "code",
   "execution_count": 103,
   "id": "bd027fd6",
   "metadata": {},
   "outputs": [
    {
     "data": {
      "text/plain": [
       "<pyvinecopulib.RVineStructure>\n",
       "5 3 1 6 6 6 \n",
       "3 1 6 2 2 \n",
       "1 6 2 1 \n",
       "6 2 3 \n",
       "2 5 \n",
       "4 "
      ]
     },
     "execution_count": 103,
     "metadata": {},
     "output_type": "execute_result"
    }
   ],
   "source": [
    "cop.structure"
   ]
  },
  {
   "cell_type": "code",
   "execution_count": 107,
   "id": "52c1fbc3",
   "metadata": {},
   "outputs": [
    {
     "name": "stdout",
     "output_type": "stream",
     "text": [
      "(0,0) 5\n",
      "(0,1) 3\n",
      "(0,2) 1\n",
      "(0,3) 6\n",
      "(0,4) 6\n",
      "(1,0) 3\n",
      "(1,1) 1\n",
      "(1,2) 6\n",
      "(1,3) 2\n",
      "(2,0) 1\n",
      "(2,1) 6\n",
      "(2,2) 2\n",
      "(3,0) 6\n",
      "(3,1) 2\n",
      "(4,0) 2\n"
     ]
    }
   ],
   "source": [
    "for t in range(d-1):\n",
    "    for e in range(d-t-1):\n",
    "        print(f'({t},{e})', cop.structure.struct_array(t, e, False))"
   ]
  },
  {
   "cell_type": "code",
   "execution_count": 97,
   "id": "b5c24b4b",
   "metadata": {},
   "outputs": [],
   "source": [
    "T = np.zeros(shape=(d,d))"
   ]
  },
  {
   "cell_type": "code",
   "execution_count": 118,
   "id": "0f656945",
   "metadata": {},
   "outputs": [
    {
     "data": {
      "text/plain": [
       "array([[6., 6., 6., 1., 3., 5.],\n",
       "       [0., 2., 2., 6., 1., 3.],\n",
       "       [0., 0., 1., 2., 6., 1.],\n",
       "       [0., 0., 0., 3., 2., 6.],\n",
       "       [0., 0., 0., 0., 5., 2.],\n",
       "       [0., 0., 0., 0., 0., 4.]])"
      ]
     },
     "execution_count": 118,
     "metadata": {},
     "output_type": "execute_result"
    }
   ],
   "source": [
    "T = np.zeros(shape=(d,d))\n",
    "\n",
    "order = cop.order[::-1]\n",
    "\n",
    "for i in range(d):\n",
    "    T[i, i] = order[i]\n",
    "\n",
    "for t in range(d-1):\n",
    "    for e in range(d-t-1):\n",
    "        T[t, d - e - 1] = cop.structure.struct_array(t, e, False)\n",
    "        \n",
    "T"
   ]
  },
  {
   "cell_type": "code",
   "execution_count": 123,
   "id": "e67cdad6",
   "metadata": {},
   "outputs": [
    {
     "data": {
      "text/plain": [
       "array([[6., 6., 6., 4., 3., 2.],\n",
       "       [0., 5., 5., 6., 4., 3.],\n",
       "       [0., 0., 4., 5., 6., 4.],\n",
       "       [0., 0., 0., 3., 5., 6.],\n",
       "       [0., 0., 0., 0., 2., 5.],\n",
       "       [0., 0., 0., 0., 0., 1.]])"
      ]
     },
     "execution_count": 123,
     "metadata": {},
     "output_type": "execute_result"
    }
   ],
   "source": [
    "# natural order (not right)\n",
    "T = np.zeros(shape=(d,d))\n",
    "\n",
    "for i in range(d):\n",
    "    T[i, i] = d - i\n",
    "\n",
    "for t in range(d-1):\n",
    "    for e in range(d-t-1):\n",
    "        T[t, d - e - 1] = cop.structure.struct_array(t, e, True)\n",
    "        \n",
    "T"
   ]
  },
  {
   "cell_type": "raw",
   "id": "c67fa1a5",
   "metadata": {},
   "source": [
    "bicop = pv.Bicop(pv.BicopFamily.bb1, 90, [3, 2])\n",
    "pcs = [[bicop, bicop], [bicop]]\n",
    "mat = np.array([[1, 1, 1], [2, 2, 0], [3, 0, 0]])\n",
    "cop = pv.Vinecop(mat, pcs)\n",
    "print(cop)"
   ]
  },
  {
   "cell_type": "raw",
   "id": "64f153b0",
   "metadata": {},
   "source": [
    "u = cop.simulate(n=1000, seeds=[1, 2, 3])"
   ]
  },
  {
   "cell_type": "raw",
   "id": "4860d19a",
   "metadata": {},
   "source": [
    "cop3 = pv.Vinecop(d=3)\n",
    "cop3.select(data=u)"
   ]
  },
  {
   "cell_type": "raw",
   "id": "93ecea46",
   "metadata": {},
   "source": [
    "cop3"
   ]
  }
 ],
 "metadata": {
  "kernelspec": {
   "display_name": "Python 3 (ipykernel)",
   "language": "python",
   "name": "python3"
  },
  "language_info": {
   "codemirror_mode": {
    "name": "ipython",
    "version": 3
   },
   "file_extension": ".py",
   "mimetype": "text/x-python",
   "name": "python",
   "nbconvert_exporter": "python",
   "pygments_lexer": "ipython3",
   "version": "3.7.11"
  }
 },
 "nbformat": 4,
 "nbformat_minor": 5
}
