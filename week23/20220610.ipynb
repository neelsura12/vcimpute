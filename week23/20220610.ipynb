{
 "cells": [
  {
   "cell_type": "code",
   "execution_count": 97,
   "id": "23d5ed4e",
   "metadata": {},
   "outputs": [],
   "source": [
    "import json\n",
    "\n",
    "import numpy as np\n",
    "from matplotlib import pyplot as plt\n",
    "import pyvinecopulib as pv\n",
    "from pyvinecopulib import RVineStructure, Vinecop, Bicop"
   ]
  },
  {
   "cell_type": "raw",
   "id": "1ec629c6",
   "metadata": {},
   "source": [
    "# Simulate some data\n",
    "np.random.seed(1234)  # seed for the random generator\n",
    "n = 1000  # number of observations\n",
    "d = 5  # the dimension\n",
    "mean = np.random.normal(size=d)  # mean vector\n",
    "cov = np.random.normal(size=(d, d))  # covariance matrix\n",
    "cov = np.dot(cov.transpose(), cov)  # make it non-negative definite\n",
    "x = np.random.multivariate_normal(mean, cov, n)\n",
    "\n",
    "# Transform copula data using the empirical distribution\n",
    "u = pv.to_pseudo_obs(x)\n",
    "\n",
    "# Fit a Gaussian vine\n",
    "# (i.e., properly specified since the data is multivariate normal)\n",
    "controls = pv.FitControlsVinecop(family_set=[pv.BicopFamily.gaussian])\n",
    "cop = pv.Vinecop(u, controls=controls)\n",
    "cop.to_json('cop.json')"
   ]
  },
  {
   "cell_type": "raw",
   "id": "e8dade6d",
   "metadata": {},
   "source": [
    "\"structure\":{\"array\":{\"d\":5,\"data\":[[4,4,4,5],[2,3,5],[3,5],[5]],\"t\":4},\"order\":[3,2,4,1,5]}"
   ]
  },
  {
   "cell_type": "code",
   "execution_count": 129,
   "id": "2747d5b9",
   "metadata": {},
   "outputs": [
    {
     "data": {
      "text/plain": [
       "[3, 2, 4, 1, 5]"
      ]
     },
     "execution_count": 129,
     "metadata": {},
     "output_type": "execute_result"
    }
   ],
   "source": [
    "cop.structure.order"
   ]
  },
  {
   "cell_type": "code",
   "execution_count": 124,
   "id": "0b432a3b",
   "metadata": {},
   "outputs": [
    {
     "name": "stdout",
     "output_type": "stream",
     "text": [
      "1 1 1 5 \n",
      "2 4 5 \n",
      "4 5 \n",
      "5 \n"
     ]
    }
   ],
   "source": [
    "d = 5\n",
    "for i in range(d-1):\n",
    "    for j in range(d-i-1):\n",
    "        print(cop.structure.struct_array(i,j, False), end=' ')\n",
    "    print()"
   ]
  },
  {
   "cell_type": "code",
   "execution_count": 125,
   "id": "421d31a9",
   "metadata": {},
   "outputs": [
    {
     "name": "stdout",
     "output_type": "stream",
     "text": [
      "4 4 4 5 \n",
      "2 3 5 \n",
      "3 5 \n",
      "5 \n"
     ]
    }
   ],
   "source": [
    "d = 5\n",
    "for i in range(d-1):\n",
    "    for j in range(d-i-1):\n",
    "        print(cop.structure.struct_array(i,j, True), end=' ')\n",
    "    print()"
   ]
  },
  {
   "cell_type": "code",
   "execution_count": 130,
   "id": "e776c43c",
   "metadata": {},
   "outputs": [
    {
     "data": {
      "text/plain": [
       "array([[1, 1, 1, 5, 5],\n",
       "       [2, 4, 5, 1, 0],\n",
       "       [4, 5, 4, 0, 0],\n",
       "       [5, 2, 0, 0, 0],\n",
       "       [3, 0, 0, 0, 0]], dtype=uint64)"
      ]
     },
     "execution_count": 130,
     "metadata": {},
     "output_type": "execute_result"
    }
   ],
   "source": [
    "cop.matrix"
   ]
  },
  {
   "cell_type": "code",
   "execution_count": 195,
   "id": "a494ba90",
   "metadata": {},
   "outputs": [
    {
     "data": {
      "text/plain": [
       "733"
      ]
     },
     "execution_count": 195,
     "metadata": {},
     "output_type": "execute_result"
    }
   ],
   "source": [
    "dropout = np.random.binomial(n=1,size=u.shape[0],p=0.75)\n",
    "u2 = np.copy(u)\n",
    "u2[:, 1] = np.where(dropout > 0, np.nan, u[:, 1])\n",
    "np.count_nonzero(np.isnan(u2))"
   ]
  },
  {
   "cell_type": "code",
   "execution_count": 196,
   "id": "aa8cc532",
   "metadata": {},
   "outputs": [],
   "source": [
    "cop2 = pv.Vinecop(u2, controls=controls)"
   ]
  },
  {
   "cell_type": "code",
   "execution_count": 197,
   "id": "b3871a36",
   "metadata": {},
   "outputs": [
    {
     "data": {
      "text/plain": [
       "<pyvinecopulib.Vinecop>\n",
       "** Tree: 0\n",
       "3,1 <-> Gaussian, parameters = 0.396313\n",
       "2,1 <-> Gaussian, parameters = 0.674068\n",
       "4,1 <-> Gaussian, parameters = -0.611937\n",
       "1,5 <-> Gaussian, parameters = -0.631672\n",
       "** Tree: 1\n",
       "3,2 | 1 <-> Gaussian, parameters = -0.741578\n",
       "2,4 | 1 <-> Gaussian, parameters = -0.145053\n",
       "4,5 | 1 <-> Gaussian, parameters = -0.804389\n",
       "** Tree: 2\n",
       "3,4 | 2,1 <-> Gaussian, parameters = -0.0470784\n",
       "2,5 | 4,1 <-> Gaussian, parameters = -0.490632\n",
       "** Tree: 3\n",
       "3,5 | 4,2,1 <-> Gaussian, parameters = -0.0622675"
      ]
     },
     "execution_count": 197,
     "metadata": {},
     "output_type": "execute_result"
    }
   ],
   "source": [
    "cop"
   ]
  },
  {
   "cell_type": "code",
   "execution_count": 198,
   "id": "c369555b",
   "metadata": {},
   "outputs": [
    {
     "data": {
      "text/plain": [
       "<pyvinecopulib.Vinecop>\n",
       "** Tree: 0\n",
       "3,1 <-> Gaussian, parameters = 0.396313\n",
       "2,1 <-> Gaussian, parameters = 0.656229\n",
       "4,1 <-> Gaussian, parameters = -0.611937\n",
       "1,5 <-> Gaussian, parameters = -0.631672\n",
       "** Tree: 1\n",
       "3,2 | 1 <-> Gaussian, parameters = -0.76611\n",
       "2,4 | 1 <-> Gaussian, parameters = -0.237845\n",
       "4,5 | 1 <-> Gaussian, parameters = -0.804389\n",
       "** Tree: 2\n",
       "3,4 | 2,1 <-> Gaussian, parameters = -0.0689082\n",
       "2,5 | 4,1 <-> Gaussian, parameters = -0.517038\n",
       "** Tree: 3\n",
       "3,5 | 4,2,1 <-> Gaussian, parameters = -0.0619766"
      ]
     },
     "execution_count": 198,
     "metadata": {},
     "output_type": "execute_result"
    }
   ],
   "source": [
    "cop2"
   ]
  },
  {
   "cell_type": "code",
   "execution_count": 205,
   "id": "eb8edd9a",
   "metadata": {},
   "outputs": [],
   "source": [
    "cop3 = pv.Vinecop(u[:,:4], controls=controls)"
   ]
  },
  {
   "cell_type": "code",
   "execution_count": 208,
   "id": "c5224a0c",
   "metadata": {},
   "outputs": [
    {
     "data": {
      "text/plain": [
       "<pyvinecopulib.Vinecop>\n",
       "** Tree: 0\n",
       "3,1 <-> Gaussian, parameters = 0.396313\n",
       "2,1 <-> Gaussian, parameters = 0.674068\n",
       "1,4 <-> Gaussian, parameters = -0.611937\n",
       "** Tree: 1\n",
       "3,2 | 1 <-> Gaussian, parameters = -0.741578\n",
       "2,4 | 1 <-> Gaussian, parameters = -0.145053\n",
       "** Tree: 2\n",
       "3,4 | 2,1 <-> Gaussian, parameters = -0.0470784"
      ]
     },
     "execution_count": 208,
     "metadata": {},
     "output_type": "execute_result"
    }
   ],
   "source": [
    "cop3"
   ]
  },
  {
   "cell_type": "code",
   "execution_count": 209,
   "id": "3e963c4b",
   "metadata": {},
   "outputs": [
    {
     "data": {
      "text/plain": [
       "array([[1, 1, 4, 4],\n",
       "       [2, 4, 1, 0],\n",
       "       [4, 2, 0, 0],\n",
       "       [3, 0, 0, 0]], dtype=uint64)"
      ]
     },
     "execution_count": 209,
     "metadata": {},
     "output_type": "execute_result"
    }
   ],
   "source": [
    "cop3.matrix"
   ]
  },
  {
   "cell_type": "code",
   "execution_count": null,
   "id": "dbd8f7b8",
   "metadata": {},
   "outputs": [],
   "source": []
  }
 ],
 "metadata": {
  "kernelspec": {
   "display_name": "Python 3 (ipykernel)",
   "language": "python",
   "name": "python3"
  },
  "language_info": {
   "codemirror_mode": {
    "name": "ipython",
    "version": 3
   },
   "file_extension": ".py",
   "mimetype": "text/x-python",
   "name": "python",
   "nbconvert_exporter": "python",
   "pygments_lexer": "ipython3",
   "version": "3.7.11"
  }
 },
 "nbformat": 4,
 "nbformat_minor": 5
}
