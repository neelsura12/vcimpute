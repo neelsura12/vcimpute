{
 "cells": [
  {
   "cell_type": "code",
   "execution_count": 1,
   "id": "00e314e0",
   "metadata": {},
   "outputs": [],
   "source": [
    "import numpy as np\n",
    "from matplotlib import pyplot as plt\n",
    "import pyvinecopulib as pv"
   ]
  },
  {
   "cell_type": "raw",
   "id": "76b516ca",
   "metadata": {},
   "source": [
    "# fully-specified vine structure, copulas and copula parameters\n",
    "# for all 1...n, impute var5 using vars 1,...,4\n",
    "\n",
    "# the pair-copula index for edge e in tree t of a d dimensional vine is\n",
    "# (M[d - 1 - e, e], M[t, e]; M[t - 1, e], ..., M[0, e])"
   ]
  },
  {
   "cell_type": "code",
   "execution_count": 43,
   "id": "903ea389",
   "metadata": {},
   "outputs": [],
   "source": [
    "d = 5\n",
    "n = 10000\n",
    "R = 1"
   ]
  },
  {
   "cell_type": "code",
   "execution_count": 3,
   "id": "6d8b75bb",
   "metadata": {},
   "outputs": [],
   "source": [
    "pair_copulas = []\n",
    "for t in range(d-1):\n",
    "    cur = []\n",
    "    pair_copulas.append(cur)\n",
    "    for e in range(d-1-t):\n",
    "        cur.append(pv.Bicop(family=pv.BicopFamily.gaussian, parameters=[np.random.uniform()]))\n",
    "        \n",
    "cop = pv.Vinecop(matrix=np.array(\n",
    "[\n",
    " [3,2,3,3,3],\n",
    " [2,3,2,2,0],\n",
    " [4,4,4,0,0],\n",
    " [1,1,0,0,0],\n",
    " [5,0,0,0,0]\n",
    "]\n",
    "), pair_copulas=pair_copulas)"
   ]
  },
  {
   "cell_type": "code",
   "execution_count": 4,
   "id": "ebb84bd0",
   "metadata": {},
   "outputs": [],
   "source": [
    "u = cop.simulate(n, seeds=[1,2,3,4,5])"
   ]
  },
  {
   "cell_type": "code",
   "execution_count": 44,
   "id": "4352962a",
   "metadata": {},
   "outputs": [],
   "source": [
    "u1 = u[:,0][:, None]\n",
    "u2 = u[:,1][:, None]\n",
    "u3 = u[:,2][:, None]\n",
    "u4 = u[:,3][:, None]\n",
    "u5 = u[:,4][:, None]"
   ]
  },
  {
   "cell_type": "code",
   "execution_count": 54,
   "id": "538ad73e",
   "metadata": {},
   "outputs": [
    {
     "data": {
      "text/plain": [
       "['__class__',\n",
       " '__delattr__',\n",
       " '__dir__',\n",
       " '__doc__',\n",
       " '__eq__',\n",
       " '__format__',\n",
       " '__ge__',\n",
       " '__getattribute__',\n",
       " '__gt__',\n",
       " '__hash__',\n",
       " '__init__',\n",
       " '__init_subclass__',\n",
       " '__le__',\n",
       " '__lt__',\n",
       " '__module__',\n",
       " '__ne__',\n",
       " '__new__',\n",
       " '__reduce__',\n",
       " '__reduce_ex__',\n",
       " '__repr__',\n",
       " '__setattr__',\n",
       " '__sizeof__',\n",
       " '__str__',\n",
       " '__subclasshook__',\n",
       " 'aic',\n",
       " 'bic',\n",
       " 'cdf',\n",
       " 'family',\n",
       " 'fit',\n",
       " 'hfunc1',\n",
       " 'hfunc2',\n",
       " 'hinv1',\n",
       " 'hinv2',\n",
       " 'loglik',\n",
       " 'mbic',\n",
       " 'nobs',\n",
       " 'npars',\n",
       " 'parameters',\n",
       " 'parameters_lower_bounds',\n",
       " 'parameters_to_tau',\n",
       " 'parameters_upper_bounds',\n",
       " 'pdf',\n",
       " 'rotation',\n",
       " 'select',\n",
       " 'simulate',\n",
       " 'str',\n",
       " 'tau',\n",
       " 'tau_to_parameters',\n",
       " 'to_json',\n",
       " 'var_types']"
      ]
     },
     "execution_count": 54,
     "metadata": {},
     "output_type": "execute_result"
    }
   ],
   "source": [
    "dir(cop.get_pair_copula(0,0))"
   ]
  },
  {
   "cell_type": "code",
   "execution_count": null,
   "id": "d4f3f0cc",
   "metadata": {},
   "outputs": [],
   "source": [
    "cop.get_pair_copula(0,0).hfunc1     /\n",
    "\n",
    "\n"
   ]
  },
  {
   "cell_type": "code",
   "execution_count": null,
   "id": "40e3875c",
   "metadata": {},
   "outputs": [],
   "source": [
    "cop.get_pair_copula(0,0).hfunc1"
   ]
  },
  {
   "cell_type": "code",
   "execution_count": 48,
   "id": "e41c8f61",
   "metadata": {},
   "outputs": [],
   "source": [
    "out1 = []\n",
    "out2 = []\n",
    "for i in range(R):\n",
    "    v = np.random.uniform(size=n)[:, None]\n",
    "    u5_1 = cop.get_pair_copula(3,0).hinv2(np.hstack([v, u1]))[:, None]\n",
    "    u5_14 = cop.get_pair_copula(2,0).hinv2(np.hstack([u5_1, u4]))[:, None]\n",
    "    u5_142 = cop.get_pair_copula(1,0).hinv2(np.hstack([u5_14, u2]))[:, None]\n",
    "    u5_1423 = cop.get_pair_copula(0,0).hinv2(np.hstack([u5_142, u3]))[:, None]\n",
    "    out1.append(u5_1423)    \n",
    "    \n",
    "    r1 = cop.get_pair_copula(0,0).hfun(np.hstack([v, u3]))[:, None]\n",
    "    r2 = cop.get_pair_copula(1,0).hinv2(np.hstack([r1, u2]))[:, None]\n",
    "    r3 = cop.get_pair_copula(2,0).hinv2(np.hstack([r2, u4]))[:, None]\n",
    "    r4 = cop.get_pair_copula(3,0).hinv2(np.hstack([r3, u1]))[:, None]\n",
    "    out2.append(r4)"
   ]
  },
  {
   "cell_type": "code",
   "execution_count": 39,
   "id": "934ae849",
   "metadata": {},
   "outputs": [],
   "source": [
    "def make_plot(test):\n",
    "    u_lst = [u1,u2,u3,u4,u5]\n",
    "    fig, axes = plt.subplots(1,5,figsize=(12,1))\n",
    "    axes = axes.flatten()\n",
    "    for i, ax in enumerate(axes):\n",
    "        ax.scatter(test, u_lst[i])\n",
    "        print('{:,.4f}'.format(np.corrcoef(np.ravel(test), np.ravel(u_lst[i]))[0,1]), end=' ')"
   ]
  },
  {
   "cell_type": "code",
   "execution_count": 40,
   "id": "8102529d",
   "metadata": {},
   "outputs": [
    {
     "name": "stdout",
     "output_type": "stream",
     "text": [
      "0.2141 0.3649 0.2886 0.3859 1.0000 "
     ]
    },
    {
     "data": {
      "image/png": "[encoded data removed]",
      "text/plain": [
       "<Figure size 864x72 with 5 Axes>"
      ]
     },
     "metadata": {
      "needs_background": "light"
     },
     "output_type": "display_data"
    }
   ],
   "source": [
    "make_plot(u[:,4])"
   ]
  },
  {
   "cell_type": "code",
   "execution_count": 49,
   "id": "de72683d",
   "metadata": {},
   "outputs": [
    {
     "name": "stdout",
     "output_type": "stream",
     "text": [
      "0.4878 0.5678 0.6137 0.4101 0.2714 "
     ]
    },
    {
     "data": {
      "image/png": "[encoded data removed]",
      "text/plain": [
       "<Figure size 864x72 with 5 Axes>"
      ]
     },
     "metadata": {
      "needs_background": "light"
     },
     "output_type": "display_data"
    }
   ],
   "source": [
    "make_plot(np.mean(np.array(out1),axis=0))"
   ]
  },
  {
   "cell_type": "code",
   "execution_count": 50,
   "id": "cb6b6f94",
   "metadata": {},
   "outputs": [
    {
     "name": "stdout",
     "output_type": "stream",
     "text": [
      "0.4907 0.5595 0.6078 0.4214 0.2737 "
     ]
    },
    {
     "data": {
      "image/png": "[encoded data removed]",
      "text/plain": [
       "<Figure size 864x72 with 5 Axes>"
      ]
     },
     "metadata": {
      "needs_background": "light"
     },
     "output_type": "display_data"
    }
   ],
   "source": [
    "make_plot(np.mean(np.array(out2),axis=0))"
   ]
  }
 ],
 "metadata": {
  "kernelspec": {
   "display_name": "Python 3 (ipykernel)",
   "language": "python",
   "name": "python3"
  },
  "language_info": {
   "codemirror_mode": {
    "name": "ipython",
    "version": 3
   },
   "file_extension": ".py",
   "mimetype": "text/x-python",
   "name": "python",
   "nbconvert_exporter": "python",
   "pygments_lexer": "ipython3",
   "version": "3.7.11"
  }
 },
 "nbformat": 4,
 "nbformat_minor": 5
}
