{
 "cells": [
  {
   "cell_type": "code",
   "execution_count": 1,
   "id": "ed121e3d",
   "metadata": {},
   "outputs": [],
   "source": [
    "# given vine structure, copulas and copula parameters\n",
    "# fix var5 as missing\n",
    "# for all 1...n, impute 5 using 1,...,4\n",
    "\n",
    "# step1. given (a) vine structure, (b) copula family and  (c) copula parameters\n",
    "# step2. generate data\n",
    "# step3. mask var5 with x% dropout\n",
    "# step4. infer the structure using complete cases\n",
    "# step5.1 if the vine structure supports direct rimputation of 5 -> easy\n",
    "# step5.2 if the vine structure does not support direct imputation of 5 -> harder ?\n",
    "# step6. run zhao/udell's code, conditional mean imputation\n",
    "# step7. smae imputation error, bias of correlation\n",
    "\n",
    "# the pair-copula index for edge e in tree t of a d dimensional vine is\n",
    "# (M[d - 1 - e, e], M[t, e]; M[t - 1, e], ..., M[0, e])"
   ]
  },
  {
   "cell_type": "code",
   "execution_count": 2,
   "id": "00e314e0",
   "metadata": {},
   "outputs": [],
   "source": [
    "import numpy as np\n",
    "from matplotlib import pyplot as plt\n",
    "import pyvinecopulib as pv"
   ]
  },
  {
   "cell_type": "code",
   "execution_count": 3,
   "id": "903ea389",
   "metadata": {},
   "outputs": [],
   "source": [
    "d = 5\n",
    "corr = np.array([\n",
    "    [0.5, 0.25, 0.25, 0.9], \n",
    "    [0.1, 0.9, 0.9, np.nan], \n",
    "    [0.125, 0.66, np.nan, np.nan],\n",
    "    [0.55, np.nan, np.nan, np.nan]]\n",
    ")\n",
    "vine_matrix = np.array([\n",
    "    [3,2,3,3,3],\n",
    "    [2,3,2,2,0],\n",
    "    [4,4,4,0,0],\n",
    "    [1,1,0,0,0],\n",
    "    [5,0,0,0,0]\n",
    "])"
   ]
  },
  {
   "cell_type": "code",
   "execution_count": 4,
   "id": "6d8b75bb",
   "metadata": {},
   "outputs": [],
   "source": [
    "pair_copulas = []\n",
    "for t in range(d-1):\n",
    "    cur = []\n",
    "    pair_copulas.append(cur)\n",
    "    for e in range(d-1-t):\n",
    "        cur.append(\n",
    "            pv.Bicop(\n",
    "                family=pv.BicopFamily.gaussian,\n",
    "                parameters=[corr[t,e]]\n",
    "            )\n",
    "        )\n",
    "cop = pv.Vinecop(matrix=vine_matrix, pair_copulas=pair_copulas)\n",
    "u = cop.simulate(1000, seeds=[1,2,3,4,5])"
   ]
  },
  {
   "cell_type": "code",
   "execution_count": 5,
   "id": "3ca01494",
   "metadata": {},
   "outputs": [
    {
     "ename": "NameError",
     "evalue": "name 'dropout' is not defined",
     "output_type": "error",
     "traceback": [
      "\u001b[0;31m---------------------------------------------------------------------------\u001b[0m",
      "\u001b[0;31mNameError\u001b[0m                                 Traceback (most recent call last)",
      "\u001b[0;32m/var/folders/6j/tj0_jn4123ld3w6lbbkzf7g80000gp/T/ipykernel_27644/500288835.py\u001b[0m in \u001b[0;36m<module>\u001b[0;34m\u001b[0m\n\u001b[1;32m      2\u001b[0m \u001b[0mpresent\u001b[0m \u001b[0;34m=\u001b[0m \u001b[0;34m(\u001b[0m\u001b[0;36m1\u001b[0m\u001b[0;34m-\u001b[0m\u001b[0mmissing\u001b[0m\u001b[0;34m)\u001b[0m\u001b[0;34m\u001b[0m\u001b[0;34m\u001b[0m\u001b[0m\n\u001b[1;32m      3\u001b[0m \u001b[0mu_mask\u001b[0m \u001b[0;34m=\u001b[0m \u001b[0mnp\u001b[0m\u001b[0;34m.\u001b[0m\u001b[0mcopy\u001b[0m\u001b[0;34m(\u001b[0m\u001b[0mu\u001b[0m\u001b[0;34m)\u001b[0m\u001b[0;34m\u001b[0m\u001b[0;34m\u001b[0m\u001b[0m\n\u001b[0;32m----> 4\u001b[0;31m \u001b[0mu_mask\u001b[0m\u001b[0;34m[\u001b[0m\u001b[0;34m:\u001b[0m\u001b[0;34m,\u001b[0m \u001b[0;36m4\u001b[0m\u001b[0;34m]\u001b[0m \u001b[0;34m=\u001b[0m \u001b[0mnp\u001b[0m\u001b[0;34m.\u001b[0m\u001b[0mwhere\u001b[0m\u001b[0;34m(\u001b[0m\u001b[0mdropout\u001b[0m \u001b[0;34m>\u001b[0m \u001b[0;36m0\u001b[0m\u001b[0;34m,\u001b[0m \u001b[0mnp\u001b[0m\u001b[0;34m.\u001b[0m\u001b[0mnan\u001b[0m\u001b[0;34m,\u001b[0m \u001b[0mu_mask\u001b[0m\u001b[0;34m[\u001b[0m\u001b[0;34m:\u001b[0m\u001b[0;34m,\u001b[0m\u001b[0;36m4\u001b[0m\u001b[0;34m]\u001b[0m\u001b[0;34m)\u001b[0m\u001b[0;34m\u001b[0m\u001b[0;34m\u001b[0m\u001b[0m\n\u001b[0m",
      "\u001b[0;31mNameError\u001b[0m: name 'dropout' is not defined"
     ]
    }
   ],
   "source": [
    "missing = np.random.binomial(n=1, p=0.5, size=u.shape[0])\n",
    "present = (1-missing)\n",
    "u_mask = np.copy(u)\n",
    "u_mask[:, 4] = np.where(dropout > 0, np.nan, u_mask[:,4])"
   ]
  },
  {
   "cell_type": "code",
   "execution_count": null,
   "id": "42c430ff",
   "metadata": {},
   "outputs": [],
   "source": [
    "fit_controls = pv.FitControlsVinecop(family_set=[pv.BicopFamily.gaussian])\n",
    "cop = pv.Vinecop(u_mask, controls=fit_controls)"
   ]
  },
  {
   "cell_type": "code",
   "execution_count": null,
   "id": "6f875227",
   "metadata": {},
   "outputs": [],
   "source": [
    "u1 = u_mask[:, 0][:, None]\n",
    "u2 = u_mask[:, 1][:, None]\n",
    "u3 = u_mask[:, 2][:, None]\n",
    "u4 = u_mask[:, 3][:, None]\n",
    "u5_true = u[:, 4][:, None]\n",
    "v = np.random.uniform(size=u_mask.shape[0])[:, None]"
   ]
  },
  {
   "cell_type": "raw",
   "id": "9547c7c9",
   "metadata": {},
   "source": [
    "np.corrcoef(np.ravel(u_mask[:,4][present > 0]), np.ravel(u_mask[:,3][present > 0]))"
   ]
  },
  {
   "cell_type": "raw",
   "id": "4c2ae17f",
   "metadata": {},
   "source": [
    "# how to rediagonalize matrix or use pair copulas correctly when\n",
    "# missing variable is in position 2/2 ?"
   ]
  },
  {
   "cell_type": "raw",
   "id": "89bc100d",
   "metadata": {},
   "source": [
    "u5_4 = cop.get_pair_copula(3, 0).hinv1(np.hstack([u4, v]))[:, None]\n",
    "u5_42 = cop.get_pair_copula(2, 0).hinv1(np.hstack([u2, u5_4]))[:, None]\n",
    "u5_421 = cop.get_pair_copula(1, 0).hinv1(np.hstack([u1, u5_42]))[:, None]\n",
    "u5_4213 = cop.get_pair_copula(0, 0).hinv1(np.hstack([u3, u5_421]))[:, None]"
   ]
  },
  {
   "cell_type": "raw",
   "id": "b3f54289",
   "metadata": {},
   "source": [
    "u5_3 = cop.get_pair_copula(0, 0).hinv1(np.hstack([u3, v]))[:, None]\n",
    "u5_31 = cop.get_pair_copula(1, 0).hinv1(np.hstack([u1, u5_3]))[:, None]\n",
    "u5_312 = cop.get_pair_copula(2, 0).hinv1(np.hstack([u2, u5_31]))[:, None]\n",
    "u5_3124 = cop.get_pair_copula(3, 0).hinv1(np.hstack([u4, u5_3124]))[:, None]"
   ]
  },
  {
   "cell_type": "raw",
   "id": "beefd192",
   "metadata": {},
   "source": [
    "plt.scatter(u5_1324[missing == 0], u5_true[missing == 0])"
   ]
  }
 ],
 "metadata": {
  "kernelspec": {
   "display_name": "Python 3 (ipykernel)",
   "language": "python",
   "name": "python3"
  },
  "language_info": {
   "codemirror_mode": {
    "name": "ipython",
    "version": 3
   },
   "file_extension": ".py",
   "mimetype": "text/x-python",
   "name": "python",
   "nbconvert_exporter": "python",
   "pygments_lexer": "ipython3",
   "version": "3.7.11"
  }
 },
 "nbformat": 4,
 "nbformat_minor": 5
}
