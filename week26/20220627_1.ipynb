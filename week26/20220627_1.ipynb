{
 "cells": [
  {
   "cell_type": "code",
   "execution_count": 1,
   "id": "23e779c3",
   "metadata": {},
   "outputs": [],
   "source": [
    "# given vine structure, copulas and copula parameters\n",
    "# fix var5 as missing\n",
    "# for all 1...n, impute 5 using 1,...,4\n",
    "\n",
    "# step1. given (a) vine structure, (b) copula family and  (c) copula parameters\n",
    "# step2. generate data\n",
    "# step3. mask var5 with x% dropout\n",
    "# step4. infer the structure using complete cases\n",
    "# step5.1 if the vine structure supports direct rimputation of 5 -> easy\n",
    "# step5.2 if the vine structure does not support direct imputation of 5 -> harder ?\n",
    "# step6. run zhao/udell's code, conditional mean imputation\n",
    "# step7. smae imputation error, bias of correlation\n",
    "\n",
    "# the pair-copula index for edge e in tree t of a d dimensional vine is\n",
    "# (M[d - 1 - e, e], M[t, e]; M[t - 1, e], ..., M[0, e])"
   ]
  },
  {
   "cell_type": "code",
   "execution_count": 2,
   "id": "00e314e0",
   "metadata": {},
   "outputs": [],
   "source": [
    "import numpy as np\n",
    "from matplotlib import pyplot as plt\n",
    "import pyvinecopulib as pv\n",
    "\n",
    "def get_ced_cing(T, cop=None):\n",
    "    d = T.shape[1]\n",
    "    cing = []\n",
    "    ced = []\n",
    "    param = []\n",
    "    for j in range(d):\n",
    "        for i1 in range(d-j-1):\n",
    "            ced.append(sorted((T[i1,j], T[d-j-1, j])))\n",
    "            tmp = []\n",
    "            for i2 in range(i1):\n",
    "                tmp.append(T[i2,j])\n",
    "            cing.append(sorted(tmp))\n",
    "            if cop is not None:\n",
    "                param.append(cop.get_parameters(i1, j)[0][0])\n",
    "    return ced, cing, param\n",
    "\n",
    "def find(a, cing_len, ced, cing):\n",
    "    out = [i for i in range(len(ced)) if a in ced[i]]\n",
    "    matched = False\n",
    "    for i in out:\n",
    "        if len(cing[i]) == cing_len:\n",
    "            matched = True\n",
    "            break\n",
    "    assert matched, f'bad argument, a={a}, cing_len={cing_len}'\n",
    "    return ced[i][1] if ced[i][0] == a else ced[i][0]\n",
    "\n",
    "def diagonalize(T1, a):\n",
    "    d = T1.shape[1]\n",
    "    if a == T1[d-1, 0]:\n",
    "        return T1\n",
    "    assert a == T1[d-2, 0], f'cannot be diagonalized with {a}'\n",
    "\n",
    "    T2 = np.zeros(shape=T1.shape, dtype=np.uint64)\n",
    "    T2[d-1, 0] = a\n",
    "    order = [a]\n",
    "\n",
    "    ced, cing, _ = get_ced_cing(T1)\n",
    "    for j in range(d-1):\n",
    "        for i in range(d-j-1):\n",
    "            T2[i,j] = find(T2[d-j-1, j], i, ced, cing)\n",
    "\n",
    "        remove_idx = [i for i, c in enumerate(ced) for k in order if k in c]\n",
    "        keep_idx = set(range(len(ced))).difference(set(remove_idx))\n",
    "\n",
    "        ced = [ced[i] for i in keep_idx]\n",
    "        cing = [cing[i] for i in keep_idx]\n",
    "\n",
    "        T2[d-j-2, j+1] = T2[d-j-2, j]\n",
    "        order.append(T2[d-j-2, j+1])\n",
    "    return T2\n",
    "\n",
    "def make_diagonal_copula(cop1, a):\n",
    "    T1 = cop1.matrix\n",
    "    d = T1.shape[0]\n",
    "    ced, cing, param = get_ced_cing(T1, cop1)\n",
    "\n",
    "    T2 = diagonalize(T1, a)\n",
    "\n",
    "    pair_copulas = []\n",
    "    for t in range(d-1):\n",
    "        cur = []\n",
    "        pair_copulas.append(cur)\n",
    "        for e in range(d-1-t):\n",
    "            cur.append(\n",
    "                pv.Bicop(\n",
    "                    family=pv.BicopFamily.gaussian,\n",
    "                    parameters=[param[ced.index(sorted((T2[d-1-e,e], T2[t,e])))]]\n",
    "                )\n",
    "            )\n",
    "    cop2 = pv.Vinecop(matrix=T2, pair_copulas=pair_copulas)\n",
    "    return cop2"
   ]
  },
  {
   "cell_type": "code",
   "execution_count": 3,
   "id": "903ea389",
   "metadata": {},
   "outputs": [],
   "source": [
    "d = 5\n",
    "corr = np.array([\n",
    "    [0.5, 0.25, 0.25, 0.9], \n",
    "    [0.1, 0.9, 0.9, np.nan], \n",
    "    [0.125, 0.66, np.nan, np.nan],\n",
    "    [0.55, np.nan, np.nan, np.nan]]\n",
    ")\n",
    "vine_matrix = np.array([\n",
    "    [3,2,3,3,3],\n",
    "    [2,3,2,2,0],\n",
    "    [4,4,4,0,0],\n",
    "    [1,1,0,0,0],\n",
    "    [5,0,0,0,0]\n",
    "])"
   ]
  },
  {
   "cell_type": "code",
   "execution_count": 4,
   "id": "6d8b75bb",
   "metadata": {},
   "outputs": [],
   "source": [
    "pair_copulas = []\n",
    "for t in range(d-1):\n",
    "    cur = []\n",
    "    pair_copulas.append(cur)\n",
    "    for e in range(d-1-t):\n",
    "        cur.append(\n",
    "            pv.Bicop(\n",
    "                family=pv.BicopFamily.gaussian,\n",
    "                parameters=[corr[t,e]]\n",
    "            )\n",
    "        )\n",
    "cop = pv.Vinecop(matrix=vine_matrix, pair_copulas=pair_copulas)\n",
    "u = cop.simulate(1000, seeds=[1,2,3,4,5])"
   ]
  },
  {
   "cell_type": "code",
   "execution_count": 5,
   "id": "0bf89cbb",
   "metadata": {},
   "outputs": [],
   "source": [
    "missing = np.random.binomial(n=1, p=0.5, size=u.shape[0])\n",
    "present = (1 - missing)\n",
    "u_mask = np.copy(u)\n",
    "u_mask[:, 4] = np.where(missing > 0, np.nan, u_mask[:,4])"
   ]
  },
  {
   "cell_type": "code",
   "execution_count": 6,
   "id": "d8bf285a",
   "metadata": {},
   "outputs": [],
   "source": [
    "fit_controls = pv.FitControlsVinecop(family_set=[pv.BicopFamily.gaussian])\n",
    "cop1 = pv.Vinecop(u_mask, controls=fit_controls)\n",
    "cop2 = make_diagonal_copula(cop1, 5)"
   ]
  },
  {
   "cell_type": "code",
   "execution_count": 9,
   "id": "e4e8f511",
   "metadata": {},
   "outputs": [
    {
     "data": {
      "text/plain": [
       "array([[2, 3, 1, 5, 5],\n",
       "       [3, 1, 5, 1, 0],\n",
       "       [1, 5, 3, 0, 0],\n",
       "       [5, 2, 0, 0, 0],\n",
       "       [4, 0, 0, 0, 0]], dtype=uint64)"
      ]
     },
     "execution_count": 9,
     "metadata": {},
     "output_type": "execute_result"
    }
   ],
   "source": [
    "cop1.matrix"
   ]
  },
  {
   "cell_type": "code",
   "execution_count": 7,
   "id": "b4d97062",
   "metadata": {},
   "outputs": [
    {
     "data": {
      "text/plain": [
       "array([[1, 2, 3, 3, 3],\n",
       "       [3, 3, 2, 2, 0],\n",
       "       [2, 1, 1, 0, 0],\n",
       "       [4, 4, 0, 0, 0],\n",
       "       [5, 0, 0, 0, 0]], dtype=uint64)"
      ]
     },
     "execution_count": 7,
     "metadata": {},
     "output_type": "execute_result"
    }
   ],
   "source": [
    "cop2.matrix"
   ]
  },
  {
   "cell_type": "code",
   "execution_count": 8,
   "id": "a9f630ea",
   "metadata": {},
   "outputs": [],
   "source": [
    "u1 = u_mask[:, 0][:, None]\n",
    "u2 = u_mask[:, 1][:, None]\n",
    "u3 = u_mask[:, 2][:, None]\n",
    "u4 = u_mask[:, 3][:, None]\n",
    "u5_true = u[:, 4][:, None]\n",
    "\n",
    "imputed = None\n",
    "for i in range(10):\n",
    "    v = np.random.uniform(size=u_mask.shape[0])[:, None]\n",
    "    u5_4 = cop2.get_pair_copula(3,0).hinv2(np.hstack([v, u4]))[:, None]\n",
    "    u5_42 = cop2.get_pair_copula(2,0).hinv2(np.hstack([u5_4, u2]))[:, None]\n",
    "    u5_421 = cop2.get_pair_copula(1,0).hinv2(np.hstack([u5_42, u1]))[:, None]\n",
    "    u5_4213 = cop2.get_pair_copula(0,0).hinv2(np.hstack([u5_421, u3]))[:, None]\n",
    "    if imputed is None:\n",
    "        imputed = u5_4213\n",
    "    else:\n",
    "        imputed = (imputed + u5_4213)/2"
   ]
  },
  {
   "cell_type": "code",
   "execution_count": 38,
   "id": "cee627bf",
   "metadata": {},
   "outputs": [
    {
     "name": "stdout",
     "output_type": "stream",
     "text": [
      "0.9410627331900004\n"
     ]
    }
   ],
   "source": [
    "numer = imputed - u5_true\n",
    "denom = np.nanmedian(u_mask[:,4]) - u5_true\n",
    "smae = np.linalg.norm(numer[missing == 1], ord=1) / np.linalg.norm(denom[missing == 1], ord=1)\n",
    "print(smae)"
   ]
  }
 ],
 "metadata": {
  "kernelspec": {
   "display_name": "Python 3 (ipykernel)",
   "language": "python",
   "name": "python3"
  },
  "language_info": {
   "codemirror_mode": {
    "name": "ipython",
    "version": 3
   },
   "file_extension": ".py",
   "mimetype": "text/x-python",
   "name": "python",
   "nbconvert_exporter": "python",
   "pygments_lexer": "ipython3",
   "version": "3.7.11"
  }
 },
 "nbformat": 4,
 "nbformat_minor": 5
}
