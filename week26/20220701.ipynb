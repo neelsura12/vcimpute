{
 "cells": [
  {
   "cell_type": "code",
   "execution_count": 106,
   "id": "9212d12b",
   "metadata": {},
   "outputs": [],
   "source": [
    "import numpy as np\n",
    "import pyvinecopulib as pv\n",
    "from matplotlib import pyplot as plt\n",
    "# the pair-copula index for edge e in tree t of a d dimensional vine is \n",
    "# (M[d - 1 - e, e], M[t, e]; M[t - 1, e], ..., M[0, e])."
   ]
  },
  {
   "cell_type": "code",
   "execution_count": 107,
   "id": "42b1d0f6",
   "metadata": {},
   "outputs": [
    {
     "data": {
      "text/plain": [
       "array([[2, 2, 2],\n",
       "       [1, 1, 0],\n",
       "       [3, 0, 0]])"
      ]
     },
     "execution_count": 107,
     "metadata": {},
     "output_type": "execute_result"
    }
   ],
   "source": [
    "np.array([[2,1,3], [2,1,0], [2,0,0]]).T"
   ]
  },
  {
   "cell_type": "code",
   "execution_count": 108,
   "id": "4b23fc28",
   "metadata": {},
   "outputs": [],
   "source": [
    "cop = pv.Vinecop(\n",
    "    matrix=np.array([\n",
    "       [2, 2, 2],\n",
    "       [1, 1, 0],\n",
    "       [3, 0, 0]\n",
    "    ]),\n",
    "    pair_copulas=[\n",
    "        [pv.Bicop(family=pv.BicopFamily.gaussian, parameters=[0.75]), \n",
    "         pv.Bicop(family=pv.BicopFamily.gaussian, parameters=[0.75])], \n",
    "        [pv.Bicop(family=pv.BicopFamily.gaussian, parameters=[0.75])]\n",
    "    ]\n",
    ")"
   ]
  },
  {
   "cell_type": "code",
   "execution_count": 109,
   "id": "9dea65ba",
   "metadata": {},
   "outputs": [],
   "source": [
    "n = 1000\n",
    "u = cop.simulate(n)"
   ]
  },
  {
   "cell_type": "code",
   "execution_count": 110,
   "id": "ba6dd413",
   "metadata": {},
   "outputs": [
    {
     "data": {
      "text/plain": [
       "<pyvinecopulib.Vinecop>\n",
       "** Tree: 0\n",
       "3,2 <-> Gaussian, parameters = 0.75\n",
       "1,2 <-> Gaussian, parameters = 0.75\n",
       "** Tree: 1\n",
       "3,1 | 2 <-> Gaussian, parameters = 0.75"
      ]
     },
     "execution_count": 110,
     "metadata": {},
     "output_type": "execute_result"
    }
   ],
   "source": [
    "cop"
   ]
  },
  {
   "cell_type": "code",
   "execution_count": 111,
   "id": "c0e46461",
   "metadata": {},
   "outputs": [
    {
     "data": {
      "text/plain": [
       "array([[2, 2, 2],\n",
       "       [1, 1, 0],\n",
       "       [3, 0, 0]], dtype=uint64)"
      ]
     },
     "execution_count": 111,
     "metadata": {},
     "output_type": "execute_result"
    }
   ],
   "source": [
    "cop.matrix"
   ]
  },
  {
   "cell_type": "code",
   "execution_count": 112,
   "id": "31153a44",
   "metadata": {},
   "outputs": [],
   "source": [
    "c32 = cop.get_pair_copula(0,0) \n",
    "c12 = cop.get_pair_copula(0,1)\n",
    "c31_2 = cop.get_pair_copula(1,0)"
   ]
  },
  {
   "cell_type": "code",
   "execution_count": 113,
   "id": "18a84c7c",
   "metadata": {},
   "outputs": [
    {
     "data": {
      "text/plain": [
       "(1, 2, [])"
      ]
     },
     "execution_count": 113,
     "metadata": {},
     "output_type": "execute_result"
    }
   ],
   "source": [
    "d=3\n",
    "t=0\n",
    "e=1\n",
    "cop.matrix[d - 1 - e, e], cop.matrix[t, e], list(cop.matrix[0:t, e])"
   ]
  },
  {
   "cell_type": "code",
   "execution_count": 114,
   "id": "787050fe",
   "metadata": {},
   "outputs": [],
   "source": [
    "w3 = np.random.uniform(size=n)[:,None]"
   ]
  },
  {
   "cell_type": "code",
   "execution_count": 115,
   "id": "bba3137f",
   "metadata": {},
   "outputs": [],
   "source": [
    "u1 = u[:,0][:,None]\n",
    "u2 = u[:,1][:,None]\n",
    "u3 = u[:,2][:,None]"
   ]
  },
  {
   "cell_type": "code",
   "execution_count": 116,
   "id": "95194b15",
   "metadata": {},
   "outputs": [],
   "source": [
    "v1 = c12.hfunc1(np.hstack([u2, u1]))[:,None]\n",
    "v2 = c31_2.hinv1(np.hstack([w3, v1]))[:, None]\n",
    "v3 = c32.hinv2(np.hstack([v2, u2]))[:,None]"
   ]
  },
  {
   "cell_type": "code",
   "execution_count": 117,
   "id": "75fc0786",
   "metadata": {},
   "outputs": [
    {
     "data": {
      "text/plain": [
       "<matplotlib.collections.PathCollection at 0x7f7be84e7690>"
      ]
     },
     "execution_count": 117,
     "metadata": {},
     "output_type": "execute_result"
    },
    {
     "data": {
      "image/png": "[encoded data removed]",
      "text/plain": [
       "<Figure size 432x288 with 1 Axes>"
      ]
     },
     "metadata": {
      "needs_background": "light"
     },
     "output_type": "display_data"
    }
   ],
   "source": [
    "plt.scatter(v3, u3)"
   ]
  },
  {
   "cell_type": "code",
   "execution_count": 118,
   "id": "50cf0e24",
   "metadata": {},
   "outputs": [],
   "source": [
    "u3_mask = u3.copy()"
   ]
  },
  {
   "cell_type": "code",
   "execution_count": 119,
   "id": "d312e856",
   "metadata": {},
   "outputs": [],
   "source": [
    "u3_median = u3_mask.copy()"
   ]
  },
  {
   "cell_type": "code",
   "execution_count": 120,
   "id": "a4f3e49d",
   "metadata": {},
   "outputs": [],
   "source": [
    "u3_median[:n//2] = np.median(u3[n//2:])"
   ]
  },
  {
   "cell_type": "code",
   "execution_count": 121,
   "id": "6c2c9d0f",
   "metadata": {},
   "outputs": [],
   "source": [
    "u3_mask[:n//2] = v3[:n//2]  "
   ]
  },
  {
   "cell_type": "code",
   "execution_count": 122,
   "id": "3913c2f6",
   "metadata": {},
   "outputs": [
    {
     "data": {
      "text/plain": [
       "0.595760474812281"
      ]
     },
     "execution_count": 122,
     "metadata": {},
     "output_type": "execute_result"
    }
   ],
   "source": [
    "np.linalg.norm(u3_mask[:n//2] - u3[:n//2], ord=1) / np.linalg.norm(u3_median[:n//2] - u3[:n//2], ord=1)"
   ]
  },
  {
   "cell_type": "code",
   "execution_count": null,
   "id": "cbd2a7b7",
   "metadata": {},
   "outputs": [],
   "source": []
  }
 ],
 "metadata": {
  "kernelspec": {
   "display_name": "Python 3 (ipykernel)",
   "language": "python",
   "name": "python3"
  },
  "language_info": {
   "codemirror_mode": {
    "name": "ipython",
    "version": 3
   },
   "file_extension": ".py",
   "mimetype": "text/x-python",
   "name": "python",
   "nbconvert_exporter": "python",
   "pygments_lexer": "ipython3",
   "version": "3.7.11"
  }
 },
 "nbformat": 4,
 "nbformat_minor": 5
}
