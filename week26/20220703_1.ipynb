{
 "cells": [
  {
   "cell_type": "code",
   "execution_count": 9,
   "id": "918af99d",
   "metadata": {},
   "outputs": [],
   "source": [
    "import numpy as np"
   ]
  },
  {
   "cell_type": "code",
   "execution_count": 15,
   "id": "86b4fbde",
   "metadata": {},
   "outputs": [],
   "source": [
    "T = np.array([[3, 2, 3, 3, 3],\n",
    "       [1, 3, 2, 2, 0],\n",
    "       [2, 1, 1, 0, 0],\n",
    "       [4, 4, 0, 0, 0],\n",
    "       [5, 0, 0, 0, 0]], dtype=np.uint64)\n",
    "order = [5, 4, 1, 2, 3]\n",
    "d = T.shape[0]"
   ]
  },
  {
   "cell_type": "code",
   "execution_count": 16,
   "id": "b54dad59",
   "metadata": {},
   "outputs": [],
   "source": [
    "dct1 = {j: i+1 for i,j in enumerate(order[::-1])}\n",
    "dct2 = {v: k for k, v in dct1.items()}"
   ]
  },
  {
   "cell_type": "code",
   "execution_count": 95,
   "id": "0f14f974",
   "metadata": {},
   "outputs": [],
   "source": [
    "T1 = T.copy()\n",
    "for i in range(d):\n",
    "    for j in range(d):\n",
    "        T1[i,j] = dct1.get(T1[i,j], 0)\n",
    "T2 = np.zeros(shape=(d,d), dtype=np.uint64)\n",
    "for i in range(d):\n",
    "    for j in range(d):\n",
    "        T2[i,d-j-1] = T1[i,j]\n",
    "TM = np.zeros(shape=(d,d), dtype=np.uint64)\n",
    "for i in range(d):\n",
    "    for j in range(d):\n",
    "        if T2[i,j] != 0:\n",
    "            TM[i,j] = np.amax(T2[0:(i+1),j])\n",
    "V = [[] for _ in range(d)]\n",
    "V2 = [[] for _ in range(d)]\n",
    "for i in range(d):\n",
    "    for j in range(d):\n",
    "        V[i].append('')\n",
    "        V2[i].append('')\n",
    "V[0][0] = 'w1'\n",
    "for i in range(1,d):\n",
    "    V[i][i] = f'w{i+1}'\n",
    "    for k in range(i)[::-1]:\n",
    "        if T2[k,i] == TM[k,i]:\n",
    "            V[k][i] = f'hinv[{T2[i,i]}|{T2[k,i]}]({V[k+1][i]}|{V[k][int(TM[k][i]-1)]})'\n",
    "        else:\n",
    "            V[k][i] = f'hinv[{T2[i,i]}|{T2[k,i]}]({V[k+1][i]}|{V2[k][int(TM[k][i]-1)]})'\n",
    "        if i < d:\n",
    "            if T2[k,i] == TM[k,i]:\n",
    "                V2[k+1][i] = f'h[{T2[k][i]}|{T2[i][i]}]({V[k][int(TM[k][i]-1)]}|{V[k][i]})'\n",
    "            else:\n",
    "                V2[k+1][i] = f'h[{T2[k][i]}|{T2[i][i]}]({V2[k][int(TM[k][i]-1)]}|{V[k][i]})'"
   ]
  },
  {
   "cell_type": "code",
   "execution_count": 96,
   "id": "3284af17",
   "metadata": {},
   "outputs": [
    {
     "name": "stdout",
     "output_type": "stream",
     "text": [
      "hinv[5|1](hinv[5|3](hinv[5|2](hinv[5|4](w5|w4)|h[2|3](w2|hinv[3|2](w3|w2)))|hinv[3|2](w3|w2))|w1)\n",
      "\n",
      "hinv[5|3](hinv[5|2](hinv[5|4](w5|w4)|h[2|3](w2|hinv[3|2](w3|w2)))|hinv[3|2](w3|w2))\n",
      "\n",
      "hinv[5|2](hinv[5|4](w5|w4)|h[2|3](w2|hinv[3|2](w3|w2)))\n",
      "\n",
      "hinv[5|4](w5|w4)\n",
      "\n",
      "w5\n",
      "\n"
     ]
    }
   ],
   "source": [
    "for i in range(d):\n",
    "    print(V[i][4] + '\\n')"
   ]
  },
  {
   "cell_type": "code",
   "execution_count": 94,
   "id": "72c311f5",
   "metadata": {},
   "outputs": [
    {
     "data": {
      "text/plain": [
       "[['w1',\n",
       "  'hinv[2|1](w2|w1)',\n",
       "  'hinv[3|1](hinv[3|2](w3|w2)|w1)',\n",
       "  'hinv[4|2](hinv[4|1](hinv[4|3](w4|w3)|h[1|2](w1|hinv[2|1](w2|w1)))|hinv[2|1](w2|w1))',\n",
       "  'hinv[5|1](hinv[5|3](hinv[5|2](hinv[5|4](w5|w4)|h[2|3](w2|hinv[3|2](w3|w2)))|hinv[3|2](w3|w2))|w1)'],\n",
       " ['',\n",
       "  'w2',\n",
       "  'hinv[3|2](w3|w2)',\n",
       "  'hinv[4|1](hinv[4|3](w4|w3)|h[1|2](w1|hinv[2|1](w2|w1)))',\n",
       "  'hinv[5|3](hinv[5|2](hinv[5|4](w5|w4)|h[2|3](w2|hinv[3|2](w3|w2)))|hinv[3|2](w3|w2))'],\n",
       " ['',\n",
       "  '',\n",
       "  'w3',\n",
       "  'hinv[4|3](w4|w3)',\n",
       "  'hinv[5|2](hinv[5|4](w5|w4)|h[2|3](w2|hinv[3|2](w3|w2)))'],\n",
       " ['', '', '', 'w4', 'hinv[5|4](w5|w4)'],\n",
       " ['', '', '', '', 'w5']]"
      ]
     },
     "execution_count": 94,
     "metadata": {},
     "output_type": "execute_result"
    }
   ],
   "source": [
    "V"
   ]
  },
  {
   "cell_type": "code",
   "execution_count": null,
   "id": "043a60e8",
   "metadata": {},
   "outputs": [],
   "source": []
  }
 ],
 "metadata": {
  "kernelspec": {
   "display_name": "Python 3 (ipykernel)",
   "language": "python",
   "name": "python3"
  },
  "language_info": {
   "codemirror_mode": {
    "name": "ipython",
    "version": 3
   },
   "file_extension": ".py",
   "mimetype": "text/x-python",
   "name": "python",
   "nbconvert_exporter": "python",
   "pygments_lexer": "ipython3",
   "version": "3.7.11"
  }
 },
 "nbformat": 4,
 "nbformat_minor": 5
}
