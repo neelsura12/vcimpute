{
 "cells": [
  {
   "cell_type": "code",
   "execution_count": 3,
   "id": "23e779c3",
   "metadata": {},
   "outputs": [],
   "source": [
    "# goal\n",
    "# step1. given (a) vine structure, (b) copula family and  (c) copula parameters\n",
    "# step2. generate data\n",
    "# step3. mask var5 with x% dropout\n",
    "# step4. infer the (a-c) on masked data using complete cases\n",
    "# step5.1 if the vine structure supports direct imputation of var5 -> admit to comparison\n",
    "# step5.2 if the vine structure does not support direct imputation of var5 -> skip\n",
    "# step6. run zhao/udell's code to impute masked data\n",
    "# step7. compute smae imputation error, bias of correlation from step 5.1,6\n",
    "\n",
    "# reference\n",
    "# the pair-copula index for edge e in tree t of a d dimensional vine is\n",
    "# (M[d - 1 - e, e], M[t, e]; M[t - 1, e], ..., M[0, e])"
   ]
  },
  {
   "cell_type": "code",
   "execution_count": 4,
   "id": "00e314e0",
   "metadata": {},
   "outputs": [],
   "source": [
    "import numpy as np\n",
    "from matplotlib import pyplot as plt\n",
    "import pyvinecopulib as pv\n",
    "\n",
    "def get_ced_cing(T, cop=None):\n",
    "    d = T.shape[1]\n",
    "    cing = []\n",
    "    ced = []\n",
    "    param = []\n",
    "    for j in range(d):\n",
    "        for i1 in range(d-j-1):\n",
    "            ced.append(sorted((T[i1,j], T[d-j-1, j])))\n",
    "            tmp = []\n",
    "            for i2 in range(i1):\n",
    "                tmp.append(T[i2,j])\n",
    "            cing.append(sorted(tmp))\n",
    "            if cop is not None:\n",
    "                param.append(cop.get_parameters(i1, j)[0][0])\n",
    "    return ced, cing, param\n",
    "\n",
    "def find(a, cing_len, ced, cing):\n",
    "    out = [i for i in range(len(ced)) if a in ced[i]]\n",
    "    matched = False\n",
    "    for i in out:\n",
    "        if len(cing[i]) == cing_len:\n",
    "            matched = True\n",
    "            break\n",
    "    assert matched, f'bad argument, a={a}, cing_len={cing_len}'\n",
    "    return ced[i][1] if ced[i][0] == a else ced[i][0]\n",
    "\n",
    "def diagonalize(T1, a):\n",
    "    d = T1.shape[1]\n",
    "    if a == T1[d-1, 0]:\n",
    "        return T1\n",
    "    assert a == T1[d-2, 0], f'cannot be diagonalized with {a}'\n",
    "\n",
    "    T2 = np.zeros(shape=T1.shape, dtype=np.uint64)\n",
    "    T2[d-1, 0] = a\n",
    "    order = [a]\n",
    "\n",
    "    ced, cing, _ = get_ced_cing(T1)\n",
    "    for j in range(d-1):\n",
    "        for i in range(d-j-1):\n",
    "            T2[i,j] = find(T2[d-j-1, j], i, ced, cing)\n",
    "\n",
    "        remove_idx = [i for i, c in enumerate(ced) for k in order if k in c]\n",
    "        keep_idx = set(range(len(ced))).difference(set(remove_idx))\n",
    "\n",
    "        ced = [ced[i] for i in keep_idx]\n",
    "        cing = [cing[i] for i in keep_idx]\n",
    "\n",
    "        T2[d-j-2, j+1] = T2[d-j-2, j]\n",
    "        order.append(T2[d-j-2, j+1])\n",
    "    return T2\n",
    "\n",
    "def make_diagonal_copula(cop1, a):\n",
    "    T1 = cop1.matrix\n",
    "    d = T1.shape[0]\n",
    "    ced, cing, param = get_ced_cing(T1, cop1)\n",
    "\n",
    "    T2 = diagonalize(T1, a)\n",
    "\n",
    "    pair_copulas = []\n",
    "    for t in range(d-1):\n",
    "        cur = []\n",
    "        pair_copulas.append(cur)\n",
    "        for e in range(d-1-t):\n",
    "            cur.append(\n",
    "                pv.Bicop(\n",
    "                    family=pv.BicopFamily.gaussian,\n",
    "                    parameters=[param[ced.index(sorted((T2[d-1-e,e], T2[t,e])))]]\n",
    "                )\n",
    "            )\n",
    "    cop2 = pv.Vinecop(matrix=T2, pair_copulas=pair_copulas)\n",
    "    return cop2"
   ]
  },
  {
   "cell_type": "code",
   "execution_count": 5,
   "id": "903ea389",
   "metadata": {},
   "outputs": [],
   "source": [
    "d = 5\n",
    "corr = np.array([\n",
    "    [0.9, 0.9, 0.9, 0.9], \n",
    "    [0.9, 0.9, 0.9, np.nan], \n",
    "    [0.9, 0.9, np.nan, np.nan],\n",
    "    [0.9, np.nan, np.nan, np.nan]]\n",
    ")\n",
    "vine_matrix = np.array([\n",
    "    [3,2,3,3,3],\n",
    "    [2,3,2,2,0],\n",
    "    [4,4,4,0,0],\n",
    "    [1,1,0,0,0],\n",
    "    [5,0,0,0,0]\n",
    "])"
   ]
  },
  {
   "cell_type": "code",
   "execution_count": 6,
   "id": "6d8b75bb",
   "metadata": {},
   "outputs": [],
   "source": [
    "pair_copulas = []\n",
    "for t in range(d-1):\n",
    "    cur = []\n",
    "    pair_copulas.append(cur)\n",
    "    for e in range(d-1-t):\n",
    "        cur.append(\n",
    "            pv.Bicop(\n",
    "                family=pv.BicopFamily.gaussian,\n",
    "                parameters=[corr[t,e]]\n",
    "            )\n",
    "        )\n",
    "cop = pv.Vinecop(matrix=vine_matrix, pair_copulas=pair_copulas)\n",
    "u = cop.simulate(1000, seeds=[1,2,3,4,5])"
   ]
  },
  {
   "cell_type": "code",
   "execution_count": 7,
   "id": "0bf89cbb",
   "metadata": {},
   "outputs": [],
   "source": [
    "missing = np.random.binomial(n=1, p=0.2, size=u.shape[0])\n",
    "present = (1 - missing)\n",
    "u_mask = np.copy(u)\n",
    "u_mask[:, 4] = np.where(missing > 0, np.nan, u_mask[:,4])"
   ]
  },
  {
   "cell_type": "code",
   "execution_count": 8,
   "id": "d8bf285a",
   "metadata": {},
   "outputs": [],
   "source": [
    "fit_controls = pv.FitControlsVinecop(family_set=[pv.BicopFamily.gaussian])\n",
    "cop1 = pv.Vinecop(u_mask, controls=fit_controls)\n",
    "cop2 = make_diagonal_copula(cop1, 5)"
   ]
  },
  {
   "cell_type": "code",
   "execution_count": 11,
   "id": "4c2dd7df",
   "metadata": {},
   "outputs": [
    {
     "data": {
      "text/plain": [
       "array([[4, 1, 4, 4, 4],\n",
       "       [1, 4, 1, 1, 0],\n",
       "       [2, 2, 2, 0, 0],\n",
       "       [3, 3, 0, 0, 0],\n",
       "       [5, 0, 0, 0, 0]], dtype=uint64)"
      ]
     },
     "execution_count": 11,
     "metadata": {},
     "output_type": "execute_result"
    }
   ],
   "source": [
    "cop2.matrix"
   ]
  },
  {
   "cell_type": "code",
   "execution_count": 12,
   "id": "731074a2",
   "metadata": {},
   "outputs": [
    {
     "data": {
      "text/plain": [
       "<pyvinecopulib.Vinecop>\n",
       "** Tree: 0\n",
       "5,4 <-> Gaussian, parameters = 0.996549\n",
       "3,1 <-> Gaussian, parameters = 0.981412\n",
       "2,4 <-> Gaussian, parameters = 0.981101\n",
       "1,4 <-> Gaussian, parameters = 0.930529\n",
       "** Tree: 1\n",
       "5,1 | 4 <-> Gaussian, parameters = 0.196281\n",
       "3,4 | 1 <-> Gaussian, parameters = -0.122608\n",
       "2,1 | 4 <-> Gaussian, parameters = -0.233703\n",
       "** Tree: 2\n",
       "5,2 | 1,4 <-> Gaussian, parameters = 0.250211\n",
       "3,2 | 4,1 <-> Gaussian, parameters = 0.859202\n",
       "** Tree: 3\n",
       "5,3 | 2,1,4 <-> Gaussian, parameters = -0.887267"
      ]
     },
     "execution_count": 12,
     "metadata": {},
     "output_type": "execute_result"
    }
   ],
   "source": [
    "cop2"
   ]
  },
  {
   "cell_type": "code",
   "execution_count": 15,
   "id": "93ee59b8",
   "metadata": {},
   "outputs": [],
   "source": [
    "u1 = u_mask[:, 0][:, None]\n",
    "u2 = u_mask[:, 1][:, None]\n",
    "u3 = u_mask[:, 2][:, None]\n",
    "u4 = u_mask[:, 3][:, None]\n",
    "u5_true = u[:, 4][:, None]"
   ]
  },
  {
   "cell_type": "code",
   "execution_count": 16,
   "id": "312b9364",
   "metadata": {},
   "outputs": [],
   "source": [
    "F_1_3 = cop2.get_pair_copula(0,2).hfunc2(np.hstack([u1, u3]))[:, None]\n",
    "F_2_3 = cop2.get_pair_copula(0,3).hfunc2(np.hstack([u2, u3]))[:, None]\n",
    "F_2_13 = cop2.get_pair_copula(1,2).hfunc1(np.hstack([F_1_3, F_2_3]))[:, None]\n",
    "F_1_32 = cop2.get_pair_copula(1,2).hfunc2(np.hstack([F_1_3, F_2_3]))[:, None]\n",
    "\n",
    "F_3_2 = cop2.get_pair_copula(0,3).hfunc1(np.hstack([u2, u3]))[:, None]\n",
    "F_4_2 = cop2.get_pair_copula(0,1).hfunc2(np.hstack([u4, u2]))[:, None]\n",
    "F_4_32 = cop2.get_pair_copula(1,1).hfunc2(np.hstack([F_4_2, F_3_2]))[:, None]\n",
    "\n",
    "F_4_123 = cop2.get_pair_copula(2,1).hfunc2(np.hstack([F_4_32, F_1_32]))[:, None]\n",
    "\n",
    "w = np.random.uniform(size=(1000,1))\n",
    "inv1 = cop2.get_pair_copula(3,0).hinv2(np.hstack([w, F_4_123]))[:, None]\n",
    "inv2 = cop2.get_pair_copula(2,0).hinv2(np.hstack([inv1, F_2_13]))[:, None]\n",
    "inv3 = cop2.get_pair_copula(1,0).hinv2(np.hstack([inv2, F_1_3]))[:, None]\n",
    "u5_imputed = cop2.get_pair_copula(0,0).hinv2(np.hstack([inv3, u3]))[:, None]"
   ]
  },
  {
   "cell_type": "code",
   "execution_count": 17,
   "id": "50b53e02",
   "metadata": {},
   "outputs": [
    {
     "name": "stdout",
     "output_type": "stream",
     "text": [
      "[[1.         0.92604042]\n",
      " [0.92604042 1.        ]]\n",
      "[[1.         0.97875771]\n",
      " [0.97875771 1.        ]]\n",
      "[[1.         0.89287085]\n",
      " [0.89287085 1.        ]]\n",
      "[[1.         0.99598568]\n",
      " [0.99598568 1.        ]]\n"
     ]
    }
   ],
   "source": [
    "for u in [u1,u2,u3,u4]:\n",
    "    print(np.corrcoef(np.ravel(u5_true), np.ravel(u)))"
   ]
  },
  {
   "cell_type": "code",
   "execution_count": 18,
   "id": "b70a64ee",
   "metadata": {},
   "outputs": [
    {
     "data": {
      "text/plain": [
       "array([[1.        , 0.94121509],\n",
       "       [0.94121509, 1.        ]])"
      ]
     },
     "execution_count": 18,
     "metadata": {},
     "output_type": "execute_result"
    }
   ],
   "source": [
    "np.corrcoef(np.ravel(u5_true), np.ravel(u5_imputed))"
   ]
  },
  {
   "cell_type": "code",
   "execution_count": 20,
   "id": "cb8cf6ba",
   "metadata": {},
   "outputs": [
    {
     "name": "stdout",
     "output_type": "stream",
     "text": [
      "0.29148663677953107\n"
     ]
    }
   ],
   "source": [
    "numer = u5_imputed - u5_true\n",
    "denom = np.nanmedian(u_mask[:,4]) - u5_true\n",
    "smae = np.linalg.norm(numer[missing == 1], ord=1) / np.linalg.norm(denom[missing == 1], ord=1)\n",
    "print(smae)"
   ]
  }
 ],
 "metadata": {
  "kernelspec": {
   "display_name": "Python 3 (ipykernel)",
   "language": "python",
   "name": "python3"
  },
  "language_info": {
   "codemirror_mode": {
    "name": "ipython",
    "version": 3
   },
   "file_extension": ".py",
   "mimetype": "text/x-python",
   "name": "python",
   "nbconvert_exporter": "python",
   "pygments_lexer": "ipython3",
   "version": "3.7.11"
  }
 },
 "nbformat": 4,
 "nbformat_minor": 5
}
