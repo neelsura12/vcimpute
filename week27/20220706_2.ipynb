{
 "cells": [
  {
   "cell_type": "code",
   "execution_count": 1,
   "id": "bd9b903d",
   "metadata": {},
   "outputs": [],
   "source": [
    "import numpy as np\n",
    "import pyvinecopulib as pv\n",
    "from matplotlib import pyplot as plt"
   ]
  },
  {
   "cell_type": "code",
   "execution_count": 2,
   "id": "c2e326ba",
   "metadata": {},
   "outputs": [],
   "source": [
    "out = []\n",
    "for x in np.arange(0.01,0.99,0.01):\n",
    "    cop = pv.Vinecop(\n",
    "        structure=pv.CVineStructure(order=[1,2,3]), \n",
    "        pair_copulas=[\n",
    "            [\n",
    "                pv.Bicop(family=pv.BicopFamily.gaussian, parameters=[[0.5]]), \n",
    "                pv.Bicop(family=pv.BicopFamily.gaussian, parameters=[[x]])\n",
    "            ],\n",
    "            [\n",
    "                pv.Bicop(family=pv.BicopFamily.gaussian, parameters=[[0.5]])\n",
    "            ]\n",
    "        ]\n",
    "    )\n",
    "    U = cop.simulate(n=1000, seeds=[1,2,3])\n",
    "    u2_sim = cop.get_pair_copula(0,1).hinv2(np.hstack([np.random.uniform(size=1000)[:, None],\n",
    "                                                       U[:,2][:, None]]))[:, None]\n",
    "    rho = np.corrcoef(np.ravel(U[:,1]), np.ravel(u2_sim))[0,1]\n",
    "    out.append((x,rho))"
   ]
  },
  {
   "cell_type": "code",
   "execution_count": 3,
   "id": "5cc41a01",
   "metadata": {},
   "outputs": [
    {
     "data": {
      "text/plain": [
       "<pyvinecopulib.Vinecop>\n",
       "** Tree: 0\n",
       "1,3 <-> Gaussian, parameters = 0.5\n",
       "2,3 <-> Gaussian, parameters = 0.98\n",
       "** Tree: 1\n",
       "1,2 | 3 <-> Gaussian, parameters = 0.5"
      ]
     },
     "execution_count": 3,
     "metadata": {},
     "output_type": "execute_result"
    }
   ],
   "source": [
    "cop"
   ]
  },
  {
   "cell_type": "code",
   "execution_count": 112,
   "id": "b2f5eb59",
   "metadata": {},
   "outputs": [
    {
     "data": {
      "text/plain": [
       "[<matplotlib.lines.Line2D at 0x7f90607f7650>]"
      ]
     },
     "execution_count": 112,
     "metadata": {},
     "output_type": "execute_result"
    },
    {
     "data": {
      "image/png": "[encoded data removed]",
      "text/plain": [
       "<Figure size 432x288 with 1 Axes>"
      ]
     },
     "metadata": {
      "needs_background": "light"
     },
     "output_type": "display_data"
    }
   ],
   "source": [
    "plt.plot(np.array(out)[:,0], np.array(out)[:,1])\n",
    "plt.plot(np.array(out)[:,0], np.square(np.array(out)[:,0]))\n",
    "plt.xlabel('true corr')\n",
    "plt.ylabel('rec corr (using true structure)')"
   ]
  }
 ],
 "metadata": {
  "kernelspec": {
   "display_name": "Python 3 (ipykernel)",
   "language": "python",
   "name": "python3"
  },
  "language_info": {
   "codemirror_mode": {
    "name": "ipython",
    "version": 3
   },
   "file_extension": ".py",
   "mimetype": "text/x-python",
   "name": "python",
   "nbconvert_exporter": "python",
   "pygments_lexer": "ipython3",
   "version": "3.7.11"
  }
 },
 "nbformat": 4,
 "nbformat_minor": 5
}
