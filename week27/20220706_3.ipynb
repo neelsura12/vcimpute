{
 "cells": [
  {
   "cell_type": "code",
   "execution_count": 1,
   "id": "bd9b903d",
   "metadata": {},
   "outputs": [],
   "source": [
    "import numpy as np\n",
    "import pyvinecopulib as pv\n",
    "from matplotlib import pyplot as plt"
   ]
  },
  {
   "cell_type": "code",
   "execution_count": 4,
   "id": "c2e326ba",
   "metadata": {},
   "outputs": [],
   "source": [
    "out1 = []\n",
    "out2 = []\n",
    "for x in np.arange(0.01,0.99,0.01):\n",
    "    cop = pv.Vinecop(\n",
    "        structure=pv.CVineStructure(order=[1,2,3]), \n",
    "        pair_copulas=[\n",
    "            [\n",
    "                pv.Bicop(family=pv.BicopFamily.gaussian, parameters=[[x]]), \n",
    "                pv.Bicop(family=pv.BicopFamily.gaussian, parameters=[[x]])\n",
    "            ],\n",
    "            [\n",
    "                pv.Bicop(family=pv.BicopFamily.gaussian, parameters=[[x]])\n",
    "            ]\n",
    "        ]\n",
    "    )\n",
    "    U = cop.simulate(n=1000, seeds=[1,2,3])\n",
    "\n",
    "    w = np.random.uniform(size=1000)[:, None]\n",
    "    \n",
    "    F_2_3 = cop.get_pair_copula(0,1).hfunc2(np.hstack([U[:,1][:, None], U[:,2][:, None]]))[:, None]\n",
    "    inv1 = cop.get_pair_copula(1,0).hinv2(np.hstack([w, F_2_3]))[:, None]\n",
    "    u1_sim = cop.get_pair_copula(0,0).hinv2(np.hstack([inv1, U[:,2][:, None]]))[:, None]\n",
    "    out1.append((np.corrcoef(np.ravel(u1_sim), np.ravel(U[:,0]))[0,1], x))\n",
    "    \n",
    "    u_imp_1_2 = cop.get_pair_copula(0,1).hinv2(np.hstack([w, U[:,1][:, None]]))[:, None]\n",
    "    u_imp_1_23 = cop.get_pair_copula(0,0).hinv2(np.hstack([u_imp_1_2, U[:,2][:, None]]))\n",
    "    out2.append((np.corrcoef(np.ravel(u_imp_1_23), np.ravel(U[:,0]))[0,1], x))"
   ]
  },
  {
   "cell_type": "code",
   "execution_count": 5,
   "id": "fa5b9287",
   "metadata": {},
   "outputs": [
    {
     "data": {
      "text/plain": [
       "[<matplotlib.lines.Line2D at 0x7fa8400e1d90>]"
      ]
     },
     "execution_count": 5,
     "metadata": {},
     "output_type": "execute_result"
    },
    {
     "data": {
      "image/png": "[encoded data removed]",
      "text/plain": [
       "<Figure size 432x288 with 1 Axes>"
      ]
     },
     "metadata": {
      "needs_background": "light"
     },
     "output_type": "display_data"
    }
   ],
   "source": [
    "dat1 = np.array(out1)\n",
    "dat2 = np.array(out2)\n",
    "plt.plot(dat1[:,1], dat1[:,0])\n",
    "plt.plot(dat2[:,1], dat2[:,0])"
   ]
  },
  {
   "cell_type": "raw",
   "id": "57b64ebe",
   "metadata": {},
   "source": [
    "dat = np.array(out)\n",
    "plt.plot(dat[:,1], dat[:,0])\n",
    "plt.plot(dat[:,1], dat[:,1])"
   ]
  },
  {
   "cell_type": "raw",
   "id": "e0505166",
   "metadata": {},
   "source": [
    "dat = np.array(out)\n",
    "plt.plot(dat[:,1], dat[:,0])\n",
    "plt.plot(dat[:,1], dat[:,1])"
   ]
  },
  {
   "cell_type": "raw",
   "id": "23354f29",
   "metadata": {},
   "source": [
    "cop = pv.Vinecop(\n",
    "    structure=pv.CVineStructure(order=[1,2,3]), \n",
    "    pair_copulas=[\n",
    "        [\n",
    "            pv.Bicop(family=pv.BicopFamily.gaussian, parameters=[[0.8]]), \n",
    "            pv.Bicop(family=pv.BicopFamily.gaussian, parameters=[[0.8]])\n",
    "        ],\n",
    "        [\n",
    "            pv.Bicop(family=pv.BicopFamily.gaussian, parameters=[[0.8]])\n",
    "        ]\n",
    "    ]\n",
    ")\n",
    "U = cop.simulate(n=1000, seeds=[1,2,3])"
   ]
  },
  {
   "cell_type": "raw",
   "id": "c66bb444",
   "metadata": {},
   "source": [
    "cop"
   ]
  },
  {
   "cell_type": "raw",
   "id": "8363433f",
   "metadata": {},
   "source": [
    "cop.matrix"
   ]
  },
  {
   "cell_type": "raw",
   "id": "718eb640",
   "metadata": {},
   "source": [
    "u_imp_1_2 = cop.get_pair_copula(0,1).hinv2(np.hstack([np.random.uniform(size=1000)[:, None], U[:,1][:, None]]))[:, None]\n",
    "u_imp_1_23 = cop.get_pair_copula(0,0).hinv2(np.hstack([u_imp_1_2, U[:,2][:, None]]))\n"
   ]
  },
  {
   "cell_type": "raw",
   "id": "892201b5",
   "metadata": {},
   "source": [
    "np.corrcoef(u_imp_1_23, U[:,0])"
   ]
  },
  {
   "cell_type": "raw",
   "id": "92a9e973",
   "metadata": {},
   "source": [
    "F_2_3 = cop.get_pair_copula(0,1).hfunc2(np.hstack([U[:,1][:, None], U[:,2][:, None]]))[:, None]\n",
    "inv1 = cop.get_pair_copula(1,0).hinv2(np.hstack([np.random.uniform(size=1000)[:, None], F_2_3]))[:, None]\n",
    "u1_sim = cop.get_pair_copula(0,0).hinv2(np.hstack([inv1, U[:,2][:, None]]))[:, None]"
   ]
  },
  {
   "cell_type": "raw",
   "id": "f3874082",
   "metadata": {},
   "source": [
    "np.corrcoef(np.ravel(u1_sim), np.ravel(U[:,0]))"
   ]
  }
 ],
 "metadata": {
  "kernelspec": {
   "display_name": "Python 3 (ipykernel)",
   "language": "python",
   "name": "python3"
  },
  "language_info": {
   "codemirror_mode": {
    "name": "ipython",
    "version": 3
   },
   "file_extension": ".py",
   "mimetype": "text/x-python",
   "name": "python",
   "nbconvert_exporter": "python",
   "pygments_lexer": "ipython3",
   "version": "3.7.11"
  }
 },
 "nbformat": 4,
 "nbformat_minor": 5
}
