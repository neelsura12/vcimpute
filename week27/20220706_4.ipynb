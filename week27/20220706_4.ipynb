{
 "cells": [
  {
   "cell_type": "code",
   "execution_count": 2,
   "id": "bd9b903d",
   "metadata": {},
   "outputs": [],
   "source": [
    "import numpy as np\n",
    "import pyvinecopulib as pv\n",
    "from matplotlib import pyplot as plt\n",
    "import itertools"
   ]
  },
  {
   "cell_type": "code",
   "execution_count": 3,
   "id": "4ce9be14",
   "metadata": {},
   "outputs": [],
   "source": [
    "seed = list(np.arange(0.1,0.91,0.1))"
   ]
  },
  {
   "cell_type": "code",
   "execution_count": null,
   "id": "e364c99d",
   "metadata": {},
   "outputs": [],
   "source": []
  },
  {
   "cell_type": "code",
   "execution_count": 4,
   "id": "93207e6a",
   "metadata": {},
   "outputs": [],
   "source": [
    "out1 = []\n",
    "out2 = []\n",
    "for x,y,z in list(itertools.product(seed,seed,seed)):\n",
    "    cop = pv.Vinecop(\n",
    "        structure=pv.CVineStructure(order=[1,2,3]), \n",
    "        pair_copulas=[\n",
    "            [\n",
    "                pv.Bicop(family=pv.BicopFamily.gaussian, parameters=[[x]]), \n",
    "                pv.Bicop(family=pv.BicopFamily.gaussian, parameters=[[y]])\n",
    "            ],\n",
    "            [\n",
    "                pv.Bicop(family=pv.BicopFamily.gaussian, parameters=[[z]])\n",
    "            ]\n",
    "        ]\n",
    "    )\n",
    "    U = cop.simulate(n=1000, seeds=[1,2,3])\n",
    "    \n",
    "    w = np.random.uniform(size=1000)[:, None]\n",
    "    \n",
    "    F_2_3 = cop.get_pair_copula(0,1).hfunc2(np.hstack([U[:,1][:, None], U[:,2][:, None]]))[:, None]\n",
    "    inv1 = cop.get_pair_copula(1,0).hinv2(np.hstack([w, F_2_3]))[:, None]\n",
    "    u1_sim = cop.get_pair_copula(0,0).hinv2(np.hstack([inv1, U[:,2][:, None]]))[:, None]\n",
    "    out1.append((\n",
    "        np.corrcoef(np.ravel(U[:,0]), np.ravel(U[:,1]))[0,1], \n",
    "        np.corrcoef(np.ravel(u1_sim), np.ravel(U[:,1]))[0,1]\n",
    "    ))\n",
    "    \n",
    "#     u_imp_1_2 = cop.get_pair_copula(0,1).hinv2(np.hstack([w, U[:,1][:, None]]))[:, None]\n",
    "#     u_imp_1_23 = cop.get_pair_copula(0,0).hinv2(np.hstack([u_imp_1_2, U[:,2][:, None]]))\n",
    "#     out2.append((\n",
    "#         np.corrcoef(np.ravel(U[:,0]), np.ravel(U[:,1]))[0,1], \n",
    "#         np.corrcoef(np.ravel(u_imp_1_23), np.ravel(U[:,1]))[0,1]\n",
    "#     ))"
   ]
  },
  {
   "cell_type": "code",
   "execution_count": 5,
   "id": "4abc19a1",
   "metadata": {},
   "outputs": [
    {
     "data": {
      "text/plain": [
       "<Figure size 432x288 with 0 Axes>"
      ]
     },
     "execution_count": 5,
     "metadata": {},
     "output_type": "execute_result"
    },
    {
     "data": {
      "text/plain": [
       "<Figure size 432x288 with 0 Axes>"
      ]
     },
     "metadata": {},
     "output_type": "display_data"
    }
   ],
   "source": [
    "dat1 = np.array(out1)\n",
    "# dat2 = np.array(out2)\n",
    "plt.figure()"
   ]
  },
  {
   "cell_type": "code",
   "execution_count": 16,
   "id": "6a35ceb9",
   "metadata": {},
   "outputs": [
    {
     "data": {
      "text/plain": [
       "<matplotlib.collections.PathCollection at 0x7f93784a3fd0>"
      ]
     },
     "execution_count": 16,
     "metadata": {},
     "output_type": "execute_result"
    },
    {
     "data": {
      "image/png": "[encoded data removed]",
      "text/plain": [
       "<Figure size 432x288 with 1 Axes>"
      ]
     },
     "metadata": {
      "needs_background": "light"
     },
     "output_type": "display_data"
    }
   ],
   "source": [
    "plt.scatter(dat1[:,0], dat1[:,1])"
   ]
  }
 ],
 "metadata": {
  "kernelspec": {
   "display_name": "Python 3 (ipykernel)",
   "language": "python",
   "name": "python3"
  },
  "language_info": {
   "codemirror_mode": {
    "name": "ipython",
    "version": 3
   },
   "file_extension": ".py",
   "mimetype": "text/x-python",
   "name": "python",
   "nbconvert_exporter": "python",
   "pygments_lexer": "ipython3",
   "version": "3.7.11"
  }
 },
 "nbformat": 4,
 "nbformat_minor": 5
}
