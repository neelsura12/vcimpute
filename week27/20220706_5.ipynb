{
 "cells": [
  {
   "cell_type": "code",
   "execution_count": 101,
   "id": "31a3d576",
   "metadata": {},
   "outputs": [],
   "source": [
    "from random import choice\n",
    "import numpy as np\n",
    "from matplotlib import pyplot as plt\n",
    "import pyvinecopulib as pv\n",
    "\n",
    "def get_ced_cing(T, cop=None):\n",
    "    d = T.shape[1]\n",
    "    cing = []\n",
    "    ced = []\n",
    "    param = []\n",
    "    for j in range(d):\n",
    "        for i1 in range(d-j-1):\n",
    "            ced.append(sorted((T[i1,j], T[d-j-1, j])))\n",
    "            tmp = []\n",
    "            for i2 in range(i1):\n",
    "                tmp.append(T[i2,j])\n",
    "            cing.append(sorted(tmp))\n",
    "            if cop is not None:\n",
    "                param.append(cop.get_parameters(i1, j)[0][0])\n",
    "    return ced, cing, param\n",
    "\n",
    "def find(a, cing_len, ced, cing):\n",
    "    out = [i for i in range(len(ced)) if a in ced[i]]\n",
    "    matched = False\n",
    "    for i in out:\n",
    "        if len(cing[i]) == cing_len:\n",
    "            matched = True\n",
    "            break\n",
    "    assert matched, f'bad argument, a={a}, cing_len={cing_len}'\n",
    "    return ced[i][1] if ced[i][0] == a else ced[i][0]\n",
    "\n",
    "def diagonalize(T1, a):\n",
    "    d = T1.shape[1]\n",
    "    if a == T1[d-1, 0]:\n",
    "        return T1\n",
    "    assert a == T1[d-2, 0], f'cannot be diagonalized with {a}'\n",
    "\n",
    "    T2 = np.zeros(shape=T1.shape, dtype=np.uint64)\n",
    "    T2[d-1, 0] = a\n",
    "    order = [a]\n",
    "\n",
    "    ced, cing, _ = get_ced_cing(T1)\n",
    "    for j in range(d-1):\n",
    "        for i in range(d-j-1):\n",
    "            T2[i,j] = find(T2[d-j-1, j], i, ced, cing)\n",
    "\n",
    "        remove_idx = [i for i, c in enumerate(ced) for k in order if k in c]\n",
    "        keep_idx = set(range(len(ced))).difference(set(remove_idx))\n",
    "\n",
    "        ced = [ced[i] for i in keep_idx]\n",
    "        cing = [cing[i] for i in keep_idx]\n",
    "\n",
    "        T2[d-j-2, j+1] = T2[d-j-2, j]\n",
    "        order.append(T2[d-j-2, j+1])\n",
    "    return T2\n",
    "\n",
    "def make_diagonal_copula(cop1, a):\n",
    "    T1 = cop1.matrix\n",
    "    d = T1.shape[0]\n",
    "    ced, cing, param = get_ced_cing(T1, cop1)\n",
    "\n",
    "    T2 = diagonalize(T1, a)\n",
    "\n",
    "    pair_copulas = []\n",
    "    for t in range(d-1):\n",
    "        cur = []\n",
    "        pair_copulas.append(cur)\n",
    "        for e in range(d-1-t):\n",
    "            cur.append(\n",
    "                pv.Bicop(\n",
    "                    family=pv.BicopFamily.gaussian,\n",
    "                    parameters=[param[ced.index(sorted((T2[d-1-e,e], T2[t,e])))]]\n",
    "                )\n",
    "            )\n",
    "    cop2 = pv.Vinecop(matrix=T2, pair_copulas=pair_copulas)\n",
    "    return cop2"
   ]
  },
  {
   "cell_type": "code",
   "execution_count": 81,
   "id": "e86fa6eb",
   "metadata": {},
   "outputs": [],
   "source": [
    "d = 5 # dimension\n",
    "n = 1000 \n",
    "p = 0.5 # dropout "
   ]
  },
  {
   "cell_type": "code",
   "execution_count": 82,
   "id": "c5f21b95",
   "metadata": {},
   "outputs": [],
   "source": [
    "structure = pv.RVineStructure.simulate(d=d)\n",
    "pair_copulas = []\n",
    "for t in range(d-1):\n",
    "    tree_lst = []\n",
    "    for e in range(d-t-1):\n",
    "        rho = np.clip(np.random.beta(2, 2), a_min=0.05, a_max=0.95)\n",
    "        tree_lst.append(pv.Bicop(family=pv.BicopFamily.gaussian, parameters=[[rho]]))\n",
    "    pair_copulas.append(tree_lst)"
   ]
  },
  {
   "cell_type": "code",
   "execution_count": 83,
   "id": "8efb9730",
   "metadata": {},
   "outputs": [],
   "source": [
    "cop1 = pv.Vinecop(structure, pair_copulas)"
   ]
  },
  {
   "cell_type": "code",
   "execution_count": 84,
   "id": "ec1e11b3",
   "metadata": {},
   "outputs": [],
   "source": [
    "U = cop1.simulate(n)"
   ]
  },
  {
   "cell_type": "code",
   "execution_count": 85,
   "id": "b4150475",
   "metadata": {},
   "outputs": [],
   "source": [
    "# imputable variables\n",
    "m1 = cop1.matrix[d-1,0]\n",
    "m2 = cop1.matrix[d-2,0]\n",
    "varm = int(choice([m1,m2]))"
   ]
  },
  {
   "cell_type": "code",
   "execution_count": 86,
   "id": "a8d0a199",
   "metadata": {},
   "outputs": [],
   "source": [
    "missing = np.random.binomial(1,p,n).astype(bool)"
   ]
  },
  {
   "cell_type": "code",
   "execution_count": 87,
   "id": "d56f61b7",
   "metadata": {},
   "outputs": [],
   "source": [
    "U_mask = np.copy(U)\n",
    "U_mask[missing, varm-1] = np.nan"
   ]
  },
  {
   "cell_type": "code",
   "execution_count": 95,
   "id": "4367267a",
   "metadata": {},
   "outputs": [],
   "source": [
    "cop2 = pv.Vinecop(d)\n",
    "controls = pv.FitControlsVinecop(family_set=[pv.BicopFamily.gaussian])\n",
    "cop2.select(U_mask, controls)"
   ]
  },
  {
   "cell_type": "code",
   "execution_count": 104,
   "id": "bd442537",
   "metadata": {},
   "outputs": [],
   "source": [
    "cop3 = make_diagonal_copula(cop2, varm)"
   ]
  },
  {
   "cell_type": "code",
   "execution_count": 115,
   "id": "14f38968",
   "metadata": {},
   "outputs": [],
   "source": [
    "assert cop3.matrix[d-1,0] == varm"
   ]
  },
  {
   "cell_type": "raw",
   "id": "77cd0cc3",
   "metadata": {},
   "source": [
    "inv1 = cop3.get_pair_copula(d-2,0).hinv2(\n",
    "    np.hstack([\n",
    "        np.random.uniform(size=n)[:, None],\n",
    "        # 3;2,5,4\n",
    "    ])\n",
    ")\n",
    "inv2 = cop3.get_pair_copula(d-3, 0).hinv2(\n",
    "    np.hstack([\n",
    "        inv1[:, None],\n",
    "        # 2;5,4\n",
    "    ])\n",
    ")\n",
    "inv3 = cop3.get_pair_copula(d-4,0).hinv2(\n",
    "    np.hstack([\n",
    "        inv2[:, None],\n",
    "        # 5;4\n",
    "    ])\n",
    ")\n",
    "inv4 = cop3.get_pair_copula(d-5,0).hinv2( # d-5 == 0\n",
    "    np.hstack([\n",
    "        inv3[:, None],\n",
    "        U_mask[:, int(cop3.matrix[0,0]-1)][:, None]\n",
    "    ])\n",
    ")"
   ]
  },
  {
   "cell_type": "code",
   "execution_count": 135,
   "id": "74ab07aa",
   "metadata": {},
   "outputs": [
    {
     "data": {
      "text/plain": [
       "array([[0.62785246, 0.67997501, 0.1155818 , 0.19804429, 0.17941567],\n",
       "       [0.70812204, 0.80497653, 0.70144601, 0.88029561, 0.43188006],\n",
       "       [       nan, 0.42064845, 0.37777043, 0.42560062, 0.89175307],\n",
       "       ...,\n",
       "       [0.74437821, 0.32503605, 0.8990098 , 0.89825667, 0.85742635],\n",
       "       [0.45573825, 0.11605396, 0.83568417, 0.63302122, 0.19959692],\n",
       "       [       nan, 0.70257734, 0.90723468, 0.94963991, 0.9515546 ]])"
      ]
     },
     "execution_count": 135,
     "metadata": {},
     "output_type": "execute_result"
    }
   ],
   "source": [
    "U_mask"
   ]
  },
  {
   "cell_type": "code",
   "execution_count": 153,
   "id": "10aebb77",
   "metadata": {},
   "outputs": [
    {
     "data": {
      "text/plain": [
       "array([[4, 4, 4, 4, 4],\n",
       "       [5, 2, 2, 2, 0],\n",
       "       [2, 5, 5, 0, 0],\n",
       "       [3, 3, 0, 0, 0],\n",
       "       [1, 0, 0, 0, 0]], dtype=uint64)"
      ]
     },
     "execution_count": 153,
     "metadata": {},
     "output_type": "execute_result"
    }
   ],
   "source": [
    "cop3.matrix"
   ]
  },
  {
   "cell_type": "code",
   "execution_count": 154,
   "id": "0c338d6c",
   "metadata": {},
   "outputs": [],
   "source": [
    "inv1 = cop3.get_pair_copula(d-2,0).hinv2(\n",
    "    np.hstack([\n",
    "        np.random.uniform(size=n)[:, None],\n",
    "        cop3.get_pair_copula(3, 0).hfunc2(\n",
    "            np.hstack([\n",
    "                cop3.get_pair_copula(2,1).hfunc2(\n",
    "                    np.hstack([\n",
    "                        cop3.get_pair_copula(0,1).hfunc2(\n",
    "                            np.hstack([\n",
    "                                U_mask[:, int(cop3.matrix[3,1] - 1)][:, None], \n",
    "                                U_mask[:, int(cop3.matrix[0,1] - 1)][:, None]\n",
    "                            ])\n",
    "                        )[:, None], # 3;4\n",
    "                        cop3.get_pair_copula(0,2).hfunc2(\n",
    "                            np.hstack([\n",
    "                                U_mask[:, int(cop3.matrix[2,2] - 1)][:, None], \n",
    "                                U_mask[:, int(cop3.matrix[0,2] - 1)][:, None]\n",
    "                            ])\n",
    "                        )[:, None]  # 5;4\n",
    "                    ])\n",
    "                )[:, None], # 3;5,4\n",
    "                cop3.get_pair_copula(1,2).hfunc1(\n",
    "                    np.hstack([\n",
    "                        cop3.get_pair_copula(0,3).hfunc2(\n",
    "                            np.hstack([\n",
    "                                U_mask[:, int(cop3.matrix[1,3] - 1)][:, None], \n",
    "                                U_mask[:, int(cop3.matrix[0,3] - 1)][:, None]\n",
    "                            ])\n",
    "                        )[:, None], #2,4\n",
    "                        cop3.get_pair_copula(0,2).hfunc2(\n",
    "                            np.hstack([\n",
    "                                U_mask[:, int(cop3.matrix[2,2] - 1)][:, None], \n",
    "                                U_mask[:, int(cop3.matrix[0,2] - 1)][:, None]\n",
    "                            ])\n",
    "                        )[:, None]  #5,4\n",
    "                    ])\n",
    "                )[:, None], # 2;5,4\n",
    "            ])\n",
    "        )[:, None] # 3;2,5,4\n",
    "    ])\n",
    ")\n",
    "inv2 = cop3.get_pair_copula(d-3, 0).hinv2(\n",
    "    np.hstack([\n",
    "        inv1[:, None],\n",
    "        cop3.get_pair_copula(1, 2).hfunc1( # note: sometimes use hfunc1\n",
    "            np.hstack([\n",
    "                cop3.get_pair_copula(0, 2).hfunc2(\n",
    "                    np.hstack([\n",
    "                        U_mask[:, int(cop3.matrix[2,2] - 1)][:, None], \n",
    "                        U_mask[:, int(cop3.matrix[0,2] - 1)][:, None]\n",
    "                    ]))[:, None], # 5;4\n",
    "                cop3.get_pair_copula(0, 3).hfunc2(\n",
    "                    np.hstack([\n",
    "                        U_mask[:, int(cop3.matrix[1,3] - 1)][:, None], \n",
    "                        U_mask[:, int(cop3.matrix[0,3] - 1)][:, None]\n",
    "                    ]))[:, None], # 2;4\n",
    "            ])\n",
    "        )[:, None] # 2;5,4\n",
    "    ])\n",
    ")\n",
    "inv3 = cop3.get_pair_copula(d-4,0).hinv2(\n",
    "    np.hstack([\n",
    "        inv2[:, None],\n",
    "        cop3.get_pair_copula(0, 2).hfunc2(\n",
    "            np.hstack([\n",
    "                U_mask[:, int(cop3.matrix[2,2] - 1)][:, None], \n",
    "                U_mask[:, int(cop3.matrix[0,2] - 1)][:, None]\n",
    "            ]))[:, None] # 5;4\n",
    "    ])\n",
    ")\n",
    "inv4 = cop3.get_pair_copula(d-5,0).hinv2( # note: d-5 == 0\n",
    "    np.hstack([\n",
    "        inv3[:, None],\n",
    "        U_mask[:, int(cop3.matrix[0,0]-1)][:, None] # 4\n",
    "    ])\n",
    ")"
   ]
  },
  {
   "cell_type": "raw",
   "id": "4d6459a0",
   "metadata": {},
   "source": [
    "# use generators, index F_1_23, etc"
   ]
  }
 ],
 "metadata": {
  "kernelspec": {
   "display_name": "Python 3 (ipykernel)",
   "language": "python",
   "name": "python3"
  },
  "language_info": {
   "codemirror_mode": {
    "name": "ipython",
    "version": 3
   },
   "file_extension": ".py",
   "mimetype": "text/x-python",
   "name": "python",
   "nbconvert_exporter": "python",
   "pygments_lexer": "ipython3",
   "version": "3.7.11"
  }
 },
 "nbformat": 4,
 "nbformat_minor": 5
}
