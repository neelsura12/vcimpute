{
 "cells": [
  {
   "cell_type": "code",
   "execution_count": 1,
   "id": "23e779c3",
   "metadata": {},
   "outputs": [],
   "source": [
    "# goal\n",
    "# step1. given (a) vine structure, (b) copula family and  (c) copula parameters\n",
    "# step2. generate data\n",
    "# step3. mask var5 with x% dropout\n",
    "# step4. infer the (a-c) on masked data using complete cases\n",
    "# step5.1 if the vine structure supports direct imputation of var5 -> admit to comparison\n",
    "# step5.2 if the vine structure does not support direct imputation of var5 -> skip\n",
    "# step6. run zhao/udell's code to impute masked data\n",
    "# step7. compute smae imputation error, bias of correlation from step 5.1,6\n",
    "\n",
    "# reference\n",
    "# the pair-copula index for edge e in tree t of a d dimensional vine is\n",
    "# (M[d - 1 - e, e], M[t, e]; M[t - 1, e], ..., M[0, e])"
   ]
  },
  {
   "cell_type": "code",
   "execution_count": 2,
   "id": "728fbf07",
   "metadata": {},
   "outputs": [],
   "source": [
    "import numpy as np\n",
    "from matplotlib import pyplot as plt\n",
    "\n",
    "import pyvinecopulib as pv\n",
    "from gcimpute.gaussian_copula import GaussianCopula\n",
    "from gcimpute.helper_evaluation import get_smae"
   ]
  },
  {
   "cell_type": "code",
   "execution_count": 3,
   "id": "00e314e0",
   "metadata": {},
   "outputs": [],
   "source": [
    "def get_ced_cing(T, cop=None):\n",
    "    d = T.shape[1]\n",
    "    cing = []\n",
    "    ced = []\n",
    "    param = []\n",
    "    for j in range(d):\n",
    "        for i1 in range(d-j-1):\n",
    "            ced.append(sorted((T[i1,j], T[d-j-1, j])))\n",
    "            tmp = []\n",
    "            for i2 in range(i1):\n",
    "                tmp.append(T[i2,j])\n",
    "            cing.append(sorted(tmp))\n",
    "            if cop is not None:\n",
    "                param.append(cop.get_parameters(i1, j)[0][0])\n",
    "    return ced, cing, param\n",
    "\n",
    "def find(a, cing_len, ced, cing):\n",
    "    out = [i for i in range(len(ced)) if a in ced[i]]\n",
    "    matched = False\n",
    "    for i in out:\n",
    "        if len(cing[i]) == cing_len:\n",
    "            matched = True\n",
    "            break\n",
    "    assert matched, f'bad argument, a={a}, cing_len={cing_len}'\n",
    "    return ced[i][1] if ced[i][0] == a else ced[i][0]\n",
    "\n",
    "def diagonalize(T1, a):\n",
    "    d = T1.shape[1]\n",
    "    if a == T1[d-1, 0]:\n",
    "        return T1\n",
    "    assert a == T1[d-2, 0], f'cannot be diagonalized with {a}'\n",
    "\n",
    "    T2 = np.zeros(shape=T1.shape, dtype=np.uint64)\n",
    "    T2[d-1, 0] = a\n",
    "    order = [a]\n",
    "\n",
    "    ced, cing, _ = get_ced_cing(T1)\n",
    "    for j in range(d-1):\n",
    "        for i in range(d-j-1):\n",
    "            T2[i,j] = find(T2[d-j-1, j], i, ced, cing)\n",
    "\n",
    "        remove_idx = [i for i, c in enumerate(ced) for k in order if k in c]\n",
    "        keep_idx = set(range(len(ced))).difference(set(remove_idx))\n",
    "\n",
    "        ced = [ced[i] for i in keep_idx]\n",
    "        cing = [cing[i] for i in keep_idx]\n",
    "\n",
    "        T2[d-j-2, j+1] = T2[d-j-2, j]\n",
    "        order.append(T2[d-j-2, j+1])\n",
    "    return T2\n",
    "\n",
    "def make_diagonal_copula(cop1, a):\n",
    "    T1 = cop1.matrix\n",
    "    d = T1.shape[0]\n",
    "    ced, cing, param = get_ced_cing(T1, cop1)\n",
    "\n",
    "    T2 = diagonalize(T1, a)\n",
    "\n",
    "    pair_copulas = []\n",
    "    for t in range(d-1):\n",
    "        cur = []\n",
    "        pair_copulas.append(cur)\n",
    "        for e in range(d-1-t):\n",
    "            cur.append(\n",
    "                pv.Bicop(\n",
    "                    family=pv.BicopFamily.gaussian,\n",
    "                    parameters=[param[ced.index(sorted((T2[d-1-e,e], T2[t,e])))]]\n",
    "                )\n",
    "            )\n",
    "    cop2 = pv.Vinecop(matrix=T2, pair_copulas=pair_copulas)\n",
    "    return cop2"
   ]
  },
  {
   "cell_type": "code",
   "execution_count": 4,
   "id": "903ea389",
   "metadata": {},
   "outputs": [],
   "source": [
    "d = 5\n",
    "corr = np.array([\n",
    "    [0.5, 0.25, 0.25, 0.9], \n",
    "    [0.1, 0.9, 0.9, np.nan], \n",
    "    [0.125, 0.66, np.nan, np.nan],\n",
    "    [0.55, np.nan, np.nan, np.nan]]\n",
    ")\n",
    "vine_matrix = np.array([\n",
    "    [3,2,3,3,3],\n",
    "    [2,3,2,2,0],\n",
    "    [4,4,4,0,0],\n",
    "    [1,1,0,0,0],\n",
    "    [5,0,0,0,0]\n",
    "])"
   ]
  },
  {
   "cell_type": "code",
   "execution_count": 5,
   "id": "6d8b75bb",
   "metadata": {},
   "outputs": [],
   "source": [
    "pair_copulas = []\n",
    "for t in range(d-1):\n",
    "    cur = []\n",
    "    pair_copulas.append(cur)\n",
    "    for e in range(d-1-t):\n",
    "        cur.append(\n",
    "            pv.Bicop(\n",
    "                family=pv.BicopFamily.gaussian,\n",
    "                parameters=[corr[t,e]]\n",
    "            )\n",
    "        )\n",
    "cop = pv.Vinecop(matrix=vine_matrix, pair_copulas=pair_copulas)\n",
    "u = cop.simulate(1000, seeds=[1,2,3,4,5])"
   ]
  },
  {
   "cell_type": "code",
   "execution_count": 12,
   "id": "16466c27",
   "metadata": {},
   "outputs": [
    {
     "data": {
      "text/plain": [
       "<pyvinecopulib.Vinecop>\n",
       "** Tree: 0\n",
       "5,3 <-> Gaussian, parameters = 0.5\n",
       "1,2 <-> Gaussian, parameters = 0.25\n",
       "4,3 <-> Gaussian, parameters = 0.25\n",
       "2,3 <-> Gaussian, parameters = 0.9\n",
       "** Tree: 1\n",
       "5,2 | 3 <-> Gaussian, parameters = 0.1\n",
       "1,3 | 2 <-> Gaussian, parameters = 0.9\n",
       "4,2 | 3 <-> Gaussian, parameters = 0.9\n",
       "** Tree: 2\n",
       "5,4 | 2,3 <-> Gaussian, parameters = 0.125\n",
       "1,4 | 3,2 <-> Gaussian, parameters = 0.66\n",
       "** Tree: 3\n",
       "5,1 | 4,2,3 <-> Gaussian, parameters = 0.55"
      ]
     },
     "execution_count": 12,
     "metadata": {},
     "output_type": "execute_result"
    }
   ],
   "source": [
    "cop"
   ]
  },
  {
   "cell_type": "code",
   "execution_count": 13,
   "id": "6fa8c876",
   "metadata": {},
   "outputs": [
    {
     "data": {
      "text/plain": [
       "<pyvinecopulib.Vinecop>\n",
       "** Tree: 0\n",
       "5,3 <-> Gaussian, parameters = 0.468025\n",
       "4,2 <-> Gaussian, parameters = 0.625168\n",
       "1,3 <-> Gaussian, parameters = 0.571803\n",
       "2,3 <-> Gaussian, parameters = 0.900277\n",
       "** Tree: 1\n",
       "5,1 | 3 <-> Gaussian, parameters = 0.228236\n",
       "4,3 | 2 <-> Gaussian, parameters = -0.844873\n",
       "1,2 | 3 <-> Gaussian, parameters = -0.855547\n",
       "** Tree: 2\n",
       "5,2 | 1,3 <-> Gaussian, parameters = 0.465134\n",
       "4,1 | 3,2 <-> Gaussian, parameters = 0.663084\n",
       "** Tree: 3\n",
       "5,4 | 2,1,3 <-> Gaussian, parameters = -0.296952"
      ]
     },
     "execution_count": 13,
     "metadata": {},
     "output_type": "execute_result"
    }
   ],
   "source": [
    "cop2"
   ]
  },
  {
   "cell_type": "code",
   "execution_count": 6,
   "id": "0bf89cbb",
   "metadata": {},
   "outputs": [],
   "source": [
    "missing = np.random.binomial(n=1, p=0.2, size=u.shape[0])\n",
    "present = (1 - missing)\n",
    "u_mask = np.copy(u)\n",
    "u_mask[:, 4] = np.where(missing > 0, np.nan, u_mask[:,4])"
   ]
  },
  {
   "cell_type": "code",
   "execution_count": 7,
   "id": "d8bf285a",
   "metadata": {},
   "outputs": [],
   "source": [
    "fit_controls = pv.FitControlsVinecop(family_set=[pv.BicopFamily.gaussian])\n",
    "cop1 = pv.Vinecop(u_mask, controls=fit_controls)\n",
    "cop2 = make_diagonal_copula(cop1, 5)"
   ]
  },
  {
   "cell_type": "code",
   "execution_count": 8,
   "id": "4c2dd7df",
   "metadata": {},
   "outputs": [
    {
     "data": {
      "text/plain": [
       "array([[3, 2, 3, 3, 3],\n",
       "       [1, 3, 2, 2, 0],\n",
       "       [2, 1, 1, 0, 0],\n",
       "       [4, 4, 0, 0, 0],\n",
       "       [5, 0, 0, 0, 0]], dtype=uint64)"
      ]
     },
     "execution_count": 8,
     "metadata": {},
     "output_type": "execute_result"
    }
   ],
   "source": [
    "cop2.matrix"
   ]
  },
  {
   "cell_type": "code",
   "execution_count": 9,
   "id": "93ee59b8",
   "metadata": {},
   "outputs": [],
   "source": [
    "u1 = u_mask[:, 0][:, None]\n",
    "u2 = u_mask[:, 1][:, None]\n",
    "u3 = u_mask[:, 2][:, None]\n",
    "u4 = u_mask[:, 3][:, None]\n",
    "u5_true = u[:, 4][:, None]"
   ]
  },
  {
   "cell_type": "markdown",
   "id": "2d6ca134",
   "metadata": {},
   "source": [
    "### Impute"
   ]
  },
  {
   "cell_type": "code",
   "execution_count": 10,
   "id": "b06cd4db",
   "metadata": {},
   "outputs": [
    {
     "name": "stdout",
     "output_type": "stream",
     "text": [
      "There is no entry to be evaluated in variable 0.\n",
      "There is no entry to be evaluated in variable 1.\n",
      "There is no entry to be evaluated in variable 2.\n",
      "There is no entry to be evaluated in variable 3.\n"
     ]
    },
    {
     "data": {
      "text/plain": [
       "array([       nan,        nan,        nan,        nan, 0.85507762])"
      ]
     },
     "execution_count": 10,
     "metadata": {},
     "output_type": "execute_result"
    }
   ],
   "source": [
    "# complete cases\n",
    "F_1_3 = cop2.get_pair_copula(0,2).hfunc2(np.hstack([u1, u3]))[:, None]\n",
    "F_2_3 = cop2.get_pair_copula(0,3).hfunc2(np.hstack([u2, u3]))[:, None]\n",
    "F_2_13 = cop2.get_pair_copula(1,2).hfunc1(np.hstack([F_1_3, F_2_3]))[:, None]\n",
    "F_1_32 = cop2.get_pair_copula(1,2).hfunc2(np.hstack([F_1_3, F_2_3]))[:, None]\n",
    "\n",
    "F_3_2 = cop2.get_pair_copula(0,3).hfunc1(np.hstack([u2, u3]))[:, None]\n",
    "F_4_2 = cop2.get_pair_copula(0,1).hfunc2(np.hstack([u4, u2]))[:, None]\n",
    "F_4_32 = cop2.get_pair_copula(1,1).hfunc2(np.hstack([F_4_2, F_3_2]))[:, None]\n",
    "\n",
    "F_4_123 = cop2.get_pair_copula(2,1).hfunc2(np.hstack([F_4_32, F_1_32]))[:, None]\n",
    "\n",
    "w = np.random.uniform(size=(1000,1))\n",
    "inv1 = cop2.get_pair_copula(3,0).hinv2(np.hstack([w, F_4_123]))[:, None]\n",
    "inv2 = cop2.get_pair_copula(2,0).hinv2(np.hstack([inv1, F_2_13]))[:, None]\n",
    "inv3 = cop2.get_pair_copula(1,0).hinv2(np.hstack([inv2, F_1_3]))[:, None]\n",
    "inv4 = cop2.get_pair_copula(0,0).hinv2(np.hstack([inv3, u3]))[:, None]\n",
    "\n",
    "u_imp = np.copy(u_mask)\n",
    "u_imp[missing==1,4] = np.ravel(inv4[missing==1])\n",
    "\n",
    "get_smae(u_imp, u, u_mask)"
   ]
  },
  {
   "cell_type": "code",
   "execution_count": 11,
   "id": "349ac1d1",
   "metadata": {},
   "outputs": [
    {
     "name": "stdout",
     "output_type": "stream",
     "text": [
      "Iter 1: copula parameter change 0.0390, likelihood -4.0209\n",
      "Iter 2: copula parameter change 0.0084, likelihood -4.0117\n",
      "Convergence achieved at iteration 2\n",
      "There is no entry to be evaluated in variable 0.\n",
      "There is no entry to be evaluated in variable 1.\n",
      "There is no entry to be evaluated in variable 2.\n",
      "There is no entry to be evaluated in variable 3.\n"
     ]
    },
    {
     "data": {
      "text/plain": [
       "array([      nan,       nan,       nan,       nan, 0.6828369])"
      ]
     },
     "execution_count": 11,
     "metadata": {},
     "output_type": "execute_result"
    }
   ],
   "source": [
    "# zhao/udell\n",
    "model = GaussianCopula(verbose=1)\n",
    "u_imp2 = model.fit_transform(X=u_mask)\n",
    "\n",
    "get_smae(u_imp2, u, u_mask)"
   ]
  },
  {
   "cell_type": "code",
   "execution_count": null,
   "id": "7d5bb422",
   "metadata": {},
   "outputs": [],
   "source": []
  }
 ],
 "metadata": {
  "kernelspec": {
   "display_name": "Python 3 (ipykernel)",
   "language": "python",
   "name": "python3"
  },
  "language_info": {
   "codemirror_mode": {
    "name": "ipython",
    "version": 3
   },
   "file_extension": ".py",
   "mimetype": "text/x-python",
   "name": "python",
   "nbconvert_exporter": "python",
   "pygments_lexer": "ipython3",
   "version": "3.7.11"
  }
 },
 "nbformat": 4,
 "nbformat_minor": 5
}
