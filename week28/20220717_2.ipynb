{
 "cells": [
  {
   "cell_type": "code",
   "execution_count": 5,
   "id": "b424ed86",
   "metadata": {},
   "outputs": [
    {
     "data": {
      "text/plain": [
       "array([ 1.  ,  2.75,  6.  , 10.75, 17.  ])"
      ]
     },
     "execution_count": 5,
     "metadata": {},
     "output_type": "execute_result"
    }
   ],
   "source": [
    "import numpy as np\n"
   ]
  },
  {
   "cell_type": "code",
   "execution_count": 84,
   "id": "c44096be",
   "metadata": {},
   "outputs": [],
   "source": [
    "def invert_permutation(x):\n",
    "    y = np.zeros(shape=x.shape[0], dtype=np.uint64)\n",
    "    for i, xi in enumerate(x):\n",
    "        y[xi] = i\n",
    "    return y\n",
    "        "
   ]
  },
  {
   "cell_type": "code",
   "execution_count": 53,
   "id": "681a9b64",
   "metadata": {},
   "outputs": [],
   "source": [
    "import pyvinecopulib as pv"
   ]
  },
  {
   "cell_type": "code",
   "execution_count": 85,
   "id": "e0e57d26",
   "metadata": {},
   "outputs": [],
   "source": [
    "n = 1000\n",
    "d = 5\n",
    "structure = pv.CVineStructure.simulate(d)\n",
    "pair_copulas = []\n",
    "for t in range(d-1):\n",
    "    tmp = []\n",
    "    pair_copulas.append(tmp)\n",
    "    for e in range(d-t-1):\n",
    "        tmp.append(pv.Bicop(family=pv.BicopFamily.gaussian, parameters=[[0.5]]))\n",
    "cop = pv.Vinecop(structure, pair_copulas)"
   ]
  },
  {
   "cell_type": "code",
   "execution_count": 86,
   "id": "b000b033",
   "metadata": {},
   "outputs": [],
   "source": [
    "U = cop.simulate(n)"
   ]
  },
  {
   "cell_type": "code",
   "execution_count": 87,
   "id": "82de9cb2",
   "metadata": {},
   "outputs": [
    {
     "data": {
      "text/plain": [
       "[4, 3, 5, 1, 2]"
      ]
     },
     "execution_count": 87,
     "metadata": {},
     "output_type": "execute_result"
    }
   ],
   "source": [
    "cop.order"
   ]
  },
  {
   "cell_type": "code",
   "execution_count": 90,
   "id": "c3f18fe3",
   "metadata": {},
   "outputs": [
    {
     "data": {
      "text/plain": [
       "array([4, 5, 2, 1, 3], dtype=uint64)"
      ]
     },
     "execution_count": 90,
     "metadata": {},
     "output_type": "execute_result"
    }
   ],
   "source": [
    "invert_permutation(np.array(cop.order) - 1) + 1"
   ]
  }
 ],
 "metadata": {
  "kernelspec": {
   "display_name": "Python 3 (ipykernel)",
   "language": "python",
   "name": "python3"
  },
  "language_info": {
   "codemirror_mode": {
    "name": "ipython",
    "version": 3
   },
   "file_extension": ".py",
   "mimetype": "text/x-python",
   "name": "python",
   "nbconvert_exporter": "python",
   "pygments_lexer": "ipython3",
   "version": "3.7.11"
  }
 },
 "nbformat": 4,
 "nbformat_minor": 5
}
