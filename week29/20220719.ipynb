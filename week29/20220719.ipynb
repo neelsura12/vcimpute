{
 "cells": [
  {
   "cell_type": "code",
   "execution_count": 1,
   "id": "2178d566",
   "metadata": {},
   "outputs": [],
   "source": [
    "import pyvinecopulib as pv"
   ]
  },
  {
   "cell_type": "code",
   "execution_count": 7,
   "id": "3859330f",
   "metadata": {},
   "outputs": [
    {
     "data": {
      "text/plain": [
       "<pyvinecopulib.RVineStructure>\n",
       "2 2 2 \n",
       "1 1 \n",
       "3 "
      ]
     },
     "execution_count": 7,
     "metadata": {},
     "output_type": "execute_result"
    }
   ],
   "source": [
    "pv.CVineStructure.simulate(d=3)"
   ]
  },
  {
   "cell_type": "code",
   "execution_count": 8,
   "id": "9126051a",
   "metadata": {},
   "outputs": [
    {
     "data": {
      "text/plain": [
       "<pyvinecopulib.RVineStructure>\n",
       "3 3 3 \n",
       "2 2 \n",
       "1 "
      ]
     },
     "execution_count": 8,
     "metadata": {},
     "output_type": "execute_result"
    }
   ],
   "source": [
    "pv.DVineStructure.simulate(d=3)"
   ]
  },
  {
   "cell_type": "code",
   "execution_count": 9,
   "id": "02dd8eb3",
   "metadata": {},
   "outputs": [
    {
     "data": {
      "text/plain": [
       "<pyvinecopulib.RVineStructure>\n",
       "2 2 2 \n",
       "1 1 \n",
       "3 "
      ]
     },
     "execution_count": 9,
     "metadata": {},
     "output_type": "execute_result"
    }
   ],
   "source": [
    "pv.RVineStructure.simulate(d=3)"
   ]
  }
 ],
 "metadata": {
  "kernelspec": {
   "display_name": "Python 3 (ipykernel)",
   "language": "python",
   "name": "python3"
  },
  "language_info": {
   "codemirror_mode": {
    "name": "ipython",
    "version": 3
   },
   "file_extension": ".py",
   "mimetype": "text/x-python",
   "name": "python",
   "nbconvert_exporter": "python",
   "pygments_lexer": "ipython3",
   "version": "3.7.11"
  }
 },
 "nbformat": 4,
 "nbformat_minor": 5
}
