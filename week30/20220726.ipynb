{
 "cells": [
  {
   "cell_type": "code",
   "execution_count": 5,
   "id": "7c689c4e",
   "metadata": {},
   "outputs": [],
   "source": [
    "import numpy as np\n",
    "import pyvinecopulib as pv\n",
    "\n",
    "def get_ced_cing(T, cop=None):\n",
    "    d = T.shape[1]\n",
    "    cing = []\n",
    "    ced = []\n",
    "    param = []\n",
    "    for j in range(d):\n",
    "        for i1 in range(d-j-1):\n",
    "            ced.append(sorted((T[i1,j], T[d-j-1, j])))\n",
    "            tmp = []\n",
    "            for i2 in range(i1):\n",
    "                tmp.append(T[i2,j])\n",
    "            cing.append(sorted(tmp))\n",
    "            if cop is not None:\n",
    "                param.append(cop.get_parameters(i1, j)[0][0])\n",
    "    return ced, cing, param\n",
    "\n",
    "def find(a, cing_len, ced, cing):\n",
    "    out = [i for i in range(len(ced)) if a in ced[i]]\n",
    "    matched = False\n",
    "    for i in out:\n",
    "        if len(cing[i]) == cing_len:\n",
    "            matched = True\n",
    "            break\n",
    "    assert matched, f'bad argument, a={a}, cing_len={cing_len}'\n",
    "    return ced[i][1] if ced[i][0] == a else ced[i][0]\n",
    "\n",
    "def diagonalize(T1, a):\n",
    "    d = T1.shape[1]\n",
    "    if a == T1[d-1, 0]:\n",
    "        return T1\n",
    "    assert a == T1[d-2, 0], f'cannot be diagonalized with {a}'\n",
    "\n",
    "    T2 = np.zeros(shape=T1.shape, dtype=np.uint64)\n",
    "    T2[d-1, 0] = a\n",
    "    order = [a]\n",
    "\n",
    "    ced, cing, _ = get_ced_cing(T1)\n",
    "    for j in range(d-1):\n",
    "        for i in range(d-j-1):\n",
    "            T2[i,j] = find(T2[d-j-1, j], i, ced, cing)\n",
    "\n",
    "        remove_idx = [i for i, c in enumerate(ced) for k in order if k in c]\n",
    "        keep_idx = set(range(len(ced))).difference(set(remove_idx))\n",
    "\n",
    "        ced = [ced[i] for i in keep_idx]\n",
    "        cing = [cing[i] for i in keep_idx]\n",
    "\n",
    "        T2[d-j-2, j+1] = T2[d-j-2, j]\n",
    "        order.append(T2[d-j-2, j+1])\n",
    "    return T2"
   ]
  },
  {
   "cell_type": "code",
   "execution_count": 32,
   "id": "59a40fbf",
   "metadata": {},
   "outputs": [],
   "source": [
    "T = np.array([[2, 2, 1, 1, 1],\n",
    "[1, 1, 2, 2, 0],\n",
    "[3, 3, 3, 0, 0], \n",
    "[4, 4, 0, 0, 0],\n",
    "[5, 0, 0, 0, 0]])\n",
    "struct = pv.RVineStructure(T)"
   ]
  },
  {
   "cell_type": "code",
   "execution_count": 33,
   "id": "fb1cef68",
   "metadata": {},
   "outputs": [
    {
     "data": {
      "text/plain": [
       "array([[2, 2, 1, 1, 1],\n",
       "       [1, 1, 2, 2, 0],\n",
       "       [3, 3, 3, 0, 0],\n",
       "       [4, 4, 0, 0, 0],\n",
       "       [5, 0, 0, 0, 0]])"
      ]
     },
     "execution_count": 33,
     "metadata": {},
     "output_type": "execute_result"
    }
   ],
   "source": [
    "T"
   ]
  },
  {
   "cell_type": "raw",
   "id": "462840c2",
   "metadata": {},
   "source": [
    "T = np.array([[2, 1, 1, 1],\n",
    "[1, 2, 2, 0],\n",
    "[3, 3, 0, 0], \n",
    "[4, 0, 0, 0]])\n",
    "struct = pv.RVineStructure(T)"
   ]
  },
  {
   "cell_type": "code",
   "execution_count": 34,
   "id": "f436bdcc",
   "metadata": {},
   "outputs": [
    {
     "name": "stdout",
     "output_type": "stream",
     "text": [
      "(0,0) 2\n",
      "(0,1) 2\n",
      "(0,2) 1\n",
      "(0,3) 1\n",
      "(0,4) 1\n",
      "(1,1) 1\n",
      "(1,2) 2\n",
      "(1,3) 2\n",
      "(2,2) 3\n"
     ]
    }
   ],
   "source": [
    "k = 1\n",
    "d = T.shape[1]\n",
    "for i in range(d):\n",
    "    for j in range(d):\n",
    "        if (i <= j) and (T[i,j] != 0):\n",
    "            print(f'({i},{j})', T[i][j])\n",
    "            k += 1"
   ]
  },
  {
   "cell_type": "code",
   "execution_count": 25,
   "id": "4eb9c101",
   "metadata": {},
   "outputs": [
    {
     "data": {
      "text/plain": [
       "10"
      ]
     },
     "execution_count": 25,
     "metadata": {},
     "output_type": "execute_result"
    }
   ],
   "source": [
    "k"
   ]
  },
  {
   "cell_type": "code",
   "execution_count": 28,
   "id": "ad3bec51",
   "metadata": {},
   "outputs": [
    {
     "data": {
      "text/plain": [
       "array([[2, 2, 1, 1, 1],\n",
       "       [1, 1, 2, 2, 0],\n",
       "       [3, 3, 3, 0, 0],\n",
       "       [4, 4, 0, 0, 0],\n",
       "       [5, 0, 0, 0, 0]])"
      ]
     },
     "execution_count": 28,
     "metadata": {},
     "output_type": "execute_result"
    }
   ],
   "source": [
    "T"
   ]
  },
  {
   "cell_type": "code",
   "execution_count": 27,
   "id": "4f33bdb4",
   "metadata": {},
   "outputs": [
    {
     "data": {
      "text/plain": [
       "15"
      ]
     },
     "execution_count": 27,
     "metadata": {},
     "output_type": "execute_result"
    }
   ],
   "source": [
    "np.count_nonzero(T!=0)"
   ]
  },
  {
   "cell_type": "code",
   "execution_count": 18,
   "id": "28c42808",
   "metadata": {},
   "outputs": [
    {
     "data": {
      "text/plain": [
       "array([[2, 2, 1, 1, 1],\n",
       "       [1, 1, 2, 2, 0],\n",
       "       [3, 3, 3, 0, 0],\n",
       "       [5, 5, 0, 0, 0],\n",
       "       [4, 0, 0, 0, 0]], dtype=uint64)"
      ]
     },
     "execution_count": 18,
     "metadata": {},
     "output_type": "execute_result"
    }
   ],
   "source": [
    "diagonalize(T, 4)"
   ]
  }
 ],
 "metadata": {
  "kernelspec": {
   "display_name": "Python 3 (ipykernel)",
   "language": "python",
   "name": "python3"
  },
  "language_info": {
   "codemirror_mode": {
    "name": "ipython",
    "version": 3
   },
   "file_extension": ".py",
   "mimetype": "text/x-python",
   "name": "python",
   "nbconvert_exporter": "python",
   "pygments_lexer": "ipython3",
   "version": "3.7.11"
  }
 },
 "nbformat": 4,
 "nbformat_minor": 5
}
