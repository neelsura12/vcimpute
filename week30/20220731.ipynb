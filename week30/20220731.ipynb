{
 "cells": [
  {
   "cell_type": "code",
   "execution_count": null,
   "id": "9fbf4f96",
   "metadata": {
    "pycharm": {
     "name": "#%%\n"
    }
   },
   "outputs": [],
   "source": [
    "# Jul-30 14:40-15:30\n",
    "# Jul-31 13:15-14:15\n",
    "# r vine simulation of "
   ]
  },
  {
   "cell_type": "code",
   "execution_count": 16,
   "id": "e2102be8",
   "metadata": {
    "pycharm": {
     "name": "#%%\n"
    }
   },
   "outputs": [],
   "source": [
    "import numpy as np\n",
    "import pyvinecopulib as pv"
   ]
  },
  {
   "cell_type": "code",
   "execution_count": 33,
   "id": "755a6f1d",
   "metadata": {
    "pycharm": {
     "name": "#%%\n"
    }
   },
   "outputs": [],
   "source": [
    "s = pv.RVineStructure.simulate(d=5)"
   ]
  },
  {
   "cell_type": "code",
   "execution_count": 65,
   "id": "7c222174",
   "metadata": {
    "pycharm": {
     "name": "#%%\n"
    }
   },
   "outputs": [
    {
     "name": "stdout",
     "output_type": "stream",
     "text": [
      "4\n",
      "3\n",
      "2\n",
      "1\n",
      "0\n"
     ]
    }
   ],
   "source": [
    "d = 5\n",
    "T = np.zeros(shape=(d, d))\n",
    "for i in range(d):\n",
    "    for j in range(d-i-1):\n",
    "        T[i,j] = s.struct_array(i,j)\n",
    "for k, t in zip(range(d), s.order):\n",
    "    print(d-k-1)\n",
    "    T[d-k-1,k] = t"
   ]
  },
  {
   "cell_type": "code",
   "execution_count": 81,
   "id": "5c08cd7d",
   "metadata": {
    "pycharm": {
     "name": "#%%\n"
    }
   },
   "outputs": [
    {
     "data": {
      "text/plain": [
       "<pyvinecopulib.RVineStructure>\n",
       "2 5 2 2 2 \n",
       "5 2 5 5 \n",
       "3 3 3 \n",
       "1 1 \n",
       "4 "
      ]
     },
     "execution_count": 81,
     "metadata": {},
     "output_type": "execute_result"
    }
   ],
   "source": [
    "s"
   ]
  },
  {
   "cell_type": "code",
   "execution_count": 77,
   "id": "4fcf908a",
   "metadata": {
    "pycharm": {
     "name": "#%%\n"
    }
   },
   "outputs": [],
   "source": [
    "pc_lst = []\n",
    "for i in range(d-1):\n",
    "    tmp = []\n",
    "    for j in range(d-i-1):\n",
    "        tmp.append(pv.Bicop(family=pv.BicopFamily.gaussian, parameters=[[0.75]]))\n",
    "    pc_lst.append(tmp)"
   ]
  },
  {
   "cell_type": "code",
   "execution_count": 80,
   "id": "27269949",
   "metadata": {
    "pycharm": {
     "name": "#%%\n"
    }
   },
   "outputs": [
    {
     "data": {
      "text/plain": [
       "<pyvinecopulib.Vinecop>\n",
       "** Tree: 0\n",
       "4,2 <-> Gaussian, parameters = 0.75\n",
       "1,5 <-> Gaussian, parameters = 0.75\n",
       "3,2 <-> Gaussian, parameters = 0.75\n",
       "5,2 <-> Gaussian, parameters = 0.75\n",
       "** Tree: 1\n",
       "4,5 | 2 <-> Gaussian, parameters = 0.75\n",
       "1,2 | 5 <-> Gaussian, parameters = 0.75\n",
       "3,5 | 2 <-> Gaussian, parameters = 0.75\n",
       "** Tree: 2\n",
       "4,3 | 5,2 <-> Gaussian, parameters = 0.75\n",
       "1,3 | 2,5 <-> Gaussian, parameters = 0.75\n",
       "** Tree: 3\n",
       "4,1 | 3,5,2 <-> Gaussian, parameters = 0.75"
      ]
     },
     "execution_count": 80,
     "metadata": {},
     "output_type": "execute_result"
    }
   ],
   "source": [
    "cop = pv.Vinecop(s, pc_lst)\n",
    "cop"
   ]
  },
  {
   "cell_type": "code",
   "execution_count": 82,
   "id": "bba8b2d2",
   "metadata": {
    "pycharm": {
     "name": "#%%\n"
    }
   },
   "outputs": [],
   "source": [
    "U = cop.simulate(n=1000)"
   ]
  },
  {
   "cell_type": "code",
   "execution_count": 94,
   "id": "55491794",
   "metadata": {
    "pycharm": {
     "name": "#%%\n"
    }
   },
   "outputs": [],
   "source": [
    "ind = {k1:k2+1 for k1, k2 in zip(s.order[::-1], range(d))}\n",
    "nat = {v:k for k,v in ind.items()}"
   ]
  },
  {
   "cell_type": "code",
   "execution_count": 100,
   "id": "b0017817",
   "metadata": {
    "pycharm": {
     "name": "#%%\n"
    }
   },
   "outputs": [],
   "source": [
    "T2 = np.zeros(shape=(d,d))\n",
    "for i in range(d):\n",
    "    for j in range(d-i):\n",
    "        T2[i,j] = ind[T[i,j]]"
   ]
  },
  {
   "cell_type": "code",
   "execution_count": 110,
   "id": "7410adab",
   "metadata": {
    "pycharm": {
     "name": "#%%\n"
    }
   },
   "outputs": [],
   "source": [
    "Tmax = np.zeros(shape=(d,d))\n",
    "for i in range(d):\n",
    "    for j in range(d-i):\n",
    "        Tmax[i,j] = np.amax(T2[:(i+1),j])"
   ]
  },
  {
   "cell_type": "code",
   "execution_count": 113,
   "id": "1773c1cb",
   "metadata": {
    "pycharm": {
     "name": "#%%\n"
    }
   },
   "outputs": [
    {
     "data": {
      "text/plain": [
       "array([[1., 2., 1., 1., 1.],\n",
       "       [2., 2., 2., 2., 0.],\n",
       "       [3., 3., 3., 0., 0.],\n",
       "       [4., 4., 0., 0., 0.],\n",
       "       [5., 0., 0., 0., 0.]])"
      ]
     },
     "execution_count": 113,
     "metadata": {},
     "output_type": "execute_result"
    }
   ],
   "source": [
    "Tmax"
   ]
  },
  {
   "cell_type": "code",
   "execution_count": 114,
   "id": "3e964873",
   "metadata": {
    "pycharm": {
     "name": "#%%\n"
    }
   },
   "outputs": [
    {
     "data": {
      "text/plain": [
       "array([[1., 2., 1., 1., 1.],\n",
       "       [2., 1., 2., 2., 0.],\n",
       "       [3., 3., 3., 0., 0.],\n",
       "       [4., 4., 0., 0., 0.],\n",
       "       [5., 0., 0., 0., 0.]])"
      ]
     },
     "execution_count": 114,
     "metadata": {},
     "output_type": "execute_result"
    }
   ],
   "source": [
    "T2"
   ]
  }
 ],
 "metadata": {
  "kernelspec": {
   "display_name": "Python 3 (ipykernel)",
   "language": "python",
   "name": "python3"
  },
  "language_info": {
   "codemirror_mode": {
    "name": "ipython",
    "version": 3
   },
   "file_extension": ".py",
   "mimetype": "text/x-python",
   "name": "python",
   "nbconvert_exporter": "python",
   "pygments_lexer": "ipython3",
   "version": "3.7.11"
  }
 },
 "nbformat": 4,
 "nbformat_minor": 5
}