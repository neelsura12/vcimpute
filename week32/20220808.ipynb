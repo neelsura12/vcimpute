{
 "cells": [
  {
   "cell_type": "code",
   "execution_count": 91,
   "id": "fb75c824",
   "metadata": {
    "pycharm": {
     "name": "#%%\n"
    }
   },
   "outputs": [],
   "source": [
    "import numpy as np\n",
    "import pandas as pd\n",
    "import pyvinecopulib as pv"
   ]
  },
  {
   "cell_type": "code",
   "execution_count": 92,
   "id": "cab0d701",
   "metadata": {
    "pycharm": {
     "name": "#%%\n"
    }
   },
   "outputs": [],
   "source": [
    "n = 1000\n",
    "d = 4\n",
    "p = 0.2\n",
    "\n",
    "structure = pv.RVineStructure.simulate(d)\n",
    "\n",
    "pair_copulas = []\n",
    "for j in range(d - 1):\n",
    "    tmp = []\n",
    "    pair_copulas.append(tmp)\n",
    "    for _ in range(d - j - 1):\n",
    "        rho = np.minimum(np.maximum(np.random.beta(1, 0.75), 0.01), 0.99)\n",
    "        tmp.append(pv.Bicop(family=pv.BicopFamily.gaussian, parameters=[[rho]]))\n",
    "\n",
    "cop = pv.Vinecop(structure, pair_copulas)\n",
    "\n",
    "U = cop.simulate(n=n, seeds=list(1 + np.arange(d)))"
   ]
  },
  {
   "cell_type": "code",
   "execution_count": 93,
   "id": "1a1b3f9e",
   "metadata": {
    "pycharm": {
     "name": "#%%\n"
    }
   },
   "outputs": [
    {
     "data": {
      "text/plain": [
       "<pyvinecopulib.Vinecop>\n",
       "** Tree: 0\n",
       "3,2 <-> Gaussian, parameters = 0.184723\n",
       "4,2 <-> Gaussian, parameters = 0.231041\n",
       "1,2 <-> Gaussian, parameters = 0.938975\n",
       "** Tree: 1\n",
       "3,1 | 2 <-> Gaussian, parameters = 0.371466\n",
       "4,1 | 2 <-> Gaussian, parameters = 0.694321\n",
       "** Tree: 2\n",
       "3,4 | 1,2 <-> Gaussian, parameters = 0.765872"
      ]
     },
     "execution_count": 93,
     "metadata": {},
     "output_type": "execute_result"
    }
   ],
   "source": [
    "cop"
   ]
  },
  {
   "cell_type": "code",
   "execution_count": 95,
   "id": "3779de24",
   "metadata": {
    "pycharm": {
     "name": "#%%\n"
    }
   },
   "outputs": [
    {
     "data": {
      "text/plain": [
       "array([[2, 2, 2, 2],\n",
       "       [1, 1, 1, 0],\n",
       "       [4, 4, 0, 0],\n",
       "       [3, 0, 0, 0]], dtype=uint64)"
      ]
     },
     "execution_count": 95,
     "metadata": {},
     "output_type": "execute_result"
    }
   ],
   "source": [
    "cop.matrix"
   ]
  },
  {
   "cell_type": "code",
   "execution_count": 96,
   "id": "19d3331f",
   "metadata": {
    "pycharm": {
     "name": "#%%\n"
    }
   },
   "outputs": [
    {
     "data": {
      "text/plain": [
       "<pyvinecopulib.Vinecop>\n",
       "** Tree: 0\n",
       "2,1 <-> Gaussian, parameters = 0.937197\n",
       "1,4 <-> Gaussian, parameters = 0.46644\n",
       "3,4 <-> Gaussian, parameters = 0.801543\n",
       "** Tree: 1\n",
       "2,4 | 1 <-> Gaussian, parameters = -0.638933\n",
       "1,3 | 4 <-> Gaussian, parameters = -0.0845487\n",
       "** Tree: 2\n",
       "2,3 | 4,1 <-> Gaussian, parameters = 0.31807"
      ]
     },
     "execution_count": 96,
     "metadata": {},
     "output_type": "execute_result"
    }
   ],
   "source": [
    "controls = pv.FitControlsVinecop(family_set=[pv.BicopFamily.gaussian])\n",
    "cop2 = pv.Vinecop(data=U, controls=controls)\n",
    "cop2"
   ]
  },
  {
   "cell_type": "code",
   "execution_count": 97,
   "id": "bef84f43",
   "metadata": {
    "pycharm": {
     "name": "#%%\n"
    }
   },
   "outputs": [
    {
     "data": {
      "text/plain": [
       "array([[1, 4, 4, 4],\n",
       "       [4, 3, 3, 0],\n",
       "       [3, 1, 0, 0],\n",
       "       [2, 0, 0, 0]], dtype=uint64)"
      ]
     },
     "execution_count": 97,
     "metadata": {},
     "output_type": "execute_result"
    }
   ],
   "source": [
    "cop2.matrix"
   ]
  },
  {
   "cell_type": "code",
   "execution_count": 100,
   "id": "9f315bf6",
   "metadata": {
    "pycharm": {
     "name": "#%%\n"
    }
   },
   "outputs": [],
   "source": [
    "cop3 = pv.Vinecop(data=U[:,1:], controls=controls)"
   ]
  },
  {
   "cell_type": "code",
   "execution_count": 101,
   "id": "0f51bfe7",
   "metadata": {
    "pycharm": {
     "name": "#%%\n"
    }
   },
   "outputs": [
    {
     "data": {
      "text/plain": [
       "<pyvinecopulib.Vinecop>\n",
       "** Tree: 0\n",
       "1,3 <-> Gaussian, parameters = 0.240044\n",
       "2,3 <-> Gaussian, parameters = 0.801543\n",
       "** Tree: 1\n",
       "1,2 | 3 <-> Gaussian, parameters = 0.00656395"
      ]
     },
     "execution_count": 101,
     "metadata": {},
     "output_type": "execute_result"
    }
   ],
   "source": [
    "cop3"
   ]
  },
  {
   "cell_type": "code",
   "execution_count": 104,
   "id": "7633fdae",
   "metadata": {
    "pycharm": {
     "name": "#%%\n"
    }
   },
   "outputs": [
    {
     "data": {
      "text/plain": [
       "array([[3, 3, 3],\n",
       "       [2, 2, 0],\n",
       "       [1, 0, 0]], dtype=uint64)"
      ]
     },
     "execution_count": 104,
     "metadata": {},
     "output_type": "execute_result"
    }
   ],
   "source": [
    "cop3.matrix"
   ]
  },
  {
   "cell_type": "code",
   "execution_count": 102,
   "id": "108a677f",
   "metadata": {
    "pycharm": {
     "name": "#%%\n"
    }
   },
   "outputs": [],
   "source": [
    "controls2 = pv.FitControlsBicop(family_set=[pv.BicopFamily.gaussian])\n"
   ]
  },
  {
   "cell_type": "code",
   "execution_count": 103,
   "id": "d3a1131b",
   "metadata": {
    "pycharm": {
     "name": "#%%\n"
    }
   },
   "outputs": [
    {
     "data": {
      "text/plain": [
       "<pyvinecopulib.Bicop>\n",
       "Gaussian, parameters = 0.240044"
      ]
     },
     "execution_count": 103,
     "metadata": {},
     "output_type": "execute_result"
    }
   ],
   "source": [
    "bcop = pv.Bicop(data=U[:,[1,3]], controls=controls2)\n",
    "bcop"
   ]
  },
  {
   "cell_type": "code",
   "execution_count": 105,
   "id": "ea4096b1",
   "metadata": {
    "pycharm": {
     "name": "#%%\n"
    }
   },
   "outputs": [],
   "source": [
    "# identify variable to impute\n",
    "# fit vine on remaining columns\n",
    "# identify valid expansions of the vine matrix\n",
    "# fit bicops from bottom up (using pseudo obs. from h-funcs)\n",
    "# impute\n",
    "\n",
    "# cop fit, fit using sub copulas (delete variables in various orders use prev algo to fit)"
   ]
  }
 ],
 "metadata": {
  "kernelspec": {
   "display_name": "Python 3 (ipykernel)",
   "language": "python",
   "name": "python3"
  },
  "language_info": {
   "codemirror_mode": {
    "name": "ipython",
    "version": 3
   },
   "file_extension": ".py",
   "mimetype": "text/x-python",
   "name": "python",
   "nbconvert_exporter": "python",
   "pygments_lexer": "ipython3",
   "version": "3.7.11"
  }
 },
 "nbformat": 4,
 "nbformat_minor": 5
}