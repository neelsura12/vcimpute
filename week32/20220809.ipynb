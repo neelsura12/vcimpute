{
 "cells": [
  {
   "cell_type": "code",
   "execution_count": 1,
   "id": "14120fe8",
   "metadata": {
    "pycharm": {
     "name": "#%%\n"
    }
   },
   "outputs": [],
   "source": [
    "from copy import deepcopy\n",
    "import numpy as np\n",
    "import pandas as pd\n",
    "import pyvinecopulib as pv"
   ]
  },
  {
   "cell_type": "code",
   "execution_count": 2,
   "id": "38ed1f25",
   "metadata": {
    "pycharm": {
     "name": "#%%\n"
    }
   },
   "outputs": [],
   "source": [
    "n = 1000\n",
    "d = 4\n",
    "p = 0.2\n",
    "\n",
    "structure = pv.RVineStructure.simulate(d)\n",
    "\n",
    "pair_copulas = []\n",
    "for j in range(d - 1):\n",
    "    tmp = []\n",
    "    pair_copulas.append(tmp)\n",
    "    for _ in range(d - j - 1):\n",
    "        rho = np.minimum(np.maximum(np.random.beta(1, 0.75), 0.01), 0.99)\n",
    "        tmp.append(pv.Bicop(family=pv.BicopFamily.gaussian, parameters=[[rho]]))\n",
    "\n",
    "cop = pv.Vinecop(structure, pair_copulas)\n",
    "\n",
    "U = cop.simulate(n=n, seeds=list(1 + np.arange(d)))"
   ]
  },
  {
   "cell_type": "markdown",
   "id": "482d4c41",
   "metadata": {
    "pycharm": {
     "name": "#%% md\n"
    }
   },
   "source": [
    "### Refit on subset"
   ]
  },
  {
   "cell_type": "code",
   "execution_count": 36,
   "id": "67924a0b",
   "metadata": {
    "pycharm": {
     "name": "#%%\n"
    }
   },
   "outputs": [],
   "source": [
    "d = U.shape[1]\n",
    "missing_vid = 2\n",
    "orig_new_vid_map = {}\n",
    "k = 0\n",
    "for i in range(d):\n",
    "    if (i + 1) == missing_vid:\n",
    "        continue\n",
    "    orig_new_vid_map[i + 1] = k + 1\n",
    "    k += 1\n",
    "retained_idx = [(i-1) for i in orig_new_vid_map.keys()]\n",
    "orig_new_vid_map[missing_vid] = d\n",
    "new_orig_vid_map = {v: k for k, v in orig_new_vid_map.items()}"
   ]
  },
  {
   "cell_type": "code",
   "execution_count": 37,
   "id": "e74d0921",
   "metadata": {
    "pycharm": {
     "name": "#%%\n"
    }
   },
   "outputs": [],
   "source": [
    "vcop_controls = pv.FitControlsVinecop(family_set=[pv.BicopFamily.gaussian])\n",
    "cop2 = pv.Vinecop(data=U[:, retained_idx], controls=vcop_controls)"
   ]
  },
  {
   "cell_type": "markdown",
   "id": "2f3020fd",
   "metadata": {
    "pycharm": {
     "name": "#%% md\n"
    }
   },
   "source": [
    "### Expand"
   ]
  },
  {
   "cell_type": "code",
   "execution_count": 89,
   "id": "47c7448d",
   "metadata": {
    "pycharm": {
     "name": "#%%\n"
    }
   },
   "outputs": [],
   "source": [
    "def make_triangular_array(d):\n",
    "    pair_copulas = np.empty(shape=(d-1,), dtype='object')\n",
    "    for j in range(d - 1)[::-1]:\n",
    "        pair_copulas[j] = list(np.empty(shape=(d-j-1,), dtype='object'))\n",
    "    return list(pair_copulas)\n",
    "\n",
    "def vfunc(fun, X1, X2, transpose=True):\n",
    "    if transpose:\n",
    "        return fun(np.vstack([np.array(X1), np.array(X2)]).T)\n",
    "    else:\n",
    "        return fun(np.vstack([np.array(X1), np.array(X2)]))"
   ]
  },
  {
   "cell_type": "code",
   "execution_count": 90,
   "id": "c059c9a1",
   "metadata": {
    "pycharm": {
     "name": "#%%\n"
    }
   },
   "outputs": [],
   "source": [
    "d_old = cop2.matrix.shape[1]\n",
    "add_vid = d_old + 1\n",
    "d = d_old + 1"
   ]
  },
  {
   "cell_type": "code",
   "execution_count": 91,
   "id": "aa007dc3",
   "metadata": {
    "pycharm": {
     "name": "#%%\n"
    }
   },
   "outputs": [],
   "source": [
    "pair_copulas = make_triangular_array(d)\n",
    "for j in range(d_old)[::-1]:\n",
    "    for i in range(d_old-j-1):\n",
    "        pair_copulas[i][j+1] = cop2.get_pair_copula(i,j)"
   ]
  },
  {
   "cell_type": "code",
   "execution_count": 92,
   "id": "60abddd1",
   "metadata": {
    "pycharm": {
     "name": "#%%\n"
    }
   },
   "outputs": [],
   "source": [
    "bcop_controls = pv.FitControlsBicop(family_set=[pv.BicopFamily.gaussian])\n",
    "\n",
    "new_mat = np.zeros(shape=(d, d))\n",
    "new_mat[:-1, 1:] = cop2.matrix\n",
    "\n",
    "new_mat[d-1,0] = add_vid\n",
    "\n",
    "new_mat[0,0] = new_mat[0,d-1]\n",
    "idx1 = int(missing_vid - 1)\n",
    "idx2 = int(new_mat[0,0] - 1)\n",
    "pair_copulas[0][0] = pv.Bicop(data=U[:,[idx1, idx2]], controls=bcop_controls)\n",
    "\n",
    "arg1 = vfunc(pair_copulas[0][0].hfunc1, U[:, idx1], U[:, idx2])\n",
    "arg2 = vfunc(cop2.get_pair_copula(0,1).hfunc1, U[:, int(new_orig_vid_map[2]-1)], U[:, int(new_orig_vid_map[3]-1)])\n",
    "\n",
    "new_mat[1,0] = 2\n",
    "idx1 = int(missing_vid - 1)\n",
    "idx2 = int(new_mat[1,0] - 1)\n",
    "pair_copulas[1][0] = pv.Bicop(data=np.vstack([arg1, arg2]).T, controls=bcop_controls)\n",
    "\n",
    "arg1 = vfunc(pair_copulas[1][0].hfunc1, U[:, idx1], U[:, idx2])\n",
    "arg2 = vfunc(cop2.get_pair_copula(0,1).hfunc1, U[:, int(new_orig_vid_map[2]-1)], U[:, int(new_orig_vid_map[3]-1)])\n",
    "\n",
    "new_mat[2,0] = 1\n",
    "idx1 = int(missing_vid - 1)\n",
    "idx2 = int(new_mat[2,0] - 1)\n",
    "pair_copulas[2][0] = pv.Bicop(data=np.vstack([arg1, arg2]).T, controls=bcop_controls)"
   ]
  },
  {
   "cell_type": "code",
   "execution_count": 93,
   "id": "e0507a7d",
   "metadata": {
    "pycharm": {
     "name": "#%%\n"
    }
   },
   "outputs": [
    {
     "data": {
      "text/plain": [
       "[[<pyvinecopulib.Bicop>\n",
       "  Gaussian, parameters = 0.341473,\n",
       "  <pyvinecopulib.Bicop>\n",
       "  Gaussian, parameters = 0.642539,\n",
       "  <pyvinecopulib.Bicop>\n",
       "  Gaussian, parameters = 0.472739],\n",
       " [<pyvinecopulib.Bicop>\n",
       "  Gaussian, parameters = -0.291509,\n",
       "  <pyvinecopulib.Bicop>\n",
       "  Gaussian, parameters = -0.184769],\n",
       " [<pyvinecopulib.Bicop>\n",
       "  Gaussian, parameters = 0.592602]]"
      ]
     },
     "execution_count": 93,
     "metadata": {},
     "output_type": "execute_result"
    }
   ],
   "source": [
    "pair_copulas"
   ]
  },
  {
   "cell_type": "code",
   "execution_count": 95,
   "id": "5e0bc2e1",
   "metadata": {
    "pycharm": {
     "name": "#%%\n"
    }
   },
   "outputs": [
    {
     "data": {
      "text/plain": [
       "<pyvinecopulib.Vinecop>\n",
       "** Tree: 0\n",
       "4,3 <-> Gaussian, parameters = 0.341473\n",
       "1,3 <-> Gaussian, parameters = 0.642539\n",
       "2,3 <-> Gaussian, parameters = 0.472739\n",
       "** Tree: 1\n",
       "4,2 | 3 <-> Gaussian, parameters = -0.291509\n",
       "1,2 | 3 <-> Gaussian, parameters = -0.184769\n",
       "** Tree: 2\n",
       "4,1 | 2,3 <-> Gaussian, parameters = 0.592602"
      ]
     },
     "execution_count": 95,
     "metadata": {},
     "output_type": "execute_result"
    }
   ],
   "source": [
    "pv.Vinecop(new_mat, pair_copulas)"
   ]
  }
 ],
 "metadata": {
  "kernelspec": {
   "display_name": "Python 3 (ipykernel)",
   "language": "python",
   "name": "python3"
  },
  "language_info": {
   "codemirror_mode": {
    "name": "ipython",
    "version": 3
   },
   "file_extension": ".py",
   "mimetype": "text/x-python",
   "name": "python",
   "nbconvert_exporter": "python",
   "pygments_lexer": "ipython3",
   "version": "3.7.11"
  }
 },
 "nbformat": 4,
 "nbformat_minor": 5
}