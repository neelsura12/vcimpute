{
 "cells": [
  {
   "cell_type": "code",
   "execution_count": 1,
   "id": "14120fe8",
   "metadata": {
    "pycharm": {
     "name": "#%%\n"
    }
   },
   "outputs": [],
   "source": [
    "from copy import deepcopy\n",
    "import numpy as np\n",
    "import pandas as pd\n",
    "import pyvinecopulib as pv"
   ]
  },
  {
   "cell_type": "code",
   "execution_count": 2,
   "id": "38ed1f25",
   "metadata": {
    "pycharm": {
     "name": "#%%\n"
    }
   },
   "outputs": [],
   "source": [
    "n = 1000\n",
    "d = 4\n",
    "p = 0.2\n",
    "\n",
    "structure = pv.RVineStructure.simulate(d)\n",
    "\n",
    "pair_copulas = []\n",
    "for j in range(d - 1):\n",
    "    tmp = []\n",
    "    pair_copulas.append(tmp)\n",
    "    for _ in range(d - j - 1):\n",
    "        rho = np.minimum(np.maximum(np.random.beta(1, 0.75), 0.01), 0.99)\n",
    "        tmp.append(pv.Bicop(family=pv.BicopFamily.gaussian, parameters=[[rho]]))\n",
    "\n",
    "cop1 = pv.Vinecop(structure, pair_copulas)\n",
    "\n",
    "U = cop1.simulate(n=n, seeds=list(1 + np.arange(d)))"
   ]
  },
  {
   "cell_type": "markdown",
   "id": "482d4c41",
   "metadata": {
    "pycharm": {
     "name": "#%% md\n"
    }
   },
   "source": [
    "### Refit on subset"
   ]
  },
  {
   "cell_type": "code",
   "execution_count": 3,
   "id": "db7d2351",
   "metadata": {
    "pycharm": {
     "name": "#%%\n"
    }
   },
   "outputs": [],
   "source": [
    "old_to_new_map = {1:5, 2:1, 3:2, 4:3}\n",
    "new_to_old_map = {1:2, 2:3, 3:4, 5:1}"
   ]
  },
  {
   "cell_type": "code",
   "execution_count": 4,
   "id": "b448e606",
   "metadata": {
    "pycharm": {
     "name": "#%%\n"
    }
   },
   "outputs": [],
   "source": [
    "vcop_controls = pv.FitControlsVinecop(family_set=[pv.BicopFamily.gaussian])\n",
    "cop2 = pv.Vinecop(data=U[:, [1,2,3]], controls=vcop_controls)"
   ]
  },
  {
   "cell_type": "markdown",
   "id": "2f3020fd",
   "metadata": {
    "pycharm": {
     "name": "#%% md\n"
    }
   },
   "source": [
    "### Expand"
   ]
  },
  {
   "cell_type": "code",
   "execution_count": 5,
   "id": "47c7448d",
   "metadata": {
    "pycharm": {
     "name": "#%%\n"
    }
   },
   "outputs": [],
   "source": [
    "def make_triangular_array(d):\n",
    "    pair_copulas = np.empty(shape=(d-1,), dtype='object')\n",
    "    for j in range(d-1)[::-1]:\n",
    "        pair_copulas[j] = list(np.empty(shape=(d-j-1,), dtype='object'))\n",
    "    return list(pair_copulas)\n",
    "\n",
    "def vfunc(fun, X1, X2, transpose=True):\n",
    "    if transpose:\n",
    "        return fun(np.vstack([np.array(X1), np.array(X2)]).T)\n",
    "    else:\n",
    "        return fun(np.vstack([np.array(X1), np.array(X2)]))\n",
    "\n",
    "def get(X, i):\n",
    "    return X[:, int(i - 1)]\n",
    "\n",
    "def find(D, a_str):\n",
    "    coord = np.argwhere(D == a_str)\n",
    "    if coord.shape[0] == 1:\n",
    "        return tuple(coord[0])"
   ]
  },
  {
   "cell_type": "code",
   "execution_count": 6,
   "id": "c14f0d9e",
   "metadata": {
    "pycharm": {
     "name": "#%%\n"
    }
   },
   "outputs": [
    {
     "data": {
      "text/plain": [
       "array([[0.72481912, 0.81788683, 0.77682736, 0.81505743],\n",
       "       [0.40364934, 0.52143921, 0.70747569, 0.47006761],\n",
       "       [0.09522271, 0.14418096, 0.44830783, 0.11118275],\n",
       "       ...,\n",
       "       [0.51427173, 0.85088993, 0.96916437, 0.8344141 ],\n",
       "       [0.03634659, 0.24154206, 0.51667423, 0.4830855 ],\n",
       "       [0.0274236 , 0.03726155, 0.03348491, 0.07952374]])"
      ]
     },
     "execution_count": 6,
     "metadata": {},
     "output_type": "execute_result"
    }
   ],
   "source": [
    "# args\n",
    "cop = cop2\n",
    "u_new = U[:,0]\n",
    "d = len(cop2.order) + 1\n",
    "U"
   ]
  },
  {
   "cell_type": "code",
   "execution_count": 41,
   "id": "dd6bb010",
   "metadata": {
    "pycharm": {
     "name": "#%%\n"
    }
   },
   "outputs": [
    {
     "data": {
      "text/plain": [
       "4"
      ]
     },
     "execution_count": 41,
     "metadata": {},
     "output_type": "execute_result"
    }
   ],
   "source": [
    "var1"
   ]
  },
  {
   "cell_type": "code",
   "execution_count": 40,
   "id": "4ad41273",
   "metadata": {
    "pycharm": {
     "name": "#%%\n"
    }
   },
   "outputs": [
    {
     "data": {
      "text/plain": [
       "array([[0.72481912, 0.81788683, 0.77682736, 0.81505743],\n",
       "       [0.40364934, 0.52143921, 0.70747569, 0.47006761],\n",
       "       [0.09522271, 0.14418096, 0.44830783, 0.11118275],\n",
       "       ...,\n",
       "       [0.51427173, 0.85088993, 0.96916437, 0.8344141 ],\n",
       "       [0.03634659, 0.24154206, 0.51667423, 0.4830855 ],\n",
       "       [0.0274236 , 0.03726155, 0.03348491, 0.07952374]])"
      ]
     },
     "execution_count": 40,
     "metadata": {},
     "output_type": "execute_result"
    }
   ],
   "source": [
    "U"
   ]
  },
  {
   "cell_type": "code",
   "execution_count": 14,
   "id": "405747f9",
   "metadata": {
    "pycharm": {
     "name": "#%%\n"
    }
   },
   "outputs": [],
   "source": [
    "T = cop.matrix\n",
    "HF1 = np.empty(shape=(d, d), dtype=object)\n",
    "HF2 = np.empty(shape=(d, d), dtype=object)\n",
    "CS = np.empty(shape=(d, d), dtype=object)\n",
    "CC1 = np.empty(shape=(d, d), dtype=object)\n",
    "CC2 = np.empty(shape=(d, d), dtype=object)\n",
    "pair_copulas = make_triangular_array(4)\n",
    "\n",
    "for j in range(d - 2)[::-1]:\n",
    "    for i in range(d - j - 2):\n",
    "        pair_copulas[i][j+1] = cop.get_pair_copula(i, j)\n",
    "        var1 = cop.order[j]\n",
    "        var2 = T[i, j]\n",
    "        CS[i][j+1] = ','.join(list(map(str, sorted(T[:i,j]))))\n",
    "        if CS[i, j+1] == '':\n",
    "            arg1 = get(U, new_to_old_map[var1])\n",
    "            arg2 = get(U, new_to_old_map[var2])\n",
    "            HF1[i, j+1] = vfunc(cop.get_pair_copula(i, j).hfunc2, arg1, arg2)\n",
    "            HF2[i, j+1] = vfunc(cop.get_pair_copula(i, j).hfunc1, arg1, arg2)\n",
    "            CC1[i, j+1] = f'{var1}|{var2}'\n",
    "            CC2[i, j+1] = f'{var2}|{var1}'\n",
    "        else:\n",
    "            arg1, arg2 = None, None\n",
    "            key1 = f'{var1}|{CS[i, j+1]}'\n",
    "            key2 = f'{var2}|{CS[i, j+1]}'\n",
    "            for CC, HF in zip([CC1, CC2], [HF1, HF2]):\n",
    "                coord = find(CC, key1)\n",
    "                if (arg1 is None) and (coord is not None):\n",
    "                    arg1 = HF[coord]\n",
    "                coord = find(CC, key2)\n",
    "                if (arg2 is None) and (coord is not None):\n",
    "                    arg2 = HF[coord]\n",
    "            if (arg1 is not None) and (arg2 is not None):\n",
    "                HF1[i, j+1] = vfunc(cop.get_pair_copula(i, j).hfunc2, arg1, arg2)\n",
    "                HF2[i, j+1] = vfunc(cop.get_pair_copula(i, j).hfunc1, arg1, arg2)\n",
    "                CC1[i, j+1] = f'{var1}|' + ','.join(sorted(CS[i, j+1].split(',') + [str(var2)]))\n",
    "                CC2[i, j+1] = f'{var2}|' + ','.join(sorted(CS[i, j+1].split(',') + [str(var1)]))"
   ]
  },
  {
   "cell_type": "code",
   "execution_count": 39,
   "id": "20fbaa7a",
   "metadata": {
    "pycharm": {
     "name": "#%%\n"
    }
   },
   "outputs": [
    {
     "ename": "KeyError",
     "evalue": "4",
     "output_type": "error",
     "traceback": [
      "\u001B[0;31m---------------------------------------------------------------------------\u001B[0m",
      "\u001B[0;31mKeyError\u001B[0m                                  Traceback (most recent call last)",
      "\u001B[0;32m/var/folders/6j/tj0_jn4123ld3w6lbbkzf7g80000gp/T/ipykernel_88528/2711670635.py\u001B[0m in \u001B[0;36m<module>\u001B[0;34m\u001B[0m\n\u001B[1;32m     12\u001B[0m     \u001B[0mCS\u001B[0m\u001B[0;34m[\u001B[0m\u001B[0mi\u001B[0m\u001B[0;34m,\u001B[0m\u001B[0mj\u001B[0m\u001B[0;34m]\u001B[0m \u001B[0;34m=\u001B[0m \u001B[0;34m','\u001B[0m\u001B[0;34m.\u001B[0m\u001B[0mjoin\u001B[0m\u001B[0;34m(\u001B[0m\u001B[0mlist\u001B[0m\u001B[0;34m(\u001B[0m\u001B[0mmap\u001B[0m\u001B[0;34m(\u001B[0m\u001B[0mstr\u001B[0m\u001B[0;34m,\u001B[0m \u001B[0msorted\u001B[0m\u001B[0;34m(\u001B[0m\u001B[0mT_new\u001B[0m\u001B[0;34m[\u001B[0m\u001B[0;34m:\u001B[0m\u001B[0mi\u001B[0m\u001B[0;34m,\u001B[0m\u001B[0mj\u001B[0m\u001B[0;34m]\u001B[0m\u001B[0;34m)\u001B[0m\u001B[0;34m)\u001B[0m\u001B[0;34m)\u001B[0m\u001B[0;34m)\u001B[0m\u001B[0;34m\u001B[0m\u001B[0;34m\u001B[0m\u001B[0m\n\u001B[1;32m     13\u001B[0m     \u001B[0;32mif\u001B[0m \u001B[0mCS\u001B[0m\u001B[0;34m[\u001B[0m\u001B[0mi\u001B[0m\u001B[0;34m,\u001B[0m \u001B[0mj\u001B[0m\u001B[0;34m]\u001B[0m \u001B[0;34m==\u001B[0m \u001B[0;34m''\u001B[0m\u001B[0;34m:\u001B[0m\u001B[0;34m\u001B[0m\u001B[0;34m\u001B[0m\u001B[0m\n\u001B[0;32m---> 14\u001B[0;31m         \u001B[0marg1\u001B[0m \u001B[0;34m=\u001B[0m \u001B[0mget\u001B[0m\u001B[0;34m(\u001B[0m\u001B[0mU\u001B[0m\u001B[0;34m,\u001B[0m \u001B[0mnew_to_old_map\u001B[0m\u001B[0;34m[\u001B[0m\u001B[0mvar1\u001B[0m\u001B[0;34m]\u001B[0m\u001B[0;34m)\u001B[0m\u001B[0;34m\u001B[0m\u001B[0;34m\u001B[0m\u001B[0m\n\u001B[0m\u001B[1;32m     15\u001B[0m         \u001B[0marg2\u001B[0m \u001B[0;34m=\u001B[0m \u001B[0mget\u001B[0m\u001B[0;34m(\u001B[0m\u001B[0mU\u001B[0m\u001B[0;34m,\u001B[0m \u001B[0mnew_to_old_map\u001B[0m\u001B[0;34m[\u001B[0m\u001B[0mvar2\u001B[0m\u001B[0;34m]\u001B[0m\u001B[0;34m)\u001B[0m\u001B[0;34m\u001B[0m\u001B[0;34m\u001B[0m\u001B[0m\n\u001B[1;32m     16\u001B[0m         \u001B[0mbcop\u001B[0m \u001B[0;34m=\u001B[0m \u001B[0mpv\u001B[0m\u001B[0;34m.\u001B[0m\u001B[0mBicop\u001B[0m\u001B[0;34m(\u001B[0m\u001B[0mdata\u001B[0m\u001B[0;34m=\u001B[0m\u001B[0mnp\u001B[0m\u001B[0;34m.\u001B[0m\u001B[0mvstack\u001B[0m\u001B[0;34m(\u001B[0m\u001B[0;34m[\u001B[0m\u001B[0marg1\u001B[0m\u001B[0;34m,\u001B[0m \u001B[0marg2\u001B[0m\u001B[0;34m]\u001B[0m\u001B[0;34m)\u001B[0m\u001B[0;34m.\u001B[0m\u001B[0mT\u001B[0m\u001B[0;34m,\u001B[0m \u001B[0mcontrols\u001B[0m\u001B[0;34m=\u001B[0m\u001B[0mbcop_controls\u001B[0m\u001B[0;34m)\u001B[0m\u001B[0;34m\u001B[0m\u001B[0;34m\u001B[0m\u001B[0m\n",
      "\u001B[0;31mKeyError\u001B[0m: 4"
     ]
    }
   ],
   "source": [
    "bcop_controls = pv.FitControlsBicop(family_set=[pv.BicopFamily.gaussian])\n",
    "\n",
    "T_new = np.zeros(shape=(d, d), dtype=np.uint64)\n",
    "T_new[d-1,0] = d\n",
    "T_new[:-1, 1:] = cop.matrix\n",
    "\n",
    "j = 0\n",
    "for i in range(d-1):\n",
    "    var1 = d\n",
    "    var2 = cop.order[d-i-2]\n",
    "    T_new[i,j] = var2\n",
    "    CS[i,j] = ','.join(list(map(str, sorted(T_new[:i,j]))))\n",
    "    if CS[i, j] == '':\n",
    "        arg1 = get(U, new_to_old_map[var1])\n",
    "        arg2 = get(U, new_to_old_map[var2])\n",
    "        bcop = pv.Bicop(data=np.vstack([arg1, arg2]).T, controls=bcop_controls)\n",
    "        pair_copulas[i][j] = bcop\n",
    "        HF1[i, j] = vfunc(bcop.hfunc2, arg1, arg2)\n",
    "        HF2[i, j] = vfunc(bcop.hfunc1, arg1, arg2)\n",
    "        CC1[i, j] = f'{var1}|{var2}'\n",
    "        CC2[i, j] = f'{var2}|{var1}'\n",
    "    else:\n",
    "        pass\n",
    "#     arg1 = \n",
    "#     arg2 = \n",
    "#     pair_copulas[i][j] = "
   ]
  },
  {
   "cell_type": "code",
   "execution_count": 34,
   "id": "8617044f",
   "metadata": {
    "pycharm": {
     "name": "#%%\n"
    }
   },
   "outputs": [
    {
     "data": {
      "text/plain": [
       "<pyvinecopulib.Vinecop>\n",
       "** Tree: 0\n",
       "2,1 <-> Gaussian, parameters = 0.909322\n",
       "1,3 <-> Gaussian, parameters = 0.85593\n",
       "** Tree: 1\n",
       "2,3 | 1 <-> Gaussian, parameters = 0.0238479"
      ]
     },
     "execution_count": 34,
     "metadata": {},
     "output_type": "execute_result"
    }
   ],
   "source": [
    "cop"
   ]
  },
  {
   "cell_type": "raw",
   "id": "0eae2f13",
   "metadata": {
    "pycharm": {
     "name": "#%% raw\n"
    }
   },
   "source": [
    "pair_copulas = make_triangular_array(d)\n",
    "for j in range(d_old)[::-1]:\n",
    "    for i in range(d_old-j-1):\n",
    "        pair_copulas[i][j+1] = cop2.get_pair_copula(i,j)"
   ]
  },
  {
   "cell_type": "raw",
   "id": "fae4b044",
   "metadata": {
    "pycharm": {
     "name": "#%% raw\n"
    }
   },
   "source": [
    "\n",
    "\n",
    "new_mat[0,0] = new_mat[0,d-1]\n",
    "idx1 = int(missing_vid - 1)\n",
    "idx2 = int(new_mat[0,0] - 1)\n",
    "pair_copulas[0][0] = \n",
    "\n",
    "arg1 = vfunc(pair_copulas[0][0].hfunc1, U[:, idx1], U[:, idx2])\n",
    "arg2 = vfunc(cop2.get_pair_copula(0,1).hfunc1, U[:, int(new_orig_vid_map[2]-1)], U[:, int(new_orig_vid_map[3]-1)])\n",
    "\n",
    "new_mat[1,0] = 2\n",
    "idx1 = int(missing_vid - 1)\n",
    "idx2 = int(new_mat[1,0] - 1)\n",
    "pair_copulas[1][0] = pv.Bicop(data=np.vstack([arg1, arg2]).T, controls=bcop_controls)\n",
    "\n",
    "arg1 = vfunc(pair_copulas[1][0].hfunc1, U[:, idx1], U[:, idx2])\n",
    "arg2 = vfunc(cop2.get_pair_copula(0,1).hfunc1, U[:, int(new_orig_vid_map[2]-1)], U[:, int(new_orig_vid_map[3]-1)])\n",
    "\n",
    "new_mat[2,0] = 1\n",
    "idx1 = int(missing_vid - 1)\n",
    "idx2 = int(new_mat[2,0] - 1)\n",
    "pair_copulas[2][0] = pv.Bicop(data=np.vstack([arg1, arg2]).T, controls=bcop_controls)"
   ]
  },
  {
   "cell_type": "raw",
   "id": "4daac107",
   "metadata": {
    "pycharm": {
     "name": "#%% raw\n"
    }
   },
   "source": [
    "pair_copulas"
   ]
  },
  {
   "cell_type": "raw",
   "id": "7acd5ecb",
   "metadata": {
    "pycharm": {
     "name": "#%% raw\n"
    }
   },
   "source": [
    "pv.Vinecop(new_mat, pair_copulas)"
   ]
  }
 ],
 "metadata": {
  "kernelspec": {
   "display_name": "Python 3 (ipykernel)",
   "language": "python",
   "name": "python3"
  },
  "language_info": {
   "codemirror_mode": {
    "name": "ipython",
    "version": 3
   },
   "file_extension": ".py",
   "mimetype": "text/x-python",
   "name": "python",
   "nbconvert_exporter": "python",
   "pygments_lexer": "ipython3",
   "version": "3.7.11"
  }
 },
 "nbformat": 4,
 "nbformat_minor": 5
}