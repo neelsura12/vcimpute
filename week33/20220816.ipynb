{
 "cells": [
  {
   "cell_type": "code",
   "execution_count": 1,
   "id": "14120fe8",
   "metadata": {
    "pycharm": {
     "name": "#%%\n"
    }
   },
   "outputs": [],
   "source": [
    "from copy import deepcopy\n",
    "import numpy as np\n",
    "import pandas as pd\n",
    "import pyvinecopulib as pv"
   ]
  },
  {
   "cell_type": "code",
   "execution_count": 2,
   "id": "38ed1f25",
   "metadata": {
    "pycharm": {
     "name": "#%%\n"
    }
   },
   "outputs": [],
   "source": [
    "n = 1000\n",
    "d = 4\n",
    "p = 0.2\n",
    "\n",
    "structure = pv.RVineStructure.simulate(d)\n",
    "\n",
    "pair_copulas = []\n",
    "for j in range(d - 1):\n",
    "    tmp = []\n",
    "    pair_copulas.append(tmp)\n",
    "    for _ in range(d - j - 1):\n",
    "        rho = np.minimum(np.maximum(np.random.beta(1, 0.75), 0.01), 0.99)\n",
    "        tmp.append(pv.Bicop(family=pv.BicopFamily.gaussian, parameters=[[rho]]))\n",
    "\n",
    "cop1 = pv.Vinecop(structure, pair_copulas)\n",
    "\n",
    "U = cop1.simulate(n=n, seeds=list(1 + np.arange(d)))"
   ]
  },
  {
   "cell_type": "markdown",
   "id": "482d4c41",
   "metadata": {
    "pycharm": {
     "name": "#%% md\n"
    }
   },
   "source": [
    "### Refit on subset"
   ]
  },
  {
   "cell_type": "code",
   "execution_count": 3,
   "id": "db7d2351",
   "metadata": {
    "pycharm": {
     "name": "#%%\n"
    }
   },
   "outputs": [],
   "source": [
    "old_to_new_map = {1:4, 2:1, 3:2, 4:3}\n",
    "new_to_old_map = {1:2, 2:3, 3:4, 4:1}"
   ]
  },
  {
   "cell_type": "code",
   "execution_count": 4,
   "id": "b448e606",
   "metadata": {
    "pycharm": {
     "name": "#%%\n"
    }
   },
   "outputs": [],
   "source": [
    "vcop_controls = pv.FitControlsVinecop(family_set=[pv.BicopFamily.gaussian])\n",
    "cop2 = pv.Vinecop(data=U[:, [1,2,3]], controls=vcop_controls)"
   ]
  },
  {
   "cell_type": "markdown",
   "id": "2f3020fd",
   "metadata": {
    "pycharm": {
     "name": "#%% md\n"
    }
   },
   "source": [
    "### Expand"
   ]
  },
  {
   "cell_type": "code",
   "execution_count": 5,
   "id": "47c7448d",
   "metadata": {
    "pycharm": {
     "name": "#%%\n"
    }
   },
   "outputs": [],
   "source": [
    "def make_triangular_array(d):\n",
    "    pair_copulas = np.empty(shape=(d-1,), dtype='object')\n",
    "    for j in range(d-1)[::-1]:\n",
    "        pair_copulas[j] = list(np.empty(shape=(d-j-1,), dtype='object'))\n",
    "    return list(pair_copulas)\n",
    "\n",
    "def vfunc(fun, X1, X2, transpose=True):\n",
    "    if transpose:\n",
    "        return fun(np.vstack([np.array(X1), np.array(X2)]).T)\n",
    "    else:\n",
    "        return fun(np.vstack([np.array(X1), np.array(X2)]))\n",
    "\n",
    "def get(X, i):\n",
    "    return X[:, int(i - 1)]\n",
    "\n",
    "def find(D, a_str):\n",
    "    coord = np.argwhere(D == a_str)\n",
    "    if coord.shape[0] == 1:\n",
    "        return tuple(coord[0])"
   ]
  },
  {
   "cell_type": "code",
   "execution_count": 6,
   "id": "c14f0d9e",
   "metadata": {
    "pycharm": {
     "name": "#%%\n"
    }
   },
   "outputs": [],
   "source": [
    "# args\n",
    "cop = cop2\n",
    "d = len(cop2.order) + 1"
   ]
  },
  {
   "cell_type": "code",
   "execution_count": 7,
   "id": "405747f9",
   "metadata": {
    "pycharm": {
     "name": "#%%\n"
    }
   },
   "outputs": [],
   "source": [
    "T = cop.matrix\n",
    "HF1 = np.empty(shape=(d, d), dtype=object)\n",
    "HF2 = np.empty(shape=(d, d), dtype=object)\n",
    "CS = np.empty(shape=(d, d), dtype=object)\n",
    "CC1 = np.empty(shape=(d, d), dtype=object)\n",
    "CC2 = np.empty(shape=(d, d), dtype=object)\n",
    "pair_copulas = make_triangular_array(4)\n",
    "\n",
    "for j in range(d - 2)[::-1]:\n",
    "    for i in range(d - j - 2):\n",
    "        pair_copulas[i][j+1] = cop.get_pair_copula(i, j)\n",
    "        var1 = cop.order[j]\n",
    "        var2 = T[i, j]\n",
    "        CS[i][j+1] = ','.join(list(map(str, sorted(T[:i,j]))))\n",
    "        if CS[i, j+1] == '':\n",
    "            arg1 = get(U, new_to_old_map[var1])\n",
    "            arg2 = get(U, new_to_old_map[var2])\n",
    "            HF1[i, j+1] = vfunc(cop.get_pair_copula(i, j).hfunc2, arg1, arg2)\n",
    "            HF2[i, j+1] = vfunc(cop.get_pair_copula(i, j).hfunc1, arg1, arg2)\n",
    "            CC1[i, j+1] = f'{var1}|{var2}'\n",
    "            CC2[i, j+1] = f'{var2}|{var1}'\n",
    "        else:\n",
    "            arg1, arg2 = None, None\n",
    "            key1 = f'{var1}|{CS[i, j+1]}'\n",
    "            key2 = f'{var2}|{CS[i, j+1]}'\n",
    "            for CC, HF in zip([CC1, CC2], [HF1, HF2]):\n",
    "                coord = find(CC, key1)\n",
    "                if (arg1 is None) and (coord is not None):\n",
    "                    arg1 = HF[coord]\n",
    "                coord = find(CC, key2)\n",
    "                if (arg2 is None) and (coord is not None):\n",
    "                    arg2 = HF[coord]\n",
    "            assert (arg1 is not None) and (arg2 is not None)\n",
    "            HF1[i, j+1] = vfunc(cop.get_pair_copula(i, j).hfunc2, arg1, arg2)\n",
    "            HF2[i, j+1] = vfunc(cop.get_pair_copula(i, j).hfunc1, arg1, arg2)\n",
    "            CC1[i, j+1] = f'{var1}|' + ','.join(sorted(CS[i, j+1].split(',') + [str(var2)]))\n",
    "            CC2[i, j+1] = f'{var2}|' + ','.join(sorted(CS[i, j+1].split(',') + [str(var1)]))"
   ]
  },
  {
   "cell_type": "code",
   "execution_count": 8,
   "id": "20fbaa7a",
   "metadata": {
    "pycharm": {
     "name": "#%%\n"
    }
   },
   "outputs": [],
   "source": [
    "bcop_controls = pv.FitControlsBicop(family_set=[pv.BicopFamily.gaussian])\n",
    "\n",
    "T_new = np.zeros(shape=(d, d), dtype=np.uint64)\n",
    "T_new[d-1,0] = d\n",
    "T_new[:-1, 1:] = cop.matrix\n",
    "\n",
    "j = 0\n",
    "for i in range(d-1):\n",
    "    var1 = d\n",
    "    var2 = cop.order[d-i-2]\n",
    "    T_new[i,j] = var2\n",
    "    CS[i,j] = ','.join(list(map(str, sorted(T_new[:i,j]))))\n",
    "    if CS[i, j] == '':\n",
    "        arg1 = get(U, new_to_old_map[var1])\n",
    "        arg2 = get(U, new_to_old_map[var2])\n",
    "        bcop = pv.Bicop(data=np.vstack([arg1, arg2]).T, controls=bcop_controls)\n",
    "        pair_copulas[i][j] = bcop\n",
    "        HF1[i, j] = vfunc(bcop.hfunc2, arg1, arg2)\n",
    "        HF2[i, j] = vfunc(bcop.hfunc1, arg1, arg2)\n",
    "        CC1[i, j] = f'{var1}|{var2}'\n",
    "        CC2[i, j] = f'{var2}|{var1}'\n",
    "    else:\n",
    "        arg1, arg2 = None, None\n",
    "        key1 = f'{var1}|{CS[i, j]}'\n",
    "        key2 = f'{var2}|{CS[i, j]}'\n",
    "        for CC, HF in zip([CC1, CC2], [HF1, HF2]):\n",
    "            coord = find(CC, key1)\n",
    "            if (arg1 is None) and (coord is not None):\n",
    "                arg1 = HF[coord]\n",
    "            coord = find(CC, key2)\n",
    "            if (arg2 is None) and (coord is not None):\n",
    "                arg2 = HF[coord]\n",
    "        assert (arg1 is not None) and (arg2 is not None)\n",
    "        bcop = pv.Bicop(data=np.vstack([arg1, arg2]).T, controls=bcop_controls)\n",
    "        pair_copulas[i][j] = bcop\n",
    "        HF1[i, j] = vfunc(bcop.hfunc2, arg1, arg2)\n",
    "        HF2[i, j] = vfunc(bcop.hfunc1, arg1, arg2)\n",
    "        CC1[i, j] = f'{var1}|' + ','.join(sorted(CS[i, j].split(',') + [str(var2)]))\n",
    "        CC2[i, j] = f'{var2}|' + ','.join(sorted(CS[i, j].split(',') + [str(var1)]))"
   ]
  },
  {
   "cell_type": "code",
   "execution_count": 16,
   "id": "097e60cf",
   "metadata": {
    "pycharm": {
     "name": "#%%\n"
    }
   },
   "outputs": [
    {
     "data": {
      "text/plain": [
       "<pyvinecopulib.Vinecop>\n",
       "** Tree: 0\n",
       "4,3 <-> Gaussian, parameters = -0.0696267\n",
       "2,1 <-> Gaussian, parameters = 0.440436\n",
       "1,3 <-> Gaussian, parameters = 0.611812\n",
       "** Tree: 1\n",
       "4,1 | 3 <-> Gaussian, parameters = 0.283047\n",
       "2,3 | 1 <-> Gaussian, parameters = -0.268039\n",
       "** Tree: 2\n",
       "4,2 | 1,3 <-> Gaussian, parameters = 0.882852"
      ]
     },
     "execution_count": 16,
     "metadata": {},
     "output_type": "execute_result"
    }
   ],
   "source": [
    "cop3 = pv.Vinecop(T_new, pair_copulas)\n",
    "cop3"
   ]
  },
  {
   "cell_type": "code",
   "execution_count": 17,
   "id": "3b568e28",
   "metadata": {
    "pycharm": {
     "name": "#%%\n"
    }
   },
   "outputs": [
    {
     "data": {
      "text/plain": [
       "<pyvinecopulib.Vinecop>\n",
       "** Tree: 0\n",
       "1,2 <-> Gaussian, parameters = 0.223508\n",
       "4,3 <-> Gaussian, parameters = 0.10715\n",
       "2,3 <-> Gaussian, parameters = 0.450914\n",
       "** Tree: 1\n",
       "1,3 | 2 <-> Gaussian, parameters = 0.889389\n",
       "4,2 | 3 <-> Gaussian, parameters = 0.610502\n",
       "** Tree: 2\n",
       "1,4 | 3,2 <-> Gaussian, parameters = 0.0242227"
      ]
     },
     "execution_count": 17,
     "metadata": {},
     "output_type": "execute_result"
    }
   ],
   "source": [
    "cop1"
   ]
  },
  {
   "cell_type": "code",
   "execution_count": 19,
   "id": "27c1c27d",
   "metadata": {
    "pycharm": {
     "name": "#%%\n"
    }
   },
   "outputs": [],
   "source": [
    "U2 = cop3.simulate(1000)"
   ]
  },
  {
   "cell_type": "code",
   "execution_count": 29,
   "id": "03391b5c",
   "metadata": {
    "pycharm": {
     "name": "#%%\n"
    }
   },
   "outputs": [],
   "source": [
    "cov2 = np.corrcoef(U2[:, [old_to_new_map[i + 1] - 1 for i in range(4)]].T)"
   ]
  },
  {
   "cell_type": "code",
   "execution_count": 30,
   "id": "7c0fadbd",
   "metadata": {
    "pycharm": {
     "name": "#%%\n"
    }
   },
   "outputs": [],
   "source": [
    "cov1 = np.corrcoef(U.T)"
   ]
  },
  {
   "cell_type": "code",
   "execution_count": 33,
   "id": "85117f27",
   "metadata": {
    "pycharm": {
     "name": "#%%\n"
    }
   },
   "outputs": [
    {
     "data": {
      "text/plain": [
       "array([[ 1.        ,  0.16758855,  0.859866  , -0.07367281],\n",
       "       [ 0.16758855,  1.        ,  0.40051392,  0.57403568],\n",
       "       [ 0.859866  ,  0.40051392,  1.        ,  0.04299718],\n",
       "       [-0.07367281,  0.57403568,  0.04299718,  1.        ]])"
      ]
     },
     "execution_count": 33,
     "metadata": {},
     "output_type": "execute_result"
    }
   ],
   "source": [
    "cov1"
   ]
  },
  {
   "cell_type": "code",
   "execution_count": 34,
   "id": "c4d94e71",
   "metadata": {
    "pycharm": {
     "name": "#%%\n"
    }
   },
   "outputs": [
    {
     "data": {
      "text/plain": [
       "array([[ 1.        ,  0.17243921,  0.8487276 , -0.03170326],\n",
       "       [ 0.17243921,  1.        ,  0.45477682,  0.60733636],\n",
       "       [ 0.8487276 ,  0.45477682,  1.        ,  0.11783834],\n",
       "       [-0.03170326,  0.60733636,  0.11783834,  1.        ]])"
      ]
     },
     "execution_count": 34,
     "metadata": {},
     "output_type": "execute_result"
    }
   ],
   "source": [
    "cov2"
   ]
  },
  {
   "cell_type": "code",
   "execution_count": 37,
   "id": "972b38b9",
   "metadata": {
    "pycharm": {
     "name": "#%%\n"
    }
   },
   "outputs": [
    {
     "data": {
      "text/plain": [
       "0.15207650591486335"
      ]
     },
     "execution_count": 37,
     "metadata": {},
     "output_type": "execute_result"
    }
   ],
   "source": [
    "np.linalg.norm(cov1-cov2, ord='fro')"
   ]
  },
  {
   "cell_type": "code",
   "execution_count": null,
   "id": "a84f9c4b",
   "metadata": {
    "pycharm": {
     "name": "#%%\n"
    }
   },
   "outputs": [],
   "source": []
  }
 ],
 "metadata": {
  "kernelspec": {
   "display_name": "Python 3 (ipykernel)",
   "language": "python",
   "name": "python3"
  },
  "language_info": {
   "codemirror_mode": {
    "name": "ipython",
    "version": 3
   },
   "file_extension": ".py",
   "mimetype": "text/x-python",
   "name": "python",
   "nbconvert_exporter": "python",
   "pygments_lexer": "ipython3",
   "version": "3.7.11"
  }
 },
 "nbformat": 4,
 "nbformat_minor": 5
}