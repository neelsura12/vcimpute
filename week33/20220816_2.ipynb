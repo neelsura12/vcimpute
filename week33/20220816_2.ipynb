{
 "cells": [
  {
   "cell_type": "code",
   "execution_count": 1,
   "id": "ed251a3f",
   "metadata": {
    "pycharm": {
     "name": "#%%\n"
    }
   },
   "outputs": [],
   "source": [
    "from IPython.display import display\n",
    "from copy import deepcopy\n",
    "import numpy as np\n",
    "import pandas as pd\n",
    "import pyvinecopulib as pv\n",
    "\n",
    "def make_triangular_array(d):\n",
    "    pair_copulas = np.empty(shape=(d-1,), dtype='object')\n",
    "    for j in range(d-1)[::-1]:\n",
    "        pair_copulas[j] = list(np.empty(shape=(d-j-1,), dtype='object'))\n",
    "    return list(pair_copulas)"
   ]
  },
  {
   "cell_type": "code",
   "execution_count": 4,
   "id": "1ccdec4d",
   "metadata": {
    "pycharm": {
     "name": "#%%\n"
    }
   },
   "outputs": [],
   "source": [
    "n = 1000\n",
    "d = 4\n",
    "p = 0.2\n",
    "\n",
    "structure = pv.RVineStructure.simulate(d)\n",
    "\n",
    "pair_copulas = []\n",
    "for j in range(d - 1):\n",
    "    tmp = []\n",
    "    pair_copulas.append(tmp)\n",
    "    for _ in range(d - j - 1):\n",
    "        rho = np.minimum(np.maximum(np.random.beta(1, 0.75), 0.01), 0.99)\n",
    "        tmp.append(pv.Bicop(family=pv.BicopFamily.gaussian, parameters=[[rho]]))\n",
    "\n",
    "cop = pv.Vinecop(structure, pair_copulas)\n",
    "\n",
    "U = cop1.simulate(n=n, seeds=list(1 + np.arange(d)))"
   ]
  },
  {
   "cell_type": "code",
   "execution_count": 5,
   "id": "6531b0ae",
   "metadata": {
    "pycharm": {
     "name": "#%%\n"
    }
   },
   "outputs": [
    {
     "data": {
      "text/plain": [
       "<pyvinecopulib.Vinecop>\n",
       "** Tree: 0\n",
       "2,1 <-> Gaussian, parameters = 0.636167\n",
       "3,1 <-> Gaussian, parameters = 0.672982\n",
       "4,1 <-> Gaussian, parameters = 0.397528\n",
       "** Tree: 1\n",
       "2,4 | 1 <-> Gaussian, parameters = 0.99\n",
       "3,4 | 1 <-> Gaussian, parameters = 0.195834\n",
       "** Tree: 2\n",
       "2,3 | 4,1 <-> Gaussian, parameters = 0.713836"
      ]
     },
     "execution_count": 5,
     "metadata": {},
     "output_type": "execute_result"
    }
   ],
   "source": [
    "cop"
   ]
  },
  {
   "cell_type": "code",
   "execution_count": 3,
   "id": "34ec3af2",
   "metadata": {
    "pycharm": {
     "name": "#%%\n"
    }
   },
   "outputs": [
    {
     "data": {
      "text/plain": [
       "array([[0.72326351, 0.78080499, 0.69804208, 0.75101924],\n",
       "       [0.67571195, 0.3048536 , 0.79207663, 0.63710412],\n",
       "       [0.48989027, 0.16343166, 0.75955506, 0.43017745],\n",
       "       ...,\n",
       "       [0.90368168, 0.36505584, 0.98653356, 0.94743454],\n",
       "       [0.27035184, 0.80870488, 0.89054095, 0.88412868],\n",
       "       [0.06912669, 0.98952835, 0.17611949, 0.24519554]])"
      ]
     },
     "execution_count": 3,
     "metadata": {},
     "output_type": "execute_result"
    }
   ],
   "source": [
    "U"
   ]
  },
  {
   "cell_type": "code",
   "execution_count": 6,
   "id": "1916e8aa",
   "metadata": {
    "pycharm": {
     "name": "#%%\n"
    }
   },
   "outputs": [
    {
     "data": {
      "text/plain": [
       "array([[1, 1, 1, 1],\n",
       "       [4, 4, 4, 0],\n",
       "       [3, 3, 0, 0],\n",
       "       [2, 0, 0, 0]], dtype=uint64)"
      ]
     },
     "execution_count": 6,
     "metadata": {},
     "output_type": "execute_result"
    }
   ],
   "source": [
    "cop.matrix"
   ]
  },
  {
   "cell_type": "code",
   "execution_count": 7,
   "id": "32389126",
   "metadata": {
    "pycharm": {
     "name": "#%%\n"
    }
   },
   "outputs": [],
   "source": [
    "var_mis = 1"
   ]
  },
  {
   "cell_type": "code",
   "execution_count": 95,
   "id": "3df6c392",
   "metadata": {
    "pycharm": {
     "name": "#%%\n"
    }
   },
   "outputs": [],
   "source": [
    "T = cop.matrix"
   ]
  },
  {
   "cell_type": "code",
   "execution_count": 15,
   "id": "343e74a1",
   "metadata": {
    "pycharm": {
     "name": "#%%\n"
    }
   },
   "outputs": [
    {
     "name": "stdout",
     "output_type": "stream",
     "text": [
      "0 0 2\n",
      "1 0 2\n",
      "2 0 2\n",
      "0 1 3\n",
      "1 1 3\n",
      "0 2 4\n"
     ]
    }
   ],
   "source": [
    "for j in range(d):\n",
    "    for i in range(d-j-1):\n",
    "        print(i,j, cop.order[j])\n",
    "        "
   ]
  },
  {
   "cell_type": "code",
   "execution_count": 44,
   "id": "5979f8a0",
   "metadata": {
    "pycharm": {
     "name": "#%%\n"
    }
   },
   "outputs": [],
   "source": [
    "def proc0(T_in, var_mis):\n",
    "    d = T_in.shape[0]\n",
    "    T_out = deepcopy(T_in)\n",
    "    for j in range(d):\n",
    "        if var_mis in T_out[:d-j-1,j]:\n",
    "            T_out[:, j] = 0\n",
    "    return T_out"
   ]
  },
  {
   "cell_type": "code",
   "execution_count": 118,
   "id": "0366d5e6",
   "metadata": {
    "pycharm": {
     "name": "#%%\n"
    }
   },
   "outputs": [],
   "source": [
    "def proc1(T_in, var_mis):\n",
    "    d = T_in.shape[0]\n",
    "    T_out = deepcopy(T_in)\n",
    "    order = [T[d-j-1, j] for j in range(d)]\n",
    "    for j in range(d):\n",
    "        mis_idx, = np.where(T_out[:, j] == var_mis)\n",
    "        if len(mis_idx) == 1:\n",
    "            var_deleted = T_out[(mis_idx[0]+1):d-j-1, j]\n",
    "            for var in var_deleted:\n",
    "                T_out[:, order.index(var)] = 0\n",
    "            T_out[(mis_idx[0]+1):d-j-1, j] = 0\n",
    "    return T_out"
   ]
  },
  {
   "cell_type": "code",
   "execution_count": 24,
   "id": "5eca5b79",
   "metadata": {
    "pycharm": {
     "name": "#%%\n"
    }
   },
   "outputs": [
    {
     "data": {
      "text/plain": [
       "True"
      ]
     },
     "execution_count": 24,
     "metadata": {},
     "output_type": "execute_result"
    }
   ],
   "source": [
    "# store pair copulas"
   ]
  }
 ],
 "metadata": {
  "kernelspec": {
   "display_name": "Python 3 (ipykernel)",
   "language": "python",
   "name": "python3"
  },
  "language_info": {
   "codemirror_mode": {
    "name": "ipython",
    "version": 3
   },
   "file_extension": ".py",
   "mimetype": "text/x-python",
   "name": "python",
   "nbconvert_exporter": "python",
   "pygments_lexer": "ipython3",
   "version": "3.7.11"
  }
 },
 "nbformat": 4,
 "nbformat_minor": 5
}