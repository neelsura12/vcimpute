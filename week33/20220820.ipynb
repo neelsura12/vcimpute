{
 "cells": [
  {
   "cell_type": "code",
   "execution_count": 1,
   "id": "ed251a3f",
   "metadata": {},
   "outputs": [],
   "source": [
    "from IPython.display import display\n",
    "from copy import deepcopy\n",
    "import numpy as np\n",
    "import pandas as pd\n",
    "import pyvinecopulib as pv\n",
    "\n",
    "def make_triangular_array(d):\n",
    "    pair_copulas = np.empty(shape=(d-1,), dtype='object')\n",
    "    for j in range(d-1)[::-1]:\n",
    "        pair_copulas[j] = list(np.empty(shape=(d-j-1,), dtype='object'))\n",
    "    return list(pair_copulas)"
   ]
  },
  {
   "cell_type": "code",
   "execution_count": 2,
   "id": "1ccdec4d",
   "metadata": {},
   "outputs": [],
   "source": [
    "n = 1000\n",
    "d = 4\n",
    "p = 0.2\n",
    "\n",
    "structure = pv.RVineStructure.simulate(d)\n",
    "\n",
    "pair_copulas = []\n",
    "for j in range(d - 1):\n",
    "    tmp = []\n",
    "    pair_copulas.append(tmp)\n",
    "    for _ in range(d - j - 1):\n",
    "        rho = np.minimum(np.maximum(np.random.beta(1, 0.75), 0.01), 0.99)\n",
    "        tmp.append(pv.Bicop(family=pv.BicopFamily.gaussian, parameters=[[rho]]))\n",
    "\n",
    "cop = pv.Vinecop(structure, pair_copulas)\n",
    "\n",
    "U = cop.simulate(n=n, seeds=list(1 + np.arange(d)))"
   ]
  },
  {
   "cell_type": "code",
   "execution_count": 3,
   "id": "cc224f51",
   "metadata": {},
   "outputs": [],
   "source": [
    "T = cop.matrix\n",
    "\n",
    "pair_copulas = make_triangular_array(d)\n",
    "for j in range(d):\n",
    "    for i in range(d-j-1):\n",
    "        pair_copulas[i][j] = cop.get_pair_copula(i,j)"
   ]
  },
  {
   "cell_type": "code",
   "execution_count": 4,
   "id": "d259e483",
   "metadata": {},
   "outputs": [],
   "source": [
    "def downsize_copula(T_whole, pair_copulas_in, T_tmp):\n",
    "    if np.all(T == T_tmp):\n",
    "        return T_whole, pair_copulas_in\n",
    "    \n",
    "    d = T_whole.shape[0]\n",
    "    d2 = np.amax(np.count_nonzero(T_tmp,axis=0))\n",
    "    i_tmp_lst, j_tmp_lst = np.where(T_tmp != 0)\n",
    "    ax0_order = np.argsort(j_tmp_lst)\n",
    "    i_tmp_lst = i_tmp_lst[ax0_order]\n",
    "    j_tmp_lst = j_tmp_lst[ax0_order]\n",
    "\n",
    "    assert len(j_tmp_lst) == len(i_tmp_lst) == d*(d-1)//2\n",
    "\n",
    "    T_out = np.zeros(shape=(d2,d2), dtype=np.uint64)\n",
    "    pair_copulas_out = make_triangular_array(d2)\n",
    "    i2, j2 = 0, 0\n",
    "    for i_tmp, j_tmp in zip(i_tmp_lst, j_tmp_lst):\n",
    "        if i2 > d2-j2-1:\n",
    "            j2 += 1\n",
    "            i2 = 0\n",
    "        T_out[i2, j2] = T_tmp[i_tmp, j_tmp]\n",
    "        if i2 != d2-j2-1:\n",
    "            pair_copulas_out[i2][j2] = pair_copulas_in[i_tmp][j_tmp]\n",
    "        i2 += 1\n",
    "    return T_out, pair_copulas_out"
   ]
  },
  {
   "cell_type": "code",
   "execution_count": 5,
   "id": "5979f8a0",
   "metadata": {},
   "outputs": [],
   "source": [
    "def remove_column(T_in, pair_copulas_in, var_mis, j):\n",
    "    \"\"\"\n",
    "    remove column if var_mis in cond. set +\n",
    "    remove all entries of that column's diagonal var\n",
    "    \"\"\"\n",
    "    d = T_in.shape[0]\n",
    "    if var_mis in T_in[:d-j-1,j]:\n",
    "        T_tmp = deepcopy(T_in)\n",
    "        var_diag = T_tmp[d-j-1, j]\n",
    "        T_tmp[:, j] = 0\n",
    "        T_tmp = np.where(T_tmp == var_diag, 0, T_tmp)\n",
    "        return downsize_copula(T_in, pair_copulas_in, T_tmp)\n",
    "    else:\n",
    "        return T_in, pair_copulas_in"
   ]
  },
  {
   "cell_type": "code",
   "execution_count": 22,
   "id": "0366d5e6",
   "metadata": {},
   "outputs": [],
   "source": [
    "def remove_inbetween(T_in, pair_copulas_in, var_mis, j):\n",
    "    \"\"\"\n",
    "    identify all vars between the diagonal and var_mis in the col j\n",
    "    delete all columns with those vars in the diagonal\n",
    "    delete all entries with those vars\n",
    "    \"\"\"\n",
    "    d = T_in.shape[0]\n",
    "    if var_mis in T_in[:d-j-2,j]:\n",
    "        k = np.where(T[:d-j-1,j] == var_mis)[0].item()\n",
    "        T_tmp = deepcopy(T_in)\n",
    "        T_tmp[(k+1):d-j-1,j] = 0\n",
    "        order = [T[d-j-1,j] for j in range(d)]\n",
    "        for var_del in T[(k+1):d-j-1,j]:\n",
    "            T_tmp[:,order.index(var_del)]=0\n",
    "            T_tmp = np.where(T_tmp == var_del, 0, T_tmp)\n",
    "        return downsize_copula(T_in, pair_copulas_in, T_tmp)\n",
    "    else:\n",
    "        return T_in, pair_copulas_in"
   ]
  },
  {
   "cell_type": "code",
   "execution_count": 21,
   "id": "a6e3a38f",
   "metadata": {},
   "outputs": [
    {
     "data": {
      "text/plain": [
       "array([[4, 4, 4, 4],\n",
       "       [1, 1, 1, 0],\n",
       "       [3, 3, 0, 0],\n",
       "       [2, 0, 0, 0]], dtype=uint64)"
      ]
     },
     "execution_count": 21,
     "metadata": {},
     "output_type": "execute_result"
    }
   ],
   "source": [
    "T"
   ]
  },
  {
   "cell_type": "code",
   "execution_count": 23,
   "id": "0d7968ab",
   "metadata": {},
   "outputs": [],
   "source": [
    "T_tmp, pair_copulas_out = remove_inbetween(T, pair_copulas, var_mis=1, j=0)"
   ]
  },
  {
   "cell_type": "code",
   "execution_count": 24,
   "id": "4c911054",
   "metadata": {},
   "outputs": [
    {
     "data": {
      "text/plain": [
       "array([[4, 4, 4],\n",
       "       [1, 1, 0],\n",
       "       [2, 0, 0]], dtype=uint64)"
      ]
     },
     "execution_count": 24,
     "metadata": {},
     "output_type": "execute_result"
    }
   ],
   "source": [
    "T_tmp"
   ]
  }
 ],
 "metadata": {
  "kernelspec": {
   "display_name": "Python 3 (ipykernel)",
   "language": "python",
   "name": "python3"
  },
  "language_info": {
   "codemirror_mode": {
    "name": "ipython",
    "version": 3
   },
   "file_extension": ".py",
   "mimetype": "text/x-python",
   "name": "python",
   "nbconvert_exporter": "python",
   "pygments_lexer": "ipython3",
   "version": "3.7.11"
  }
 },
 "nbformat": 4,
 "nbformat_minor": 5
}
