{
 "cells": [
  {
   "cell_type": "code",
   "execution_count": 9,
   "id": "10c9e663",
   "metadata": {
    "pycharm": {
     "name": "#%%\n"
    }
   },
   "outputs": [],
   "source": [
    "import numpy as np\n",
    "\n",
    "from vcimpute.sub_vines import remove_column, remove_inbetween\n",
    "from vcimpute.util import get, get_order, get_pair_copulas, make_copula"
   ]
  },
  {
   "cell_type": "code",
   "execution_count": 2,
   "id": "ddf6853a",
   "metadata": {
    "pycharm": {
     "name": "#%%\n"
    }
   },
   "outputs": [],
   "source": [
    "cop = make_copula(5)"
   ]
  },
  {
   "cell_type": "code",
   "execution_count": 3,
   "id": "a8611982",
   "metadata": {
    "pycharm": {
     "name": "#%%\n"
    }
   },
   "outputs": [],
   "source": [
    "U = cop.simulate(n=1000)"
   ]
  },
  {
   "cell_type": "code",
   "execution_count": 4,
   "id": "ca2ed1fa",
   "metadata": {
    "pycharm": {
     "name": "#%%\n"
    }
   },
   "outputs": [
    {
     "data": {
      "text/plain": [
       "array([[5, 3, 5, 5, 5],\n",
       "       [3, 5, 3, 3, 0],\n",
       "       [1, 1, 1, 0, 0],\n",
       "       [4, 4, 0, 0, 0],\n",
       "       [2, 0, 0, 0, 0]], dtype=uint64)"
      ]
     },
     "execution_count": 4,
     "metadata": {},
     "output_type": "execute_result"
    }
   ],
   "source": [
    "cop.matrix"
   ]
  },
  {
   "cell_type": "code",
   "execution_count": 5,
   "id": "f93971b4",
   "metadata": {
    "pycharm": {
     "name": "#%%\n"
    }
   },
   "outputs": [
    {
     "data": {
      "text/plain": [
       "[2, 4, 1, 3, 5]"
      ]
     },
     "execution_count": 5,
     "metadata": {},
     "output_type": "execute_result"
    }
   ],
   "source": [
    "cop.order"
   ]
  },
  {
   "cell_type": "code",
   "execution_count": 6,
   "id": "feb41641",
   "metadata": {
    "pycharm": {
     "name": "#%%\n"
    }
   },
   "outputs": [],
   "source": [
    "var_mis = cop.order[2]"
   ]
  },
  {
   "cell_type": "code",
   "execution_count": 7,
   "id": "baed734c",
   "metadata": {
    "pycharm": {
     "name": "#%%\n"
    }
   },
   "outputs": [],
   "source": [
    "missing = np.random.binomial(n=1, p=0.2, size=U.shape[0])\n",
    "U_mask = np.copy(U)\n",
    "u_mask = get(U_mask, var_mis)\n",
    "u_mask[missing == 1] = np.nan"
   ]
  },
  {
   "cell_type": "code",
   "execution_count": 8,
   "id": "3858b846",
   "metadata": {
    "pycharm": {
     "name": "#%%\n"
    }
   },
   "outputs": [
    {
     "data": {
      "text/plain": [
       "array([[0.14491306, 0.2577841 , 0.40841315, 0.39660764, 0.50405406],\n",
       "       [       nan, 0.37050758, 0.76700429, 0.64249497, 0.41668058],\n",
       "       [0.96092476, 0.74023969, 0.04905787, 0.20234375, 0.53379028],\n",
       "       ...,\n",
       "       [0.80772651, 0.03069847, 0.65405496, 0.07157443, 0.00583926],\n",
       "       [0.68356614, 0.56371734, 0.1667308 , 0.27715496, 0.51430251],\n",
       "       [0.93118889, 0.94903772, 0.77918603, 0.91035932, 0.83103296]])"
      ]
     },
     "execution_count": 8,
     "metadata": {},
     "output_type": "execute_result"
    }
   ],
   "source": [
    "U_mask"
   ]
  },
  {
   "cell_type": "code",
   "execution_count": 10,
   "id": "851a563b",
   "metadata": {
    "pycharm": {
     "name": "#%%\n"
    }
   },
   "outputs": [
    {
     "ename": "NameError",
     "evalue": "name 'T_tmp' is not defined",
     "output_type": "error",
     "traceback": [
      "\u001B[0;31m---------------------------------------------------------------------------\u001B[0m",
      "\u001B[0;31mNameError\u001B[0m                                 Traceback (most recent call last)",
      "\u001B[0;32m/var/folders/6j/tj0_jn4123ld3w6lbbkzf7g80000gp/T/ipykernel_43131/3792811513.py\u001B[0m in \u001B[0;36m<module>\u001B[0;34m\u001B[0m\n\u001B[0;32m----> 1\u001B[0;31m \u001B[0mget_order\u001B[0m\u001B[0;34m(\u001B[0m\u001B[0mT_tmp\u001B[0m\u001B[0;34m)\u001B[0m\u001B[0;34m\u001B[0m\u001B[0;34m\u001B[0m\u001B[0m\n\u001B[0m",
      "\u001B[0;31mNameError\u001B[0m: name 'T_tmp' is not defined"
     ]
    }
   ],
   "source": []
  },
  {
   "cell_type": "code",
   "execution_count": 11,
   "id": "a51a2e3a",
   "metadata": {
    "pycharm": {
     "name": "#%%\n"
    }
   },
   "outputs": [],
   "source": [
    "T = cop.matrix\n",
    "pair_copulas = get_pair_copulas(cop)\n",
    "d = T.shape[0]\n",
    "\n",
    "T_tmp, pair_copulas_tmp = T, pair_copulas\n",
    "out1 = []\n",
    "out2 = []\n",
    "for j in range(d):\n",
    "    d_tmp = T_tmp.shape[0]\n",
    "    if (var_mis == T_tmp[d_tmp-1, 0]) or (var_mis == T_tmp[d_tmp-2, 0]):\n",
    "        order_tmp = get_order(T_tmp)\n",
    "        if order_tmp not in out2:\n",
    "            out1.append((T_tmp, pair_copulas_tmp))\n",
    "            out2.append(order_tmp)\n",
    "    T_tmp, pair_copulas_tmp = remove_column(T, pair_copulas, var_mis, j)"
   ]
  },
  {
   "cell_type": "code",
   "execution_count": 12,
   "id": "304c74e6",
   "metadata": {
    "pycharm": {
     "name": "#%%\n"
    }
   },
   "outputs": [
    {
     "data": {
      "text/plain": [
       "array([[5, 3, 5, 5, 5],\n",
       "       [3, 5, 3, 3, 0],\n",
       "       [1, 1, 1, 0, 0],\n",
       "       [4, 4, 0, 0, 0],\n",
       "       [2, 0, 0, 0, 0]], dtype=uint64)"
      ]
     },
     "execution_count": 12,
     "metadata": {},
     "output_type": "execute_result"
    }
   ],
   "source": [
    "T"
   ]
  },
  {
   "cell_type": "code",
   "execution_count": 13,
   "id": "2b72fe97",
   "metadata": {
    "pycharm": {
     "name": "#%%\n"
    }
   },
   "outputs": [],
   "source": [
    "a_lst = [[0,1,2], [2,1,0]]\n",
    "e = [0,1,2]"
   ]
  },
  {
   "cell_type": "code",
   "execution_count": null,
   "id": "33545ad6",
   "metadata": {
    "pycharm": {
     "name": "#%%\n"
    }
   },
   "outputs": [],
   "source": [
    "d_tmp=5"
   ]
  },
  {
   "cell_type": "code",
   "execution_count": 15,
   "id": "f339a8a8",
   "metadata": {
    "pycharm": {
     "name": "#%%\n"
    }
   },
   "outputs": [
    {
     "data": {
      "text/plain": [
       "[(array([[3, 5, 5, 5],\n",
       "         [5, 3, 3, 0],\n",
       "         [1, 1, 0, 0],\n",
       "         [4, 0, 0, 0]], dtype=uint64),\n",
       "  [[<pyvinecopulib.Bicop>\n",
       "    Gaussian, parameters = 0.681383,\n",
       "    <pyvinecopulib.Bicop>\n",
       "    Gaussian, parameters = 0.0259017,\n",
       "    <pyvinecopulib.Bicop>\n",
       "    Gaussian, parameters = 0.025886],\n",
       "   [<pyvinecopulib.Bicop>\n",
       "    Gaussian, parameters = 0.99,\n",
       "    <pyvinecopulib.Bicop>\n",
       "    Gaussian, parameters = 0.416215],\n",
       "   [<pyvinecopulib.Bicop>\n",
       "    Gaussian, parameters = 0.717181]]),\n",
       " (array([[5, 5, 5, 5],\n",
       "         [3, 3, 3, 0],\n",
       "         [1, 1, 0, 0],\n",
       "         [2, 0, 0, 0]], dtype=uint64),\n",
       "  [[<pyvinecopulib.Bicop>\n",
       "    Gaussian, parameters = 0.829937,\n",
       "    <pyvinecopulib.Bicop>\n",
       "    Gaussian, parameters = 0.0259017,\n",
       "    <pyvinecopulib.Bicop>\n",
       "    Gaussian, parameters = 0.025886],\n",
       "   [<pyvinecopulib.Bicop>\n",
       "    Gaussian, parameters = 0.407694,\n",
       "    <pyvinecopulib.Bicop>\n",
       "    Gaussian, parameters = 0.416215],\n",
       "   [<pyvinecopulib.Bicop>\n",
       "    Gaussian, parameters = 0.875737]])]"
      ]
     },
     "execution_count": 15,
     "metadata": {},
     "output_type": "execute_result"
    }
   ],
   "source": [
    "out1"
   ]
  },
  {
   "cell_type": "code",
   "execution_count": null,
   "id": "39e491b1",
   "metadata": {
    "pycharm": {
     "name": "#%%\n"
    }
   },
   "outputs": [],
   "source": [
    "# apply to T (d=5,j=0)\n",
    "# apply to T (d=5,j=1) if in cond set, but no change, then stop\n",
    "# \n"
   ]
  },
  {
   "cell_type": "code",
   "execution_count": null,
   "id": "58c531a9",
   "metadata": {
    "pycharm": {
     "name": "#%%\n"
    }
   },
   "outputs": [],
   "source": []
  },
  {
   "cell_type": "code",
   "execution_count": null,
   "id": "8f21b263",
   "metadata": {
    "pycharm": {
     "name": "#%%\n"
    }
   },
   "outputs": [],
   "source": [
    "e in a_lst"
   ]
  },
  {
   "cell_type": "code",
   "execution_count": null,
   "id": "699b5967",
   "metadata": {
    "pycharm": {
     "name": "#%%\n"
    }
   },
   "outputs": [],
   "source": [
    "out"
   ]
  },
  {
   "cell_type": "code",
   "execution_count": null,
   "id": "37c15766",
   "metadata": {
    "pycharm": {
     "name": "#%%\n"
    }
   },
   "outputs": [],
   "source": []
  }
 ],
 "metadata": {
  "kernelspec": {
   "display_name": "Python 3 (ipykernel)",
   "language": "python",
   "name": "python3"
  },
  "language_info": {
   "codemirror_mode": {
    "name": "ipython",
    "version": 3
   },
   "file_extension": ".py",
   "mimetype": "text/x-python",
   "name": "python",
   "nbconvert_exporter": "python",
   "pygments_lexer": "ipython3",
   "version": "3.7.11"
  }
 },
 "nbformat": 4,
 "nbformat_minor": 5
}