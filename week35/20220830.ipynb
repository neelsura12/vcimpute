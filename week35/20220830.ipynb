{
 "cells": [
  {
   "cell_type": "code",
   "execution_count": 158,
   "id": "c29d58fe",
   "metadata": {},
   "outputs": [],
   "source": [
    "# Missing data generator\n",
    "\n",
    "# dimension\n",
    "# copula type - low rank gaussian copula, gaussian copula, student-t, clayton (asymmetric), frank\n",
    "# sample size\n",
    "\n",
    "# missingness\n",
    "# one column\n",
    "# multiple column - mononotonic\n",
    "# multiple column - arbitrary\n",
    "\n",
    "import random\n",
    "\n",
    "import numpy as np\n",
    "import pandas as pd\n",
    "from matplotlib import pyplot as plt\n",
    "import seaborn as sns\n",
    "\n",
    "import pyvinecopulib as pv\n",
    "from pyvinecopulib import RVineStructure, CVineStructure, DVineStructure\n",
    "from gcimpute.helper_data import generate_sigma, generate_LRGC, generate_mixed_from_gc\n",
    "from gcimpute.helper_mask import mask_MCAR as gcimpute_mask_MCAR\n",
    "\n",
    "from statsmodels.distributions.empirical_distribution import ECDF\n",
    "from vcimpute.generate_data import make_complete_data_matrix\n",
    "\n",
    "def mask_MCAR(X, mask_fraction, d_mis=None, monotonic_missingness=False):\n",
    "    n = X.shape[0]\n",
    "    d = X.shape[1]\n",
    "    \n",
    "    if d_mis == 1:\n",
    "        X_mask = np.copy(X)\n",
    "        miss_idx = random.choice(list(range(d)))\n",
    "        is_missing = np.random.binomial(n=1,p=mask_fraction,size=X_mask.shape[0]).astype(bool)\n",
    "        X_mask[is_missing, miss_idx] = np.nan\n",
    "    elif monotonic_missingness:\n",
    "        assert d_mis < d\n",
    "        X_mask = np.copy(X)\n",
    "        for j in range(d - d_mis, d):\n",
    "            is_missing = np.random.binomial(n=1,p=mask_fraction,size=n).astype(bool)\n",
    "            X_mask[is_missing, j:] = np.nan\n",
    "    else: \n",
    "        X_mask = gcimpute_mask_MCAR(X, mask_fraction=0.2)\n",
    "    return X_mask\n",
    "\n",
    "def characterize_dependence(X, var):\n",
    "    pass2"
   ]
  },
  {
   "cell_type": "code",
   "execution_count": 159,
   "id": "966fa79c",
   "metadata": {},
   "outputs": [],
   "source": [
    "X = make_complete_data_matrix(n=1000, d=10, copula_type='student', vine_structure='R')"
   ]
  },
  {
   "cell_type": "code",
   "execution_count": 161,
   "id": "d7c754fe",
   "metadata": {},
   "outputs": [],
   "source": [
    "X_mask = mask_MCAR(X, d_mis=1, mask_fraction=0.2)"
   ]
  },
  {
   "cell_type": "raw",
   "id": "ede8ce5d",
   "metadata": {},
   "source": [
    "X_mask = mask_MCAR(X, d_mis=10, mask_fraction=0.05, monotonic_missingness=True)"
   ]
  },
  {
   "cell_type": "raw",
   "id": "49b72319",
   "metadata": {},
   "source": [
    "X_mask = mask_MCAR(X, d_mis=5, mask_fraction=0.2, monotonic_missingness=False)"
   ]
  },
  {
   "cell_type": "code",
   "execution_count": 162,
   "id": "b0b45091",
   "metadata": {},
   "outputs": [
    {
     "data": {
      "text/plain": [
       "array([  0,   0, 196,   0,   0,   0,   0,   0,   0,   0])"
      ]
     },
     "execution_count": 162,
     "metadata": {},
     "output_type": "execute_result"
    }
   ],
   "source": [
    "np.count_nonzero(np.isnan(X_mask), axis=0)"
   ]
  },
  {
   "cell_type": "code",
   "execution_count": 163,
   "id": "88e4705d",
   "metadata": {},
   "outputs": [
    {
     "data": {
      "text/plain": [
       "<AxesSubplot:>"
      ]
     },
     "execution_count": 163,
     "metadata": {},
     "output_type": "execute_result"
    },
    {
     "data": {
      "image/png": "[encoded data removed]",
      "text/plain": [
       "<Figure size 432x288 with 2 Axes>"
      ]
     },
     "metadata": {
      "needs_background": "light"
     },
     "output_type": "display_data"
    }
   ],
   "source": [
    "sns.heatmap(np.where(np.isnan(X_mask),1,0))"
   ]
  },
  {
   "cell_type": "code",
   "execution_count": null,
   "id": "7403832f",
   "metadata": {},
   "outputs": [],
   "source": []
  }
 ],
 "metadata": {
  "kernelspec": {
   "display_name": "Python 3 (ipykernel)",
   "language": "python",
   "name": "python3"
  },
  "language_info": {
   "codemirror_mode": {
    "name": "ipython",
    "version": 3
   },
   "file_extension": ".py",
   "mimetype": "text/x-python",
   "name": "python",
   "nbconvert_exporter": "python",
   "pygments_lexer": "ipython3",
   "version": "3.7.11"
  }
 },
 "nbformat": 4,
 "nbformat_minor": 5
}
