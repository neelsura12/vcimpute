{
 "cells": [
  {
   "cell_type": "code",
   "execution_count": 43,
   "id": "37deeac9",
   "metadata": {},
   "outputs": [],
   "source": [
    "n= 1000\n",
    "d=100\n",
    "rank = 10\n"
   ]
  },
  {
   "cell_type": "code",
   "execution_count": 65,
   "id": "a466eece",
   "metadata": {},
   "outputs": [
    {
     "data": {
      "text/plain": [
       "(100, 100)"
      ]
     },
     "execution_count": 65,
     "metadata": {},
     "output_type": "execute_result"
    }
   ],
   "source": []
  },
  {
   "cell_type": "code",
   "execution_count": 108,
   "id": "2a3e9c3b",
   "metadata": {},
   "outputs": [],
   "source": [
    "# Missing data generator\n",
    "\n",
    "# dimension\n",
    "# copula type - low rank gaussian copula, gaussian copula, student-t, clayton (asymmetric), frank\n",
    "# sample size\n",
    "\n",
    "# missingness\n",
    "# one column\n",
    "# multiple column - mononotonic\n",
    "# multiple column - arbitrary\n",
    "\n",
    "import random\n",
    "import numpy as np\n",
    "from gcimpute.helper_data import generate_sigma, generate_LRGC, generate_mixed_from_gc\n",
    "from pyvinecopulib import RVineStructure, CVineStructure, DVineStructure\n",
    "\n",
    "def generate_rho(d):\n",
    "    \"generates partial correlations\"\n",
    "    rho_unscaled = 2*(np.random.uniform(size=d) - 0.5)\n",
    "    rho = np.sign(rho_unscaled) * np.square(np.abs(rho_unscaled))\n",
    "    return rho\n",
    "\n",
    "def make_complete_data_matrix(n, d, copula_type, **kwargs):\n",
    "    X = None\n",
    "    if copula_type == 'LRGC':\n",
    "        assert 'sigma' in kwargs, 'LRGC needs param sigma'\n",
    "        assert 'rank' in kwargs, 'LRGC needs param rank'\n",
    "        X, _  = generate_LRGC(\n",
    "            var_types={'cont': list(range(d))}, \n",
    "            rank=kwargs['rank'],\n",
    "            sigma=kwargs['sigma'],\n",
    "            n=n\n",
    "        )\n",
    "    elif copula_type == 'gaussian':\n",
    "        if 'vine_structure' in kwargs:\n",
    "        else:\n",
    "            sigma = generate_sigma(p=d)\n",
    "            X = generate_mixed_from_gc(\n",
    "                var_types={'cont': list(range(d))},\n",
    "                n=n,\n",
    "                sigma=sigma\n",
    "            )\n",
    "    elif copula_type in ('student', 'clayton', 'frank'):\n",
    "        assert 'vine_structure' in kwargs:\n",
    "    else:\n",
    "        error_str = f'copula_type must be one of LRGC, gaussian, student, clayton, frank, input {copula_type}'\n",
    "        raise NotImplementedError(error_str)\n",
    "    return X\n",
    "\n",
    "def mask_MCAR(X, n_vars, mask_fraction, missingness):\n",
    "    all_inds = set(range(X.shape[1]))\n",
    "    miss_inds = set()\n",
    "    if n_vars == 1:\n",
    "        miss_ind = random.choice(all_ind)\n",
    "        mid_inds.add(miss_ind)\n",
    "        pass\n",
    "    else:\n",
    "        if missingness == 'monotonic':\n",
    "            # choose missing cols, iteratiely \n",
    "            pass\n",
    "        else: \n",
    "            # call mask_MCAR\n",
    "            pass\n",
    "\n",
    "def characterize_dependence(X, var):\n",
    "    pass"
   ]
  },
  {
   "cell_type": "code",
   "execution_count": 194,
   "id": "fba2f005",
   "metadata": {},
   "outputs": [],
   "source": [
    "import pyvinecopulib as pv"
   ]
  },
  {
   "cell_type": "code",
   "execution_count": null,
   "id": "73657c0b",
   "metadata": {},
   "outputs": [],
   "source": []
  },
  {
   "cell_type": "code",
   "execution_count": 218,
   "id": "3e917208",
   "metadata": {},
   "outputs": [],
   "source": [
    "\n",
    "d=5\n",
    "rho = generate_rho(d*(d-1)//2)\n",
    "arr = make_triangular_array(d)\n",
    "\n",
    "k = 0\n",
    "for j in range(d-1):\n",
    "    for i in range(d-j-1):\n",
    "        arr[i][j] = rho[k]\n",
    "        k+=1"
   ]
  },
  {
   "cell_type": "code",
   "execution_count": 203,
   "id": "f5676aca",
   "metadata": {},
   "outputs": [],
   "source": [
    "\n",
    "def make_triangular_array(d):\n",
    "    pair_copulas = np.empty(shape=(d - 1,), dtype='object')\n",
    "    for j in range(d - 1)[::-1]:\n",
    "        pair_copulas[j] = list(np.empty(shape=(d - j - 1,), dtype='object'))\n",
    "    return list(pair_copulas)"
   ]
  },
  {
   "cell_type": "code",
   "execution_count": 211,
   "id": "a33cd3f1",
   "metadata": {},
   "outputs": [],
   "source": [
    "\n"
   ]
  },
  {
   "cell_type": "code",
   "execution_count": 216,
   "id": "a9596a2d",
   "metadata": {},
   "outputs": [
    {
     "data": {
      "text/plain": [
       "array([-0.0913862 ,  0.00287975,  0.3473423 ,  0.27542223, -0.6153478 ,\n",
       "        0.10379784,  0.7942324 , -0.98150106, -0.84784357, -0.07362165])"
      ]
     },
     "execution_count": 216,
     "metadata": {},
     "output_type": "execute_result"
    }
   ],
   "source": [
    "rho"
   ]
  },
  {
   "cell_type": "code",
   "execution_count": 217,
   "id": "94e286be",
   "metadata": {},
   "outputs": [
    {
     "data": {
      "text/plain": [
       "[[-0.09138620456621056,\n",
       "  -0.6153477978704195,\n",
       "  -0.9815010596842335,\n",
       "  -0.0736216480016216],\n",
       " [0.0028797476545375706, 0.10379783632572825, -0.84784356580883],\n",
       " [0.34734229564571717, 0.7942323997236486],\n",
       " [0.27542222910775127]]"
      ]
     },
     "execution_count": 217,
     "metadata": {},
     "output_type": "execute_result"
    }
   ],
   "source": [
    "arr"
   ]
  },
  {
   "cell_type": "code",
   "execution_count": 215,
   "id": "b925c78b",
   "metadata": {},
   "outputs": [
    {
     "data": {
      "text/plain": [
       "<pyvinecopulib.RVineStructure>\n",
       "2 3 4 5 5 \n",
       "3 4 5 4 \n",
       "4 5 3 \n",
       "5 2 \n",
       "1 "
      ]
     },
     "execution_count": 215,
     "metadata": {},
     "output_type": "execute_result"
    }
   ],
   "source": [
    "pv.RVineStructure(d=5)"
   ]
  }
 ],
 "metadata": {
  "kernelspec": {
   "display_name": "Python 3 (ipykernel)",
   "language": "python",
   "name": "python3"
  },
  "language_info": {
   "codemirror_mode": {
    "name": "ipython",
    "version": 3
   },
   "file_extension": ".py",
   "mimetype": "text/x-python",
   "name": "python",
   "nbconvert_exporter": "python",
   "pygments_lexer": "ipython3",
   "version": "3.7.11"
  }
 },
 "nbformat": 4,
 "nbformat_minor": 5
}
