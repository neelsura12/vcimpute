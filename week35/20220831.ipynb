{
 "cells": [
  {
   "cell_type": "code",
   "execution_count": 22,
   "id": "0f604c6a",
   "metadata": {},
   "outputs": [],
   "source": [
    "import numpy as np\n",
    "import pandas as pd\n",
    "\n",
    "import pyvinecopulib as pv\n",
    "from vcimpute.generate_data import make_complete_data_matrix, mask_MCAR"
   ]
  },
  {
   "cell_type": "code",
   "execution_count": null,
   "id": "5bf738af",
   "metadata": {
    "pycharm": {
     "name": "#%%\n"
    }
   },
   "outputs": [],
   "source": [
    "while cop.order[0] != 15:\n",
    "    X = make_complete_data_matrix(1000, 25, 'clayton', vine_structure='R')\n",
    "\n",
    "    X_mis = mask_MCAR(X, 0.2, 1, monotonic_missingness=True)\n",
    "\n",
    "    missingness = np.count_nonzero(np.isnan(X_mis))/(X_mis.shape[0]*X_mis.shape[1])\n",
    "\n",
    "    controls = pv.FitControlsVinecop(\n",
    "        family_set=[\n",
    "    #     pv.BicopFamily.gaussian, \n",
    "    #     pv.BicopFamily.student, \n",
    "#         pv.BicopFamily.clayton, \n",
    "        pv.BicopFamily.frank\n",
    "    ],\n",
    "    num_threads=10\n",
    "    )\n",
    "    d = X_mis.shape[1]\n",
    "    cop = pv.Vinecop(X_mis, controls=controls)"
   ]
  },
  {
   "cell_type": "code",
   "execution_count": null,
   "id": "57569ae0",
   "metadata": {
    "pycharm": {
     "name": "#%%\n"
    }
   },
   "outputs": [],
   "source": [
    "from gcimpute.gaussian_copula import GaussianCopula\n",
    "from gcimpute.helper_evaluation import get_smae\n",
    "\n",
    "model = GaussianCopula()\n",
    "X_imp = model.fit_transform(X=X_mis)\n",
    "smae = get_smae(x_imp=X_imp, x_true=X, x_obs=X_mis)\n",
    "print(f'SMAE average over all variables: {smae[~np.isnan(smae)].mean():.3f}')"
   ]
  },
  {
   "cell_type": "code",
   "execution_count": null,
   "id": "9665fe92",
   "metadata": {
    "pycharm": {
     "name": "#%%\n"
    }
   },
   "outputs": [],
   "source": [
    "from vcimpute.simulator import simulate_order0, vfunc, find\n",
    "from vcimpute.util import get\n",
    "order0 = simulate_order0(cop, X_mis)\n"
   ]
  },
  {
   "cell_type": "code",
   "execution_count": null,
   "id": "5528257c",
   "metadata": {
    "pycharm": {
     "name": "#%%\n"
    }
   },
   "outputs": [],
   "source": [
    "X_imp = np.copy(X_mis)"
   ]
  },
  {
   "cell_type": "code",
   "execution_count": null,
   "id": "e8ab297d",
   "metadata": {
    "pycharm": {
     "name": "#%%\n"
    }
   },
   "outputs": [],
   "source": [
    "X_imp[np.isnan(X_imp[:, 14]),14] = order0[np.isnan(X_imp[:, 14])]"
   ]
  },
  {
   "cell_type": "code",
   "execution_count": null,
   "id": "5869e4b4",
   "metadata": {
    "pycharm": {
     "name": "#%%\n"
    }
   },
   "outputs": [],
   "source": [
    "\n",
    "smae = get_smae(x_imp=X_imp, x_true=X, x_obs=X_mis)\n",
    "print(f'SMAE average over all variables: {smae[~np.isnan(smae)].mean():.3f}')"
   ]
  }
 ],
 "metadata": {
  "kernelspec": {
   "display_name": "Python 3 (ipykernel)",
   "language": "python",
   "name": "python3"
  },
  "language_info": {
   "codemirror_mode": {
    "name": "ipython",
    "version": 3
   },
   "file_extension": ".py",
   "mimetype": "text/x-python",
   "name": "python",
   "nbconvert_exporter": "python",
   "pygments_lexer": "ipython3",
   "version": "3.7.11"
  }
 },
 "nbformat": 4,
 "nbformat_minor": 5
}