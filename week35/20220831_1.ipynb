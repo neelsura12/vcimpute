{
 "cells": [
  {
   "cell_type": "code",
   "execution_count": 37,
   "id": "0f604c6a",
   "metadata": {},
   "outputs": [],
   "source": [
    "import numpy as np\n",
    "import pandas as pd\n",
    "\n",
    "import pyvinecopulib as pv\n",
    "from gcimpute.helper_evaluation import get_smae\n",
    "from vcimpute.generate_data import make_complete_data_matrix, mask_MCAR\n",
    "from vcimpute.simulator import simulate_order0, simulate_orderk, vfunc, find\n",
    "from vcimpute.util import get, make_triangular_array, get_order"
   ]
  },
  {
   "cell_type": "code",
   "execution_count": 2,
   "id": "96869391",
   "metadata": {},
   "outputs": [],
   "source": [
    "d = 15"
   ]
  },
  {
   "cell_type": "code",
   "execution_count": 3,
   "id": "e519059d",
   "metadata": {},
   "outputs": [],
   "source": [
    "X = make_complete_data_matrix(1000, d, 'clayton', vine_structure='R')\n",
    "Xmis = mask_MCAR(X, mask_fraction=0.2, d_mis=2, monotonic_missingness=True)"
   ]
  },
  {
   "cell_type": "code",
   "execution_count": 10,
   "id": "d3226d9a",
   "metadata": {},
   "outputs": [
    {
     "data": {
      "text/plain": [
       "array([False, False, False, False, False, False, False, False, False,\n",
       "       False, False, False, False,  True,  True])"
      ]
     },
     "execution_count": 10,
     "metadata": {},
     "output_type": "execute_result"
    }
   ],
   "source": [
    "np.any(pd.isnull(Xmis), axis=0)"
   ]
  },
  {
   "cell_type": "raw",
   "id": "ac301964",
   "metadata": {},
   "source": [
    "mat = pv.RVineStructure.simulate(d=d)\n",
    "\n",
    "mat2 = np.zeros(shape=(d,d), dtype=np.uint64)\n",
    "for t in range(d-1):\n",
    "    for e in range(d-t-1):\n",
    "        mat2[t,e] = mat.struct_array(t,e)\n",
    "for j in range(d):\n",
    "    mat2[d-j-1,j] = mat.order[j]\n",
    "\n",
    "mat3 = np.copy(mat2)\n",
    "\n",
    "order = get_order(mat3)\n",
    "if order[0] != d:\n",
    "    prev = mat.order[0]\n",
    "    mat3 = np.where(mat2 == prev, d, mat3)\n",
    "    mat3 = np.where(mat2 == d, prev, mat3)\n",
    "\n",
    "mat2 = mat3\n",
    "order = get_order(mat3)\n",
    "if order[1] != (d-1):\n",
    "    prev = order[1]\n",
    "    mat3 = np.where(mat2 == prev, d-1, mat3)\n",
    "    mat3 = np.where(mat2 == d-1, prev, mat3)\n",
    "\n",
    "structure = pv.RVineStructure(mat3)"
   ]
  },
  {
   "cell_type": "code",
   "execution_count": 76,
   "id": "a6b3fba8",
   "metadata": {},
   "outputs": [],
   "source": [
    "import random"
   ]
  },
  {
   "cell_type": "code",
   "execution_count": 160,
   "id": "420730e4",
   "metadata": {},
   "outputs": [],
   "source": [
    "rest_indices = list(range(1,d-1))\n",
    "random.shuffle(rest_indices)\n",
    "structure = pv.CVineStructure(order=[15,14] + rest_indices)"
   ]
  },
  {
   "cell_type": "code",
   "execution_count": 161,
   "id": "8409ec07",
   "metadata": {},
   "outputs": [
    {
     "data": {
      "text/plain": [
       "<pyvinecopulib.CVineStructure>\n",
       "3 3 3 3 3 3 3 3 3 3 3 3 3 3 3 \n",
       "9 9 9 9 9 9 9 9 9 9 9 9 9 9 \n",
       "12 12 12 12 12 12 12 12 12 12 12 12 12 \n",
       "10 10 10 10 10 10 10 10 10 10 10 10 \n",
       "11 11 11 11 11 11 11 11 11 11 11 \n",
       "4 4 4 4 4 4 4 4 4 4 \n",
       "5 5 5 5 5 5 5 5 5 \n",
       "1 1 1 1 1 1 1 1 \n",
       "8 8 8 8 8 8 8 \n",
       "13 13 13 13 13 13 \n",
       "6 6 6 6 6 \n",
       "2 2 2 2 \n",
       "7 7 7 \n",
       "14 14 \n",
       "15 "
      ]
     },
     "execution_count": 161,
     "metadata": {},
     "output_type": "execute_result"
    }
   ],
   "source": [
    "structure"
   ]
  },
  {
   "cell_type": "code",
   "execution_count": 162,
   "id": "ba82b75d",
   "metadata": {},
   "outputs": [],
   "source": [
    "controls = pv.FitControlsVinecop(family_set=[pv.BicopFamily.clayton], num_threads=10)\n",
    "\n",
    "d = X.shape[1]\n",
    "pcs = make_triangular_array(d)\n",
    "for j in range(d-1):\n",
    "    for i in range(d-j-1):\n",
    "        pcs[i][j] = pv.Bicop()"
   ]
  },
  {
   "cell_type": "code",
   "execution_count": 232,
   "id": "fc5ebc24",
   "metadata": {
    "pycharm": {
     "name": "#%%\n"
    }
   },
   "outputs": [],
   "source": [
    "cop = pv.Vinecop(structure=structure, pair_copulas=pcs)\n",
    "cop.select(Xmis, controls=controls)\n",
    "Ximp = np.copy(Xmis)\n",
    "order1 = simulate_orderk(cop, Xmis, 1)\n",
    "Ximp[np.isnan(Ximp[:,d-2]), d-2] = order1[np.isnan(Ximp[:,d-2])]\n",
    "cop.select(Ximp, controls=controls)\n",
    "order0 = simulate_order0(cop, Ximp)\n",
    "Ximp[np.isnan(Ximp[:,d-1]),d-1] = order0[np.isnan(Ximp[:,d-1])]"
   ]
  },
  {
   "cell_type": "raw",
   "id": "3de76de5",
   "metadata": {},
   "source": [
    "cop = pv.Vinecop(structure=structure, pair_copulas=pcs)\n",
    "cop.select(Xmis, controls=controls)\n",
    "Ximp = np.copy(Xmis)\n",
    "order1 = simulate_orderk(cop, Xmis, 1)\n",
    "Ximp[np.isnan(Ximp[:,d-2]), d-2] = order1[np.isnan(Ximp[:,d-2])]\n",
    "cop = diagonalize.diagonalize_copula(cop, 14, 'clayton')\n",
    "cop.select(Ximp, controls=controls)\n",
    "order1 = simulate_orderk(cop, Xmis, 1)\n",
    "Ximp[np.isnan(Ximp[:,d-1]), d-1] = order1[np.isnan(Ximp[:,d-1])]"
   ]
  },
  {
   "cell_type": "code",
   "execution_count": 233,
   "id": "453b3a4e",
   "metadata": {
    "pycharm": {
     "name": "#%%\n"
    }
   },
   "outputs": [
    {
     "name": "stdout",
     "output_type": "stream",
     "text": [
      "There is no entry to be evaluated in variable 0.\n",
      "There is no entry to be evaluated in variable 1.\n",
      "There is no entry to be evaluated in variable 2.\n",
      "There is no entry to be evaluated in variable 3.\n",
      "There is no entry to be evaluated in variable 4.\n",
      "There is no entry to be evaluated in variable 5.\n",
      "There is no entry to be evaluated in variable 6.\n",
      "There is no entry to be evaluated in variable 7.\n",
      "There is no entry to be evaluated in variable 8.\n",
      "There is no entry to be evaluated in variable 9.\n",
      "There is no entry to be evaluated in variable 10.\n",
      "There is no entry to be evaluated in variable 11.\n",
      "There is no entry to be evaluated in variable 12.\n",
      "SMAE average over all variables: 0.089\n"
     ]
    },
    {
     "data": {
      "text/plain": [
       "array([       nan,        nan,        nan,        nan,        nan,\n",
       "              nan,        nan,        nan,        nan,        nan,\n",
       "              nan,        nan,        nan, 0.06059448, 0.11750986])"
      ]
     },
     "execution_count": 233,
     "metadata": {},
     "output_type": "execute_result"
    }
   ],
   "source": [
    "smae = get_smae(x_imp=Ximp, x_true=X, x_obs=Xmis)\n",
    "print(f'SMAE average over all variables: {smae[~np.isnan(smae)].mean():.3f}')\n",
    "smae"
   ]
  },
  {
   "cell_type": "code",
   "execution_count": 231,
   "id": "40b9b4d9",
   "metadata": {},
   "outputs": [
    {
     "name": "stdout",
     "output_type": "stream",
     "text": [
      "There is no entry to be evaluated in variable 0.\n",
      "There is no entry to be evaluated in variable 1.\n",
      "There is no entry to be evaluated in variable 2.\n",
      "There is no entry to be evaluated in variable 3.\n",
      "There is no entry to be evaluated in variable 4.\n",
      "There is no entry to be evaluated in variable 5.\n",
      "There is no entry to be evaluated in variable 6.\n",
      "There is no entry to be evaluated in variable 7.\n",
      "There is no entry to be evaluated in variable 8.\n",
      "There is no entry to be evaluated in variable 9.\n",
      "There is no entry to be evaluated in variable 10.\n",
      "There is no entry to be evaluated in variable 11.\n",
      "There is no entry to be evaluated in variable 12.\n",
      "SMAE average over all variables: 0.078\n"
     ]
    }
   ],
   "source": [
    "from gcimpute.gaussian_copula import GaussianCopula\n",
    "\n",
    "model = GaussianCopula()\n",
    "Ximp = model.fit_transform(X=Xmis)\n",
    "smae = get_smae(x_imp=Ximp, x_true=X, x_obs=Xmis)\n",
    "print(f'SMAE average over all variables: {smae[~np.isnan(smae)].mean():.3f}')"
   ]
  },
  {
   "cell_type": "code",
   "execution_count": 124,
   "id": "229d9ae7",
   "metadata": {},
   "outputs": [
    {
     "data": {
      "text/plain": [
       "array([       nan,        nan,        nan,        nan,        nan,\n",
       "              nan,        nan,        nan,        nan,        nan,\n",
       "              nan,        nan,        nan, 0.06689449, 0.08871315])"
      ]
     },
     "execution_count": 124,
     "metadata": {},
     "output_type": "execute_result"
    }
   ],
   "source": [
    "smae"
   ]
  },
  {
   "cell_type": "code",
   "execution_count": null,
   "id": "8fdbf65f",
   "metadata": {},
   "outputs": [],
   "source": []
  }
 ],
 "metadata": {
  "kernelspec": {
   "display_name": "Python 3 (ipykernel)",
   "language": "python",
   "name": "python3"
  },
  "language_info": {
   "codemirror_mode": {
    "name": "ipython",
    "version": 3
   },
   "file_extension": ".py",
   "mimetype": "text/x-python",
   "name": "python",
   "nbconvert_exporter": "python",
   "pygments_lexer": "ipython3",
   "version": "3.7.11"
  }
 },
 "nbformat": 4,
 "nbformat_minor": 5
}
