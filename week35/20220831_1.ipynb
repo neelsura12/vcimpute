{
 "cells": [
  {
   "cell_type": "code",
   "execution_count": 1,
   "id": "0f604c6a",
   "metadata": {},
   "outputs": [],
   "source": [
    "import numpy as np\n",
    "import pandas as pd\n",
    "\n",
    "import pyvinecopulib as pv\n",
    "from vcimpute.generate_data import make_complete_data_matrix, mask_MCAR"
   ]
  },
  {
   "cell_type": "code",
   "execution_count": 2,
   "id": "4b647c5d",
   "metadata": {},
   "outputs": [],
   "source": [
    "controls = pv.FitControlsVinecop(family_set=[pv.BicopFamily.clayton], num_threads=10)"
   ]
  },
  {
   "cell_type": "code",
   "execution_count": 3,
   "id": "3839980c",
   "metadata": {},
   "outputs": [],
   "source": [
    "X = make_complete_data_matrix(1000, 5, 'clayton', vine_structure='R')"
   ]
  },
  {
   "cell_type": "code",
   "execution_count": 9,
   "id": "3e74b4cd",
   "metadata": {},
   "outputs": [],
   "source": [
    "Xmis = mask_MCAR(X, mask_fraction=0.2, d_mis=2, monotonic_missingness=True)"
   ]
  },
  {
   "cell_type": "code",
   "execution_count": 54,
   "id": "6a048df1",
   "metadata": {},
   "outputs": [],
   "source": [
    "while (mat.order[0] != 4) or (mat.order[1] != 5): # tmp\n",
    "    mat = pv.RVineStructure.simulate(d=5)"
   ]
  },
  {
   "cell_type": "code",
   "execution_count": 55,
   "id": "4f5f355b",
   "metadata": {},
   "outputs": [],
   "source": [
    "from vcimpute.util import make_triangular_array\n",
    "d=5\n",
    "pcs = make_triangular_array(d)\n",
    "for j in range(d-1):\n",
    "    for i in range(d-j-1):\n",
    "        pcs[i][j] = pv.Bicop()"
   ]
  },
  {
   "cell_type": "code",
   "execution_count": 56,
   "id": "bdd16ced",
   "metadata": {},
   "outputs": [],
   "source": [
    "cop = pv.Vinecop(structure=mat, pair_copulas=pcs)"
   ]
  },
  {
   "cell_type": "code",
   "execution_count": 57,
   "id": "8e9fb887",
   "metadata": {},
   "outputs": [],
   "source": [
    "cop.select(Xmis, controls=controls)"
   ]
  },
  {
   "cell_type": "code",
   "execution_count": 58,
   "id": "ca8af0f8",
   "metadata": {
    "pycharm": {
     "name": "#%%\n"
    }
   },
   "outputs": [],
   "source": [
    "from vcimpute.simulator import simulate_order0, vfunc, find\n",
    "from vcimpute.util import get\n",
    "order0 = simulate_order0(cop, Xmis)\n",
    "Ximp = np.copy(Xmis)\n",
    "Ximp[np.isnan(Ximp[:, 4]), 4] = order0[np.isnan(Ximp[:, 4])]"
   ]
  },
  {
   "cell_type": "code",
   "execution_count": null,
   "id": "b2514c28",
   "metadata": {
    "pycharm": {
     "name": "#%%\n"
    }
   },
   "outputs": [],
   "source": [
    "# 5|4,3,2,1 will not cover cases where 5,4 both missing"
   ]
  },
  {
   "cell_type": "code",
   "execution_count": 60,
   "id": "11d4bc82",
   "metadata": {},
   "outputs": [
    {
     "data": {
      "text/plain": [
       "array([[0.35961661, 0.36356717, 0.37102317, 0.35758188, 0.36624377],\n",
       "       [0.03074983, 0.03065121, 0.03092155, 0.03105175, 0.03133021],\n",
       "       [0.15384843, 0.16419719, 0.15644379,        nan,        nan],\n",
       "       ...,\n",
       "       [0.42958755, 0.44110131, 0.45889572, 0.42874444,        nan],\n",
       "       [0.83487711, 0.84465445, 0.84597579, 0.81958847, 0.8267152 ],\n",
       "       [0.2581658 , 0.25219484, 0.2432745 , 0.26288922, 0.24732774]])"
      ]
     },
     "execution_count": 60,
     "metadata": {},
     "output_type": "execute_result"
    }
   ],
   "source": [
    "Ximp"
   ]
  },
  {
   "cell_type": "raw",
   "id": "e6fc48c6",
   "metadata": {
    "pycharm": {
     "name": "#%%\n"
    }
   },
   "source": [
    "\n",
    "smae = get_smae(x_imp=X_imp, x_true=X, x_obs=X_mis)\n",
    "print(f'SMAE average over all variables: {smae[~np.isnan(smae)].mean():.3f}')"
   ]
  }
 ],
 "metadata": {
  "kernelspec": {
   "display_name": "Python 3 (ipykernel)",
   "language": "python",
   "name": "python3"
  },
  "language_info": {
   "codemirror_mode": {
    "name": "ipython",
    "version": 3
   },
   "file_extension": ".py",
   "mimetype": "text/x-python",
   "name": "python",
   "nbconvert_exporter": "python",
   "pygments_lexer": "ipython3",
   "version": "3.7.11"
  }
 },
 "nbformat": 4,
 "nbformat_minor": 5
}
