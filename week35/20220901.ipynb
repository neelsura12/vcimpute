{
 "cells": [
  {
   "cell_type": "code",
   "execution_count": 1,
   "id": "33eb1a97",
   "metadata": {},
   "outputs": [],
   "source": [
    "import time\n",
    "import numpy as np\n",
    "import pandas as pd\n",
    "\n",
    "import pyvinecopulib as pv\n",
    "from gcimpute.helper_evaluation import get_smae\n",
    "from vcimpute.generate_data import make_complete_data_matrix, mask_MCAR\n",
    "from vcimpute.zeisberger import VineCopReg\n",
    "from gcimpute.gaussian_copula import GaussianCopula"
   ]
  },
  {
   "cell_type": "code",
   "execution_count": null,
   "id": "ae35a537",
   "metadata": {},
   "outputs": [],
   "source": [
    "%%capture\n",
    "\n",
    "n = 1000\n",
    "R = 10\n",
    "out = []\n",
    "for d, d_mis in [(10,2), (10,3), (10,4), (10,5), (25, 5), (25, 7), (25, 9), (25, 11)]:\n",
    "    for mask_fraction in [0.1, 0.2, 0.3, 0.4]:\n",
    "        for copula_type in ['gaussian', 'clayton', 'frank', 'student']:\n",
    "            for r in range(R):\n",
    "                X = make_complete_data_matrix(n, d, copula_type, vine_structure='R')\n",
    "                X_mis = mask_MCAR(X, mask_fraction=mask_fraction, d_mis=d_mis, monotonic_missingness=True)\n",
    "                missingness = np.count_nonzero(np.isnan(X_mis))/(n*d)\n",
    "\n",
    "                start = time.process_time()\n",
    "                X_imp = VineCopReg([copula_type], 10, 'R').fit_transform(X_mis)\n",
    "                end = time.process_time()\n",
    "\n",
    "                smae = get_smae(x_imp=X_imp, x_true=X, x_obs=X_mis)\n",
    "                smae_mean = smae[~np.isnan(smae)].mean()\n",
    "                \n",
    "                out.append((smae_mean, end-start, 'vcimpute', n, d, d_mis, mask_fraction, missingness, r))\n",
    "                \n",
    "                start = time.process_time()\n",
    "                X_imp = GaussianCopula().fit_transform(X_mis)\n",
    "                end = time.process_time()\n",
    "\n",
    "                smae = get_smae(x_imp=X_imp, x_true=X, x_obs=X_mis)\n",
    "                smae_mean = smae[~np.isnan(smae)].mean()\n",
    "                out.append((smae_mean, end-start, 'gcimpute', n, d, d_mis, mask_fraction, missingness, r))"
   ]
  },
  {
   "cell_type": "code",
   "execution_count": null,
   "id": "29297807",
   "metadata": {},
   "outputs": [],
   "source": [
    "df = pd.DataFrame(out, columns=['smae', 'elapsed', 'method', 'n', 'd', 'd_mis', 'mask_frac', 'missingness', 'rep'])"
   ]
  },
  {
   "cell_type": "code",
   "execution_count": null,
   "id": "defd8972",
   "metadata": {},
   "outputs": [],
   "source": [
    "1+1"
   ]
  }
 ],
 "metadata": {
  "kernelspec": {
   "display_name": "Python 3 (ipykernel)",
   "language": "python",
   "name": "python3"
  },
  "language_info": {
   "codemirror_mode": {
    "name": "ipython",
    "version": 3
   },
   "file_extension": ".py",
   "mimetype": "text/x-python",
   "name": "python",
   "nbconvert_exporter": "python",
   "pygments_lexer": "ipython3",
   "version": "3.7.11"
  }
 },
 "nbformat": 4,
 "nbformat_minor": 5
}
