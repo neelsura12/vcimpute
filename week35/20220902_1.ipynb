{
 "cells": [
  {
   "cell_type": "code",
   "execution_count": 16,
   "id": "4826d623",
   "metadata": {},
   "outputs": [],
   "source": [
    "from copy import deepcopy\n",
    "\n",
    "import numpy as np\n",
    "import pandas as pd\n",
    "\n",
    "import pyvinecopulib as pv\n",
    "from vcimpute.generate_data import make_complete_data_matrix, mask_MCAR\n",
    "from vcimpute.util import make_triangular_array\n",
    "from vcimpute.sub_vines import remove_column, remove_inbetween\n",
    "\n",
    "# def remove_inbetween(T_in, pair_copulas_in, var_mis, j):\n",
    "# def remove_column(T_in, pair_copulas_in, var_mis, j):"
   ]
  },
  {
   "cell_type": "code",
   "execution_count": 17,
   "id": "26eaaca9",
   "metadata": {},
   "outputs": [],
   "source": [
    "class VineCopFit:\n",
    "    pass"
   ]
  },
  {
   "cell_type": "code",
   "execution_count": 18,
   "id": "5da84876",
   "metadata": {},
   "outputs": [],
   "source": [
    "X = make_complete_data_matrix(n=1000,d=5,copula_type='gaussian')\n",
    "X_mis = mask_MCAR(X, d_mis=2, mask_fraction=.2, monotonic_missingness=True)\n",
    "controls = pv.FitControlsVinecop(family_set=[pv.BicopFamily.gaussian], num_threads=10)\n",
    "cop = pv.Vinecop(data=X_mis, controls=controls)"
   ]
  },
  {
   "cell_type": "code",
   "execution_count": 40,
   "id": "b91fe4c0",
   "metadata": {},
   "outputs": [],
   "source": [
    "var_mis = 4\n",
    "d = 5\n",
    "T_tmp = T\n",
    "pcs_tmp = pcs\n",
    "for j in range(d-2):\n",
    "    if (T_tmp[d-2,0] == var_mis) or (T_tmp[d-1,0] == var_mis):\n",
    "        continue\n",
    "    T_tmp0, pcs_tmp0 = remove_inbetween(T_tmp, pcs_tmp, var_mis, j)\n",
    "    T_tmp0, pcs_tmp0 = remove_inbetween(T_tmp, pcs_tmp, var_mis, j)\n",
    "    break"
   ]
  },
  {
   "cell_type": "code",
   "execution_count": 44,
   "id": "c91ec4cb",
   "metadata": {},
   "outputs": [
    {
     "data": {
      "text/plain": [
       "2"
      ]
     },
     "execution_count": 44,
     "metadata": {},
     "output_type": "execute_result"
    }
   ],
   "source": [
    "T_tmp[d-2,0]"
   ]
  },
  {
   "cell_type": "code",
   "execution_count": 42,
   "id": "c485c9ed",
   "metadata": {},
   "outputs": [
    {
     "ename": "SyntaxError",
     "evalue": "invalid syntax (2091818123.py, line 1)",
     "output_type": "error",
     "traceback": [
      "\u001b[0;36m  File \u001b[0;32m\"/var/folders/6j/tj0_jn4123ld3w6lbbkzf7g80000gp/T/ipykernel_97454/2091818123.py\"\u001b[0;36m, line \u001b[0;32m1\u001b[0m\n\u001b[0;31m    if T_tmp[d-2,0]\u001b[0m\n\u001b[0m                   ^\u001b[0m\n\u001b[0;31mSyntaxError\u001b[0m\u001b[0;31m:\u001b[0m invalid syntax\n"
     ]
    }
   ],
   "source": []
  },
  {
   "cell_type": "code",
   "execution_count": 41,
   "id": "7c05c3b7",
   "metadata": {},
   "outputs": [
    {
     "data": {
      "text/plain": [
       "(array([[1, 4, 4],\n",
       "        [4, 1, 0],\n",
       "        [5, 0, 0]], dtype=uint64),\n",
       " [[<pyvinecopulib.Bicop>\n",
       "   Gaussian, parameters = -0.560197,\n",
       "   <pyvinecopulib.Bicop>\n",
       "   Gaussian, parameters = 0.431026],\n",
       "  [<pyvinecopulib.Bicop>\n",
       "   Gaussian, parameters = 0.199507]])"
      ]
     },
     "execution_count": 41,
     "metadata": {},
     "output_type": "execute_result"
    }
   ],
   "source": [
    "remove_inbetween(T_tmp, pcs_tmp, var_mis, 0)"
   ]
  },
  {
   "cell_type": "code",
   "execution_count": 8,
   "id": "b6dc8397",
   "metadata": {},
   "outputs": [],
   "source": [
    "T2, pcs2 = remove_inbetween(T, pcs, 4, 0)"
   ]
  },
  {
   "cell_type": "code",
   "execution_count": 15,
   "id": "91a37698",
   "metadata": {},
   "outputs": [
    {
     "data": {
      "text/plain": [
       "(array([[1, 4, 4],\n",
       "        [4, 1, 0],\n",
       "        [5, 0, 0]], dtype=uint64),\n",
       " [[<pyvinecopulib.Bicop>\n",
       "   Gaussian, parameters = -0.575671,\n",
       "   <pyvinecopulib.Bicop>\n",
       "   Gaussian, parameters = 0.435853],\n",
       "  [<pyvinecopulib.Bicop>\n",
       "   Gaussian, parameters = 0.173239]])"
      ]
     },
     "execution_count": 15,
     "metadata": {},
     "output_type": "execute_result"
    }
   ],
   "source": [
    "remove_inbetween(T2, pcs2, 4, 1)"
   ]
  },
  {
   "cell_type": "code",
   "execution_count": 7,
   "id": "d49f38f1",
   "metadata": {},
   "outputs": [
    {
     "data": {
      "text/plain": [
       "(array([[4, 3, 4, 4],\n",
       "        [3, 4, 3, 0],\n",
       "        [2, 2, 0, 0],\n",
       "        [1, 0, 0, 0]], dtype=uint64),\n",
       " [[<pyvinecopulib.Bicop>\n",
       "   Gaussian, parameters = 0.435853,\n",
       "   <pyvinecopulib.Bicop>\n",
       "   Gaussian, parameters = -0.832617,\n",
       "   <pyvinecopulib.Bicop>\n",
       "   Gaussian, parameters = 0.464156],\n",
       "  [<pyvinecopulib.Bicop>\n",
       "   Gaussian, parameters = -0.222012,\n",
       "   <pyvinecopulib.Bicop>\n",
       "   Gaussian, parameters = 0.268009],\n",
       "  [<pyvinecopulib.Bicop>\n",
       "   Gaussian, parameters = -0.550512]])"
      ]
     },
     "execution_count": 7,
     "metadata": {},
     "output_type": "execute_result"
    }
   ],
   "source": [
    "remove_column(T, pcs, 4, 0)"
   ]
  },
  {
   "cell_type": "code",
   "execution_count": null,
   "id": "4d143236",
   "metadata": {},
   "outputs": [],
   "source": [
    "# run above functions iteratively"
   ]
  },
  {
   "cell_type": "raw",
   "id": "2310fbff",
   "metadata": {},
   "source": [
    "miss_vars, = np.where(np.count_nonzero(np.isnan(X_mis), axis=0))\n",
    "miss_vars += 1\n",
    "miss_vars = miss_vars.astype(np.uint64)\n",
    "\n",
    "\n",
    "\n",
    "\n",
    "\n",
    "miss_vars\n",
    "\n",
    "# check if any missing var already leaf in cop, impute that last, with complete info\n",
    "# else impute from least missing to most\n",
    " # remove missing variables\n",
    "\n",
    "T = cop.matrix\n",
    "impute_var = 4\n",
    "\n",
    "miss_vars[miss_vars!=4]\n",
    "\n",
    "\n",
    "\n",
    "remove_inbetween(T_in=T, pair_copulas_in=cop.pair_copulas, var_mis=4, j=1)\n",
    "\n",
    "T_in = T\n",
    "var_mis = 4\n",
    "j = 0\n",
    "\n",
    "order\n",
    "\n",
    "var_del\n",
    "\n",
    "T_tmp\n",
    "\n",
    "d = T_in.shape[0]\n",
    "if var_mis in T_in[:d - j - 2, j]:\n",
    "    T_tmp = deepcopy(T_in)\n",
    "    k = np.where(T_tmp[:d - j - 1, j] == var_mis)[0].item()\n",
    "    T_tmp[(k + 1):d - j - 1, j] = 0\n",
    "    order = [T_tmp[d - j - 1, j] for j in range(d)]\n",
    "    for var_del in T_in[(k + 1):d - j - 1, j]:\n",
    "        T_tmp[:, order.index(var_del)] = 0\n",
    "        T_tmp = np.where(T_tmp == var_del, 0, T_tmp)\n",
    "\n",
    "\n",
    "\n",
    "T_tmp\n",
    "\n"
   ]
  }
 ],
 "metadata": {
  "kernelspec": {
   "display_name": "Python 3 (ipykernel)",
   "language": "python",
   "name": "python3"
  },
  "language_info": {
   "codemirror_mode": {
    "name": "ipython",
    "version": 3
   },
   "file_extension": ".py",
   "mimetype": "text/x-python",
   "name": "python",
   "nbconvert_exporter": "python",
   "pygments_lexer": "ipython3",
   "version": "3.7.11"
  }
 },
 "nbformat": 4,
 "nbformat_minor": 5
}
