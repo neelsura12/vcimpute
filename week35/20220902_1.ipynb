{
 "cells": [
  {
   "cell_type": "code",
   "execution_count": 1,
   "id": "f6b30cda",
   "metadata": {},
   "outputs": [],
   "source": [
    "from copy import deepcopy\n",
    "\n",
    "import numpy as np\n",
    "import pandas as pd\n",
    "\n",
    "import pyvinecopulib as pv\n",
    "from vcimpute.helper_datagen import make_complete_data_matrix, mask_MCAR\n",
    "from vcimpute.helper_subvines import find_subvine_structures, remove_column, remove_inbetween\n",
    "from vcimpute.utils import make_triangular_array, is_leaf_in_all_subtrees"
   ]
  },
  {
   "cell_type": "code",
   "execution_count": 2,
   "id": "e375b06c",
   "metadata": {},
   "outputs": [],
   "source": [
    "class VineCopFit:\n",
    "    pass"
   ]
  },
  {
   "cell_type": "code",
   "execution_count": 3,
   "id": "522a8c99",
   "metadata": {},
   "outputs": [],
   "source": [
    "X = make_complete_data_matrix(n=1000,d=10,copula_type='gaussian')\n",
    "X_mis = mask_MCAR(X, d_mis=4, mask_fraction=.2, monotonic_missingness=True)\n",
    "controls = pv.FitControlsVinecop(family_set=[pv.BicopFamily.gaussian], num_threads=10)\n",
    "cop = pv.Vinecop(data=X_mis, controls=controls)"
   ]
  },
  {
   "cell_type": "code",
   "execution_count": 4,
   "id": "c68decf1",
   "metadata": {},
   "outputs": [],
   "source": [
    "T = cop.matrix\n",
    "pcs = cop.pair_copulas"
   ]
  },
  {
   "cell_type": "code",
   "execution_count": 5,
   "id": "9ccb3575",
   "metadata": {},
   "outputs": [],
   "source": [
    "miss_vars, = np.where(np.count_nonzero(np.isnan(X_mis), axis=0))\n",
    "miss_vars += 1\n",
    "miss_vars = miss_vars.astype(np.uint64)"
   ]
  },
  {
   "cell_type": "code",
   "execution_count": 6,
   "id": "79b36ac2",
   "metadata": {},
   "outputs": [],
   "source": [
    "last_impute_var = None\n",
    "for var_mis in miss_vars:\n",
    "    if is_leaf_in_all_subtrees(T, var_mis):\n",
    "        last_impute_var = var_mis\n",
    "if last_impute_var:\n",
    "    miss_vars = miss_vars[miss_vars != last_impute_var]"
   ]
  },
  {
   "cell_type": "code",
   "execution_count": 7,
   "id": "ea422fd4",
   "metadata": {},
   "outputs": [
    {
     "data": {
      "text/plain": [
       "[(array([[3, 1, 4, 4, 4],\n",
       "         [1, 4, 7, 7, 0],\n",
       "         [4, 7, 1, 0, 0],\n",
       "         [7, 3, 0, 0, 0],\n",
       "         [9, 0, 0, 0, 0]], dtype=uint64),\n",
       "  [[<pyvinecopulib.Bicop>\n",
       "    Gaussian, parameters = -0.685432,\n",
       "    <pyvinecopulib.Bicop>\n",
       "    Gaussian, parameters = -0.572715,\n",
       "    <pyvinecopulib.Bicop>\n",
       "    Gaussian, parameters = -0.343964,\n",
       "    <pyvinecopulib.Bicop>\n",
       "    Gaussian, parameters = -0.424838],\n",
       "   [<pyvinecopulib.Bicop>\n",
       "    Gaussian, parameters = 0.237991,\n",
       "    <pyvinecopulib.Bicop>\n",
       "    Gaussian, parameters = -0.257414,\n",
       "    <pyvinecopulib.Bicop>\n",
       "    Gaussian, parameters = 0.081314],\n",
       "   [<pyvinecopulib.Bicop>\n",
       "    Gaussian, parameters = 0.280469,\n",
       "    <pyvinecopulib.Bicop>\n",
       "    Gaussian, parameters = -0.366956],\n",
       "   [<pyvinecopulib.Bicop>\n",
       "    Gaussian, parameters = 0.338044]]),\n",
       " (array([[1, 4, 4, 4],\n",
       "         [4, 7, 7, 0],\n",
       "         [7, 1, 0, 0],\n",
       "         [3, 0, 0, 0]], dtype=uint64),\n",
       "  [[<pyvinecopulib.Bicop>\n",
       "    Gaussian, parameters = -0.572715,\n",
       "    <pyvinecopulib.Bicop>\n",
       "    Gaussian, parameters = -0.343964,\n",
       "    <pyvinecopulib.Bicop>\n",
       "    Gaussian, parameters = -0.424838],\n",
       "   [<pyvinecopulib.Bicop>\n",
       "    Gaussian, parameters = -0.257414,\n",
       "    <pyvinecopulib.Bicop>\n",
       "    Gaussian, parameters = 0.081314],\n",
       "   [<pyvinecopulib.Bicop>\n",
       "    Gaussian, parameters = -0.366956]]),\n",
       " (array([[10,  7,  7],\n",
       "         [ 7, 10,  0],\n",
       "         [ 6,  0,  0]], dtype=uint64),\n",
       "  [[<pyvinecopulib.Bicop>\n",
       "    Gaussian, parameters = 0.675998,\n",
       "    <pyvinecopulib.Bicop>\n",
       "    Gaussian, parameters = 0.51821],\n",
       "   [<pyvinecopulib.Bicop>\n",
       "    Gaussian, parameters = 0.0352373]]),\n",
       " (array([[4, 4, 4],\n",
       "         [7, 7, 0],\n",
       "         [1, 0, 0]], dtype=uint64),\n",
       "  [[<pyvinecopulib.Bicop>\n",
       "    Gaussian, parameters = -0.343964,\n",
       "    <pyvinecopulib.Bicop>\n",
       "    Gaussian, parameters = -0.424838],\n",
       "   [<pyvinecopulib.Bicop>\n",
       "    Gaussian, parameters = 0.081314]]),\n",
       " (array([[4, 4, 4],\n",
       "         [7, 7, 0],\n",
       "         [5, 0, 0]], dtype=uint64),\n",
       "  [[<pyvinecopulib.Bicop>\n",
       "    Gaussian, parameters = -0.273036,\n",
       "    <pyvinecopulib.Bicop>\n",
       "    Gaussian, parameters = -0.424838],\n",
       "   [<pyvinecopulib.Bicop>\n",
       "    Gaussian, parameters = -0.232393]]),\n",
       " (array([[7, 7],\n",
       "         [2, 0]], dtype=uint64),\n",
       "  [[<pyvinecopulib.Bicop>\n",
       "    Gaussian, parameters = 0.464821]]),\n",
       " (array([[ 7,  7],\n",
       "         [10,  0]], dtype=uint64),\n",
       "  [[<pyvinecopulib.Bicop>\n",
       "    Gaussian, parameters = 0.51821]]),\n",
       " (array([[4, 8, 8],\n",
       "         [8, 4, 0],\n",
       "         [7, 0, 0]], dtype=uint64),\n",
       "  [[<pyvinecopulib.Bicop>\n",
       "    Gaussian, parameters = -0.424838,\n",
       "    <pyvinecopulib.Bicop>\n",
       "    Gaussian, parameters = 0.823653],\n",
       "   [<pyvinecopulib.Bicop>\n",
       "    Gaussian, parameters = 0.255555]])]"
      ]
     },
     "execution_count": 7,
     "metadata": {},
     "output_type": "execute_result"
    }
   ],
   "source": [
    "find_subvine_structures(T, pcs, 7)"
   ]
  },
  {
   "cell_type": "code",
   "execution_count": null,
   "id": "10f24a67",
   "metadata": {},
   "outputs": [],
   "source": []
  }
 ],
 "metadata": {
  "kernelspec": {
   "display_name": "Python 3 (ipykernel)",
   "language": "python",
   "name": "python3"
  },
  "language_info": {
   "codemirror_mode": {
    "name": "ipython",
    "version": 3
   },
   "file_extension": ".py",
   "mimetype": "text/x-python",
   "name": "python",
   "nbconvert_exporter": "python",
   "pygments_lexer": "ipython3",
   "version": "3.7.11"
  }
 },
 "nbformat": 4,
 "nbformat_minor": 5
}
