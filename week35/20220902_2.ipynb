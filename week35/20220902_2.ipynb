{
 "cells": [
  {
   "cell_type": "code",
   "execution_count": 26,
   "id": "a5f6015c",
   "metadata": {},
   "outputs": [],
   "source": [
    "import numpy as np\n",
    "from matplotlib import pyplot as plt\n",
    "import pyvinecopulib as pv\n",
    "from vcimpute.simulator import simulate_order_k\n",
    "from vcimpute.helper_datagen import make_complete_data_matrix"
   ]
  },
  {
   "cell_type": "code",
   "execution_count": 27,
   "id": "3c05f0d4",
   "metadata": {},
   "outputs": [],
   "source": [
    "X = make_complete_data_matrix(1000, 5, 'gaussian', vine_structure='R')"
   ]
  },
  {
   "cell_type": "code",
   "execution_count": 28,
   "id": "fa3db2ee",
   "metadata": {},
   "outputs": [],
   "source": [
    "controls = pv.FitControlsVinecop(family_set=[pv.BicopFamily.gaussian])"
   ]
  },
  {
   "cell_type": "code",
   "execution_count": 29,
   "id": "fb347826",
   "metadata": {},
   "outputs": [],
   "source": [
    "cop = pv.Vinecop(data=X, controls=controls)"
   ]
  },
  {
   "cell_type": "code",
   "execution_count": 30,
   "id": "d8c96802",
   "metadata": {},
   "outputs": [],
   "source": [
    "orderk = simulate_order_k(cop, X, 0)"
   ]
  },
  {
   "cell_type": "code",
   "execution_count": 31,
   "id": "9f36f63a",
   "metadata": {},
   "outputs": [
    {
     "data": {
      "text/plain": [
       "array([[ 1.        , -0.20172959, -0.65861843, -0.09602002, -0.03581777],\n",
       "       [-0.20172959,  1.        ,  0.18195781,  0.6980513 , -0.1512868 ],\n",
       "       [-0.65861843,  0.18195781,  1.        , -0.28463508,  0.11604555],\n",
       "       [-0.09602002,  0.6980513 , -0.28463508,  1.        , -0.44637638],\n",
       "       [-0.03581777, -0.1512868 ,  0.11604555, -0.44637638,  1.        ]])"
      ]
     },
     "execution_count": 31,
     "metadata": {},
     "output_type": "execute_result"
    }
   ],
   "source": [
    "np.corrcoef(X.T)"
   ]
  },
  {
   "cell_type": "code",
   "execution_count": 32,
   "id": "6e992b13",
   "metadata": {},
   "outputs": [
    {
     "data": {
      "text/plain": [
       "0"
      ]
     },
     "execution_count": 32,
     "metadata": {},
     "output_type": "execute_result"
    }
   ],
   "source": [
    "d = len(cop.order)\n",
    "ind = cop.order[0]-1\n",
    "ind"
   ]
  },
  {
   "cell_type": "code",
   "execution_count": 33,
   "id": "3ae6a208",
   "metadata": {},
   "outputs": [
    {
     "name": "stdout",
     "output_type": "stream",
     "text": [
      "0 0.6702509970131398\n",
      "1 -0.203244571520956\n",
      "2 -0.642810860019595\n",
      "3 -0.07934915595594833\n",
      "4 -0.09035316135391348\n"
     ]
    }
   ],
   "source": [
    "for i in range(X.shape[1]):\n",
    "    print(i, np.corrcoef(X[:, i], orderk)[0][1])"
   ]
  },
  {
   "cell_type": "code",
   "execution_count": 34,
   "id": "f8e1e2d2",
   "metadata": {},
   "outputs": [
    {
     "data": {
      "text/plain": [
       "array([[1.      , 0.670251],\n",
       "       [0.670251, 1.      ]])"
      ]
     },
     "execution_count": 34,
     "metadata": {},
     "output_type": "execute_result"
    }
   ],
   "source": [
    "np.corrcoef(X[:,ind], orderk)"
   ]
  },
  {
   "cell_type": "code",
   "execution_count": null,
   "id": "fdad04a8",
   "metadata": {},
   "outputs": [],
   "source": []
  }
 ],
 "metadata": {
  "kernelspec": {
   "display_name": "Python 3 (ipykernel)",
   "language": "python",
   "name": "python3"
  },
  "language_info": {
   "codemirror_mode": {
    "name": "ipython",
    "version": 3
   },
   "file_extension": ".py",
   "mimetype": "text/x-python",
   "name": "python",
   "nbconvert_exporter": "python",
   "pygments_lexer": "ipython3",
   "version": "3.7.11"
  }
 },
 "nbformat": 4,
 "nbformat_minor": 5
}
