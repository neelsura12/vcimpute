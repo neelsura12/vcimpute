{
 "cells": [
  {
   "cell_type": "code",
   "execution_count": 1,
   "id": "f6b30cda",
   "metadata": {},
   "outputs": [],
   "source": [
    "from copy import deepcopy\n",
    "\n",
    "import numpy as np\n",
    "import pandas as pd\n",
    "\n",
    "import pyvinecopulib as pv\n",
    "from vcimpute.helper_datagen import make_complete_data_matrix, mask_MCAR\n",
    "from vcimpute.helper_subvines import find_subvine_structures, remove_column, remove_inbetween, remove_var\n",
    "from vcimpute.helper_vinestructs import relabel_vine_mat\n",
    "from vcimpute.helper_diagonalize import diagonalize_copula\n",
    "from vcimpute.simulator import simulate_order_k\n",
    "from vcimpute.utils import make_triangular_array, is_leaf_in_all_subtrees"
   ]
  },
  {
   "cell_type": "code",
   "execution_count": 2,
   "id": "e375b06c",
   "metadata": {},
   "outputs": [],
   "source": [
    "class VineCopFit:\n",
    "    pass"
   ]
  },
  {
   "cell_type": "code",
   "execution_count": 3,
   "id": "522a8c99",
   "metadata": {},
   "outputs": [],
   "source": [
    "X = make_complete_data_matrix(n=1000,d=10,copula_type='gaussian')\n",
    "Xmis = mask_MCAR(X, d_mis=4, mask_fraction=.2, monotonic_missingness=True)\n",
    "controls = pv.FitControlsVinecop(family_set=[pv.BicopFamily.gaussian], num_threads=10)\n",
    "cop = pv.Vinecop(data=Xmis, controls=controls)"
   ]
  },
  {
   "cell_type": "code",
   "execution_count": 4,
   "id": "c68decf1",
   "metadata": {},
   "outputs": [],
   "source": [
    "T = cop.matrix\n",
    "pcs = cop.pair_copulas"
   ]
  },
  {
   "cell_type": "code",
   "execution_count": 5,
   "id": "9ccb3575",
   "metadata": {},
   "outputs": [],
   "source": [
    "miss_vars, = np.where(np.count_nonzero(np.isnan(Xmis), axis=0))\n",
    "miss_vars += 1\n",
    "miss_vars = miss_vars.astype(np.uint64)"
   ]
  },
  {
   "cell_type": "code",
   "execution_count": 6,
   "id": "899cd539",
   "metadata": {},
   "outputs": [],
   "source": [
    "# tmp\n",
    "T,pcs = remove_var(T,pcs,7)\n",
    "T,pcs = remove_var(T,pcs,8)\n",
    "T,pcs = remove_var(T,pcs,9)"
   ]
  },
  {
   "cell_type": "code",
   "execution_count": 7,
   "id": "21e6e3fa",
   "metadata": {},
   "outputs": [
    {
     "data": {
      "text/plain": [
       "array([[ 4, 10, 10,  4,  1,  4,  4],\n",
       "       [10,  2,  4,  1,  4,  1,  0],\n",
       "       [ 2,  4,  1,  3,  3,  0,  0],\n",
       "       [ 1,  1,  3, 10,  0,  0,  0],\n",
       "       [ 6,  3,  2,  0,  0,  0,  0],\n",
       "       [ 3,  6,  0,  0,  0,  0,  0],\n",
       "       [ 5,  0,  0,  0,  0,  0,  0]], dtype=uint64)"
      ]
     },
     "execution_count": 7,
     "metadata": {},
     "output_type": "execute_result"
    }
   ],
   "source": [
    "T"
   ]
  },
  {
   "cell_type": "raw",
   "id": "2d3f7ed7",
   "metadata": {},
   "source": [
    "last_impute_var = None\n",
    "for var_mis in miss_vars:\n",
    "    if is_leaf_in_all_subtrees(T, var_mis):\n",
    "        last_impute_var = var_mis\n",
    "if last_impute_var:\n",
    "    miss_vars = miss_vars[miss_vars != last_impute_var]"
   ]
  },
  {
   "cell_type": "code",
   "execution_count": 9,
   "id": "84e8077c",
   "metadata": {},
   "outputs": [],
   "source": [
    "Ximp = np.copy(Xmis)\n",
    "\n",
    "for var_mis in miss_vars[::-1]:\n",
    "    subvine_structures = find_subvine_structures(T, pcs, var_mis)\n",
    "    \n",
    "    ximp = []\n",
    "    \n",
    "    for Tsub, pcs_sub in subvine_structures:\n",
    "        d2 = Tsub.shape[0]\n",
    "        assert (Tsub[d2-1,0] == var_mis) or (Tsub[d2-2,0] == var_mis)\n",
    "        \n",
    "        ordered_old_vars = filter(lambda x: x != 0, np.unique(Tsub))\n",
    "        old_to_new = {var_old: k + 1 for k,  var_old in enumerate(ordered_old_vars)}\n",
    "        new_to_old = {v: k for k, v in old_to_new.items()}\n",
    "        Tnew = relabel_vine_mat(Tsub, old_to_new)\n",
    "        cop = pv.Vinecop(structure=pv.RVineStructure(Tnew), pair_copulas=pcs_sub)\n",
    "        Ximp2 = Ximp[:, [int(new_to_old[i+1] - 1) for i in range(len(new_to_old))]]\n",
    "\n",
    "        \n",
    "        if (Tsub[d2-2,0] == var_mis) and (Tsub[d2-2,1] == var_mis):\n",
    "            cop = diagonalize_copula(cop, cop.order[1])\n",
    "            ximp.append(simulate_order_k(cop, Ximp2, 0))\n",
    "\n",
    "        if Tsub[d2-1,0] == var_mis:\n",
    "            ximp.append(simulate_order_k(cop, Ximp2, 0))\n",
    "    \n",
    "    ximp = np.vstack(ximp).T\n",
    "    n_avail = ximp.shape[1] - np.count_nonzero(np.isnan(ximp),axis=1)\n",
    "    assert np.all(n_avail) > 0\n",
    "    idx_mis = int(var_mis - 1)\n",
    "    missing = np.isnan(Ximp[:, idx_mis])\n",
    "    Ximp[missing, idx_mis] = np.nansum(ximp[missing],axis=1) / n_avail[missing]\n",
    "    break"
   ]
  },
  {
   "cell_type": "code",
   "execution_count": 13,
   "id": "59b6c711",
   "metadata": {},
   "outputs": [
    {
     "data": {
      "text/plain": [
       "False"
      ]
     },
     "execution_count": 13,
     "metadata": {},
     "output_type": "execute_result"
    }
   ],
   "source": [
    "np.any(np.isnan(Ximp[:, 9]))"
   ]
  }
 ],
 "metadata": {
  "kernelspec": {
   "display_name": "Python 3 (ipykernel)",
   "language": "python",
   "name": "python3"
  },
  "language_info": {
   "codemirror_mode": {
    "name": "ipython",
    "version": 3
   },
   "file_extension": ".py",
   "mimetype": "text/x-python",
   "name": "python",
   "nbconvert_exporter": "python",
   "pygments_lexer": "ipython3",
   "version": "3.7.11"
  }
 },
 "nbformat": 4,
 "nbformat_minor": 5
}
