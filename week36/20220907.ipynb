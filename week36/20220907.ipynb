{
 "cells": [
  {
   "cell_type": "code",
   "execution_count": 1,
   "id": "f6b30cda",
   "metadata": {},
   "outputs": [],
   "source": [
    "from copy import deepcopy\n",
    "\n",
    "import numpy as np\n",
    "import pandas as pd\n",
    "\n",
    "import pyvinecopulib as pv\n",
    "from vcimpute.helper_datagen import make_complete_data_matrix, mask_MCAR\n",
    "from vcimpute.helper_subvines import find_subvine_structures, remove_column, remove_inbetween, remove_var\n",
    "from vcimpute.helper_vinestructs import relabel_vine_mat, natural_order_mat\n",
    "from vcimpute.helper_diagonalize import diagonalize_copula\n",
    "from vcimpute.simulator import simulate_order_k\n",
    "from vcimpute.utils import make_triangular_array, is_leaf_in_all_subtrees"
   ]
  },
  {
   "cell_type": "code",
   "execution_count": 2,
   "id": "e375b06c",
   "metadata": {},
   "outputs": [],
   "source": [
    "class VineCopFit:\n",
    "    pass"
   ]
  },
  {
   "cell_type": "code",
   "execution_count": 3,
   "id": "b75313ca",
   "metadata": {},
   "outputs": [],
   "source": [
    "X = make_complete_data_matrix(n=1000,d=10,copula_type='gaussian')\n",
    "Xmis = mask_MCAR(X, d_mis=4, mask_fraction=.1, monotonic_missingness=True)\n",
    "controls = pv.FitControlsVinecop(family_set=[pv.BicopFamily.gaussian], num_threads=10)\n",
    "cop = pv.Vinecop(data=Xmis, controls=controls)\n",
    "\n",
    "T = cop.matrix\n",
    "pcs = cop.pair_copulas"
   ]
  },
  {
   "cell_type": "code",
   "execution_count": 4,
   "id": "91e11165",
   "metadata": {},
   "outputs": [],
   "source": [
    "# order from least missing to most\n",
    "miss_vars, = np.where(np.count_nonzero(np.isnan(Xmis), axis=0))\n",
    "miss_vars += 1\n",
    "miss_vars = miss_vars.astype(np.uint64)"
   ]
  },
  {
   "cell_type": "raw",
   "id": "1919fb1d",
   "metadata": {},
   "source": [
    "last_impute_var = None\n",
    "for var_mis in miss_vars:\n",
    "    if is_leaf_in_all_subtrees(T, var_mis):\n",
    "        last_impute_var = var_mis\n",
    "if last_impute_var:\n",
    "    miss_vars = miss_vars[miss_vars != last_impute_var]"
   ]
  },
  {
   "cell_type": "code",
   "execution_count": 5,
   "id": "49b4685a",
   "metadata": {},
   "outputs": [],
   "source": [
    "\n",
    "T,pcs = remove_var(T,pcs,10)\n",
    "T,pcs = remove_var(T,pcs,7)\n",
    "T,pcs = remove_var(T,pcs,8)\n"
   ]
  },
  {
   "cell_type": "code",
   "execution_count": 22,
   "id": "d203f50a",
   "metadata": {},
   "outputs": [],
   "source": [
    "from collections import deque\n",
    "\n",
    "def find_subvine_structures(T, pcs, var_mis):\n",
    "    unexplored = deque([(T, pcs)])\n",
    "    accepted = []\n",
    "    while len(unexplored) > 0:\n",
    "        T_cur, pcs_cur = unexplored.pop()\n",
    "        d_cur = T_cur.shape[0]\n",
    "        for func in [remove_inbetween, remove_column]:\n",
    "            T_cand, pcs_cand = func(T_cur, pcs_cur, var_mis, 0)\n",
    "            if is_leaf_in_all_subtrees(T_cand, var_mis):\n",
    "                accepted.append((T_cand, pcs_cand))\n",
    "            elif T_cand.shape[0] > 1):\n",
    "                unexplored.append((T_cand, pcs_cand))\n",
    "    print(unexplored)\n",
    "    return accepted\n"
   ]
  },
  {
   "cell_type": "raw",
   "id": "35cbb03d",
   "metadata": {},
   "source": [
    "Ximp = np.copy(Xmis)\n",
    "\n",
    "for var_mis in [7,8,9,10]:\n",
    "    subvine_structures = find_subvine_structures(T, pcs, var_mis)\n",
    "    \n",
    "    ximp = []\n",
    "    \n",
    "    for Tsub, pcs_sub in subvine_structures:\n",
    "        d2 = Tsub.shape[0]\n",
    "        assert (Tsub[d2-1,0] == var_mis) or (Tsub[d2-2,0] == var_mis)\n",
    "        \n",
    "        ordered_old_vars = filter(lambda x: x != 0, np.unique(Tsub))\n",
    "        old_to_new = {var_old: k + 1 for k,  var_old in enumerate(ordered_old_vars)}\n",
    "        new_to_old = {v: k for k, v in old_to_new.items()}\n",
    "        Tnew = relabel_vine_mat(Tsub, old_to_new)\n",
    "        cop = pv.Vinecop(structure=pv.RVineStructure(Tnew), pair_copulas=pcs_sub)\n",
    "        Ximp2 = Ximp[:, [int(new_to_old[i+1] - 1) for i in range(len(new_to_old))]]\n",
    "        \n",
    "        if (Tsub[d2-2,0] == var_mis):\n",
    "            cop = diagonalize_copula(cop, cop.order[1])\n",
    "            ximp.append(simulate_order_k(cop, Ximp2, 0))\n",
    "\n",
    "        if Tsub[d2-1,0] == var_mis:\n",
    "            ximp.append(simulate_order_k(cop, Ximp2, 0))\n",
    "    \n",
    "    ximp_mat = np.vstack(ximp).T\n",
    "    n_avail = ximp_mat.shape[1] - np.count_nonzero(np.isnan(ximp_mat),axis=1)\n",
    "    assert np.all(n_avail) > 0\n",
    "    idx_mis = int(var_mis - 1)\n",
    "    missing = np.isnan(Ximp[:, idx_mis])\n",
    "    Ximp[missing, idx_mis] = np.nansum(ximp_mat[missing],axis=1) / n_avail[missing]\n",
    "    break"
   ]
  },
  {
   "cell_type": "code",
   "execution_count": 25,
   "id": "e4eb8054",
   "metadata": {},
   "outputs": [],
   "source": [
    "from gcimpute.helper_evaluation import get_smae"
   ]
  },
  {
   "cell_type": "code",
   "execution_count": 26,
   "id": "7aa64d7e",
   "metadata": {},
   "outputs": [],
   "source": [
    "from gcimpute.gaussian_copula import GaussianCopula"
   ]
  },
  {
   "cell_type": "code",
   "execution_count": 27,
   "id": "2be489d5",
   "metadata": {},
   "outputs": [],
   "source": [
    "Ximp2 = GaussianCopula().fit_transform(Xmis)"
   ]
  },
  {
   "cell_type": "code",
   "execution_count": 28,
   "id": "26449ea6",
   "metadata": {},
   "outputs": [
    {
     "name": "stdout",
     "output_type": "stream",
     "text": [
      "There is no entry to be evaluated in variable 0.\n",
      "There is no entry to be evaluated in variable 1.\n",
      "There is no entry to be evaluated in variable 2.\n",
      "There is no entry to be evaluated in variable 3.\n",
      "There is no entry to be evaluated in variable 4.\n",
      "There is no entry to be evaluated in variable 5.\n"
     ]
    },
    {
     "data": {
      "text/plain": [
       "array([       nan,        nan,        nan,        nan,        nan,\n",
       "              nan, 0.48894062, 0.19839905, 0.3395389 , 0.48022892])"
      ]
     },
     "execution_count": 28,
     "metadata": {},
     "output_type": "execute_result"
    }
   ],
   "source": [
    "get_smae(Ximp2, X, Xmis)"
   ]
  },
  {
   "cell_type": "code",
   "execution_count": 29,
   "id": "183b1f5b",
   "metadata": {},
   "outputs": [
    {
     "name": "stdout",
     "output_type": "stream",
     "text": [
      "There is no entry to be evaluated in variable 0.\n",
      "There is no entry to be evaluated in variable 1.\n",
      "There is no entry to be evaluated in variable 2.\n",
      "There is no entry to be evaluated in variable 3.\n",
      "There is no entry to be evaluated in variable 4.\n",
      "There is no entry to be evaluated in variable 5.\n"
     ]
    },
    {
     "data": {
      "text/plain": [
       "array([      nan,       nan,       nan,       nan,       nan,       nan,\n",
       "             nan,       nan, 0.6589639,       nan])"
      ]
     },
     "execution_count": 29,
     "metadata": {},
     "output_type": "execute_result"
    }
   ],
   "source": [
    "get_smae(Ximp, X, Xmis)"
   ]
  },
  {
   "cell_type": "code",
   "execution_count": 30,
   "id": "59b6c711",
   "metadata": {},
   "outputs": [
    {
     "data": {
      "text/plain": [
       "True"
      ]
     },
     "execution_count": 30,
     "metadata": {},
     "output_type": "execute_result"
    }
   ],
   "source": [
    "np.any(np.isnan(Ximp[:, 9]))"
   ]
  },
  {
   "cell_type": "code",
   "execution_count": null,
   "id": "4b191d52",
   "metadata": {},
   "outputs": [],
   "source": []
  }
 ],
 "metadata": {
  "kernelspec": {
   "display_name": "Python 3 (ipykernel)",
   "language": "python",
   "name": "python3"
  },
  "language_info": {
   "codemirror_mode": {
    "name": "ipython",
    "version": 3
   },
   "file_extension": ".py",
   "mimetype": "text/x-python",
   "name": "python",
   "nbconvert_exporter": "python",
   "pygments_lexer": "ipython3",
   "version": "3.7.11"
  }
 },
 "nbformat": 4,
 "nbformat_minor": 5
}
