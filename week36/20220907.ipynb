{
 "cells": [
  {
   "cell_type": "code",
   "execution_count": null,
   "id": "f6b30cda",
   "metadata": {},
   "outputs": [],
   "source": [
    "from copy import deepcopy\n",
    "\n",
    "import numpy as np\n",
    "import pandas as pd\n",
    "\n",
    "import pyvinecopulib as pv\n",
    "from vcimpute.helper_datagen import make_complete_data_matrix, mask_MCAR\n",
    "from vcimpute.helper_subvines import find_subvine_structures, remove_column, remove_inbetween, remove_var\n",
    "from vcimpute.helper_vinestructs import relabel_vine_mat, natural_order_mat\n",
    "from vcimpute.helper_diagonalize import diagonalize_copula\n",
    "from vcimpute.simulator import simulate_order_k\n",
    "from vcimpute.utils import make_triangular_array, is_leaf_in_all_subtrees"
   ]
  },
  {
   "cell_type": "code",
   "execution_count": null,
   "id": "e375b06c",
   "metadata": {},
   "outputs": [],
   "source": [
    "class VineCopFit:\n",
    "    pass"
   ]
  },
  {
   "cell_type": "code",
   "execution_count": null,
   "id": "9b8cfd7a",
   "metadata": {},
   "outputs": [],
   "source": [
    "X = make_complete_data_matrix(n=1000,d=10,copula_type='gaussian')\n",
    "Xmis = mask_MCAR(X, d_mis=4, mask_fraction=.1, monotonic_missingness=True)\n",
    "controls = pv.FitControlsVinecop(family_set=[pv.BicopFamily.gaussian], num_threads=10)"
   ]
  },
  {
   "cell_type": "code",
   "execution_count": null,
   "id": "8943fa44",
   "metadata": {},
   "outputs": [],
   "source": [
    "cop_orig = pv.Vinecop(data=Xmis, controls=controls)\n",
    "T_orig = cop_orig.matrix\n",
    "pcs_orig = cop_orig.pair_copulas"
   ]
  },
  {
   "cell_type": "code",
   "execution_count": null,
   "id": "15120213",
   "metadata": {},
   "outputs": [],
   "source": [
    "# order from least missing to most\n",
    "miss_vars, = np.where(np.count_nonzero(np.isnan(Xmis), axis=0))\n",
    "miss_vars += 1\n",
    "miss_vars = list(miss_vars.astype(np.uint64))"
   ]
  },
  {
   "cell_type": "code",
   "execution_count": null,
   "id": "66f18616",
   "metadata": {},
   "outputs": [],
   "source": [
    "Ximp = np.copy(Xmis)\n",
    "\n",
    "for cur_var_mis in miss_vars:\n",
    "    \n",
    "    # remove as-yet missing values\n",
    "    T, pcs = T_orig, pcs_orig\n",
    "    for rest_var_mis in miss_vars[(miss_vars.index(cur_var_mis) + 1):]:\n",
    "        T, pcs = remove_var(T, pcs, rest_var_mis)\n",
    "    subvine_structures = find_subvine_structures(T, pcs, cur_var_mis)\n",
    "\n",
    "    ximp_lst = []\n",
    "    for T_sub, pcs_sub in subvine_structures:\n",
    "        d2 = T_sub.shape[0]\n",
    "        assert is_leaf_in_all_subtrees(T_sub, cur_var_mis)\n",
    "        \n",
    "        # relabel indices\n",
    "        ordered_old_vars = filter(lambda x: x != 0, np.unique(T_sub))\n",
    "        old_to_new = {var_old: k + 1 for k,  var_old in enumerate(ordered_old_vars)}\n",
    "        new_to_old = {v: k for k, v in old_to_new.items()}\n",
    "        T_new = relabel_vine_mat(T_sub, old_to_new)\n",
    "        cop_sub = pv.Vinecop(structure=pv.RVineStructure(T_new), pair_copulas=pcs_sub)\n",
    "        Ximp2 = Ximp[:, [int(new_to_old[i+1] - 1) for i in range(len(new_to_old))]]\n",
    "        \n",
    "        if (T_sub[d2-2,0] == cur_var_mis):\n",
    "            cop_sub_diag = diagonalize_copula(cop_sub, old_to_new[cur_var_mis])\n",
    "            ximp_lst.append(simulate_order_k(cop_sub_diag, Ximp2, 0))\n",
    "\n",
    "        if T_sub[d2-1,0] == cur_var_mis:\n",
    "            ximp_lst.append(simulate_order_k(cop_sub, Ximp2, 0))\n",
    "    \n",
    "    ximp_mat = np.vstack(ximp_lst).T\n",
    "    n_avail = ximp_mat.shape[1] - np.count_nonzero(np.isnan(ximp_mat),axis=1)\n",
    "    assert np.all(n_avail) > 0\n",
    "    idx_mis = int(cur_var_mis - 1)\n",
    "    missing = np.isnan(Ximp[:, idx_mis])\n",
    "    ximp = np.nansum(ximp_mat, axis=1) / n_avail\n",
    "    Ximp[missing, idx_mis] = ximp[missing]"
   ]
  },
  {
   "cell_type": "code",
   "execution_count": null,
   "id": "eb6f842e",
   "metadata": {},
   "outputs": [],
   "source": [
    "T_orig"
   ]
  },
  {
   "cell_type": "code",
   "execution_count": null,
   "id": "ae08700e",
   "metadata": {},
   "outputs": [],
   "source": [
    "from gcimpute.helper_evaluation import get_smae"
   ]
  },
  {
   "cell_type": "code",
   "execution_count": null,
   "id": "f863ca58",
   "metadata": {},
   "outputs": [],
   "source": [
    "from gcimpute.gaussian_copula import GaussianCopula"
   ]
  },
  {
   "cell_type": "code",
   "execution_count": null,
   "id": "3df977bf",
   "metadata": {},
   "outputs": [],
   "source": [
    "Ximp2 = GaussianCopula().fit_transform(Xmis)"
   ]
  },
  {
   "cell_type": "code",
   "execution_count": null,
   "id": "202ed286",
   "metadata": {},
   "outputs": [],
   "source": [
    "get_smae(Ximp2, X, Xmis)"
   ]
  },
  {
   "cell_type": "code",
   "execution_count": null,
   "id": "e3e132b6",
   "metadata": {},
   "outputs": [],
   "source": [
    "get_smae(Ximp, X, Xmis)"
   ]
  }
 ],
 "metadata": {
  "kernelspec": {
   "display_name": "Python 3 (ipykernel)",
   "language": "python",
   "name": "python3"
  },
  "language_info": {
   "codemirror_mode": {
    "name": "ipython",
    "version": 3
   },
   "file_extension": ".py",
   "mimetype": "text/x-python",
   "name": "python",
   "nbconvert_exporter": "python",
   "pygments_lexer": "ipython3",
   "version": "3.7.11"
  }
 },
 "nbformat": 4,
 "nbformat_minor": 5
}
