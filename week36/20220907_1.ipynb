{
 "cells": [
  {
   "cell_type": "code",
   "execution_count": 4,
   "id": "f6b30cda",
   "metadata": {},
   "outputs": [],
   "source": [
    "from copy import deepcopy\n",
    "\n",
    "import numpy as np\n",
    "import pandas as pd\n",
    "\n",
    "import pyvinecopulib as pv\n",
    "from vcimpute.helper_datagen import make_complete_data_matrix, mask_MCAR\n",
    "from vcimpute.zeisberger import VineCopFit\n",
    "from gcimpute.helper_evaluation import get_smae\n",
    "from gcimpute.gaussian_copula import GaussianCopula"
   ]
  },
  {
   "cell_type": "code",
   "execution_count": 5,
   "id": "9b8cfd7a",
   "metadata": {},
   "outputs": [],
   "source": [
    "X = make_complete_data_matrix(n=1000,d=10,copula_type='clayton', vine_structure='R')\n",
    "X_mis = mask_MCAR(X, d_mis=4, mask_fraction=.02, monotonic_missingness=True)\n",
    "controls = pv.FitControlsVinecop(family_set=[pv.BicopFamily.gaussian], num_threads=10)"
   ]
  },
  {
   "cell_type": "code",
   "execution_count": 7,
   "id": "001d6f57",
   "metadata": {},
   "outputs": [],
   "source": [
    "X_imp1 = VineCopFit(['gaussian'], 10).fit_transform(X_mis)"
   ]
  },
  {
   "cell_type": "code",
   "execution_count": 8,
   "id": "3df977bf",
   "metadata": {},
   "outputs": [],
   "source": [
    "X_imp2 = GaussianCopula().fit_transform(X_mis)"
   ]
  },
  {
   "cell_type": "code",
   "execution_count": 11,
   "id": "202ed286",
   "metadata": {},
   "outputs": [
    {
     "name": "stdout",
     "output_type": "stream",
     "text": [
      "There is no entry to be evaluated in variable 0.\n",
      "There is no entry to be evaluated in variable 1.\n",
      "There is no entry to be evaluated in variable 2.\n",
      "There is no entry to be evaluated in variable 3.\n",
      "There is no entry to be evaluated in variable 4.\n",
      "There is no entry to be evaluated in variable 5.\n",
      "[0.02306182 0.03927993 0.04496583 0.03070441]\n",
      "0.034502997109670336\n"
     ]
    }
   ],
   "source": [
    "smae = get_smae(X_imp2, X, X_mis)\n",
    "print(smae[~np.isnan(smae)])\n",
    "print(smae[~np.isnan(smae)].mean())"
   ]
  },
  {
   "cell_type": "code",
   "execution_count": 12,
   "id": "e3e132b6",
   "metadata": {},
   "outputs": [
    {
     "name": "stdout",
     "output_type": "stream",
     "text": [
      "There is no entry to be evaluated in variable 0.\n",
      "There is no entry to be evaluated in variable 1.\n",
      "There is no entry to be evaluated in variable 2.\n",
      "There is no entry to be evaluated in variable 3.\n",
      "There is no entry to be evaluated in variable 4.\n",
      "There is no entry to be evaluated in variable 5.\n",
      "[0.05459751 0.73307213 0.16175456 0.05291642]\n",
      "0.25058515547834503\n"
     ]
    }
   ],
   "source": [
    "smae = get_smae(X_imp1, X, X_mis)\n",
    "print(smae[~np.isnan(smae)])\n",
    "print(smae[~np.isnan(smae)].mean())"
   ]
  },
  {
   "cell_type": "code",
   "execution_count": null,
   "id": "426f9b10",
   "metadata": {},
   "outputs": [],
   "source": []
  },
  {
   "cell_type": "code",
   "execution_count": null,
   "id": "e7897b15",
   "metadata": {},
   "outputs": [],
   "source": []
  }
 ],
 "metadata": {
  "kernelspec": {
   "display_name": "Python 3 (ipykernel)",
   "language": "python",
   "name": "python3"
  },
  "language_info": {
   "codemirror_mode": {
    "name": "ipython",
    "version": 3
   },
   "file_extension": ".py",
   "mimetype": "text/x-python",
   "name": "python",
   "nbconvert_exporter": "python",
   "pygments_lexer": "ipython3",
   "version": "3.7.11"
  }
 },
 "nbformat": 4,
 "nbformat_minor": 5
}
