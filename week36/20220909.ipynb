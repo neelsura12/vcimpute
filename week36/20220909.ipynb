{
 "cells": [
  {
   "cell_type": "code",
   "execution_count": 1,
   "id": "f6b30cda",
   "metadata": {},
   "outputs": [],
   "source": [
    "from copy import deepcopy\n",
    "\n",
    "import numpy as np\n",
    "import pandas as pd\n",
    "\n",
    "import pyvinecopulib as pv\n",
    "from vcimpute.helper_datagen import make_complete_data_matrix, mask_MCAR\n",
    "from vcimpute.zeisberger import VineCopFit\n",
    "from gcimpute.helper_evaluation import get_smae\n",
    "from gcimpute.gaussian_copula import GaussianCopula\n",
    "\n",
    "# http://localhost:8888/notebooks/week35/20220901.ipynb"
   ]
  },
  {
   "cell_type": "code",
   "execution_count": 17,
   "id": "9b8cfd7a",
   "metadata": {},
   "outputs": [],
   "source": [
    "X = make_complete_data_matrix(n=1000,d=10,copula_type='clayton', vine_structure='R')\n",
    "X_mis = mask_MCAR(X, d_mis=4, mask_fraction=.05, monotonic_missingness=True)\n",
    "controls = pv.FitControlsVinecop(family_set=[pv.BicopFamily.gaussian], num_threads=10)"
   ]
  },
  {
   "cell_type": "code",
   "execution_count": 18,
   "id": "001d6f57",
   "metadata": {},
   "outputs": [],
   "source": [
    "X_imp1 = VineCopFit(['gaussian'], 10).fit_transform(X_mis)"
   ]
  },
  {
   "cell_type": "code",
   "execution_count": 19,
   "id": "1ca134f1",
   "metadata": {},
   "outputs": [
    {
     "data": {
      "text/plain": [
       "array([[0.89001381, 0.91694688, 0.92357208, ..., 0.94563826, 0.76968179,\n",
       "        0.9142162 ],\n",
       "       [0.89718634, 0.90644087, 0.90093943, ..., 0.89718375, 0.83433537,\n",
       "        0.89959526],\n",
       "       [0.88856912, 0.88244692, 0.89061196, ..., 0.86946907, 0.87538717,\n",
       "        0.88407144],\n",
       "       ...,\n",
       "       [0.63643194, 0.65477615, 0.64860385, ..., 0.67780641, 0.55938101,\n",
       "        0.60046596],\n",
       "       [0.86351284, 0.9033447 , 0.97435913, ..., 0.96845641, 0.7195689 ,\n",
       "        0.78561372],\n",
       "       [0.84087168, 0.78888473, 0.77134676, ..., 0.68832076, 0.78681737,\n",
       "        0.8317785 ]])"
      ]
     },
     "execution_count": 19,
     "metadata": {},
     "output_type": "execute_result"
    }
   ],
   "source": [
    "X_imp1"
   ]
  },
  {
   "cell_type": "code",
   "execution_count": null,
   "id": "3df977bf",
   "metadata": {},
   "outputs": [],
   "source": [
    "X_imp2 = GaussianCopula().fit_transform(X_mis)"
   ]
  },
  {
   "cell_type": "code",
   "execution_count": null,
   "id": "202ed286",
   "metadata": {},
   "outputs": [],
   "source": [
    "smae = get_smae(X_imp2, X, X_mis)\n",
    "print(smae[~np.isnan(smae)])\n",
    "print(smae[~np.isnan(smae)].mean())"
   ]
  },
  {
   "cell_type": "code",
   "execution_count": null,
   "id": "e3e132b6",
   "metadata": {},
   "outputs": [],
   "source": [
    "smae = get_smae(X_imp1, X, X_mis)\n",
    "print(smae[~np.isnan(smae)])\n",
    "print(smae[~np.isnan(smae)].mean())"
   ]
  }
 ],
 "metadata": {
  "kernelspec": {
   "display_name": "Python 3 (ipykernel)",
   "language": "python",
   "name": "python3"
  },
  "language_info": {
   "codemirror_mode": {
    "name": "ipython",
    "version": 3
   },
   "file_extension": ".py",
   "mimetype": "text/x-python",
   "name": "python",
   "nbconvert_exporter": "python",
   "pygments_lexer": "ipython3",
   "version": "3.7.11"
  }
 },
 "nbformat": 4,
 "nbformat_minor": 5
}
