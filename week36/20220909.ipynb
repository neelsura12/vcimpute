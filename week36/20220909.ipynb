{
 "cells": [
  {
   "cell_type": "code",
   "execution_count": 1,
   "id": "f6b30cda",
   "metadata": {},
   "outputs": [],
   "source": [
    "from copy import deepcopy\n",
    "\n",
    "import numpy as np\n",
    "import pandas as pd\n",
    "\n",
    "import pyvinecopulib as pv\n",
    "from vcimpute.helper_datagen import make_complete_data_matrix, mask_MCAR\n",
    "from vcimpute.zeisberger import VineCopFit\n",
    "from gcimpute.helper_evaluation import get_smae\n",
    "from gcimpute.gaussian_copula import GaussianCopula"
   ]
  },
  {
   "cell_type": "code",
   "execution_count": 11,
   "id": "9b8cfd7a",
   "metadata": {},
   "outputs": [],
   "source": [
    "X = make_complete_data_matrix(n=1000,d=10,copula_type='gaussian', vine_structure='R')\n",
    "X_mis = mask_MCAR(X, d_mis=4, mask_fraction=.05, monotonic_missingness=True)\n",
    "controls = pv.FitControlsVinecop(family_set=[pv.BicopFamily.gaussian], num_threads=10)"
   ]
  },
  {
   "cell_type": "code",
   "execution_count": 12,
   "id": "20d35fa6",
   "metadata": {},
   "outputs": [
    {
     "data": {
      "text/plain": [
       "array([[0.78983958, 0.90323582, 0.7190988 , ..., 0.0156371 ,        nan,\n",
       "               nan],\n",
       "       [0.70412757, 0.75278066, 0.82336644, ..., 0.26202229, 0.34409111,\n",
       "        0.50760362],\n",
       "       [0.09913109, 0.78873081, 0.18810849, ..., 0.54001564, 0.24750194,\n",
       "        0.1465884 ],\n",
       "       ...,\n",
       "       [0.98898834, 0.68821322, 0.76183557, ..., 0.04220967, 0.82558131,\n",
       "        0.07696648],\n",
       "       [0.95913252, 0.94662103, 0.96364118, ..., 0.19733754, 0.67874791,\n",
       "        0.70782385],\n",
       "       [0.39269349, 0.50298304, 0.49477906, ..., 0.36065495, 0.09723676,\n",
       "        0.20524214]])"
      ]
     },
     "execution_count": 12,
     "metadata": {},
     "output_type": "execute_result"
    }
   ],
   "source": [
    "X_mis"
   ]
  },
  {
   "cell_type": "code",
   "execution_count": 13,
   "id": "14ccd279",
   "metadata": {},
   "outputs": [
    {
     "data": {
      "text/plain": [
       "array([  0,   0,   0,   0,   0,   0,  46,  88, 133, 177])"
      ]
     },
     "execution_count": 13,
     "metadata": {},
     "output_type": "execute_result"
    }
   ],
   "source": [
    "np.count_nonzero(np.isnan(X_mis),axis=0)"
   ]
  },
  {
   "cell_type": "code",
   "execution_count": 14,
   "id": "1afc90c0",
   "metadata": {},
   "outputs": [],
   "source": [
    "VineCopFit?"
   ]
  },
  {
   "cell_type": "code",
   "execution_count": 15,
   "id": "001d6f57",
   "metadata": {},
   "outputs": [],
   "source": [
    "X_imp1 = VineCopFit(['gaussian'], 10).fit_transform(X_mis)"
   ]
  },
  {
   "cell_type": "code",
   "execution_count": null,
   "id": "68985b1d",
   "metadata": {},
   "outputs": [],
   "source": []
  },
  {
   "cell_type": "code",
   "execution_count": null,
   "id": "3df977bf",
   "metadata": {},
   "outputs": [],
   "source": [
    "X_imp2 = GaussianCopula().fit_transform(X_mis)"
   ]
  },
  {
   "cell_type": "code",
   "execution_count": null,
   "id": "202ed286",
   "metadata": {},
   "outputs": [],
   "source": [
    "smae = get_smae(X_imp2, X, X_mis)\n",
    "print(smae[~np.isnan(smae)])\n",
    "print(smae[~np.isnan(smae)].mean())"
   ]
  },
  {
   "cell_type": "code",
   "execution_count": null,
   "id": "e3e132b6",
   "metadata": {},
   "outputs": [],
   "source": [
    "smae = get_smae(X_imp1, X, X_mis)\n",
    "print(smae[~np.isnan(smae)])\n",
    "print(smae[~np.isnan(smae)].mean())"
   ]
  }
 ],
 "metadata": {
  "kernelspec": {
   "display_name": "Python 3 (ipykernel)",
   "language": "python",
   "name": "python3"
  },
  "language_info": {
   "codemirror_mode": {
    "name": "ipython",
    "version": 3
   },
   "file_extension": ".py",
   "mimetype": "text/x-python",
   "name": "python",
   "nbconvert_exporter": "python",
   "pygments_lexer": "ipython3",
   "version": "3.7.11"
  }
 },
 "nbformat": 4,
 "nbformat_minor": 5
}
