{
 "cells": [
  {
   "cell_type": "code",
   "execution_count": 4,
   "id": "60be6564",
   "metadata": {},
   "outputs": [],
   "source": [
    "import numpy as np\n",
    "import pandas as pd\n",
    "from vcimpute.helper_datagen import make_complete_data_matrix, mask_MCAR"
   ]
  },
  {
   "cell_type": "code",
   "execution_count": 5,
   "id": "7ae6c3a9",
   "metadata": {},
   "outputs": [],
   "source": [
    "X = make_complete_data_matrix(1000, 5, 'gaussian', seed=4)\n",
    "X_mis = mask_MCAR(X, 'general', 0.2, seed=4)"
   ]
  },
  {
   "cell_type": "code",
   "execution_count": null,
   "id": "dfa4e913",
   "metadata": {},
   "outputs": [],
   "source": []
  },
  {
   "cell_type": "code",
   "execution_count": null,
   "id": "e99bca3f",
   "metadata": {},
   "outputs": [],
   "source": [
    "mdp = [False, False, False, False,  True]"
   ]
  },
  {
   "cell_type": "code",
   "execution_count": 53,
   "id": "f554e60b",
   "metadata": {},
   "outputs": [
    {
     "data": {
      "text/plain": [
       "array([  0,   0, 103,   0, 297])"
      ]
     },
     "execution_count": 53,
     "metadata": {},
     "output_type": "execute_result"
    }
   ],
   "source": [
    "n_miss_by_col(X_mis)"
   ]
  },
  {
   "cell_type": "code",
   "execution_count": null,
   "id": "baf5cdb2",
   "metadata": {},
   "outputs": [],
   "source": [
    "\n",
    "np.equal(np.isnan(X_mis),)\n",
    "\n",
    "np.logical_and(*)\n",
    "\n",
    "\n",
    "mdps"
   ]
  },
  {
   "cell_type": "code",
   "execution_count": null,
   "id": "2fc50c4d",
   "metadata": {},
   "outputs": [],
   "source": []
  }
 ],
 "metadata": {
  "kernelspec": {
   "display_name": "Python 3 (ipykernel)",
   "language": "python",
   "name": "python3"
  },
  "language_info": {
   "codemirror_mode": {
    "name": "ipython",
    "version": 3
   },
   "file_extension": ".py",
   "mimetype": "text/x-python",
   "name": "python",
   "nbconvert_exporter": "python",
   "pygments_lexer": "ipython3",
   "version": "3.7.11"
  }
 },
 "nbformat": 4,
 "nbformat_minor": 5
}
