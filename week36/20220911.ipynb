{
 "cells": [
  {
   "cell_type": "code",
   "execution_count": 1,
   "id": "b11d5dc5",
   "metadata": {},
   "outputs": [],
   "source": [
    "import numpy as np\n",
    "import pandas as pd\n",
    "from vcimpute.helper_datagen import make_complete_data_matrix, mask_MCAR\n",
    "from vcimpute.zeisberger import VineCopReg"
   ]
  },
  {
   "cell_type": "code",
   "execution_count": 2,
   "id": "682fcb84",
   "metadata": {},
   "outputs": [],
   "source": [
    "X = make_complete_data_matrix(1000, 5, 'gaussian', seed=4)\n",
    "X_mis = mask_MCAR(X, 'monotone', 0.2, seed=4, n_cols=2)"
   ]
  },
  {
   "cell_type": "code",
   "execution_count": 29,
   "id": "a342c507",
   "metadata": {},
   "outputs": [],
   "source": [
    "import numpy as np\n",
    "import pyvinecopulib as pv\n",
    "\n",
    "from vcimpute.helper_diagonalize import diagonalize_copula\n",
    "from vcimpute.helper_mdp import all_mdps, select_by_mdp, idx_mis_by_col\n",
    "from vcimpute.helper_subvines import find_subvine_structures, remove_var\n",
    "from vcimpute.helper_vinestructs import generate_r_vine_structure, relabel_vine_matrix\n",
    "from vcimpute.simulator import simulate_order_k\n",
    "from vcimpute.utils import get, bicop_family_map, make_triangular_array, is_leaf_in_all_subtrees\n",
    "\n",
    "\n",
    "class VineCopReg:\n",
    "    def __init__(self, bicop_families, num_threads, vine_structure, seed):\n",
    "        family_set = [bicop_family_map[k] for k in bicop_families]\n",
    "        self.controls = pv.FitControlsVinecop(family_set=family_set, num_threads=num_threads)\n",
    "        assert vine_structure in ['R', 'C', 'D']\n",
    "        self.vine_structure = vine_structure\n",
    "        self.seed = seed\n",
    "\n",
    "    def fit_transform(self, X_mis):\n",
    "        d = X_mis.shape[1]\n",
    "\n",
    "        X_imp = np.copy(X_mis)\n",
    "\n",
    "        mdps = all_mdps(X_imp)\n",
    "        k = 0\n",
    "        for mdp in mdps:\n",
    "            X_sub = select_by_mdp(X_imp, mdp)\n",
    "            miss_vars = list(1 + idx_mis_by_col(X_sub))\n",
    "            obs_vars = list(set(1 + np.arange(d)).difference(miss_vars))\n",
    "            if k == 1:\n",
    "                return X_imp, X_sub, d, miss_vars, obs_vars\n",
    "            k += 1\n",
    "            self._impute(X_imp, X_sub, d, miss_vars, obs_vars)\n",
    "\n",
    "        assert not np.any(np.isnan(X_imp)), 'invalid state, not all values imputed'\n",
    "        return X_imp\n",
    "\n",
    "    def _impute(self, X_imp, X_sub, d, miss_vars, obs_vars):\n",
    "        assert (len(miss_vars) + len(obs_vars)) == d\n",
    "\n",
    "        rng = np.random.default_rng(self.seed)\n",
    "        miss_vars = miss_vars[::-1]  # decreasing missingness\n",
    "        rng.shuffle(obs_vars)\n",
    "\n",
    "        # simulate vine structure for sequential imputation\n",
    "        structure = None\n",
    "        if self.vine_structure == 'R':\n",
    "            structure = generate_r_vine_structure(miss_vars, obs_vars)\n",
    "        elif self.vine_structure == 'C':\n",
    "            structure = pv.CVineStructure.simulate(order=miss_vars + obs_vars)\n",
    "        elif self.vine_structure == 'D':\n",
    "            structure = pv.DVineStructure.simulate(order=miss_vars + obs_vars)\n",
    "        assert structure is not None\n",
    "\n",
    "        # make copula with fixed structure\n",
    "        pcs = make_triangular_array(d)\n",
    "        for j in range(d - 1):\n",
    "            for i in range(d - j - 1):\n",
    "                pcs[i][j] = pv.Bicop()\n",
    "        cop = pv.Vinecop(structure=structure, pair_copulas=pcs)\n",
    "\n",
    "        for k, var_mis in enumerate(miss_vars):\n",
    "            cop.select(X_imp, controls=self.controls)\n",
    "            assert cop.order[k] == var_mis\n",
    "            x_imp = simulate_order_k(cop, X_sub, k)\n",
    "            assert not np.any(np.isnan(x_imp)), 'check imputation order'\n",
    "\n",
    "            x_mis = get(X_sub, var_mis)\n",
    "            is_missing = np.isnan(x_mis)\n",
    "            x_mis[is_missing] = x_imp[is_missing]"
   ]
  },
  {
   "cell_type": "code",
   "execution_count": 30,
   "id": "f4a50e8b",
   "metadata": {},
   "outputs": [],
   "source": [
    "cls = VineCopReg(['gaussian'], 10, 'R', 42)"
   ]
  },
  {
   "cell_type": "raw",
   "id": "1af65b4b",
   "metadata": {},
   "source": [
    "cls._impute(X_imp, X_sub, d, miss_vars, obs_vars)"
   ]
  },
  {
   "cell_type": "code",
   "execution_count": 35,
   "id": "cc1794f1",
   "metadata": {},
   "outputs": [],
   "source": [
    "from vcimpute.helper_mdp import all_mdps, n_miss_by_col"
   ]
  },
  {
   "cell_type": "code",
   "execution_count": 40,
   "id": "9680de07",
   "metadata": {},
   "outputs": [],
   "source": [
    "X_imp.base"
   ]
  },
  {
   "cell_type": "code",
   "execution_count": 48,
   "id": "04bfde73",
   "metadata": {},
   "outputs": [],
   "source": [
    "\n",
    "def select_by_mdp(X_mis, mdp):\n",
    "    return X_mis[(np.isnan(X_mis) == mdp).all(axis=1), :]"
   ]
  },
  {
   "cell_type": "code",
   "execution_count": 55,
   "id": "e56dd08b",
   "metadata": {},
   "outputs": [],
   "source": [
    "X_imp[(np.isnan(X_imp) == [False,False,False,False,True]).all(axis=1)].base"
   ]
  },
  {
   "cell_type": "code",
   "execution_count": 50,
   "id": "4576e15f",
   "metadata": {},
   "outputs": [],
   "source": [
    "select_by_mdp(X_imp, [False,False,False,False,True]).base"
   ]
  },
  {
   "cell_type": "code",
   "execution_count": 57,
   "id": "5fbd8443",
   "metadata": {},
   "outputs": [],
   "source": [
    "X_mis = X_imp"
   ]
  },
  {
   "cell_type": "code",
   "execution_count": 58,
   "id": "9b7dfb52",
   "metadata": {},
   "outputs": [],
   "source": [
    "mdp = [False,False,False,False,True]"
   ]
  },
  {
   "cell_type": "code",
   "execution_count": 72,
   "id": "eb425ceb",
   "metadata": {},
   "outputs": [
    {
     "data": {
      "text/plain": [
       "array([[0.789, 0.437, 0.15 , ..., 0.727, 0.792, 0.013],\n",
       "       [0.193, 0.69 , 0.328, ..., 0.117, 0.61 , 0.899],\n",
       "       [0.774, 0.415, 0.833, ..., 0.981, 0.21 , 0.17 ],\n",
       "       [0.185, 0.603, 0.219, ..., 0.804, 0.53 , 0.06 ],\n",
       "       [0.173,   nan, 0.891, ...,   nan, 0.03 , 0.888]])"
      ]
     },
     "execution_count": 72,
     "metadata": {},
     "output_type": "execute_result"
    }
   ],
   "source": [
    "X_imp.T.base"
   ]
  },
  {
   "cell_type": "code",
   "execution_count": 65,
   "id": "0ab4ea54",
   "metadata": {},
   "outputs": [],
   "source": [
    "X_imp[np.where((np.isnan(X_mis) == mdp).all(axis=1))[0], :]"
   ]
  },
  {
   "cell_type": "code",
   "execution_count": 42,
   "id": "6631b416",
   "metadata": {},
   "outputs": [
    {
     "data": {
      "text/plain": [
       "array([[0.789, 0.193, 0.774, 0.185, 0.173],\n",
       "       [0.437, 0.69 , 0.415, 0.603,   nan],\n",
       "       [0.15 , 0.328, 0.833, 0.219, 0.891],\n",
       "       ...,\n",
       "       [0.727, 0.117, 0.981, 0.804,   nan],\n",
       "       [0.792, 0.61 , 0.21 , 0.53 , 0.03 ],\n",
       "       [0.013, 0.899, 0.17 , 0.06 , 0.888]])"
      ]
     },
     "execution_count": 42,
     "metadata": {},
     "output_type": "execute_result"
    }
   ],
   "source": [
    "X_imp[:,1].base"
   ]
  },
  {
   "cell_type": "code",
   "execution_count": 38,
   "id": "a6a4d6af",
   "metadata": {},
   "outputs": [
    {
     "data": {
      "text/plain": [
       "194"
      ]
     },
     "execution_count": 38,
     "metadata": {},
     "output_type": "execute_result"
    }
   ],
   "source": [
    "len(select_by_mdp(X_imp,[False,False,False,False,True]))"
   ]
  },
  {
   "cell_type": "code",
   "execution_count": 36,
   "id": "55b8cd88",
   "metadata": {},
   "outputs": [
    {
     "data": {
      "text/plain": [
       "array([  0,   0, 103,   0, 297])"
      ]
     },
     "execution_count": 36,
     "metadata": {},
     "output_type": "execute_result"
    }
   ],
   "source": [
    "n_miss_by_col(X_mis)"
   ]
  },
  {
   "cell_type": "code",
   "execution_count": null,
   "id": "aaaa9cc1",
   "metadata": {},
   "outputs": [],
   "source": [
    "n_"
   ]
  },
  {
   "cell_type": "raw",
   "id": "132a5469",
   "metadata": {},
   "source": [
    "all_mdps(X_all)"
   ]
  },
  {
   "cell_type": "raw",
   "id": "8e3481c5",
   "metadata": {},
   "source": [
    "X_sub"
   ]
  },
  {
   "cell_type": "code",
   "execution_count": 31,
   "id": "2248795e",
   "metadata": {},
   "outputs": [],
   "source": [
    "X_imp, X_sub, d, miss_vars, obs_vars = cls.fit_transform(X_mis)\n"
   ]
  },
  {
   "cell_type": "code",
   "execution_count": 15,
   "id": "dd5b534d",
   "metadata": {},
   "outputs": [
    {
     "data": {
      "text/plain": [
       "[5]"
      ]
     },
     "execution_count": 15,
     "metadata": {},
     "output_type": "execute_result"
    }
   ],
   "source": [
    "miss_vars"
   ]
  },
  {
   "cell_type": "code",
   "execution_count": 34,
   "id": "564d51f6",
   "metadata": {},
   "outputs": [
    {
     "data": {
      "text/plain": [
       "array([[False, False, False, False,  True],\n",
       "       [False, False,  True, False,  True]])"
      ]
     },
     "execution_count": 34,
     "metadata": {},
     "output_type": "execute_result"
    }
   ],
   "source": [
    "all_mdps(X_imp)"
   ]
  },
  {
   "cell_type": "code",
   "execution_count": 33,
   "id": "87b1ceab",
   "metadata": {},
   "outputs": [
    {
     "data": {
      "text/plain": [
       "[3, 5]"
      ]
     },
     "execution_count": 33,
     "metadata": {},
     "output_type": "execute_result"
    }
   ],
   "source": [
    "miss_vars"
   ]
  },
  {
   "cell_type": "code",
   "execution_count": 16,
   "id": "a0e67538",
   "metadata": {},
   "outputs": [
    {
     "data": {
      "text/plain": [
       "array([[0.789, 0.193, 0.774, 0.185, 0.173],\n",
       "       [0.437, 0.69 , 0.415, 0.603,   nan],\n",
       "       [0.15 , 0.328, 0.833, 0.219, 0.891],\n",
       "       ...,\n",
       "       [0.727, 0.117, 0.981, 0.804,   nan],\n",
       "       [0.792, 0.61 , 0.21 , 0.53 , 0.03 ],\n",
       "       [0.013, 0.899, 0.17 , 0.06 , 0.888]])"
      ]
     },
     "execution_count": 16,
     "metadata": {},
     "output_type": "execute_result"
    }
   ],
   "source": [
    "X_imp"
   ]
  },
  {
   "cell_type": "code",
   "execution_count": 17,
   "id": "5b2aeeb1",
   "metadata": {},
   "outputs": [
    {
     "data": {
      "text/plain": [
       "array([[0.437, 0.69 , 0.415, 0.603,   nan],\n",
       "       [0.946, 0.167, 0.946, 0.95 ,   nan],\n",
       "       [0.714, 0.482, 0.564, 0.865,   nan],\n",
       "       [0.065, 0.821, 0.44 , 0.473,   nan],\n",
       "       [0.602, 0.775, 0.092, 0.111,   nan],\n",
       "       [0.156, 0.497, 0.414, 0.08 ,   nan],\n",
       "       [0.937, 0.102, 0.762, 0.353,   nan],\n",
       "       [0.225, 0.23 , 0.661, 0.311,   nan],\n",
       "       [0.494, 0.665, 0.411, 0.386,   nan],\n",
       "       [0.998, 0.913, 0.019, 0.557,   nan],\n",
       "       [0.03 , 0.326, 0.702, 0.232,   nan],\n",
       "       [0.561, 0.658, 0.636, 0.188,   nan],\n",
       "       [0.002, 0.707, 0.548, 0.025,   nan],\n",
       "       [0.066, 0.278, 0.423, 0.037,   nan],\n",
       "       [0.139, 0.03 , 0.991, 0.453,   nan],\n",
       "       [0.483, 0.95 , 0.088, 0.278,   nan],\n",
       "       [0.514, 0.355, 0.352, 0.3  ,   nan],\n",
       "       [0.717, 0.591, 0.94 , 0.98 ,   nan],\n",
       "       [0.253, 0.501, 0.331, 0.686,   nan],\n",
       "       [0.63 , 0.477, 0.497, 0.451,   nan],\n",
       "       [0.82 , 0.178, 0.7  , 0.894,   nan],\n",
       "       [0.286, 0.947, 0.197, 0.83 ,   nan],\n",
       "       [0.747, 0.818, 0.076, 0.246,   nan],\n",
       "       [0.368, 0.676, 0.313, 0.718,   nan],\n",
       "       [0.444, 0.628, 0.575, 0.854,   nan],\n",
       "       [0.264, 0.217, 0.851, 0.771,   nan],\n",
       "       [0.579, 0.603, 0.394, 0.331,   nan],\n",
       "       [0.317, 0.208, 0.4  , 0.055,   nan],\n",
       "       [0.84 , 0.884, 0.05 , 0.437,   nan],\n",
       "       [0.981, 0.002, 0.995, 0.974,   nan],\n",
       "       [0.774, 0.708, 0.036, 0.042,   nan],\n",
       "       [0.795, 0.286, 0.529, 0.274,   nan],\n",
       "       [0.069, 0.185, 0.815, 0.284,   nan],\n",
       "       [0.366, 0.017, 1.   , 0.954,   nan],\n",
       "       [0.063, 0.874, 0.238, 0.036,   nan],\n",
       "       [0.019, 0.3  , 0.854, 0.203,   nan],\n",
       "       [0.487, 0.377, 0.181, 0.09 ,   nan],\n",
       "       [0.382, 0.667, 0.118, 0.265,   nan],\n",
       "       [0.607, 0.006, 0.917, 0.406,   nan],\n",
       "       [0.553, 0.464, 0.566, 0.821,   nan],\n",
       "       [0.781, 0.695, 0.232, 0.763,   nan],\n",
       "       [0.108, 0.58 , 0.368, 0.429,   nan],\n",
       "       [0.282, 0.65 , 0.279, 0.014,   nan],\n",
       "       [0.832, 0.007, 0.957, 0.988,   nan],\n",
       "       [0.804, 0.42 , 0.592, 0.895,   nan],\n",
       "       [0.077, 0.289, 0.871, 0.05 ,   nan],\n",
       "       [0.433, 0.451, 0.685, 0.512,   nan],\n",
       "       [0.576, 0.18 , 0.845, 0.902,   nan],\n",
       "       [0.492, 0.351, 0.602, 0.501,   nan],\n",
       "       [0.567, 0.636, 0.259, 0.18 ,   nan],\n",
       "       [0.558, 0.236, 0.517, 0.201,   nan],\n",
       "       [0.149, 0.075, 0.933, 0.169,   nan],\n",
       "       [0.603, 0.982, 0.089, 0.351,   nan],\n",
       "       [0.067, 0.701, 0.305, 0.133,   nan],\n",
       "       [0.371, 0.586, 0.595, 0.588,   nan],\n",
       "       [0.963, 0.356, 0.615, 0.941,   nan],\n",
       "       [0.074, 0.047, 0.908, 0.103,   nan],\n",
       "       [0.452, 0.934, 0.056, 0.044,   nan],\n",
       "       [0.871, 0.518, 0.309, 0.128,   nan],\n",
       "       [0.899, 0.617, 0.124, 0.373,   nan],\n",
       "       [0.485, 0.421, 0.466, 0.399,   nan],\n",
       "       [0.762, 0.175, 0.899, 0.45 ,   nan],\n",
       "       [0.785, 0.041, 0.703, 0.183,   nan],\n",
       "       [0.155, 0.696, 0.516, 0.457,   nan],\n",
       "       [0.874, 0.276, 0.852, 0.96 ,   nan],\n",
       "       [0.219, 0.277, 0.647, 0.21 ,   nan],\n",
       "       [0.075, 0.543, 0.513, 0.319,   nan],\n",
       "       [0.422, 0.798, 0.322, 0.757,   nan],\n",
       "       [0.217, 0.969, 0.028, 0.101,   nan],\n",
       "       [0.739, 0.731, 0.257, 0.63 ,   nan],\n",
       "       [0.193, 0.816, 0.317, 0.323,   nan],\n",
       "       [0.887, 0.881, 0.051, 0.468,   nan],\n",
       "       [0.23 , 0.274, 0.883, 0.567,   nan],\n",
       "       [0.587, 0.314, 0.638, 0.969,   nan],\n",
       "       [0.851, 0.919, 0.117, 0.522,   nan],\n",
       "       [0.941, 0.521, 0.561, 0.907,   nan],\n",
       "       [0.694, 0.883, 0.453, 0.774,   nan],\n",
       "       [0.944, 0.019, 0.938, 0.548,   nan],\n",
       "       [0.403, 0.843, 0.166, 0.56 ,   nan],\n",
       "       [0.374, 0.878, 0.027, 0.043,   nan],\n",
       "       [0.414, 0.375, 0.757, 0.77 ,   nan],\n",
       "       [0.162, 0.99 , 0.035, 0.293,   nan],\n",
       "       [0.451, 0.454, 0.584, 0.729,   nan],\n",
       "       [0.735, 0.252, 0.912, 0.885,   nan],\n",
       "       [0.687, 0.634, 0.834, 0.855,   nan],\n",
       "       [0.593, 0.09 , 0.667, 0.533,   nan],\n",
       "       [0.59 , 0.294, 0.612, 0.511,   nan],\n",
       "       [0.65 , 0.499, 0.359, 0.623,   nan],\n",
       "       [0.672, 0.001, 0.997, 0.905,   nan],\n",
       "       [0.573, 0.366, 0.599, 0.769,   nan],\n",
       "       [0.432, 0.96 , 0.186, 0.343,   nan],\n",
       "       [0.787, 0.287, 0.614, 0.834,   nan],\n",
       "       [0.974, 0.145, 0.775, 0.927,   nan],\n",
       "       [0.971, 0.057, 0.793, 0.921,   nan],\n",
       "       [0.738, 0.532, 0.315, 0.252,   nan],\n",
       "       [0.355, 0.048, 0.961, 0.516,   nan],\n",
       "       [0.683, 0.463, 0.75 , 0.959,   nan],\n",
       "       [0.147, 0.633, 0.514, 0.168,   nan],\n",
       "       [0.648, 0.48 , 0.692, 0.752,   nan],\n",
       "       [0.507, 0.265, 0.53 , 0.374,   nan],\n",
       "       [0.396, 0.632, 0.588, 0.624,   nan],\n",
       "       [0.398, 0.66 , 0.526, 0.076,   nan],\n",
       "       [0.821, 0.311, 0.372, 0.157,   nan],\n",
       "       [0.266, 0.407, 0.736, 0.139,   nan],\n",
       "       [0.961, 0.689, 0.228, 0.226,   nan],\n",
       "       [0.663, 0.841, 0.327, 0.863,   nan],\n",
       "       [0.5  , 0.434, 0.491, 0.283,   nan],\n",
       "       [0.877, 0.192, 0.755, 0.562,   nan],\n",
       "       [0.655, 0.122, 0.794, 0.237,   nan],\n",
       "       [0.965, 0.283, 0.862, 0.877,   nan],\n",
       "       [0.668, 0.872, 0.077, 0.341,   nan],\n",
       "       [0.752, 0.584, 0.131, 0.326,   nan],\n",
       "       [0.028, 0.668, 0.158, 0.02 ,   nan],\n",
       "       [0.744, 0.334, 0.836, 0.811,   nan],\n",
       "       [0.857, 0.317, 0.808, 0.91 ,   nan],\n",
       "       [0.839, 0.684, 0.264, 0.952,   nan],\n",
       "       [0.318, 0.055, 0.968, 0.715,   nan],\n",
       "       [0.557, 0.931, 0.063, 0.29 ,   nan],\n",
       "       [0.939, 0.042, 0.922, 0.765,   nan],\n",
       "       [0.459, 0.129, 0.659, 0.675,   nan],\n",
       "       [0.488, 0.153, 0.965, 0.893,   nan],\n",
       "       [0.134, 0.169, 0.807, 0.388,   nan],\n",
       "       [0.917, 0.656, 0.293, 0.874,   nan],\n",
       "       [0.837, 0.52 , 0.48 , 0.395,   nan],\n",
       "       [0.406, 0.223, 0.864, 0.663,   nan],\n",
       "       [0.798, 0.866, 0.179, 0.52 ,   nan],\n",
       "       [0.929, 0.439, 0.151, 0.142,   nan],\n",
       "       [0.41 , 0.578, 0.454, 0.583,   nan],\n",
       "       [0.906, 0.162, 0.527, 0.924,   nan],\n",
       "       [0.836, 0.404, 0.318, 0.164,   nan],\n",
       "       [0.791, 0.445, 0.332, 0.643,   nan],\n",
       "       [0.568, 0.682, 0.14 , 0.018,   nan],\n",
       "       [0.757, 0.092, 0.552, 0.297,   nan],\n",
       "       [0.045, 0.118, 0.932, 0.225,   nan],\n",
       "       [0.622, 0.131, 0.765, 0.814,   nan],\n",
       "       [0.973, 0.728, 0.373, 0.735,   nan],\n",
       "       [0.226, 0.218, 0.671, 0.639,   nan],\n",
       "       [0.435, 0.082, 0.988, 1.   ,   nan],\n",
       "       [0.943, 0.06 , 0.741, 0.891,   nan],\n",
       "       [0.478, 0.318, 0.841, 0.946,   nan],\n",
       "       [0.091, 0.888, 0.635, 0.862,   nan],\n",
       "       [0.932, 0.958, 0.01 , 0.199,   nan],\n",
       "       [0.461, 0.364, 0.631, 0.452,   nan],\n",
       "       [0.841, 0.238, 0.811, 0.842,   nan],\n",
       "       [0.415, 0.313, 0.747, 0.878,   nan],\n",
       "       [0.893, 0.712, 0.236, 0.186,   nan],\n",
       "       [0.034, 0.977, 0.078, 0.096,   nan],\n",
       "       [0.912, 0.737, 0.095, 0.758,   nan],\n",
       "       [0.186, 0.564, 0.429, 0.734,   nan],\n",
       "       [0.224, 0.17 , 0.876, 0.463,   nan],\n",
       "       [0.252, 0.133, 0.952, 0.741,   nan],\n",
       "       [0.265, 0.847, 0.059, 0.209,   nan],\n",
       "       [0.546, 0.056, 0.978, 0.513,   nan],\n",
       "       [0.692, 0.475, 0.696, 0.57 ,   nan],\n",
       "       [0.101, 0.674, 0.683, 0.405,   nan],\n",
       "       [0.311, 0.724, 0.274, 0.422,   nan],\n",
       "       [0.612, 0.431, 0.504, 0.917,   nan],\n",
       "       [0.468, 0.365, 0.682, 0.857,   nan],\n",
       "       [0.086, 0.39 , 0.601, 0.227,   nan],\n",
       "       [0.48 , 0.535, 0.224, 0.085,   nan],\n",
       "       [0.304, 0.953, 0.438, 0.785,   nan],\n",
       "       [0.062, 0.711, 0.284, 0.074,   nan],\n",
       "       [0.477, 0.4  , 0.545, 0.444,   nan],\n",
       "       [0.473, 0.844, 0.207, 0.359,   nan],\n",
       "       [0.849, 0.115, 0.837, 0.873,   nan],\n",
       "       [0.666, 0.725, 0.281, 0.682,   nan],\n",
       "       [0.649, 0.485, 0.474, 0.668,   nan],\n",
       "       [0.262, 0.062, 0.915, 0.73 ,   nan],\n",
       "       [0.51 , 0.999, 0.013, 0.134,   nan],\n",
       "       [0.143, 0.596, 0.285, 0.42 ,   nan],\n",
       "       [0.833, 0.191, 0.73 , 0.475,   nan],\n",
       "       [0.275, 0.24 , 0.812, 0.772,   nan],\n",
       "       [0.032, 0.052, 0.979, 0.194,   nan],\n",
       "       [0.413, 0.436, 0.776, 0.844,   nan],\n",
       "       [0.949, 0.59 , 0.426, 0.604,   nan],\n",
       "       [0.732, 0.213, 0.865, 0.792,   nan],\n",
       "       [0.788, 0.197, 0.773, 0.685,   nan],\n",
       "       [0.329, 0.876, 0.119, 0.07 ,   nan],\n",
       "       [0.729, 0.384, 0.256, 0.127,   nan],\n",
       "       [0.411, 0.147, 0.61 , 0.661,   nan],\n",
       "       [0.131, 0.901, 0.297, 0.179,   nan],\n",
       "       [0.699, 0.635, 0.361, 0.76 ,   nan],\n",
       "       [0.696, 0.342, 0.881, 0.958,   nan],\n",
       "       [0.305, 0.751, 0.248, 0.262,   nan],\n",
       "       [0.743, 0.415, 0.231, 0.529,   nan],\n",
       "       [0.98 , 0.487, 0.54 , 0.939,   nan],\n",
       "       [0.89 , 0.491, 0.428, 0.786,   nan],\n",
       "       [0.268, 0.138, 0.882, 0.416,   nan],\n",
       "       [0.824, 0.205, 0.74 , 0.778,   nan],\n",
       "       [0.362, 0.862, 0.046, 0.053,   nan],\n",
       "       [0.293, 0.74 , 0.149, 0.231,   nan],\n",
       "       [0.889, 0.227, 0.825, 0.936,   nan],\n",
       "       [0.763, 0.652, 0.437, 0.884,   nan],\n",
       "       [0.727, 0.117, 0.981, 0.804,   nan]])"
      ]
     },
     "execution_count": 17,
     "metadata": {},
     "output_type": "execute_result"
    }
   ],
   "source": [
    "X_sub"
   ]
  },
  {
   "cell_type": "code",
   "execution_count": 10,
   "id": "f4089f33",
   "metadata": {},
   "outputs": [
    {
     "data": {
      "text/plain": [
       "[1, 2, 3, 4]"
      ]
     },
     "execution_count": 10,
     "metadata": {},
     "output_type": "execute_result"
    }
   ],
   "source": [
    "obs_vars"
   ]
  }
 ],
 "metadata": {
  "kernelspec": {
   "display_name": "Python 3 (ipykernel)",
   "language": "python",
   "name": "python3"
  },
  "language_info": {
   "codemirror_mode": {
    "name": "ipython",
    "version": 3
   },
   "file_extension": ".py",
   "mimetype": "text/x-python",
   "name": "python",
   "nbconvert_exporter": "python",
   "pygments_lexer": "ipython3",
   "version": "3.7.11"
  }
 },
 "nbformat": 4,
 "nbformat_minor": 5
}
