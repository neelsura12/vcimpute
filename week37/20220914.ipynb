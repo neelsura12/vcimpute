{
 "cells": [
  {
   "cell_type": "code",
   "execution_count": 1,
   "id": "58d8001b",
   "metadata": {},
   "outputs": [],
   "source": [
    "import numpy as np\n",
    "import pandas as pd\n",
    "from vcimpute.helper_datagen import make_complete_data_matrix, mask_MCAR\n",
    "from vcimpute.zeisberger import VineCopReg\n",
    "from vcimpute.helper_mdp import all_mdps, mdp_coords\n",
    "from vcimpute.helper_vinestructs import generate_r_vine_structure\n",
    "from vcimpute.utils import get\n",
    "from gcimpute.helper_evaluation import get_smae\n",
    "from gcimpute.gaussian_copula import GaussianCopula\n",
    "\n",
    "X = make_complete_data_matrix(1000, 10, 'gaussian', seed=4, vine_structure='R')\n",
    "X_mis = mask_MCAR(X, 'monotone', 0.1, seed=4, n_cols=2)"
   ]
  },
  {
   "cell_type": "code",
   "execution_count": 2,
   "id": "9c2c252c",
   "metadata": {},
   "outputs": [
    {
     "name": "stdout",
     "output_type": "stream",
     "text": [
      "There is no entry to be evaluated in variable 0.\n",
      "There is no entry to be evaluated in variable 1.\n",
      "There is no entry to be evaluated in variable 2.\n",
      "There is no entry to be evaluated in variable 3.\n",
      "There is no entry to be evaluated in variable 4.\n",
      "There is no entry to be evaluated in variable 5.\n",
      "There is no entry to be evaluated in variable 7.\n",
      "There is no entry to be evaluated in variable 8.\n",
      "0.3886374439522616\n",
      "There is no entry to be evaluated in variable 0.\n",
      "There is no entry to be evaluated in variable 1.\n",
      "There is no entry to be evaluated in variable 2.\n",
      "There is no entry to be evaluated in variable 3.\n",
      "There is no entry to be evaluated in variable 4.\n",
      "There is no entry to be evaluated in variable 5.\n",
      "There is no entry to be evaluated in variable 7.\n",
      "There is no entry to be evaluated in variable 8.\n",
      "0.23238920263876556\n"
     ]
    }
   ],
   "source": [
    "model = VineCopReg(bicop_families=['gaussian'], num_threads=10, vine_structure='R', is_monotone=True, seed=42)\n",
    "X_imp1 = model.fit_transform(X_mis)\n",
    "X_imp2 = GaussianCopula().fit_transform(X_mis)\n",
    "\n",
    "smae1 = get_smae(X_imp1, X, X_mis)\n",
    "print(np.mean(smae1[~np.isnan(smae1)]))\n",
    "\n",
    "smae2 = get_smae(X_imp2, X, X_mis)\n",
    "print(np.mean(smae2[~np.isnan(smae2)]))"
   ]
  },
  {
   "cell_type": "code",
   "execution_count": 3,
   "id": "e6d69c08",
   "metadata": {},
   "outputs": [
    {
     "name": "stdout",
     "output_type": "stream",
     "text": [
      "There is no entry to be evaluated in variable 0.\n",
      "There is no entry to be evaluated in variable 1.\n",
      "There is no entry to be evaluated in variable 2.\n",
      "There is no entry to be evaluated in variable 3.\n",
      "There is no entry to be evaluated in variable 4.\n",
      "There is no entry to be evaluated in variable 5.\n",
      "There is no entry to be evaluated in variable 7.\n",
      "There is no entry to be evaluated in variable 8.\n",
      "0.3439258940723338\n",
      "There is no entry to be evaluated in variable 0.\n",
      "There is no entry to be evaluated in variable 1.\n",
      "There is no entry to be evaluated in variable 2.\n",
      "There is no entry to be evaluated in variable 3.\n",
      "There is no entry to be evaluated in variable 4.\n",
      "There is no entry to be evaluated in variable 5.\n",
      "There is no entry to be evaluated in variable 7.\n",
      "There is no entry to be evaluated in variable 8.\n",
      "0.23238920263876556\n"
     ]
    }
   ],
   "source": [
    "model = VineCopReg(bicop_families=['gaussian'], num_threads=10, vine_structure='R', is_monotone=False, seed=42)\n",
    "X_imp1 = model.fit_transform(X_mis)\n",
    "X_imp2 = GaussianCopula().fit_transform(X_mis)\n",
    "\n",
    "smae1 = get_smae(X_imp1, X, X_mis)\n",
    "print(np.mean(smae1[~np.isnan(smae1)]))\n",
    "\n",
    "smae2 = get_smae(X_imp2, X, X_mis)\n",
    "print(np.mean(smae2[~np.isnan(smae2)]))"
   ]
  },
  {
   "cell_type": "raw",
   "id": "717a7f02",
   "metadata": {},
   "source": [
    "model = VineCopReg(bicop_families=['gaussian'], num_threads=10, vine_structure='C', seed=42)\n",
    "X_imp1 = model.fit_transform(X_mis)\n",
    "X_imp2 = GaussianCopula().fit_transform(X_mis)\n",
    "\n",
    "smae1 = get_smae(X_imp1, X, X_mis)\n",
    "print(np.mean(smae1[~np.isnan(smae1)]))\n",
    "\n",
    "smae2 = get_smae(X_imp2, X, X_mis)\n",
    "print(np.mean(smae2[~np.isnan(smae2)]))"
   ]
  },
  {
   "cell_type": "raw",
   "id": "e354a1bf",
   "metadata": {},
   "source": [
    "model = VineCopReg(bicop_families=['gaussian'], num_threads=10, vine_structure='D', seed=42)\n",
    "X_imp1 = model.fit_transform(X_mis)\n",
    "X_imp2 = GaussianCopula().fit_transform(X_mis)\n",
    "\n",
    "smae1 = get_smae(X_imp1, X, X_mis)\n",
    "print(np.mean(smae1[~np.isnan(smae1)]))\n",
    "\n",
    "smae2 = get_smae(X_imp2, X, X_mis)\n",
    "print(np.mean(smae2[~np.isnan(smae2)]))"
   ]
  }
 ],
 "metadata": {
  "kernelspec": {
   "display_name": "Python 3 (ipykernel)",
   "language": "python",
   "name": "python3"
  },
  "language_info": {
   "codemirror_mode": {
    "name": "ipython",
    "version": 3
   },
   "file_extension": ".py",
   "mimetype": "text/x-python",
   "name": "python",
   "nbconvert_exporter": "python",
   "pygments_lexer": "ipython3",
   "version": "3.7.11"
  }
 },
 "nbformat": 4,
 "nbformat_minor": 5
}
