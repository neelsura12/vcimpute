{
 "cells": [
  {
   "cell_type": "code",
   "execution_count": 1,
   "id": "58d8001b",
   "metadata": {
    "pycharm": {
     "name": "#%%\n"
    }
   },
   "outputs": [],
   "source": [
    "import numpy as np\n",
    "import pandas as pd\n",
    "from vcimpute.helper_datagen import make_complete_data_matrix, mask_MCAR\n",
    "from vcimpute.zeisberger import VineCopReg\n",
    "from vcimpute.helper_mdp import all_mdps, mdp_coords\n",
    "from vcimpute.helper_vinestructs import generate_r_vine_structure\n",
    "from vcimpute.utils import get\n",
    "from gcimpute.helper_evaluation import get_smae\n",
    "from gcimpute.gaussian_copula import GaussianCopula\n",
    "\n",
    "X = make_complete_data_matrix(1000, 10, 'gaussian', seed=4, vine_structure='R')\n",
    "X_mis = mask_MCAR(X, 'monotone', 0.1, seed=4, n_cols=2)"
   ]
  },
  {
   "cell_type": "code",
   "execution_count": 2,
   "id": "9c2c252c",
   "metadata": {
    "pycharm": {
     "name": "#%%\n"
    }
   },
   "outputs": [
    {
     "name": "stdout",
     "output_type": "stream",
     "text": [
      "There is no entry to be evaluated in variable 0.\n",
      "There is no entry to be evaluated in variable 1.\n",
      "There is no entry to be evaluated in variable 2.\n",
      "There is no entry to be evaluated in variable 3.\n",
      "There is no entry to be evaluated in variable 4.\n",
      "There is no entry to be evaluated in variable 5.\n",
      "There is no entry to be evaluated in variable 7.\n",
      "There is no entry to be evaluated in variable 8.\n",
      "0.1896817547051879\n",
      "There is no entry to be evaluated in variable 0.\n",
      "There is no entry to be evaluated in variable 1.\n",
      "There is no entry to be evaluated in variable 2.\n",
      "There is no entry to be evaluated in variable 3.\n",
      "There is no entry to be evaluated in variable 4.\n",
      "There is no entry to be evaluated in variable 5.\n",
      "There is no entry to be evaluated in variable 7.\n",
      "There is no entry to be evaluated in variable 8.\n",
      "0.17076102047627978\n"
     ]
    }
   ],
   "source": [
    "model = VineCopReg(bicop_family='gaussian', num_threads=10, vine_structure='R', is_monotone=True, seed=42)\n",
    "X_imp1 = model.fit_transform(X_mis)\n",
    "X_imp2 = GaussianCopula().fit_transform(X_mis)\n",
    "\n",
    "smae1 = get_smae(X_imp1, X, X_mis)\n",
    "print(np.mean(smae1[~np.isnan(smae1)]))\n",
    "\n",
    "smae2 = get_smae(X_imp2, X, X_mis)\n",
    "print(np.mean(smae2[~np.isnan(smae2)]))"
   ]
  },
  {
   "cell_type": "code",
   "execution_count": null,
   "outputs": [],
   "source": [
    "from vcimpute.utils import vfunc"
   ],
   "metadata": {
    "collapsed": false,
    "pycharm": {
     "name": "#%%\n"
    }
   }
  },
  {
   "cell_type": "code",
   "execution_count": null,
   "outputs": [],
   "source": [],
   "metadata": {
    "collapsed": false,
    "pycharm": {
     "name": "#%%\n"
    }
   }
  },
  {
   "cell_type": "code",
   "execution_count": null,
   "outputs": [],
   "source": [
    "np.linalg.norm(np.corrcoef(X_imp1) - np.corrcoef(X))/np.linalg.norm(np.corrcoef(X))"
   ],
   "metadata": {
    "collapsed": false,
    "pycharm": {
     "name": "#%%\n"
    }
   }
  },
  {
   "cell_type": "code",
   "execution_count": null,
   "outputs": [],
   "source": [
    "X2 = np.random.normal(size=(10,10))\n",
    "X2.T * X2"
   ],
   "metadata": {
    "collapsed": false,
    "pycharm": {
     "name": "#%%\n"
    }
   }
  },
  {
   "cell_type": "code",
   "execution_count": null,
   "outputs": [],
   "source": [
    "np.linalg.norm(np.corrcoef(X_imp1) - np.corrcoef(X))/np.linalg.norm(np.corrcoef(X))"
   ],
   "metadata": {
    "collapsed": false,
    "pycharm": {
     "name": "#%%\n"
    }
   }
  },
  {
   "cell_type": "code",
   "execution_count": null,
   "outputs": [],
   "source": [
    "model = VineCopReg(bicop_family='gaussian', num_threads=10, vine_structure='R', is_monotone=False, seed=42)\n",
    "X_imp1 = model.fit_transform(X_mis)\n",
    "X_imp2 = GaussianCopula().fit_transform(X_mis)\n",
    "\n",
    "smae1 = get_smae(X_imp1, X, X_mis)\n",
    "print(np.mean(smae1[~np.isnan(smae1)]))\n",
    "\n",
    "smae2 = get_smae(X_imp2, X, X_mis)\n",
    "print(np.mean(smae2[~np.isnan(smae2)]))"
   ],
   "metadata": {
    "collapsed": false,
    "pycharm": {
     "name": "#%%\n"
    }
   }
  },
  {
   "cell_type": "code",
   "execution_count": 9,
   "id": "1a399a5f",
   "metadata": {},
   "outputs": [
    {
     "data": {
      "text/plain": [
       "array([[ 1.        ,  0.23673868, -0.66709632, ..., -0.63642354,\n",
       "        -0.68772936,  0.35311894],\n",
       "       [ 0.23673868,  1.        , -0.39543739, ..., -0.68666522,\n",
       "        -0.38910273,  0.82964921],\n",
       "       [-0.66709632, -0.39543739,  1.        , ...,  0.8650002 ,\n",
       "         0.49801099, -0.78032861],\n",
       "       ...,\n",
       "       [-0.63642354, -0.68666522,  0.8650002 , ...,  1.        ,\n",
       "         0.67599096, -0.8429366 ],\n",
       "       [-0.68772936, -0.38910273,  0.49801099, ...,  0.67599096,\n",
       "         1.        , -0.35473068],\n",
       "       [ 0.35311894,  0.82964921, -0.78032861, ..., -0.8429366 ,\n",
       "        -0.35473068,  1.        ]])"
      ]
     },
     "execution_count": 9,
     "metadata": {},
     "output_type": "execute_result"
    }
   ],
   "source": []
  },
  {
   "cell_type": "code",
   "execution_count": 13,
   "id": "b616bbde",
   "metadata": {},
   "outputs": [
    {
     "data": {
      "text/plain": [
       "0.039000718928606036"
      ]
     },
     "execution_count": 13,
     "metadata": {},
     "output_type": "execute_result"
    }
   ],
   "source": [
    "np.linalg.norm(np.corrcoef(X_imp1) - np.corrcoef(X))/np.linalg.norm(np.corrcoef(X))"
   ]
  },
  {
   "cell_type": "code",
   "execution_count": 18,
   "id": "a623ae62",
   "metadata": {},
   "outputs": [
    {
     "data": {
      "text/plain": [
       "array([[ 0.07503628, -0.15616744, -0.23637294, -0.56194996, -0.15935484,\n",
       "        -0.27974815, -0.05180722, -0.91510786, -0.08954982,  1.7203129 ],\n",
       "       [-0.15616744,  0.36984987,  2.88169223,  0.06213726, -1.57022789,\n",
       "         0.00546045, -0.3079284 , -0.41743622, -0.84434328,  0.47339274],\n",
       "       [-0.23637294,  2.88169223,  0.35451893,  0.20587471, -0.72721734,\n",
       "        -1.53108698,  0.268174  , -0.94495191, -0.25471881, -1.35550413],\n",
       "       [-0.56194996,  0.06213726,  0.20587471,  4.1344731 ,  0.44689045,\n",
       "        -1.25594674,  0.13084764,  0.13426938,  0.48699486,  0.06507597],\n",
       "       [-0.15935484, -1.57022789, -0.72721734,  0.44689045,  0.24451681,\n",
       "         0.07824223,  0.47772989,  2.51342011,  0.2232701 ,  0.59400796],\n",
       "       [-0.27974815,  0.00546045, -1.53108698, -1.25594674,  0.07824223,\n",
       "         0.01256262, -0.4319906 , -1.11948223, -0.0920007 ,  0.00593343],\n",
       "       [-0.05180722, -0.3079284 ,  0.268174  ,  0.13084764,  0.47772989,\n",
       "        -0.4319906 ,  4.69516541, -0.17661788, -0.0415042 ,  0.50568558],\n",
       "       [-0.91510786, -0.41743622, -0.94495191,  0.13426938,  2.51342011,\n",
       "        -1.11948223, -0.17661788,  0.13156355,  0.61854921,  0.09802597],\n",
       "       [-0.08954982, -0.84434328, -0.25471881,  0.48699486,  0.2232701 ,\n",
       "        -0.0920007 , -0.0415042 ,  0.61854921,  0.07442252, -0.15047071],\n",
       "       [ 1.7203129 ,  0.47339274, -1.35550413,  0.06507597,  0.59400796,\n",
       "         0.00593343,  0.50568558,  0.09802597, -0.15047071,  0.30037365]])"
      ]
     },
     "execution_count": 18,
     "metadata": {},
     "output_type": "execute_result"
    }
   ],
   "source": [
    "X2 = np.random.normal(size=(10,10))\n",
    "X2.T * X2"
   ]
  },
  {
   "cell_type": "code",
   "execution_count": null,
   "id": "44f30d5d",
   "metadata": {},
   "outputs": [],
   "source": [
    "np.linalg.norm(np.corrcoef(X_imp1) - np.corrcoef(X))/np.linalg.norm(np.corrcoef(X))"
   ]
  },
  {
   "cell_type": "code",
   "execution_count": 4,
   "id": "e6d69c08",
   "metadata": {
    "pycharm": {
     "name": "#%%\n"
    }
   },
   "outputs": [
    {
     "name": "stdout",
     "output_type": "stream",
     "text": [
      "There is no entry to be evaluated in variable 0.\n",
      "There is no entry to be evaluated in variable 1.\n",
      "There is no entry to be evaluated in variable 2.\n",
      "There is no entry to be evaluated in variable 3.\n",
      "There is no entry to be evaluated in variable 4.\n",
      "There is no entry to be evaluated in variable 5.\n",
      "There is no entry to be evaluated in variable 7.\n",
      "There is no entry to be evaluated in variable 8.\n",
      "0.0748565710415662\n",
      "There is no entry to be evaluated in variable 0.\n",
      "There is no entry to be evaluated in variable 1.\n",
      "There is no entry to be evaluated in variable 2.\n",
      "There is no entry to be evaluated in variable 3.\n",
      "There is no entry to be evaluated in variable 4.\n",
      "There is no entry to be evaluated in variable 5.\n",
      "There is no entry to be evaluated in variable 7.\n",
      "There is no entry to be evaluated in variable 8.\n",
      "0.07887998373366956\n"
     ]
    }
   ],
   "source": [
    "model = VineCopReg(bicop_family='gaussian', num_threads=10, vine_structure='R', is_monotone=False, seed=42)\n",
    "X_imp1 = model.fit_transform(X_mis)\n",
    "X_imp2 = GaussianCopula().fit_transform(X_mis)\n",
    "\n",
    "smae1 = get_smae(X_imp1, X, X_mis)\n",
    "print(np.mean(smae1[~np.isnan(smae1)]))\n",
    "\n",
    "smae2 = get_smae(X_imp2, X, X_mis)\n",
    "print(np.mean(smae2[~np.isnan(smae2)]))"
   ]
  },
  {
   "cell_type": "raw",
   "id": "717a7f02",
   "metadata": {
    "pycharm": {
     "name": "#%% raw\n"
    }
   },
   "source": [
    "model = VineCopReg(bicop_families=['gaussian'], num_threads=10, vine_structure='C', seed=42)\n",
    "X_imp1 = model.fit_transform(X_mis)\n",
    "X_imp2 = GaussianCopula().fit_transform(X_mis)\n",
    "\n",
    "smae1 = get_smae(X_imp1, X, X_mis)\n",
    "print(np.mean(smae1[~np.isnan(smae1)]))\n",
    "\n",
    "smae2 = get_smae(X_imp2, X, X_mis)\n",
    "print(np.mean(smae2[~np.isnan(smae2)]))"
   ]
  },
  {
   "cell_type": "raw",
   "id": "e354a1bf",
   "metadata": {
    "pycharm": {
     "name": "#%% raw\n"
    }
   },
   "source": [
    "model = VineCopReg(bicop_families=['gaussian'], num_threads=10, vine_structure='D', seed=42)\n",
    "X_imp1 = model.fit_transform(X_mis)\n",
    "X_imp2 = GaussianCopula().fit_transform(X_mis)\n",
    "\n",
    "smae1 = get_smae(X_imp1, X, X_mis)\n",
    "print(np.mean(smae1[~np.isnan(smae1)]))\n",
    "\n",
    "smae2 = get_smae(X_imp2, X, X_mis)\n",
    "print(np.mean(smae2[~np.isnan(smae2)]))"
   ]
  }
 ],
 "metadata": {
  "kernelspec": {
   "display_name": "Python 3 (ipykernel)",
   "language": "python",
   "name": "python3"
  },
  "language_info": {
   "codemirror_mode": {
    "name": "ipython",
    "version": 3
   },
   "file_extension": ".py",
   "mimetype": "text/x-python",
   "name": "python",
   "nbconvert_exporter": "python",
   "pygments_lexer": "ipython3",
   "version": "3.7.11"
  }
 },
 "nbformat": 4,
 "nbformat_minor": 5
}