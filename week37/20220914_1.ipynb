{
 "cells": [
  {
   "cell_type": "code",
   "execution_count": 1,
   "id": "ca141157",
   "metadata": {},
   "outputs": [],
   "source": [
    "import numpy as np\n",
    "import pandas as pd\n",
    "from vcimpute.helper_datagen import make_complete_data_matrix, mask_MCAR\n",
    "from vcimpute.zeisberger import VineCopReg\n",
    "from vcimpute.helper_mdp import all_mdps, mdp_coords\n",
    "from vcimpute.helper_vinestructs import generate_r_vine_structure\n",
    "from vcimpute.utils import get\n",
    "from gcimpute.helper_evaluation import get_smae\n",
    "from gcimpute.gaussian_copula import GaussianCopula\n",
    "\n",
    "X = make_complete_data_matrix(1000, 10, 'frank', seed=4, vine_structure='R')\n",
    "X_mis = mask_MCAR(X, 'general', 0.05, seed=4)"
   ]
  },
  {
   "cell_type": "code",
   "execution_count": 2,
   "id": "3bccf7e9",
   "metadata": {},
   "outputs": [],
   "source": [
    "model = VineCopReg(bicop_families=['frank'], num_threads=10, vine_structure='R', seed=42)\n",
    "X_imp1 = model.fit_transform(X_mis)\n",
    "X_imp2 = GaussianCopula().fit_transform(X_mis)"
   ]
  },
  {
   "cell_type": "code",
   "execution_count": 3,
   "id": "e17eaec3",
   "metadata": {},
   "outputs": [
    {
     "data": {
      "text/plain": [
       "0.14947950736485935"
      ]
     },
     "execution_count": 3,
     "metadata": {},
     "output_type": "execute_result"
    }
   ],
   "source": [
    "smae1 = get_smae(X_imp1, X, X_mis)\n",
    "np.mean(smae1[~np.isnan(smae1)])"
   ]
  },
  {
   "cell_type": "code",
   "execution_count": 4,
   "id": "e201403e",
   "metadata": {},
   "outputs": [
    {
     "data": {
      "text/plain": [
       "0.1018931453778877"
      ]
     },
     "execution_count": 4,
     "metadata": {},
     "output_type": "execute_result"
    }
   ],
   "source": [
    "smae2 = get_smae(X_imp2, X, X_mis)\n",
    "np.mean(smae2[~np.isnan(smae2)])"
   ]
  }
 ],
 "metadata": {
  "kernelspec": {
   "display_name": "Python 3 (ipykernel)",
   "language": "python",
   "name": "python3"
  },
  "language_info": {
   "codemirror_mode": {
    "name": "ipython",
    "version": 3
   },
   "file_extension": ".py",
   "mimetype": "text/x-python",
   "name": "python",
   "nbconvert_exporter": "python",
   "pygments_lexer": "ipython3",
   "version": "3.7.11"
  }
 },
 "nbformat": 4,
 "nbformat_minor": 5
}
