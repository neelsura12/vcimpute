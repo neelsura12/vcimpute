{
 "cells": [
  {
   "cell_type": "code",
   "execution_count": 5,
   "id": "ca141157",
   "metadata": {},
   "outputs": [],
   "source": [
    "import numpy as np\n",
    "import pandas as pd\n",
    "from vcimpute.helper_datagen import make_complete_data_matrix, mask_MCAR\n",
    "from vcimpute.zeisberger import VineCopFit\n",
    "from vcimpute import helper_mdp\n",
    "from vcimpute.helper_vinestructs import generate_r_vine_structure\n",
    "from vcimpute.utils import get, smae_mean\n",
    "from gcimpute.gaussian_copula import GaussianCopula\n",
    "\n",
    "X = make_complete_data_matrix(1000, 10, 'gaussian', seed=23, vine_structure='R')"
   ]
  },
  {
   "cell_type": "code",
   "execution_count": 6,
   "id": "5a284899",
   "metadata": {},
   "outputs": [],
   "source": [
    "X_mis = mask_MCAR(X, 'monotone', 0.10, seed=23, n_cols=4)"
   ]
  },
  {
   "cell_type": "code",
   "execution_count": 7,
   "id": "da7a36a7",
   "metadata": {},
   "outputs": [
    {
     "name": "stdout",
     "output_type": "stream",
     "text": [
      "There is no entry to be evaluated in variable 1.\n",
      "There is no entry to be evaluated in variable 2.\n",
      "There is no entry to be evaluated in variable 4.\n",
      "There is no entry to be evaluated in variable 7.\n",
      "There is no entry to be evaluated in variable 8.\n",
      "There is no entry to be evaluated in variable 9.\n"
     ]
    },
    {
     "data": {
      "text/plain": [
       "0.6746833773789517"
      ]
     },
     "execution_count": 7,
     "metadata": {},
     "output_type": "execute_result"
    }
   ],
   "source": [
    "X_imp1 = VineCopFit('gaussian', 10, True, 42).fit_transform(X_mis)\n",
    "smae_mean(X_imp1, X, X_mis)"
   ]
  },
  {
   "cell_type": "code",
   "execution_count": null,
   "id": "9f3b1221",
   "metadata": {},
   "outputs": [],
   "source": [
    "X_imp2 = VineCopFit('gaussian', 10, False, 42).fit_transform(X_mis)\n",
    "smae_mean(X_imp2, X, X_mis)"
   ]
  }
 ],
 "metadata": {
  "kernelspec": {
   "display_name": "Python 3 (ipykernel)",
   "language": "python",
   "name": "python3"
  },
  "language_info": {
   "codemirror_mode": {
    "name": "ipython",
    "version": 3
   },
   "file_extension": ".py",
   "mimetype": "text/x-python",
   "name": "python",
   "nbconvert_exporter": "python",
   "pygments_lexer": "ipython3",
   "version": "3.7.11"
  }
 },
 "nbformat": 4,
 "nbformat_minor": 5
}
