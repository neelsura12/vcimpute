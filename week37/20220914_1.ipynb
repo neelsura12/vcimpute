{
 "cells": [
  {
   "cell_type": "code",
   "execution_count": 15,
   "id": "ca141157",
   "metadata": {
    "pycharm": {
     "name": "#%%\n"
    }
   },
   "outputs": [],
   "source": [
    "import numpy as np\n",
    "import pandas as pd\n",
    "from vcimpute.helper_datagen import make_complete_data_matrix, mask_MCAR\n",
    "from vcimpute.zeisberger import VineCopFit\n",
    "from vcimpute import helper_mdp\n",
    "from vcimpute.helper_vinestructs import generate_r_vine_structure\n",
    "from vcimpute.utils import get, smae_mean\n",
    "from gcimpute.gaussian_copula import GaussianCopula\n",
    "\n",
    "X = make_complete_data_matrix(1000, 10, 'frank', seed=23, vine_structure='R')"
   ]
  },
  {
   "cell_type": "code",
   "execution_count": 16,
   "id": "5a284899",
   "metadata": {
    "pycharm": {
     "name": "#%%\n"
    }
   },
   "outputs": [],
   "source": [
    "X_mis = mask_MCAR(X, 'general', 0.2, seed=23)"
   ]
  },
  {
   "cell_type": "code",
   "execution_count": 17,
   "id": "da7a36a7",
   "metadata": {
    "pycharm": {
     "name": "#%%\n"
    }
   },
   "outputs": [
    {
     "data": {
      "text/plain": [
       "1.1666169952272925"
      ]
     },
     "execution_count": 17,
     "metadata": {},
     "output_type": "execute_result"
    }
   ],
   "source": [
    "X_imp1 = VineCopFit('frank', 10, True, 42).fit_transform(X_mis)\n",
    "smae_mean(X_imp1, X, X_mis)"
   ]
  },
  {
   "cell_type": "code",
   "execution_count": 18,
   "id": "9f3b1221",
   "metadata": {
    "pycharm": {
     "name": "#%%\n"
    }
   },
   "outputs": [
    {
     "data": {
      "text/plain": [
       "0.3081092772184244"
      ]
     },
     "execution_count": 18,
     "metadata": {},
     "output_type": "execute_result"
    }
   ],
   "source": [
    "X_imp2 = VineCopFit('frank', 10, False, 42).fit_transform(X_mis)\n",
    "smae_mean(X_imp2, X, X_mis)"
   ]
  },
  {
   "cell_type": "code",
   "execution_count": 19,
   "id": "1d89e53b",
   "metadata": {
    "pycharm": {
     "name": "#%%\n"
    }
   },
   "outputs": [
    {
     "data": {
      "text/plain": [
       "0.0865973965422406"
      ]
     },
     "execution_count": 19,
     "metadata": {},
     "output_type": "execute_result"
    }
   ],
   "source": [
    "X_imp3 = GaussianCopula().fit_transform(X_mis)\n",
    "smae_mean(X_imp3, X, X_mis)"
   ]
  }
 ],
 "metadata": {
  "kernelspec": {
   "display_name": "Python 3 (ipykernel)",
   "language": "python",
   "name": "python3"
  },
  "language_info": {
   "codemirror_mode": {
    "name": "ipython",
    "version": 3
   },
   "file_extension": ".py",
   "mimetype": "text/x-python",
   "name": "python",
   "nbconvert_exporter": "python",
   "pygments_lexer": "ipython3",
   "version": "3.7.11"
  }
 },
 "nbformat": 4,
 "nbformat_minor": 5
}