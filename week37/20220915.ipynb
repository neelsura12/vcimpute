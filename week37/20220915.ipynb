{
 "cells": [
  {
   "cell_type": "code",
   "execution_count": 26,
   "id": "1d74c9b5",
   "metadata": {},
   "outputs": [],
   "source": [
    "import os\n",
    "\n",
    "import numpy as np\n",
    "import pandas as pd\n",
    "from matplotlib import pyplot as plt"
   ]
  },
  {
   "cell_type": "code",
   "execution_count": 28,
   "id": "cc3a9d86",
   "metadata": {},
   "outputs": [],
   "source": [
    "df = pd.read_csv('/Users/nshah/work/vcimpute/output/lrgc_0.csv')"
   ]
  },
  {
   "cell_type": "code",
   "execution_count": 33,
   "id": "68de8385",
   "metadata": {},
   "outputs": [
    {
     "data": {
      "text/plain": [
       "<pandas.core.groupby.generic.DataFrameGroupBy object at 0x7fd6180c6e90>"
      ]
     },
     "execution_count": 33,
     "metadata": {},
     "output_type": "execute_result"
    }
   ],
   "source": [
    "df.groupby('mask_fraction')"
   ]
  },
  {
   "cell_type": "code",
   "execution_count": 31,
   "id": "c739f41b",
   "metadata": {},
   "outputs": [
    {
     "data": {
      "text/plain": [
       "<pandas.core.groupby.generic.DataFrameGroupBy object at 0x7fd638516250>"
      ]
     },
     "execution_count": 31,
     "metadata": {},
     "output_type": "execute_result"
    }
   ],
   "source": [
    "df.groupby('mask_fraction')"
   ]
  },
  {
   "cell_type": "raw",
   "id": "8aeca6c7",
   "metadata": {},
   "source": [
    "plt.hist(df['elapsed_gcimpute']/1e6)"
   ]
  },
  {
   "cell_type": "raw",
   "id": "a89680bc",
   "metadata": {},
   "source": [
    "df['mask_fraction']"
   ]
  }
 ],
 "metadata": {
  "kernelspec": {
   "display_name": "Python 3 (ipykernel)",
   "language": "python",
   "name": "python3"
  },
  "language_info": {
   "codemirror_mode": {
    "name": "ipython",
    "version": 3
   },
   "file_extension": ".py",
   "mimetype": "text/x-python",
   "name": "python",
   "nbconvert_exporter": "python",
   "pygments_lexer": "ipython3",
   "version": "3.7.11"
  }
 },
 "nbformat": 4,
 "nbformat_minor": 5
}
