{
 "cells": [
  {
   "cell_type": "code",
   "execution_count": 2,
   "id": "144bf4be",
   "metadata": {},
   "outputs": [],
   "source": [
    "import pyvinecopulib as pv"
   ]
  },
  {
   "cell_type": "code",
   "execution_count": 3,
   "id": "ca419262",
   "metadata": {},
   "outputs": [],
   "source": [
    "structure = pv.RVineStructure(d=5)"
   ]
  },
  {
   "cell_type": "code",
   "execution_count": 5,
   "id": "eb3afbc5",
   "metadata": {},
   "outputs": [],
   "source": [
    "from vcimpute.helper_vinestructs import vine_structure_to_matrix"
   ]
  },
  {
   "cell_type": "code",
   "execution_count": 8,
   "id": "b6f4d728",
   "metadata": {},
   "outputs": [],
   "source": [
    "structure.struct_array?"
   ]
  },
  {
   "cell_type": "code",
   "execution_count": 12,
   "id": "07f99352",
   "metadata": {},
   "outputs": [],
   "source": [
    "import numpy as np\n",
    "d = len(structure.order)\n",
    "T = np.zeros(shape=(d, d), dtype=np.uint64)\n",
    "for j in range(d):\n",
    "    for i in range(d - j - 1):\n",
    "        T[j, i] = structure.struct_array(j, i, natural_order=True)\n",
    "    T[d - j - 1, j] = j + 1"
   ]
  },
  {
   "cell_type": "code",
   "execution_count": 13,
   "id": "2d35e2cb",
   "metadata": {},
   "outputs": [],
   "source": [
    "from vcimpute.helper_diagonalize import diagonalize_matrix"
   ]
  },
  {
   "cell_type": "code",
   "execution_count": 16,
   "id": "d5263c5b",
   "metadata": {},
   "outputs": [
    {
     "data": {
      "text/plain": [
       "<pyvinecopulib.RVineStructure>\n",
       "2 3 4 5 5 \n",
       "3 4 5 4 \n",
       "4 5 3 \n",
       "5 2 \n",
       "1 "
      ]
     },
     "execution_count": 16,
     "metadata": {},
     "output_type": "execute_result"
    }
   ],
   "source": [
    "structure"
   ]
  },
  {
   "cell_type": "code",
   "execution_count": 25,
   "id": "51825bb5",
   "metadata": {},
   "outputs": [
    {
     "data": {
      "text/plain": [
       "array([[3, 4, 4, 4],\n",
       "       [4, 3, 3, 0],\n",
       "       [5, 5, 0, 0],\n",
       "       [2, 0, 0, 0]], dtype=uint64)"
      ]
     },
     "execution_count": 25,
     "metadata": {},
     "output_type": "execute_result"
    }
   ],
   "source": [
    "diagonalize_matrix(np.array([[4, 3, 3, 3],\n",
    "       [3, 2, 2, 0],\n",
    "       [2, 4, 0, 0],\n",
    "       [5, 0, 0, 0]], dtype=np.uint64),2)\n"
   ]
  },
  {
   "cell_type": "code",
   "execution_count": 21,
   "id": "71b52be7",
   "metadata": {},
   "outputs": [
    {
     "data": {
      "text/plain": [
       "array([[4, 2, 3, 3, 3],\n",
       "       [3, 3, 2, 2, 0],\n",
       "       [2, 4, 4, 0, 0],\n",
       "       [1, 1, 0, 0, 0],\n",
       "       [5, 0, 0, 0, 0]], dtype=uint64)"
      ]
     },
     "execution_count": 21,
     "metadata": {},
     "output_type": "execute_result"
    }
   ],
   "source": [
    "diagonalize_matrix(vine_structure_to_matrix(structure),5 )"
   ]
  },
  {
   "cell_type": "code",
   "execution_count": 6,
   "id": "34066ed5",
   "metadata": {},
   "outputs": [],
   "source": [
    "vine_structure_to_matrix(tsr)"
   ]
  },
  {
   "cell_type": "code",
   "execution_count": null,
   "id": "af35d2ab",
   "metadata": {},
   "outputs": [],
   "source": []
  }
 ],
 "metadata": {
  "kernelspec": {
   "display_name": "Python 3 (ipykernel)",
   "language": "python",
   "name": "python3"
  },
  "language_info": {
   "codemirror_mode": {
    "name": "ipython",
    "version": 3
   },
   "file_extension": ".py",
   "mimetype": "text/x-python",
   "name": "python",
   "nbconvert_exporter": "python",
   "pygments_lexer": "ipython3",
   "version": "3.7.11"
  }
 },
 "nbformat": 4,
 "nbformat_minor": 5
}
