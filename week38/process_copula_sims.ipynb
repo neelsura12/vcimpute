{
 "cells": [
  {
   "cell_type": "code",
   "execution_count": 1,
   "id": "e0c6bd36",
   "metadata": {},
   "outputs": [],
   "source": [
    "import os\n",
    "from multiprocessing import Pool, cpu_count\n",
    "\n",
    "import numpy as np\n",
    "import pandas as pd\n",
    "from matplotlib import pyplot as plt\n",
    "\n",
    "pd.set_option('display.max_rows', 500)\n",
    "pd.set_option('display.max_columns', 50)"
   ]
  },
  {
   "cell_type": "code",
   "execution_count": 2,
   "id": "f22bfa7f",
   "metadata": {},
   "outputs": [],
   "source": [
    "root_dir = '/Users/nshah/work/vcimpute/output'\n",
    "files = list(filter(lambda x: x.startswith('copula'), os.listdir(root_dir)))\n",
    "\n",
    "def run(path):\n",
    "    full_path = os.path.join(root_dir, path)\n",
    "    df = pd.read_csv(full_path)\n",
    "    df = df.drop_duplicates()\n",
    "    return df\n",
    "\n",
    "with Pool(cpu_count()-1) as p:\n",
    "    out = p.map(run, files)\n",
    "\n",
    "df = pd.concat(out)"
   ]
  },
  {
   "cell_type": "raw",
   "id": "e9cd7c26",
   "metadata": {},
   "source": [
    "pred = df['copula_type'] == 'gaussian'\n",
    "pred &= df['pattern'] == 'univariate'\n",
    "pred &= df['mask_fraction'] == 0.05\n",
    "pred &= df['vine_structure'].isnull()\n",
    "pred &= df['d'] == 20"
   ]
  },
  {
   "cell_type": "code",
   "execution_count": 3,
   "id": "f76bf1c8",
   "metadata": {},
   "outputs": [],
   "source": [
    "slices = (df[['copula_type', 'vine_structure', 'pattern']]\n",
    "          .drop_duplicates()\n",
    "          .sort_values(by=['copula_type', 'vine_structure', 'pattern'])\n",
    "          .itertuples(index=False, name=None))\n",
    "out = {}\n",
    "for copula_type, vine_structure, pattern in slices:\n",
    "    pred = df['copula_type'] == copula_type\n",
    "    pred &= df['pattern'] == pattern\n",
    "    if isinstance(vine_structure, str):\n",
    "        pred &= df['vine_structure'] == vine_structure\n",
    "        tag = f'{copula_type}_{vine_structure}_{pattern}'\n",
    "    else:\n",
    "        pred &= df['vine_structure'].isnull()\n",
    "        tag = f'{copula_type}_corrmat_{pattern}'\n",
    "    out[tag] = df[pred].groupby(['d','mask_fraction']).mean().dropna(axis=1)"
   ]
  },
  {
   "cell_type": "raw",
   "id": "835867c9",
   "metadata": {},
   "source": [
    "sorted(df['d'].unique())"
   ]
  },
  {
   "cell_type": "code",
   "execution_count": 4,
   "id": "bd8932a1",
   "metadata": {},
   "outputs": [],
   "source": [
    "d_to_col_mis = df[df['pattern'] == 'monotone'].groupby(['d'])['n_cols'].first().astype(int).to_dict()"
   ]
  },
  {
   "cell_type": "code",
   "execution_count": 5,
   "id": "1c5c60c4",
   "metadata": {},
   "outputs": [
    {
     "data": {
      "text/plain": [
       "[5, 8, 11, 14, 17, 20]"
      ]
     },
     "execution_count": 5,
     "metadata": {},
     "output_type": "execute_result"
    }
   ],
   "source": [
    "sorted(df['d'].unique())"
   ]
  },
  {
   "cell_type": "code",
   "execution_count": 6,
   "id": "aa4ec745",
   "metadata": {},
   "outputs": [
    {
     "data": {
      "text/plain": [
       "{5: 2, 8: 3, 11: 4, 14: 5, 17: 6, 20: 6}"
      ]
     },
     "execution_count": 6,
     "metadata": {},
     "output_type": "execute_result"
    }
   ],
   "source": [
    "d_to_col_mis"
   ]
  },
  {
   "cell_type": "raw",
   "id": "f7672368",
   "metadata": {},
   "source": [
    "for key, sub_df in out.items():\n",
    "    fig, axes = plt.subplots(6, 3, sharex=True, figsize=(10,14), facecolor='white')\n",
    "    for i, d in enumerate(sub_df.index.get_level_values('d').unique()):\n",
    "        for j, metric in enumerate(['smae', 'bias', 'elapsed']):\n",
    "            for col in filter(lambda x: x.startswith(metric), sub_df.columns):\n",
    "            \n",
    "                if 'gcimpute' in col:\n",
    "                    color = 'k'\n",
    "                elif 'copfit' in col:\n",
    "                    color = \"#7C0000\" # red\n",
    "                elif 'copreg' in col:\n",
    "                    color = \"#00FF00\" # green\n",
    "                else: \n",
    "                    color = 'blue'\n",
    "                divisor = 1_000_000 if metric == 'elapsed' else 1\n",
    "                axes[i][j].plot(sub_df.loc[pd.IndexSlice[d], col] / divisor, color=color)\n",
    "                \n",
    "    for i, label in zip(range(3), ['smae', 'bias', 'elapsed']):\n",
    "        axes[0][i].set_title(label)\n",
    "        axes[5][i].set_xlabel('missingness (%)')\n",
    "    fig.suptitle(key)\n",
    "    plt.subplots_adjust(top=0.92, wspace=0.5, hspace=0.5)\n",
    "    plt.tight_layout()\n",
    "    plt.savefig(f'{key}.png', dpi=300)\n",
    "    plt.close()"
   ]
  },
  {
   "cell_type": "code",
   "execution_count": 9,
   "id": "68c8b3b7",
   "metadata": {},
   "outputs": [],
   "source": [
    "for key, sub_df in out.items():\n",
    "    fig, axes = plt.subplots(3, 6, sharex=True, sharey='row', figsize=(14,7), facecolor='white')\n",
    "    for i, metric in enumerate(['smae', 'bias', 'elapsed']):\n",
    "        for j, d in enumerate(sub_df.index.get_level_values('d').unique()):\n",
    "            for col in filter(lambda x: x.startswith(metric), sub_df.columns):\n",
    "\n",
    "                    if 'gcimpute' in col:\n",
    "                        color = 'k'\n",
    "                    elif 'copfit' in col:\n",
    "                        color = \"#7C0000\" # red\n",
    "                    elif 'copreg' in col:\n",
    "                        color = \"#00FF00\" # green\n",
    "                    else: \n",
    "                        color = 'blue'\n",
    "                    divisor = 1_000_000 if metric == 'elapsed' else 1\n",
    "                    axes[i][j].plot(sub_df.loc[pd.IndexSlice[d], col] / divisor, color=color)\n",
    "\n",
    "    for i, label in zip(range(3), ['smae', 'bias', 'elapsed']):\n",
    "        axes[i][0].set_ylabel(label)\n",
    "    for j in range(6):\n",
    "        axes[2][i].set_xlabel('missingness (%)')\n",
    "    fig.suptitle(key)\n",
    "    plt.subplots_adjust(top=0.92, wspace=0.0, hspace=0.0)\n",
    "    plt.tight_layout()\n",
    "    plt.savefig(f'{key}.png', dpi=300)\n",
    "    plt.close()"
   ]
  },
  {
   "cell_type": "code",
   "execution_count": null,
   "id": "9a634012",
   "metadata": {},
   "outputs": [],
   "source": []
  }
 ],
 "metadata": {
  "kernelspec": {
   "display_name": "Python 3 (ipykernel)",
   "language": "python",
   "name": "python3"
  },
  "language_info": {
   "codemirror_mode": {
    "name": "ipython",
    "version": 3
   },
   "file_extension": ".py",
   "mimetype": "text/x-python",
   "name": "python",
   "nbconvert_exporter": "python",
   "pygments_lexer": "ipython3",
   "version": "3.7.11"
  }
 },
 "nbformat": 4,
 "nbformat_minor": 5
}
