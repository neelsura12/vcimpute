{
 "cells": [
  {
   "cell_type": "code",
   "execution_count": 1,
   "id": "597760cc",
   "metadata": {},
   "outputs": [],
   "source": [
    "import numpy as np\n",
    "import pyvinecopulib as pv\n",
    "\n",
    "from gcimpute.gaussian_copula import GaussianCopula\n",
    "from gcimpute.helper_evaluation import get_smae\n",
    "from vcimpute.helper_datagen import mask_MCAR"
   ]
  },
  {
   "cell_type": "code",
   "execution_count": 2,
   "id": "0d89fa2d",
   "metadata": {},
   "outputs": [],
   "source": [
    "def make_copula(d):\n",
    "    structure = pv.DVineStructure.simulate(d)\n",
    "\n",
    "    pair_copulas = []\n",
    "    for j in range(d - 1):\n",
    "        tmp = []\n",
    "        pair_copulas.append(tmp)\n",
    "        for _ in range(d - j - 1):\n",
    "            rho = np.minimum(np.maximum(np.random.beta(1, 0.75), 0.01), 0.99)\n",
    "            tmp.append(pv.Bicop(family=pv.BicopFamily.gaussian, parameters=[[rho]]))\n",
    "\n",
    "    cop = pv.Vinecop(structure, pair_copulas)\n",
    "\n",
    "    return cop"
   ]
  },
  {
   "cell_type": "code",
   "execution_count": 44,
   "id": "48b2ca90",
   "metadata": {},
   "outputs": [],
   "source": [
    "cop = make_copula(d)\n",
    "X = cop.simulate(n=1000)\n",
    "m = cop.order[0]-1\n",
    "X_mask = None\n",
    "k=0\n",
    "while (X_mask is None) or (not np.any(np.isnan(X_mask[:,m]))):\n",
    "    k+=1\n",
    "    X_mask = mask_MCAR(X, 'univariate', mask_fraction, k)"
   ]
  },
  {
   "cell_type": "markdown",
   "id": "4d59458b",
   "metadata": {},
   "source": [
    "### timing"
   ]
  },
  {
   "cell_type": "code",
   "execution_count": null,
   "id": "d2774c78",
   "metadata": {},
   "outputs": [],
   "source": [
    "%timeit GaussianCopula().fit_transform(X_mask)"
   ]
  },
  {
   "cell_type": "code",
   "execution_count": 52,
   "id": "b8a3ca04",
   "metadata": {},
   "outputs": [],
   "source": [
    "miss_vars = [m+1]\n",
    "obs_vars = list(set(1 + np.arange(d)).difference(miss_vars))\n",
    "structure = pv.DVineStructure(order=miss_vars + obs_vars)\n",
    "\n",
    "cop2 = pv.Vinecop(structure)\n",
    "controls = pv.FitControlsVinecop(family_set=[pv.BicopFamily.gaussian])\n",
    "cop2.select(X_mask, controls=controls)\n",
    "\n",
    "def proc2():\n",
    "\n",
    "    rb = cop2.rosenblatt(X_mask)\n",
    "    nan_rows = np.isnan(rb[:,m])\n",
    "    rb[nan_rows, m] = np.random.uniform(size=np.count_nonzero(nan_rows))\n",
    "    irb = cop2.inverse_rosenblatt(rb[nan_rows,:])\n",
    "    Ximp2 = np.copy(X_mask)\n",
    "    Ximp2[nan_rows, m] = irb[:, m]"
   ]
  },
  {
   "cell_type": "code",
   "execution_count": 53,
   "id": "ab7d4a20",
   "metadata": {},
   "outputs": [
    {
     "name": "stdout",
     "output_type": "stream",
     "text": [
      "5.27 s ± 50.4 ms per loop (mean ± std. dev. of 7 runs, 1 loop each)\n"
     ]
    }
   ],
   "source": [
    "%timeit proc2()"
   ]
  },
  {
   "cell_type": "code",
   "execution_count": 51,
   "id": "13a2273f",
   "metadata": {},
   "outputs": [
    {
     "name": "stdout",
     "output_type": "stream",
     "text": [
      "29.4 s ± 75.6 ms per loop (mean ± std. dev. of 7 runs, 1 loop each)\n"
     ]
    }
   ],
   "source": [
    "%timeit proc2()"
   ]
  },
  {
   "cell_type": "raw",
   "id": "fa6aa941",
   "metadata": {},
   "source": [
    "# gcimpute\n",
    "380 ms\n",
    "# w/out copula estimation\n",
    "5.27 s ± 50.4 ms per loop (mean ± std. dev. of 7 runs, 1 loop each)\n",
    "# w/copula estimation\n",
    "29.4 s ± 75.6 ms per loop (mean ± std. dev. of 7 runs, 1 loop each)"
   ]
  },
  {
   "cell_type": "markdown",
   "id": "8caa33c8",
   "metadata": {},
   "source": [
    "### accuracy"
   ]
  },
  {
   "cell_type": "code",
   "execution_count": 14,
   "id": "49c873f6",
   "metadata": {},
   "outputs": [
    {
     "name": "stdout",
     "output_type": "stream",
     "text": [
      "0\n",
      "1\n",
      "2\n",
      "3\n",
      "4\n",
      "5\n",
      "6\n",
      "7\n",
      "8\n",
      "9\n",
      "10\n",
      "11\n",
      "12\n",
      "13\n",
      "14\n",
      "15\n",
      "16\n",
      "17\n",
      "18\n",
      "19\n",
      "20\n",
      "21\n",
      "22\n",
      "23\n",
      "24\n",
      "25\n",
      "26\n",
      "27\n",
      "28\n",
      "29\n"
     ]
    },
    {
     "ename": "KeyboardInterrupt",
     "evalue": "",
     "output_type": "error",
     "traceback": [
      "\u001b[0;31m---------------------------------------------------------------------------\u001b[0m",
      "\u001b[0;31mKeyboardInterrupt\u001b[0m                         Traceback (most recent call last)",
      "\u001b[0;32m/var/folders/6j/tj0_jn4123ld3w6lbbkzf7g80000gp/T/ipykernel_33101/3474945015.py\u001b[0m in \u001b[0;36m<module>\u001b[0;34m\u001b[0m\n\u001b[1;32m      4\u001b[0m     \u001b[0;32mfor\u001b[0m \u001b[0mmask_fraction\u001b[0m \u001b[0;32min\u001b[0m \u001b[0;34m[\u001b[0m\u001b[0;36m0.01\u001b[0m\u001b[0;34m,\u001b[0m\u001b[0;36m0.025\u001b[0m\u001b[0;34m,\u001b[0m\u001b[0;36m0.05\u001b[0m\u001b[0;34m,\u001b[0m\u001b[0;36m0.1\u001b[0m\u001b[0;34m,\u001b[0m\u001b[0;36m0.15\u001b[0m\u001b[0;34m,\u001b[0m\u001b[0;36m0.175\u001b[0m\u001b[0;34m,\u001b[0m\u001b[0;36m0.2\u001b[0m\u001b[0;34m]\u001b[0m\u001b[0;34m:\u001b[0m\u001b[0;34m\u001b[0m\u001b[0;34m\u001b[0m\u001b[0m\n\u001b[1;32m      5\u001b[0m         \u001b[0mcop\u001b[0m \u001b[0;34m=\u001b[0m \u001b[0mmake_copula\u001b[0m\u001b[0;34m(\u001b[0m\u001b[0md\u001b[0m\u001b[0;34m)\u001b[0m\u001b[0;34m\u001b[0m\u001b[0;34m\u001b[0m\u001b[0m\n\u001b[0;32m----> 6\u001b[0;31m         \u001b[0mX\u001b[0m \u001b[0;34m=\u001b[0m \u001b[0mcop\u001b[0m\u001b[0;34m.\u001b[0m\u001b[0msimulate\u001b[0m\u001b[0;34m(\u001b[0m\u001b[0mn\u001b[0m\u001b[0;34m=\u001b[0m\u001b[0;36m1000\u001b[0m\u001b[0;34m)\u001b[0m\u001b[0;34m\u001b[0m\u001b[0;34m\u001b[0m\u001b[0m\n\u001b[0m\u001b[1;32m      7\u001b[0m         \u001b[0mm\u001b[0m \u001b[0;34m=\u001b[0m \u001b[0mcop\u001b[0m\u001b[0;34m.\u001b[0m\u001b[0morder\u001b[0m\u001b[0;34m[\u001b[0m\u001b[0;36m0\u001b[0m\u001b[0;34m]\u001b[0m\u001b[0;34m-\u001b[0m\u001b[0;36m1\u001b[0m\u001b[0;34m\u001b[0m\u001b[0;34m\u001b[0m\u001b[0m\n\u001b[1;32m      8\u001b[0m         \u001b[0mX_mask\u001b[0m \u001b[0;34m=\u001b[0m \u001b[0;32mNone\u001b[0m\u001b[0;34m\u001b[0m\u001b[0;34m\u001b[0m\u001b[0m\n",
      "\u001b[0;31mKeyboardInterrupt\u001b[0m: "
     ]
    }
   ],
   "source": [
    "l=0\n",
    "out = []\n",
    "for d in np.arange(5,100,step=5):\n",
    "    for mask_fraction in [0.01,0.025,0.05,0.1,0.15,0.175,0.2]:\n",
    "        cop = make_copula(d)\n",
    "        X = cop.simulate(n=1000)\n",
    "        m = cop.order[0]-1\n",
    "        X_mask = None\n",
    "        k=0\n",
    "        while (X_mask is None) or (not np.any(np.isnan(X_mask[:,m]))):\n",
    "            k+=1\n",
    "            X_mask = mask_MCAR(X, 'univariate', mask_fraction, k)\n",
    "\n",
    "        X_imp = GaussianCopula().fit_transform(X_mask)\n",
    "        \n",
    "\n",
    "        miss_vars = [m+1]\n",
    "        obs_vars = list(set(1 + np.arange(d)).difference(miss_vars))\n",
    "        structure = pv.DVineStructure(order=miss_vars + obs_vars)\n",
    "\n",
    "        cop2 = pv.Vinecop(structure)\n",
    "        controls = pv.FitControlsVinecop(family_set=[pv.BicopFamily.gaussian])\n",
    "        cop2.select(X_mask, controls=controls)\n",
    "\n",
    "        rb = cop2.rosenblatt(X_mask)\n",
    "        nan_rows = np.isnan(rb[:,m])\n",
    "        rb[nan_rows, m] = np.random.uniform(size=np.count_nonzero(nan_rows))\n",
    "        irb = cop2.inverse_rosenblatt(rb[nan_rows,:])\n",
    "        Ximp2 = np.copy(X_mask)\n",
    "        Ximp2[nan_rows, m] = irb[:, m]\n",
    "        \n",
    "        out.append((\n",
    "            d,\n",
    "            mask_fraction,\n",
    "            get_smae(X_imp, X, X_mask)[m],\n",
    "            get_smae(Ximp2, X, X_mask)[m]\n",
    "        ))\n",
    "        print(l)\n",
    "        l+=1"
   ]
  },
  {
   "cell_type": "markdown",
   "id": "f8b543d7",
   "metadata": {},
   "source": [
    "### Check result"
   ]
  },
  {
   "cell_type": "code",
   "execution_count": 15,
   "id": "be768b9e",
   "metadata": {},
   "outputs": [],
   "source": [
    "from matplotlib import pyplot as plt"
   ]
  },
  {
   "cell_type": "code",
   "execution_count": 18,
   "id": "11d19fdc",
   "metadata": {},
   "outputs": [],
   "source": [
    "import pandas as pd"
   ]
  },
  {
   "cell_type": "code",
   "execution_count": 19,
   "id": "547d426f",
   "metadata": {},
   "outputs": [],
   "source": [
    "df = pd.DataFrame(out, columns=[['d', 'mask_frac', 'smae_gc', 'smae_vc']])"
   ]
  },
  {
   "cell_type": "code",
   "execution_count": 20,
   "id": "3ce5fa05",
   "metadata": {},
   "outputs": [],
   "source": [
    "df.to_pickle('univ_irb.pkl')"
   ]
  },
  {
   "cell_type": "code",
   "execution_count": 32,
   "id": "2b5c012e",
   "metadata": {},
   "outputs": [
    {
     "data": {
      "text/plain": [
       "(array([17.,  4.,  1.,  5.,  0.,  0.,  1.,  0.,  1.,  1.]),\n",
       " array([0.02737724, 0.09851347, 0.16964971, 0.24078595, 0.31192218,\n",
       "        0.38305842, 0.45419465, 0.52533089, 0.59646713, 0.66760336,\n",
       "        0.7387396 ]),\n",
       " <BarContainer object of 10 artists>)"
      ]
     },
     "execution_count": 32,
     "metadata": {},
     "output_type": "execute_result"
    },
    {
     "data": {
      "image/png": "[encoded data removed]",
      "text/plain": [
       "<Figure size 432x288 with 1 Axes>"
      ]
     },
     "metadata": {
      "needs_background": "light"
     },
     "output_type": "display_data"
    }
   ],
   "source": [
    "plt.hist(df['smae_gc'])"
   ]
  },
  {
   "cell_type": "code",
   "execution_count": 42,
   "id": "60f783db",
   "metadata": {},
   "outputs": [
    {
     "data": {
      "text/plain": [
       "smae_vc    0.162952\n",
       "dtype: float64"
      ]
     },
     "execution_count": 42,
     "metadata": {},
     "output_type": "execute_result"
    }
   ],
   "source": [
    "df['smae_vc'].mean()"
   ]
  },
  {
   "cell_type": "code",
   "execution_count": 43,
   "id": "2aa6e35a",
   "metadata": {},
   "outputs": [
    {
     "data": {
      "text/plain": [
       "smae_vc    0.231166\n",
       "dtype: float64"
      ]
     },
     "execution_count": 43,
     "metadata": {},
     "output_type": "execute_result"
    }
   ],
   "source": [
    "df['smae_vc'].std()"
   ]
  },
  {
   "cell_type": "code",
   "execution_count": null,
   "id": "ea7d455a",
   "metadata": {},
   "outputs": [],
   "source": []
  },
  {
   "cell_type": "code",
   "execution_count": 37,
   "id": "690c1e27",
   "metadata": {},
   "outputs": [
    {
     "data": {
      "text/plain": [
       "(-0.0365239485345842, 0.8322537527125379)"
      ]
     },
     "execution_count": 37,
     "metadata": {},
     "output_type": "execute_result"
    },
    {
     "data": {
      "image/png": "[encoded data removed]",
      "text/plain": [
       "<Figure size 432x288 with 1 Axes>"
      ]
     },
     "metadata": {
      "needs_background": "light"
     },
     "output_type": "display_data"
    }
   ],
   "source": [
    "plt.scatter(df['smae_vc'], df['smae_gc'])\n",
    "plt.xlabel('vc')\n",
    "plt.ylabel('gc')\n",
    "ax = plt.gca()\n",
    "lims = [\n",
    "    np.min([ax.get_xlim(), ax.get_ylim()]),\n",
    "    np.max([ax.get_xlim(), ax.get_ylim()]),\n",
    "]\n",
    "ax.plot(lims, lims, 'k-', alpha=0.75, zorder=0)\n",
    "ax.set_aspect('equal')\n",
    "ax.set_xlim(lims)\n",
    "ax.set_ylim(lims)\n"
   ]
  },
  {
   "cell_type": "code",
   "execution_count": 33,
   "id": "0ffcf04b",
   "metadata": {},
   "outputs": [
    {
     "data": {
      "text/plain": [
       "(array([18.,  4.,  1.,  1.,  2.,  1.,  0.,  0.,  0.,  3.]),\n",
       " array([0.00296595, 0.08194574, 0.16092553, 0.23990532, 0.31888511,\n",
       "        0.3978649 , 0.47684469, 0.55582448, 0.63480428, 0.71378407,\n",
       "        0.79276386]),\n",
       " <BarContainer object of 10 artists>)"
      ]
     },
     "execution_count": 33,
     "metadata": {},
     "output_type": "execute_result"
    },
    {
     "data": {
      "image/png": "[encoded data removed]",
      "text/plain": [
       "<Figure size 432x288 with 1 Axes>"
      ]
     },
     "metadata": {
      "needs_background": "light"
     },
     "output_type": "display_data"
    }
   ],
   "source": [
    "plt.hist(df['smae_vc'])"
   ]
  },
  {
   "cell_type": "code",
   "execution_count": 24,
   "id": "5fd26e8a",
   "metadata": {},
   "outputs": [
    {
     "ename": "ValueError",
     "evalue": "Grouper for 'mask_frac' not 1-dimensional",
     "output_type": "error",
     "traceback": [
      "\u001b[0;31m---------------------------------------------------------------------------\u001b[0m",
      "\u001b[0;31mValueError\u001b[0m                                Traceback (most recent call last)",
      "\u001b[0;32m/var/folders/6j/tj0_jn4123ld3w6lbbkzf7g80000gp/T/ipykernel_33101/2877880755.py\u001b[0m in \u001b[0;36m<module>\u001b[0;34m\u001b[0m\n\u001b[0;32m----> 1\u001b[0;31m \u001b[0mdf\u001b[0m\u001b[0;34m.\u001b[0m\u001b[0mgroupby\u001b[0m\u001b[0;34m(\u001b[0m\u001b[0;34m'mask_frac'\u001b[0m\u001b[0;34m)\u001b[0m\u001b[0;34m\u001b[0m\u001b[0;34m\u001b[0m\u001b[0m\n\u001b[0m",
      "\u001b[0;32m~/anaconda3/envs/zhaogcimpute/lib/python3.7/site-packages/pandas/core/frame.py\u001b[0m in \u001b[0;36mgroupby\u001b[0;34m(self, by, axis, level, as_index, sort, group_keys, squeeze, observed, dropna)\u001b[0m\n\u001b[1;32m   7639\u001b[0m             \u001b[0msqueeze\u001b[0m\u001b[0;34m=\u001b[0m\u001b[0msqueeze\u001b[0m\u001b[0;34m,\u001b[0m  \u001b[0;31m# type: ignore[arg-type]\u001b[0m\u001b[0;34m\u001b[0m\u001b[0;34m\u001b[0m\u001b[0m\n\u001b[1;32m   7640\u001b[0m             \u001b[0mobserved\u001b[0m\u001b[0;34m=\u001b[0m\u001b[0mobserved\u001b[0m\u001b[0;34m,\u001b[0m\u001b[0;34m\u001b[0m\u001b[0;34m\u001b[0m\u001b[0m\n\u001b[0;32m-> 7641\u001b[0;31m             \u001b[0mdropna\u001b[0m\u001b[0;34m=\u001b[0m\u001b[0mdropna\u001b[0m\u001b[0;34m,\u001b[0m\u001b[0;34m\u001b[0m\u001b[0;34m\u001b[0m\u001b[0m\n\u001b[0m\u001b[1;32m   7642\u001b[0m         )\n\u001b[1;32m   7643\u001b[0m \u001b[0;34m\u001b[0m\u001b[0m\n",
      "\u001b[0;32m~/anaconda3/envs/zhaogcimpute/lib/python3.7/site-packages/pandas/core/groupby/groupby.py\u001b[0m in \u001b[0;36m__init__\u001b[0;34m(self, obj, keys, axis, level, grouper, exclusions, selection, as_index, sort, group_keys, squeeze, observed, mutated, dropna)\u001b[0m\n\u001b[1;32m    895\u001b[0m                 \u001b[0mobserved\u001b[0m\u001b[0;34m=\u001b[0m\u001b[0mobserved\u001b[0m\u001b[0;34m,\u001b[0m\u001b[0;34m\u001b[0m\u001b[0;34m\u001b[0m\u001b[0m\n\u001b[1;32m    896\u001b[0m                 \u001b[0mmutated\u001b[0m\u001b[0;34m=\u001b[0m\u001b[0mself\u001b[0m\u001b[0;34m.\u001b[0m\u001b[0mmutated\u001b[0m\u001b[0;34m,\u001b[0m\u001b[0;34m\u001b[0m\u001b[0;34m\u001b[0m\u001b[0m\n\u001b[0;32m--> 897\u001b[0;31m                 \u001b[0mdropna\u001b[0m\u001b[0;34m=\u001b[0m\u001b[0mself\u001b[0m\u001b[0;34m.\u001b[0m\u001b[0mdropna\u001b[0m\u001b[0;34m,\u001b[0m\u001b[0;34m\u001b[0m\u001b[0;34m\u001b[0m\u001b[0m\n\u001b[0m\u001b[1;32m    898\u001b[0m             )\n\u001b[1;32m    899\u001b[0m \u001b[0;34m\u001b[0m\u001b[0m\n",
      "\u001b[0;32m~/anaconda3/envs/zhaogcimpute/lib/python3.7/site-packages/pandas/core/groupby/grouper.py\u001b[0m in \u001b[0;36mget_grouper\u001b[0;34m(obj, key, axis, level, sort, observed, mutated, validate, dropna)\u001b[0m\n\u001b[1;32m    855\u001b[0m                     \u001b[0;31m# non-unique columns; raise here to get the name in the\u001b[0m\u001b[0;34m\u001b[0m\u001b[0;34m\u001b[0m\u001b[0;34m\u001b[0m\u001b[0m\n\u001b[1;32m    856\u001b[0m                     \u001b[0;31m# exception message\u001b[0m\u001b[0;34m\u001b[0m\u001b[0;34m\u001b[0m\u001b[0;34m\u001b[0m\u001b[0m\n\u001b[0;32m--> 857\u001b[0;31m                     \u001b[0;32mraise\u001b[0m \u001b[0mValueError\u001b[0m\u001b[0;34m(\u001b[0m\u001b[0;34mf\"Grouper for '{name}' not 1-dimensional\"\u001b[0m\u001b[0;34m)\u001b[0m\u001b[0;34m\u001b[0m\u001b[0;34m\u001b[0m\u001b[0m\n\u001b[0m\u001b[1;32m    858\u001b[0m                 \u001b[0mexclusions\u001b[0m\u001b[0;34m.\u001b[0m\u001b[0madd\u001b[0m\u001b[0;34m(\u001b[0m\u001b[0mname\u001b[0m\u001b[0;34m)\u001b[0m\u001b[0;34m\u001b[0m\u001b[0;34m\u001b[0m\u001b[0m\n\u001b[1;32m    859\u001b[0m             \u001b[0;32melif\u001b[0m \u001b[0mobj\u001b[0m\u001b[0;34m.\u001b[0m\u001b[0m_is_level_reference\u001b[0m\u001b[0;34m(\u001b[0m\u001b[0mgpr\u001b[0m\u001b[0;34m,\u001b[0m \u001b[0maxis\u001b[0m\u001b[0;34m=\u001b[0m\u001b[0maxis\u001b[0m\u001b[0;34m)\u001b[0m\u001b[0;34m:\u001b[0m\u001b[0;34m\u001b[0m\u001b[0;34m\u001b[0m\u001b[0m\n",
      "\u001b[0;31mValueError\u001b[0m: Grouper for 'mask_frac' not 1-dimensional"
     ]
    }
   ],
   "source": [
    "df.groupby('mask_frac')"
   ]
  }
 ],
 "metadata": {
  "kernelspec": {
   "display_name": "Python 3 (ipykernel)",
   "language": "python",
   "name": "python3"
  },
  "language_info": {
   "codemirror_mode": {
    "name": "ipython",
    "version": 3
   },
   "file_extension": ".py",
   "mimetype": "text/x-python",
   "name": "python",
   "nbconvert_exporter": "python",
   "pygments_lexer": "ipython3",
   "version": "3.7.11"
  }
 },
 "nbformat": 4,
 "nbformat_minor": 5
}
