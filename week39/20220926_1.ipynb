{
 "cells": [
  {
   "cell_type": "code",
   "execution_count": 3,
   "id": "597760cc",
   "metadata": {},
   "outputs": [],
   "source": [
    "import numpy as np\n",
    "import pandas as pd\n",
    "import pyvinecopulib as pv\n",
    "\n",
    "from gcimpute.gaussian_copula import GaussianCopula\n",
    "from gcimpute.helper_evaluation import get_smae\n",
    "from gcimpute.helper_data import generate_mixed_from_gc\n",
    "from gcimpute.helper_mask import mask_MCAR"
   ]
  },
  {
   "cell_type": "code",
   "execution_count": 7,
   "id": "cfee628c",
   "metadata": {},
   "outputs": [],
   "source": [
    "d=10\n",
    "X = generate_mixed_from_gc(var_types={'cont': list(range(d))})"
   ]
  },
  {
   "cell_type": "code",
   "execution_count": 14,
   "id": "22916f7d",
   "metadata": {},
   "outputs": [],
   "source": [
    "X_mask = mask_MCAR(X, 0.2)"
   ]
  },
  {
   "cell_type": "code",
   "execution_count": 25,
   "id": "05f481b4",
   "metadata": {},
   "outputs": [],
   "source": [
    "from vcimpute.helper_mdp import all_mdps, count_missing_by_col, count_missing_by_row, sort_mdps_by_increasing_missing_vars"
   ]
  },
  {
   "cell_type": "code",
   "execution_count": 26,
   "id": "c14dd9a8",
   "metadata": {},
   "outputs": [
    {
     "data": {
      "text/plain": [
       "array([1, 3, 2, ..., 1, 3, 3])"
      ]
     },
     "execution_count": 26,
     "metadata": {},
     "output_type": "execute_result"
    }
   ],
   "source": [
    "count_missing_by_row(sort_mdps_by_increasing_missing_vars(X_mask))"
   ]
  },
  {
   "cell_type": "code",
   "execution_count": 29,
   "id": "862d33f4",
   "metadata": {},
   "outputs": [
    {
     "data": {
      "text/plain": [
       "{0, 1, 2, 3, 4, 5, 6, 7, 8}"
      ]
     },
     "execution_count": 29,
     "metadata": {},
     "output_type": "execute_result"
    }
   ],
   "source": [
    "set(sorted(count_missing_by_row(X_mask)))"
   ]
  },
  {
   "cell_type": "code",
   "execution_count": 21,
   "id": "edff68e1",
   "metadata": {},
   "outputs": [
    {
     "data": {
      "text/plain": [
       "array([408, 368, 405, 374, 422, 428, 415, 386, 415, 379])"
      ]
     },
     "execution_count": 21,
     "metadata": {},
     "output_type": "execute_result"
    }
   ],
   "source": [
    "count_missing_by_col(X_mask)"
   ]
  },
  {
   "cell_type": "code",
   "execution_count": 18,
   "id": "373368cf",
   "metadata": {},
   "outputs": [
    {
     "data": {
      "text/plain": [
       "array([[False, False, False, ..., False, False,  True],\n",
       "       [False, False, False, ..., False,  True, False],\n",
       "       [False, False, False, ..., False,  True,  True],\n",
       "       ...,\n",
       "       [ True,  True,  True, ...,  True,  True, False],\n",
       "       [ True,  True,  True, ..., False, False,  True],\n",
       "       [ True,  True,  True, ...,  True, False,  True]])"
      ]
     },
     "execution_count": 18,
     "metadata": {},
     "output_type": "execute_result"
    }
   ],
   "source": [
    "all_mdps(X_mask)"
   ]
  },
  {
   "cell_type": "code",
   "execution_count": null,
   "id": "eff5a945",
   "metadata": {},
   "outputs": [],
   "source": []
  },
  {
   "cell_type": "code",
   "execution_count": null,
   "id": "106c02f2",
   "metadata": {},
   "outputs": [],
   "source": []
  },
  {
   "cell_type": "code",
   "execution_count": null,
   "id": "37e4e4bd",
   "metadata": {},
   "outputs": [],
   "source": []
  },
  {
   "cell_type": "code",
   "execution_count": null,
   "id": "89623a49",
   "metadata": {},
   "outputs": [],
   "source": []
  }
 ],
 "metadata": {
  "kernelspec": {
   "display_name": "Python 3 (ipykernel)",
   "language": "python",
   "name": "python3"
  },
  "language_info": {
   "codemirror_mode": {
    "name": "ipython",
    "version": 3
   },
   "file_extension": ".py",
   "mimetype": "text/x-python",
   "name": "python",
   "nbconvert_exporter": "python",
   "pygments_lexer": "ipython3",
   "version": "3.7.11"
  }
 },
 "nbformat": 4,
 "nbformat_minor": 5
}
