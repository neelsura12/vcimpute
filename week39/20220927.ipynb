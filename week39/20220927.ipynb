{
 "cells": [
  {
   "cell_type": "code",
   "execution_count": 1,
   "id": "8aab65aa",
   "metadata": {
    "pycharm": {
     "name": "#%%\n"
    }
   },
   "outputs": [],
   "source": [
    "import numpy as np\n",
    "import pandas as pd\n",
    "import pyvinecopulib as pv\n",
    "\n",
    "from gcimpute.gaussian_copula import GaussianCopula\n",
    "from gcimpute.helper_evaluation import get_smae\n",
    "from gcimpute.helper_data import generate_mixed_from_gc\n",
    "from gcimpute.helper_mask import mask_MCAR\n",
    "from vcimpute.helper_mdp import all_mdps, mdp_coords\n",
    "from vcimpute.helper_datagen import make_complete_data_matrix"
   ]
  },
  {
   "cell_type": "raw",
   "id": "2f8d4c51",
   "metadata": {
    "pycharm": {
     "name": "#%% raw\n"
    }
   },
   "source": [
    "def get_matches(Z, order):\n",
    "    # assumes no empty row\n",
    "    d = len(order)\n",
    "    matches = []\n",
    "    for k in range(1, 10):\n",
    "        match, = np.where(set(order[:-k]) == Z)\n",
    "        if len(match) > 0:\n",
    "            matches.append(match)\n",
    "        match, = np.where(set(order[k:]) == Z)\n",
    "        if len(match) > 0:\n",
    "            matches.append(match)\n",
    "    return np.concatenate(matches) if len(matches) > 0 else matches\n",
    "\n",
    "d = 10\n",
    "R = 100\n",
    "\n",
    "X = generate_mixed_from_gc(var_types={'cont': list(range(d))})\n",
    "X_mask = mask_MCAR(X, 0.2)\n",
    "Z = np.array(list(map(lambda x: set(1 + np.where(x)[0]), all_mdps(X_mask))))\n",
    "\n",
    "print(len(Z))\n",
    "\n",
    "k = 0\n",
    "out = []\n",
    "while len(Z) > 0:\n",
    "    best_order = None\n",
    "    best_matches = None\n",
    "    len_best_matches = 0\n",
    "    for i in range(R):\n",
    "        order = pv.DVineStructure.simulate(d=d).order\n",
    "        cur_matches = get_matches(Z, order)\n",
    "        if len(cur_matches) > len_best_matches:\n",
    "            best_order = order\n",
    "            best_matches = cur_matches\n",
    "            len_best_matches = len(cur_matches)\n",
    "    if best_matches is not None:\n",
    "        Z = np.delete(Z, best_matches)\n",
    "        out.append(best_order)\n",
    "        print(k, len_best_matches)\n",
    "    k += 1"
   ]
  },
  {
   "cell_type": "code",
   "execution_count": 2,
   "id": "07286614",
   "metadata": {
    "pycharm": {
     "name": "#%%\n"
    }
   },
   "outputs": [],
   "source": [
    "d = 5\n",
    "X = make_complete_data_matrix(1000, d, 'gaussian', 1)\n",
    "X_mask = mask_MCAR(X, 0.2)"
   ]
  },
  {
   "cell_type": "code",
   "execution_count": 3,
   "id": "7fcc696b",
   "metadata": {
    "pycharm": {
     "name": "#%%\n"
    }
   },
   "outputs": [],
   "source": [
    "Z = np.array(list(map(lambda x: set(1 + np.where(x)[0]), all_mdps(X_mask))))\n",
    "Z = Z[np.argsort(list(map(len, Z)))[::-1]] # try reverse sort\n",
    "\n",
    "best_orders = []\n",
    "while len(Z) > 0:\n",
    "    best_matches = None\n",
    "    best_order = None\n",
    "    len_best_matches = 0\n",
    "    for i in range(max(1, int(len(Z) * 0.05))):\n",
    "        matches, = np.where(Z <= Z[i])\n",
    "        if len(matches) > len_best_matches:\n",
    "            best_matches = matches\n",
    "            best_order = Z[i]\n",
    "            len_best_matches = len(matches)\n",
    "    if best_matches is not None:\n",
    "        Z = np.delete(Z, best_matches)\n",
    "        best_orders.append(best_order)"
   ]
  },
  {
   "cell_type": "code",
   "execution_count": 4,
   "id": "12b1172a",
   "metadata": {
    "pycharm": {
     "name": "#%%\n"
    }
   },
   "outputs": [],
   "source": [
    "Z = np.array(list(map(lambda x: set(1 + np.where(x)[0]), all_mdps(X_mask))))\n",
    "Z = Z[np.argsort(list(map(len, Z)))[::-1]] # try reverse sort\n",
    "\n",
    "i = 0\n",
    "X_imp = np.copy(X_mask)\n",
    "for i in range(len(best_orders)): \n",
    "    miss_vars = best_orders[i]\n",
    "    obs_vars = set(1 + np.arange(d)).difference(miss_vars)\n",
    "    structure = pv.DVineStructure(order=list(miss_vars) + list(obs_vars))\n",
    "    miss_var_lst = Z[Z <= best_orders[i]]\n",
    "    \n",
    "    controls = pv.FitControlsVinecop(family_set=[pv.BicopFamily.gaussian]) # parameter\n",
    "    cop = pv.Vinecop(structure=structure)\n",
    "    cop.select(X_imp, controls=controls)\n",
    "    \n",
    "    for miss_vars in miss_var_lst: # ensure sorted\n",
    "        mdp = np.zeros(d, dtype=bool)\n",
    "        mdp[np.array(list(miss_vars)) - 1] = True\n",
    "        \n",
    "        miss_rows = mdp_coords(X_imp, mdp)\n",
    "        rb = cop.rosenblatt(X_imp[miss_rows])\n",
    "        rb[np.isnan(rb)] = np.random.uniform(size=np.count_nonzero(np.isnan(rb)))\n",
    "        irb = cop.inverse_rosenblatt(rb)\n",
    "        for j in range(len(miss_rows)):\n",
    "            X_imp[miss_rows[j], np.array(list(miss_vars))-1] = irb[j, np.array(list(miss_vars))-1]\n",
    "    Z = np.delete(Z, np.where(Z <= best_orders[i])[0])"
   ]
  },
  {
   "cell_type": "code",
   "execution_count": 8,
   "id": "2b1833cc",
   "metadata": {
    "pycharm": {
     "name": "#%%\n"
    }
   },
   "outputs": [
    {
     "data": {
      "text/plain": [
       "[{1, 2, 3, 4}, {1, 3, 4, 5}, {1, 2, 3, 5}, {2, 3, 4, 5}, {1, 2, 4, 5}]"
      ]
     },
     "execution_count": 8,
     "metadata": {},
     "output_type": "execute_result"
    }
   ],
   "source": [
    "best_orders"
   ]
  },
  {
   "cell_type": "code",
   "execution_count": 7,
   "id": "9e344a71",
   "metadata": {
    "pycharm": {
     "name": "#%%\n"
    }
   },
   "outputs": [
    {
     "data": {
      "text/plain": [
       "array([0.95161034, 1.03655314, 1.13584619, 1.31195052, 1.24382789])"
      ]
     },
     "execution_count": 7,
     "metadata": {},
     "output_type": "execute_result"
    }
   ],
   "source": [
    "get_smae(X_imp, X, X_mask)"
   ]
  }
 ],
 "metadata": {
  "kernelspec": {
   "display_name": "Python 3 (ipykernel)",
   "language": "python",
   "name": "python3"
  },
  "language_info": {
   "codemirror_mode": {
    "name": "ipython",
    "version": 3
   },
   "file_extension": ".py",
   "mimetype": "text/x-python",
   "name": "python",
   "nbconvert_exporter": "python",
   "pygments_lexer": "ipython3",
   "version": "3.7.11"
  }
 },
 "nbformat": 4,
 "nbformat_minor": 5
}