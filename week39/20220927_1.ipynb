{
 "cells": [
  {
   "cell_type": "code",
   "execution_count": 16,
   "id": "8aab65aa",
   "metadata": {
    "pycharm": {
     "name": "#%%\n"
    }
   },
   "outputs": [],
   "source": [
    "import numpy as np\n",
    "import pandas as pd\n",
    "import pyvinecopulib as pv\n",
    "\n",
    "from gcimpute.gaussian_copula import GaussianCopula\n",
    "from gcimpute.helper_evaluation import get_smae\n",
    "from gcimpute.helper_data import generate_mixed_from_gc\n",
    "from gcimpute.helper_mask import mask_MCAR\n",
    "from vcimpute.helper_mdp import all_mdps, mdp_coords\n",
    "from vcimpute.helper_datagen import make_complete_data_matrix"
   ]
  },
  {
   "cell_type": "code",
   "execution_count": null,
   "id": "da09269e",
   "metadata": {
    "pycharm": {
     "name": "#%%\n"
    }
   },
   "outputs": [],
   "source": [
    "# numba njit"
   ]
  },
  {
   "cell_type": "code",
   "execution_count": 40,
   "id": "07286614",
   "metadata": {
    "pycharm": {
     "name": "#%%\n"
    }
   },
   "outputs": [],
   "source": [
    "d = 6\n",
    "X = make_complete_data_matrix(1000, d, 'gaussian', 1)\n",
    "X_mask = mask_MCAR(X, 0.2)"
   ]
  },
  {
   "cell_type": "raw",
   "id": "e79957e1",
   "metadata": {
    "pycharm": {
     "name": "#%% raw\n"
    }
   },
   "source": [
    "mdps = all_mdps(X_mask)\n",
    "Z = []\n",
    "for i in range(mdps.shape[0]):\n",
    "    Z.append((1 + np.where(mdps[i])[0]))\n",
    "Z = np.array(Z, dtype='object')\n",
    "# Z = Z[np.argsort(list(map(len, Z)))[::-1]]\n",
    "np.random.shuffle(Z)"
   ]
  },
  {
   "cell_type": "code",
   "execution_count": 78,
   "id": "1cef7e0c",
   "metadata": {
    "pycharm": {
     "name": "#%%\n"
    }
   },
   "outputs": [],
   "source": [
    "mdps = all_mdps(X_mask)\n",
    "Z = []\n",
    "for i in range(mdps.shape[0]):\n",
    "    Z.append((1 + np.where(mdps[i])[0]))\n",
    "Z = np.array(Z, dtype='object')\n",
    "# Z = Z[np.argsort(list(map(len, Z)))[::-1]]\n",
    "np.random.shuffle(Z)\n",
    "\n",
    "order_prefixes = []\n",
    "matches = []\n",
    "k = 0\n",
    "while len(Z) > 0:\n",
    "    order_prefixes.append(Z[0])\n",
    "    matches.append([])\n",
    "    matches[k].append(Z[0])\n",
    "    remove_indices = [0]\n",
    "    for i in range(1,len(Z)):\n",
    "        if len(Z[i]) > len(Z[0]):\n",
    "            continue\n",
    "        match = True\n",
    "        for z1, z2 in zip(Z[0], Z[i]):\n",
    "            match &= z1 == z2\n",
    "        if match:\n",
    "            matches[k].append(Z[i])\n",
    "            remove_indices.append(i)\n",
    "    Z = np.delete(Z, remove_indices)\n",
    "    k += 1"
   ]
  },
  {
   "cell_type": "code",
   "execution_count": 79,
   "id": "c58bcf2c",
   "metadata": {
    "pycharm": {
     "name": "#%%\n"
    }
   },
   "outputs": [],
   "source": [
    "X_imp = np.copy(X_mask)\n",
    "for order_prefix, sub_matches in zip(order_prefixes, matches): # sort reducing total missing data\n",
    "    obs_vars = set(1 + np.arange(d)).difference(order_prefix)\n",
    "    structure = pv.DVineStructure(order=list(order_prefix) + list(obs_vars))\n",
    "    controls = pv.FitControlsVinecop(family_set=[pv.BicopFamily.gaussian]) # parameter\n",
    "    cop = pv.Vinecop(structure=structure)\n",
    "    cop.select(X_imp, controls=controls)\n",
    "    \n",
    "    for miss_vars in sub_matches:\n",
    "        mdp = np.zeros(d, dtype=bool)\n",
    "        mdp[np.array(list(miss_vars)) - 1] = True\n",
    "        miss_rows = mdp_coords(X_imp, mdp)\n",
    "        rb = cop.rosenblatt(X_imp[miss_rows])\n",
    "        rb[np.isnan(rb)] = np.random.uniform(size=np.count_nonzero(np.isnan(rb)))\n",
    "        irb = cop.inverse_rosenblatt(rb)\n",
    "        for i in range(len(miss_rows)):\n",
    "            X_imp[miss_rows[i], np.array(list(miss_vars))-1] = irb[i, np.array(list(miss_vars))-1]"
   ]
  },
  {
   "cell_type": "code",
   "execution_count": 52,
   "id": "2049c4e3",
   "metadata": {
    "pycharm": {
     "name": "#%%\n"
    }
   },
   "outputs": [],
   "source": [
    "vc = get_smae(X_imp, X, X_mask)\n",
    "gc = get_smae(GaussianCopula().fit_transform(X_mask), X, X_mask)"
   ]
  },
  {
   "cell_type": "code",
   "execution_count": 53,
   "id": "e184328f",
   "metadata": {
    "pycharm": {
     "name": "#%%\n"
    }
   },
   "outputs": [],
   "source": [
    "from matplotlib import pyplot as plt"
   ]
  },
  {
   "cell_type": "code",
   "execution_count": 54,
   "id": "9c61593b",
   "metadata": {
    "pycharm": {
     "name": "#%%\n"
    }
   },
   "outputs": [
    {
     "data": {
      "text/plain": [
       "Text(0, 0.5, 'gc')"
      ]
     },
     "execution_count": 54,
     "metadata": {},
     "output_type": "execute_result"
    },
    {
     "data": {
      "image/png": "[encoded data removed]",
      "text/plain": [
       "<Figure size 432x288 with 1 Axes>"
      ]
     },
     "metadata": {
      "needs_background": "light"
     },
     "output_type": "display_data"
    }
   ],
   "source": [
    "plt.scatter(vc, gc)\n",
    "ax = plt.gca()\n",
    "lims = [\n",
    "    np.min([ax.get_xlim(), ax.get_ylim()]),\n",
    "    np.max([ax.get_xlim(), ax.get_ylim()]),\n",
    "]\n",
    "ax.plot(lims, lims, 'k-', alpha=0.75, zorder=0)\n",
    "ax.set_aspect('equal')\n",
    "ax.set_xlim(lims)\n",
    "ax.set_ylim(lims)\n",
    "plt.xlabel('vc')\n",
    "plt.ylabel('gc')"
   ]
  },
  {
   "cell_type": "code",
   "execution_count": 80,
   "id": "e80c04fa",
   "metadata": {
    "pycharm": {
     "name": "#%%\n"
    }
   },
   "outputs": [
    {
     "data": {
      "text/plain": [
       "0.6240349540866599"
      ]
     },
     "execution_count": 80,
     "metadata": {},
     "output_type": "execute_result"
    }
   ],
   "source": [
    "np.mean(get_smae(X_imp, X, X_mask))"
   ]
  },
  {
   "cell_type": "code",
   "execution_count": 81,
   "id": "2255cd74",
   "metadata": {
    "pycharm": {
     "name": "#%%\n"
    }
   },
   "outputs": [
    {
     "data": {
      "text/plain": [
       "0.4867195708592243"
      ]
     },
     "execution_count": 81,
     "metadata": {},
     "output_type": "execute_result"
    }
   ],
   "source": [
    "np.mean(get_smae(GaussianCopula().fit_transform(X_mask), X, X_mask))"
   ]
  },
  {
   "cell_type": "code",
   "execution_count": 86,
   "id": "2aac067c",
   "metadata": {
    "pycharm": {
     "name": "#%%\n"
    }
   },
   "outputs": [
    {
     "data": {
      "text/plain": [
       "[array([2, 4]),\n",
       " array([1, 6]),\n",
       " array([4, 5, 6]),\n",
       " array([4, 6]),\n",
       " array([2, 3, 4]),\n",
       " array([2, 3, 4, 6]),\n",
       " array([1, 3, 5]),\n",
       " array([5]),\n",
       " array([1, 5, 6]),\n",
       " array([3, 4, 5]),\n",
       " array([1, 2, 5]),\n",
       " array([2, 3, 6]),\n",
       " array([3, 4, 6]),\n",
       " array([1, 2, 6]),\n",
       " array([3, 5, 6]),\n",
       " array([1, 3, 5, 6]),\n",
       " array([1, 4, 6]),\n",
       " array([2, 6]),\n",
       " array([1, 4, 5, 6]),\n",
       " array([1, 3, 4, 6]),\n",
       " array([6]),\n",
       " array([3, 4, 5, 6]),\n",
       " array([2, 4, 5]),\n",
       " array([2, 5, 6]),\n",
       " array([3, 6]),\n",
       " array([1, 2, 3, 4]),\n",
       " array([2, 4, 6]),\n",
       " array([1, 3, 6]),\n",
       " array([1, 3, 4, 5, 6]),\n",
       " array([1, 2, 5, 6]),\n",
       " array([2, 4, 5, 6]),\n",
       " array([2, 3, 5]),\n",
       " array([2, 3, 5, 6]),\n",
       " array([5, 6])]"
      ]
     },
     "execution_count": 86,
     "metadata": {},
     "output_type": "execute_result"
    }
   ],
   "source": [
    "order_prefixes"
   ]
  },
  {
   "cell_type": "code",
   "execution_count": 85,
   "id": "8579391e",
   "metadata": {
    "pycharm": {
     "name": "#%%\n"
    }
   },
   "outputs": [
    {
     "data": {
      "text/plain": [
       "[[array([2, 4]), array([2])],\n",
       " [array([1, 6]), array([1])],\n",
       " [array([4, 5, 6]), array([4, 5]), array([4])],\n",
       " [array([4, 6])],\n",
       " [array([2, 3, 4]), array([2, 3])],\n",
       " [array([2, 3, 4, 6])],\n",
       " [array([1, 3, 5]), array([1, 3])],\n",
       " [array([5])],\n",
       " [array([1, 5, 6]), array([1, 5])],\n",
       " [array([3, 4, 5]), array([3, 4]), array([3])],\n",
       " [array([1, 2, 5]), array([1, 2])],\n",
       " [array([2, 3, 6])],\n",
       " [array([3, 4, 6])],\n",
       " [array([1, 2, 6])],\n",
       " [array([3, 5, 6]), array([3, 5])],\n",
       " [array([1, 3, 5, 6])],\n",
       " [array([1, 4, 6]), array([1, 4])],\n",
       " [array([2, 6])],\n",
       " [array([1, 4, 5, 6]), array([1, 4, 5])],\n",
       " [array([1, 3, 4, 6]), array([1, 3, 4])],\n",
       " [array([6])],\n",
       " [array([3, 4, 5, 6])],\n",
       " [array([2, 4, 5])],\n",
       " [array([2, 5, 6]), array([2, 5])],\n",
       " [array([3, 6])],\n",
       " [array([1, 2, 3, 4]), array([1, 2, 3])],\n",
       " [array([2, 4, 6])],\n",
       " [array([1, 3, 6])],\n",
       " [array([1, 3, 4, 5, 6])],\n",
       " [array([1, 2, 5, 6])],\n",
       " [array([2, 4, 5, 6])],\n",
       " [array([2, 3, 5])],\n",
       " [array([2, 3, 5, 6])],\n",
       " [array([5, 6])]]"
      ]
     },
     "execution_count": 85,
     "metadata": {},
     "output_type": "execute_result"
    }
   ],
   "source": [
    "matches"
   ]
  },
  {
   "cell_type": "code",
   "execution_count": null,
   "id": "7079a695",
   "metadata": {
    "pycharm": {
     "name": "#%%\n"
    }
   },
   "outputs": [],
   "source": []
  }
 ],
 "metadata": {
  "kernelspec": {
   "display_name": "Python 3 (ipykernel)",
   "language": "python",
   "name": "python3"
  },
  "language_info": {
   "codemirror_mode": {
    "name": "ipython",
    "version": 3
   },
   "file_extension": ".py",
   "mimetype": "text/x-python",
   "name": "python",
   "nbconvert_exporter": "python",
   "pygments_lexer": "ipython3",
   "version": "3.7.11"
  }
 },
 "nbformat": 4,
 "nbformat_minor": 5
}