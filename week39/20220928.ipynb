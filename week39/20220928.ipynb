{
 "cells": [
  {
   "cell_type": "code",
   "execution_count": 1,
   "id": "401f183b",
   "metadata": {},
   "outputs": [],
   "source": [
    "from multiprocessing import Pool\n",
    "import numpy as np\n",
    "import pyvinecopulib as pv\n",
    "\n",
    "from vcimpute.helper_datagen import make_complete_data_matrix, mask_MCAR\n",
    "from gcimpute.helper_evaluation import get_smae\n",
    "from itertools import permutations"
   ]
  },
  {
   "cell_type": "code",
   "execution_count": 2,
   "id": "4fb073b1",
   "metadata": {},
   "outputs": [],
   "source": [
    "d = 10\n",
    "X = make_complete_data_matrix(1000, d, 'gaussian', seed=10)\n",
    "X_mask = mask_MCAR(X, 'monotone', .2, seed=10, n_cols=2)"
   ]
  },
  {
   "cell_type": "code",
   "execution_count": 21,
   "id": "a985b803",
   "metadata": {},
   "outputs": [
    {
     "data": {
      "text/plain": [
       "array([  0,   0,   0,   0,   0,   0, 358,   0,   0,  42])"
      ]
     },
     "execution_count": 21,
     "metadata": {},
     "output_type": "execute_result"
    }
   ],
   "source": [
    "np.count_nonzero(np.isnan(X_mask), axis=0)"
   ]
  },
  {
   "cell_type": "code",
   "execution_count": 4,
   "id": "08a08d64",
   "metadata": {},
   "outputs": [],
   "source": [
    "controls = pv.FitControlsVinecop(family_set=[pv.BicopFamily.gaussian])"
   ]
  },
  {
   "cell_type": "raw",
   "id": "e6a9ceed",
   "metadata": {},
   "source": [
    "structures = [\n",
    "    pv.DVineStructure(order=[2,3,1,4]),\n",
    "    pv.DVineStructure(order=[1,4,2,3]),\n",
    "    pv.DVineStructure(order=[4,1,2,3]),\n",
    "    pv.DVineStructure(order=[2,3,4,1]),\n",
    "    pv.DVineStructure(order=[2,1,3,4])\n",
    "]\n",
    "\n",
    "copulas = []\n",
    "for structure in structures:\n",
    "    cop = pv.Vinecop(structure)\n",
    "    cop.select(X_mask, controls)\n",
    "    copulas.append(cop)\n",
    "\n",
    "for cop in copulas:\n",
    "    X_imp = np.copy(X_mask)\n",
    "    rb = cop.rosenblatt(X_imp)\n",
    "    rb = np.ndarray.flatten(rb)\n",
    "    nan_idx = np.flatnonzero(np.isnan(X_imp))\n",
    "    rb[nan_idx] = np.random.uniform(size=len(nan_idx))\n",
    "    rb = rb.reshape(X_imp.shape)\n",
    "    nan_rows = np.any(np.isnan(X_imp), axis=1)\n",
    "    X_imp[nan_rows, :] = cop.inverse_rosenblatt(rb[nan_rows, :])\n",
    "    print(get_smae(X_imp, X, X_mask))"
   ]
  },
  {
   "cell_type": "code",
   "execution_count": 22,
   "id": "8ea01762",
   "metadata": {},
   "outputs": [],
   "source": [
    "def process(p):\n",
    "    X_imp = np.copy(X_mask)\n",
    "    structure = pv.DVineStructure(order=list(p)) # can just be any valid vine structure\n",
    "    cop = pv.Vinecop(structure)\n",
    "    cop.select(X_imp, controls)\n",
    "    rb = cop.rosenblatt(X_imp)\n",
    "    rb = np.ndarray.flatten(rb)\n",
    "    nan_idx = np.flatnonzero(np.isnan(X_imp))\n",
    "    rb[nan_idx] = np.random.uniform(size=len(nan_idx)) # replace rng\n",
    "    rb = rb.reshape(X_imp.shape)\n",
    "    nan_rows = np.any(np.isnan(X_imp), axis=1)\n",
    "    X_imp[nan_rows, :] = cop.inverse_rosenblatt(rb[nan_rows, :])\n",
    "    return (p, get_smae(X_imp, X, X_mask)[6], get_smae(X_imp, X, X_mask)[9])"
   ]
  },
  {
   "cell_type": "raw",
   "id": "3892c55c",
   "metadata": {},
   "source": [
    "# different mdps can be parallelized\n",
    "with Pool(31) as pool:\n",
    "    out = pool.map(process, list(permutations(1 + np.arange(d)))[:10])"
   ]
  },
  {
   "cell_type": "raw",
   "id": "da1ff275",
   "metadata": {},
   "source": [
    "import pandas as pd"
   ]
  },
  {
   "cell_type": "raw",
   "id": "1cf717c5",
   "metadata": {},
   "source": [
    "pd.DataFrame(out, columns=['perm', 'smae1', 'smae2'])"
   ]
  },
  {
   "cell_type": "raw",
   "id": "a4147121",
   "metadata": {},
   "source": [
    "def process(p):\n",
    "    X_imp = np.copy(X_mask)\n",
    "    structure = pv.DVineStructure(order=list(p)) # can just be any valid vine structure\n",
    "    cop = pv.Vinecop(structure)\n",
    "    cop.select(X_imp, controls)\n",
    "    rb = cop.rosenblatt(X_imp)\n",
    "    rb = np.ndarray.flatten(rb)\n",
    "    nan_idx = np.flatnonzero(np.isnan(X_imp))\n",
    "    rb[nan_idx] = np.random.uniform(size=len(nan_idx)) # replace rng\n",
    "    rb = rb.reshape(X_imp.shape)\n",
    "    nan_rows = np.any(np.isnan(X_imp), axis=1)\n",
    "    X_imp[nan_rows, :] = cop.inverse_rosenblatt(rb[nan_rows, :])\n",
    "    return (p, get_smae(X_imp, X, X_mask)[6], get_smae(X_imp, X, X_mask)[9])"
   ]
  }
 ],
 "metadata": {
  "kernelspec": {
   "display_name": "Python 3 (ipykernel)",
   "language": "python",
   "name": "python3"
  },
  "language_info": {
   "codemirror_mode": {
    "name": "ipython",
    "version": 3
   },
   "file_extension": ".py",
   "mimetype": "text/x-python",
   "name": "python",
   "nbconvert_exporter": "python",
   "pygments_lexer": "ipython3",
   "version": "3.7.11"
  }
 },
 "nbformat": 4,
 "nbformat_minor": 5
}
