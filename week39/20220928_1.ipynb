{
 "cells": [
  {
   "cell_type": "code",
   "execution_count": 1,
   "id": "9b26253d",
   "metadata": {},
   "outputs": [],
   "source": [
    "from multiprocessing import Pool\n",
    "import numpy as np\n",
    "import pyvinecopulib as pv\n",
    "\n",
    "from vcimpute.simulator import simulate_order_k\n",
    "from vcimpute.helper_vinestructs import generate_r_vine_structure\n",
    "from vcimpute.helper_datagen import make_complete_data_matrix, mask_MCAR\n",
    "from gcimpute.helper_evaluation import get_smae"
   ]
  },
  {
   "cell_type": "code",
   "execution_count": 2,
   "id": "d23fbda3",
   "metadata": {},
   "outputs": [],
   "source": [
    "d = 10\n",
    "X = make_complete_data_matrix(1000, d, 'gaussian', seed=10)\n",
    "X_mask = mask_MCAR(X, 'univariate', 0.2, seed=10)"
   ]
  },
  {
   "cell_type": "code",
   "execution_count": 14,
   "id": "daa308b9",
   "metadata": {},
   "outputs": [],
   "source": [
    "idx_mis = np.where(np.any(np.isnan(X_mask), axis=0))[0].item()\n",
    "var_mis = idx_mis + 1"
   ]
  },
  {
   "cell_type": "code",
   "execution_count": 22,
   "id": "67f27450",
   "metadata": {},
   "outputs": [],
   "source": [
    "all_vars = 1 + np.arange(d)\n",
    "obs_vars = list(set(all_vars).difference([var_mis]))"
   ]
  },
  {
   "cell_type": "code",
   "execution_count": null,
   "id": "59993bbf",
   "metadata": {},
   "outputs": [],
   "source": [
    "structure = generate_r_vine_structure([var_mis], obs_vars)\n",
    "controls = pv.FitControlsVinecop(family_set=[pv.BicopFamily.gaussian])"
   ]
  },
  {
   "cell_type": "code",
   "execution_count": 57,
   "id": "381b98ca",
   "metadata": {},
   "outputs": [],
   "source": [
    "def process1(structure, X_mask):\n",
    "    X_imp = np.copy(X_mask)\n",
    "\n",
    "    cop = pv.Vinecop(structure)\n",
    "    cop.select(X_imp, controls)\n",
    "    \n",
    "    x_imp = simulate_order_k(cop, X_imp, 0)\n",
    "    nan_rows = np.isnan(X_imp[:,idx_mis])\n",
    "    X_imp[nan_rows, idx_mis] = x_imp[nan_rows]\n",
    "    \n",
    "    return X_imp"
   ]
  },
  {
   "cell_type": "code",
   "execution_count": 61,
   "id": "dc2e349d",
   "metadata": {},
   "outputs": [],
   "source": [
    "def process2(structure, X_mask):\n",
    "    X_imp = np.copy(X_mask)\n",
    "    \n",
    "    cop = pv.Vinecop(structure)\n",
    "    cop.select(X_imp, controls)\n",
    "    \n",
    "    rb = cop.rosenblatt(X_imp)\n",
    "    rb = np.ndarray.flatten(rb)\n",
    "    nan_idx = np.flatnonzero(np.isnan(X_imp))\n",
    "    rb[nan_idx] = np.random.uniform(size=len(nan_idx)) # replace rng\n",
    "    rb = rb.reshape(X_imp.shape)\n",
    "    nan_rows = np.any(np.isnan(X_imp), axis=1)\n",
    "    X_imp[nan_rows, :] = cop.inverse_rosenblatt(rb[nan_rows, :])\n",
    "    \n",
    "    return X_imp"
   ]
  },
  {
   "cell_type": "raw",
   "id": "b99cab34",
   "metadata": {},
   "source": [
    "[get_smae(process1(structure, X_mask), X, X_mask)[idx_mis] for _ in range(100)]"
   ]
  },
  {
   "cell_type": "raw",
   "id": "edf6a1e8",
   "metadata": {},
   "source": [
    "[get_smae(process2(structure, X_mask), X, X_mask)[idx_mis] for _ in range(100)]"
   ]
  },
  {
   "cell_type": "code",
   "execution_count": 66,
   "id": "348748a9",
   "metadata": {},
   "outputs": [
    {
     "name": "stdout",
     "output_type": "stream",
     "text": [
      "4.31 s ± 39.8 ms per loop (mean ± std. dev. of 7 runs, 1 loop each)\n"
     ]
    }
   ],
   "source": [
    "%timeit process1(structure, X_mask)"
   ]
  },
  {
   "cell_type": "code",
   "execution_count": 67,
   "id": "0ee0142a",
   "metadata": {},
   "outputs": [
    {
     "name": "stdout",
     "output_type": "stream",
     "text": [
      "4.01 s ± 20.4 ms per loop (mean ± std. dev. of 7 runs, 1 loop each)\n"
     ]
    }
   ],
   "source": [
    "%timeit process2(structure, X_mask)"
   ]
  }
 ],
 "metadata": {
  "kernelspec": {
   "display_name": "Python 3 (ipykernel)",
   "language": "python",
   "name": "python3"
  },
  "language_info": {
   "codemirror_mode": {
    "name": "ipython",
    "version": 3
   },
   "file_extension": ".py",
   "mimetype": "text/x-python",
   "name": "python",
   "nbconvert_exporter": "python",
   "pygments_lexer": "ipython3",
   "version": "3.7.11"
  }
 },
 "nbformat": 4,
 "nbformat_minor": 5
}
