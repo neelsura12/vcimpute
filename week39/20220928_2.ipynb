{
 "cells": [
  {
   "cell_type": "code",
   "execution_count": 1,
   "id": "32b34a70",
   "metadata": {},
   "outputs": [],
   "source": [
    "from multiprocessing import Pool\n",
    "import numpy as np\n",
    "import pyvinecopulib as pv\n",
    "\n",
    "from vcimpute.helper_datagen import make_complete_data_matrix, mask_MCAR\n",
    "from gcimpute.helper_evaluation import get_smae\n",
    "from itertools import permutations"
   ]
  },
  {
   "cell_type": "code",
   "execution_count": 2,
   "id": "759636ee",
   "metadata": {},
   "outputs": [],
   "source": [
    "d = 10\n",
    "X = make_complete_data_matrix(1000, d, 'gaussian', seed=10)\n",
    "X_mask = mask_MCAR(X, 'general', .2, seed=10)"
   ]
  },
  {
   "cell_type": "code",
   "execution_count": 4,
   "id": "4f39147c",
   "metadata": {},
   "outputs": [],
   "source": [
    "from vcimpute.helper_mdp import all_mdps"
   ]
  },
  {
   "cell_type": "code",
   "execution_count": 13,
   "id": "b122ef5d",
   "metadata": {},
   "outputs": [
    {
     "data": {
      "text/plain": [
       "(1000, 10)"
      ]
     },
     "execution_count": 13,
     "metadata": {},
     "output_type": "execute_result"
    }
   ],
   "source": [
    "X_mask.shape"
   ]
  },
  {
   "cell_type": "code",
   "execution_count": 45,
   "id": "813216eb",
   "metadata": {},
   "outputs": [],
   "source": [
    "X_mis = X_mask"
   ]
  },
  {
   "cell_type": "code",
   "execution_count": 53,
   "id": "ce8a535b",
   "metadata": {},
   "outputs": [],
   "source": [
    "def all_mdps_idx(X_mis):\n",
    "    a = np.zeros(np.prod(X_mis.shape), dtype=np.uint64)\n",
    "    b = np.flatnonzero(np.isnan(X_mis))\n",
    "    a[b] = 1 + b % X_mis.shape[1]\n",
    "    a = a.reshape(X_mis.shape)\n",
    "    return a"
   ]
  },
  {
   "cell_type": "code",
   "execution_count": 68,
   "id": "8f8fe0a3",
   "metadata": {},
   "outputs": [],
   "source": [
    "controls = pv.FitControlsVinecop(family_set=[pv.BicopFamily.gaussian])"
   ]
  },
  {
   "cell_type": "code",
   "execution_count": 71,
   "id": "a35c4940",
   "metadata": {},
   "outputs": [],
   "source": [
    "cop = pv.Vinecop(d=d)"
   ]
  },
  {
   "cell_type": "code",
   "execution_count": 72,
   "id": "8e2b3c01",
   "metadata": {},
   "outputs": [],
   "source": [
    "cop.select(X_mask, controls=controls)"
   ]
  },
  {
   "cell_type": "code",
   "execution_count": 76,
   "id": "a42eaec1",
   "metadata": {},
   "outputs": [],
   "source": [
    "T = cop.matrix"
   ]
  },
  {
   "cell_type": "code",
   "execution_count": 77,
   "id": "6ea07e81",
   "metadata": {},
   "outputs": [],
   "source": [
    "def adhoc_patterns(T):\n",
    "    pass"
   ]
  },
  {
   "cell_type": "code",
   "execution_count": null,
   "id": "c8a4e632",
   "metadata": {},
   "outputs": [],
   "source": [
    "make_diago"
   ]
  },
  {
   "cell_type": "code",
   "execution_count": 86,
   "id": "af5c9d82",
   "metadata": {},
   "outputs": [],
   "source": [
    "T2 = np.zeros(shape=(d, d), dtype=np.uint64)\n",
    "for j in range(d-1):\n",
    "    for i in range(d-j-1):\n",
    "        T2[i,j] = cop.structure.struct_array(i, j, natural_order=True)\n",
    "for j in range(d):\n",
    "    T2[d-j-1,j] = 1++j\n",
    "    "
   ]
  },
  {
   "cell_type": "code",
   "execution_count": 185,
   "id": "b805dc37",
   "metadata": {},
   "outputs": [],
   "source": [
    "structure = pv.RVineStructure(d=5)"
   ]
  },
  {
   "cell_type": "code",
   "execution_count": 186,
   "id": "46d8d40b",
   "metadata": {},
   "outputs": [],
   "source": [
    "T = pv.Vinecop(structure).matrix"
   ]
  },
  {
   "cell_type": "code",
   "execution_count": 234,
   "id": "6a189a3b",
   "metadata": {},
   "outputs": [
    {
     "data": {
      "text/plain": [
       "array([[2, 3, 4, 5, 5],\n",
       "       [3, 4, 5, 4, 0],\n",
       "       [4, 5, 3, 0, 0],\n",
       "       [5, 2, 0, 0, 0],\n",
       "       [1, 0, 0, 0, 0]], dtype=uint64)"
      ]
     },
     "execution_count": 234,
     "metadata": {},
     "output_type": "execute_result"
    }
   ],
   "source": [
    "T"
   ]
  },
  {
   "cell_type": "code",
   "execution_count": 188,
   "id": "4f247b18",
   "metadata": {},
   "outputs": [],
   "source": [
    "d = T.shape[1]"
   ]
  },
  {
   "cell_type": "code",
   "execution_count": 223,
   "id": "67171798",
   "metadata": {},
   "outputs": [],
   "source": [
    "def is_diagonal(T):\n",
    "    d = T.shape[1]\n",
    "    diagonal = True\n",
    "    for j in range(d-1):\n",
    "        diagonal &= T[d-j-2, j] == T[d-j-2, j+1]\n",
    "    return diagonal"
   ]
  },
  {
   "cell_type": "code",
   "execution_count": 245,
   "id": "73779727",
   "metadata": {},
   "outputs": [],
   "source": [
    "ced, cing, _ = get_ced_cing(T)\n",
    "T2 = np.zeros(shape=(d,d),dtype=np.uint64)\n",
    "\n",
    "j=0\n",
    "T2[d-j-1,0] = T[d-j-1,0]\n",
    "T2[d-j-2,0] = T[d-j-2,1]\n",
    "\n",
    "for k in range(d-j-2):\n",
    "    assert T2[k,j]==0\n",
    "    T2[k, j] = find(T2[d-j-1,j], k, ced, cing)\n",
    "\n",
    "\n",
    "for j in range(1,d-1):\n",
    "    if T2[d-j-1,j] != T2[d-j-1,j-1]:\n",
    "        T2[d-j-1,j] = T2[d-j-1,j-1]\n",
    "        T2[d-j-2,j] = T[d-j-1,j]\n",
    "    \n",
    "    for k in range(d-j-2):\n",
    "        assert T2[k,j]==0\n",
    "        T2[k, j] = find(T2[d-j-1,j], k, ced, cing)\n",
    "T2[0,d-1] = T2[0,d-2]"
   ]
  },
  {
   "cell_type": "code",
   "execution_count": 248,
   "id": "686e2eb3",
   "metadata": {},
   "outputs": [
    {
     "data": {
      "text/plain": [
       "array([[2, 1, 1, 4, 4],\n",
       "       [3, 4, 3, 3, 0],\n",
       "       [4, 2, 2, 0, 0],\n",
       "       [2, 2, 0, 0, 0],\n",
       "       [1, 0, 0, 0, 0]], dtype=uint64)"
      ]
     },
     "execution_count": 248,
     "metadata": {},
     "output_type": "execute_result"
    }
   ],
   "source": [
    "T2"
   ]
  },
  {
   "cell_type": "code",
   "execution_count": 239,
   "id": "e1323960",
   "metadata": {},
   "outputs": [
    {
     "data": {
      "text/plain": [
       "<pyvinecopulib.Vinecop>\n",
       "** Tree: 0\n",
       "1,2 <-> Independence\n",
       "2,3 <-> Independence\n",
       "3,4 <-> Independence\n",
       "4,5 <-> Independence\n",
       "** Tree: 1\n",
       "1,3 | 2 <-> Independence\n",
       "2,4 | 3 <-> Independence\n",
       "3,5 | 4 <-> Independence\n",
       "** Tree: 2\n",
       "1,4 | 3,2 <-> Independence\n",
       "2,5 | 4,3 <-> Independence\n",
       "** Tree: 3\n",
       "1,5 | 4,3,2 <-> Independence"
      ]
     },
     "execution_count": 239,
     "metadata": {},
     "output_type": "execute_result"
    }
   ],
   "source": [
    "pv.Vinecop(T)"
   ]
  },
  {
   "cell_type": "code",
   "execution_count": 236,
   "id": "45aaba57",
   "metadata": {},
   "outputs": [
    {
     "data": {
      "text/plain": [
       "array([[2, 4, 1, 4, 4],\n",
       "       [3, 3, 3, 3, 0],\n",
       "       [4, 2, 2, 0, 0],\n",
       "       [5, 5, 0, 0, 0],\n",
       "       [1, 0, 0, 0, 0]], dtype=uint64)"
      ]
     },
     "execution_count": 236,
     "metadata": {},
     "output_type": "execute_result"
    }
   ],
   "source": [
    "T2"
   ]
  },
  {
   "cell_type": "code",
   "execution_count": 231,
   "id": "74659d53",
   "metadata": {},
   "outputs": [
    {
     "data": {
      "text/plain": [
       "array([[2, 4, 1, 4, 4],\n",
       "       [3, 3, 3, 3, 0],\n",
       "       [4, 2, 2, 0, 0],\n",
       "       [5, 5, 0, 0, 0],\n",
       "       [1, 0, 0, 0, 0]], dtype=uint64)"
      ]
     },
     "execution_count": 231,
     "metadata": {},
     "output_type": "execute_result"
    }
   ],
   "source": [
    "T2"
   ]
  },
  {
   "cell_type": "code",
   "execution_count": 227,
   "id": "b926828d",
   "metadata": {},
   "outputs": [
    {
     "ename": "RuntimeError",
     "evalue": "not a valid R-vine array: the antidiagonal entry of a column must not be contained in any column further to the right.",
     "output_type": "error",
     "traceback": [
      "\u001b[0;31m---------------------------------------------------------------------------\u001b[0m",
      "\u001b[0;31mRuntimeError\u001b[0m                              Traceback (most recent call last)",
      "\u001b[0;32m/var/folders/6j/tj0_jn4123ld3w6lbbkzf7g80000gp/T/ipykernel_16083/1292927326.py\u001b[0m in \u001b[0;36m<module>\u001b[0;34m\u001b[0m\n\u001b[0;32m----> 1\u001b[0;31m \u001b[0mpv\u001b[0m\u001b[0;34m.\u001b[0m\u001b[0mVinecop\u001b[0m\u001b[0;34m(\u001b[0m\u001b[0mT2\u001b[0m\u001b[0;34m)\u001b[0m\u001b[0;34m\u001b[0m\u001b[0;34m\u001b[0m\u001b[0m\n\u001b[0m",
      "\u001b[0;31mRuntimeError\u001b[0m: not a valid R-vine array: the antidiagonal entry of a column must not be contained in any column further to the right."
     ]
    }
   ],
   "source": [
    "pv.Vinecop(stru)"
   ]
  },
  {
   "cell_type": "code",
   "execution_count": 233,
   "id": "e1054d4f",
   "metadata": {},
   "outputs": [
    {
     "data": {
      "text/plain": [
       "[[1, 2],\n",
       " [1, 3],\n",
       " [1, 4],\n",
       " [1, 5],\n",
       " [2, 3],\n",
       " [2, 4],\n",
       " [2, 5],\n",
       " [3, 4],\n",
       " [3, 5],\n",
       " [4, 5]]"
      ]
     },
     "execution_count": 233,
     "metadata": {},
     "output_type": "execute_result"
    }
   ],
   "source": [
    "ced"
   ]
  },
  {
   "cell_type": "code",
   "execution_count": 232,
   "id": "508c8d78",
   "metadata": {},
   "outputs": [
    {
     "data": {
      "text/plain": [
       "[[], [2], [2, 3], [2, 3, 4], [], [3], [3, 4], [], [4], []]"
      ]
     },
     "execution_count": 232,
     "metadata": {},
     "output_type": "execute_result"
    }
   ],
   "source": [
    "cing"
   ]
  },
  {
   "cell_type": "code",
   "execution_count": 229,
   "id": "00f4957f",
   "metadata": {},
   "outputs": [
    {
     "data": {
      "text/plain": [
       "1"
      ]
     },
     "execution_count": 229,
     "metadata": {},
     "output_type": "execute_result"
    }
   ],
   "source": [
    "find(2,0, ced,cing)"
   ]
  },
  {
   "cell_type": "code",
   "execution_count": 193,
   "id": "5a9a3d58",
   "metadata": {},
   "outputs": [],
   "source": []
  },
  {
   "cell_type": "code",
   "execution_count": 194,
   "id": "03b0b0e0",
   "metadata": {},
   "outputs": [
    {
     "data": {
      "text/plain": [
       "[[1, 2],\n",
       " [1, 3],\n",
       " [1, 4],\n",
       " [1, 5],\n",
       " [2, 3],\n",
       " [2, 4],\n",
       " [2, 5],\n",
       " [3, 4],\n",
       " [3, 5],\n",
       " [4, 5]]"
      ]
     },
     "execution_count": 194,
     "metadata": {},
     "output_type": "execute_result"
    }
   ],
   "source": [
    "ced"
   ]
  },
  {
   "cell_type": "code",
   "execution_count": 198,
   "id": "eff7b53c",
   "metadata": {},
   "outputs": [
    {
     "data": {
      "text/plain": [
       "array([[2, 0, 0, 4, 4],\n",
       "       [3, 0, 3, 3, 0],\n",
       "       [4, 2, 2, 0, 0],\n",
       "       [5, 5, 0, 0, 0],\n",
       "       [1, 0, 0, 0, 0]], dtype=uint64)"
      ]
     },
     "execution_count": 198,
     "metadata": {},
     "output_type": "execute_result"
    }
   ],
   "source": [
    "T2"
   ]
  },
  {
   "cell_type": "code",
   "execution_count": 199,
   "id": "50f7f41a",
   "metadata": {},
   "outputs": [
    {
     "data": {
      "text/plain": [
       "4"
      ]
     },
     "execution_count": 199,
     "metadata": {},
     "output_type": "execute_result"
    }
   ],
   "source": []
  },
  {
   "cell_type": "code",
   "execution_count": 124,
   "id": "63912467",
   "metadata": {},
   "outputs": [
    {
     "data": {
      "text/plain": [
       "<pyvinecopulib.Vinecop>\n",
       "** Tree: 0\n",
       "1,2 <-> Independence\n",
       "2,3 <-> Independence\n",
       "3,4 <-> Independence\n",
       "** Tree: 1\n",
       "1,3 | 2 <-> Independence\n",
       "2,4 | 3 <-> Independence\n",
       "** Tree: 2\n",
       "1,4 | 3,2 <-> Independence"
      ]
     },
     "execution_count": 124,
     "metadata": {},
     "output_type": "execute_result"
    }
   ],
   "source": [
    "pv.Vinecop(structure)"
   ]
  },
  {
   "cell_type": "code",
   "execution_count": 126,
   "id": "757b4e7c",
   "metadata": {},
   "outputs": [
    {
     "data": {
      "text/plain": [
       "<pyvinecopulib.Vinecop>\n",
       "** Tree: 0\n",
       "1,2 <-> Independence\n",
       "4,3 <-> Independence\n",
       "2,3 <-> Independence\n",
       "** Tree: 1\n",
       "1,3 | 2 <-> Independence\n",
       "4,2 | 3 <-> Independence\n",
       "** Tree: 2\n",
       "1,4 | 3,2 <-> Independence"
      ]
     },
     "execution_count": 126,
     "metadata": {},
     "output_type": "execute_result"
    }
   ],
   "source": [
    "pv.Vinecop(pv.RVineStructure(np.array([\n",
    "[2, 3, 3, 3],\n",
    "[3, 2, 2, 0],\n",
    "[4, 4, 0, 0],\n",
    "[1, 0, 0, 0]\n",
    "], dtype=np.uint64)))"
   ]
  },
  {
   "cell_type": "code",
   "execution_count": null,
   "id": "4a4b6f9a",
   "metadata": {},
   "outputs": [],
   "source": []
  },
  {
   "cell_type": "code",
   "execution_count": 104,
   "id": "22848c62",
   "metadata": {},
   "outputs": [],
   "source": [
    "from vcimpute.helper_diagonalize import get_ced_cing, find"
   ]
  },
  {
   "cell_type": "code",
   "execution_count": 111,
   "id": "ee60fd15",
   "metadata": {},
   "outputs": [],
   "source": [
    "ced, cing, _ = get_ced_cing(T)"
   ]
  },
  {
   "cell_type": "code",
   "execution_count": 95,
   "id": "a03a4c57",
   "metadata": {},
   "outputs": [
    {
     "data": {
      "text/plain": [
       "array([[ 4,  4,  9,  6,  9,  9, 10, 10, 10],\n",
       "       [ 3,  9,  6,  9, 10, 10,  9,  9,  0],\n",
       "       [ 9,  6,  5, 10,  7,  8,  8,  0,  0],\n",
       "       [ 6,  5, 10,  7,  8,  7,  0,  0,  0],\n",
       "       [ 5, 10,  7,  8,  6,  0,  0,  0,  0],\n",
       "       [10,  7,  8,  5,  0,  0,  0,  0,  0],\n",
       "       [ 7,  8,  4,  0,  0,  0,  0,  0,  0],\n",
       "       [ 8,  3,  0,  0,  0,  0,  0,  0,  0],\n",
       "       [ 2,  0,  0,  0,  0,  0,  0,  0,  0]], dtype=uint64)"
      ]
     },
     "execution_count": 95,
     "metadata": {},
     "output_type": "execute_result"
    }
   ],
   "source": [
    "T2[:-1,1:]"
   ]
  },
  {
   "cell_type": "code",
   "execution_count": 94,
   "id": "a9b7ad10",
   "metadata": {},
   "outputs": [
    {
     "ename": "RuntimeError",
     "evalue": "not a valid R-vine array: the order/antidiagonal must contain the numbers 1, ..., d (the number of variables)",
     "output_type": "error",
     "traceback": [
      "\u001b[0;31m---------------------------------------------------------------------------\u001b[0m",
      "\u001b[0;31mRuntimeError\u001b[0m                              Traceback (most recent call last)",
      "\u001b[0;32m/var/folders/6j/tj0_jn4123ld3w6lbbkzf7g80000gp/T/ipykernel_16083/3166060561.py\u001b[0m in \u001b[0;36m<module>\u001b[0;34m\u001b[0m\n\u001b[0;32m----> 1\u001b[0;31m \u001b[0mpv\u001b[0m\u001b[0;34m.\u001b[0m\u001b[0mRVineStructure\u001b[0m\u001b[0;34m(\u001b[0m\u001b[0mT2\u001b[0m\u001b[0;34m[\u001b[0m\u001b[0;34m:\u001b[0m\u001b[0;34m-\u001b[0m\u001b[0;36m1\u001b[0m\u001b[0;34m,\u001b[0m\u001b[0;36m1\u001b[0m\u001b[0;34m:\u001b[0m\u001b[0;34m]\u001b[0m\u001b[0;34m)\u001b[0m\u001b[0;34m\u001b[0m\u001b[0;34m\u001b[0m\u001b[0m\n\u001b[0m",
      "\u001b[0;31mRuntimeError\u001b[0m: not a valid R-vine array: the order/antidiagonal must contain the numbers 1, ..., d (the number of variables)"
     ]
    }
   ],
   "source": [
    "cpv.RVineStructure(T2[:-1,1:])"
   ]
  },
  {
   "cell_type": "code",
   "execution_count": 89,
   "id": "9f469502",
   "metadata": {},
   "outputs": [
    {
     "data": {
      "text/plain": [
       "<pyvinecopulib.RVineStructure>\n",
       "6 4 4 9 6 9 9 10 10 10 \n",
       "9 3 9 6 9 10 10 9 9 \n",
       "4 9 6 5 10 7 8 8 \n",
       "3 6 5 10 7 8 7 \n",
       "2 5 10 7 8 6 \n",
       "5 10 7 8 5 \n",
       "10 7 8 4 \n",
       "7 8 3 \n",
       "8 2 \n",
       "1 "
      ]
     },
     "execution_count": 89,
     "metadata": {},
     "output_type": "execute_result"
    }
   ],
   "source": [
    "pv.RVineStructure(T2)"
   ]
  },
  {
   "cell_type": "code",
   "execution_count": 87,
   "id": "5b2c1c91",
   "metadata": {},
   "outputs": [
    {
     "data": {
      "text/plain": [
       "array([[ 6,  4,  4,  9,  6,  9,  9, 10, 10, 10],\n",
       "       [ 9,  3,  9,  6,  9, 10, 10,  9,  9,  0],\n",
       "       [ 4,  9,  6,  5, 10,  7,  8,  8,  0,  0],\n",
       "       [ 3,  6,  5, 10,  7,  8,  7,  0,  0,  0],\n",
       "       [ 2,  5, 10,  7,  8,  6,  0,  0,  0,  0],\n",
       "       [ 5, 10,  7,  8,  5,  0,  0,  0,  0,  0],\n",
       "       [10,  7,  8,  4,  0,  0,  0,  0,  0,  0],\n",
       "       [ 7,  8,  3,  0,  0,  0,  0,  0,  0,  0],\n",
       "       [ 8,  2,  0,  0,  0,  0,  0,  0,  0,  0],\n",
       "       [ 1,  0,  0,  0,  0,  0,  0,  0,  0,  0]], dtype=uint64)"
      ]
     },
     "execution_count": 87,
     "metadata": {},
     "output_type": "execute_result"
    }
   ],
   "source": [
    "T2"
   ]
  },
  {
   "cell_type": "code",
   "execution_count": 54,
   "id": "8147653b",
   "metadata": {},
   "outputs": [
    {
     "data": {
      "text/plain": [
       "array([[0, 0, 0, ..., 0, 0, 0],\n",
       "       [1, 0, 0, ..., 0, 9, 0],\n",
       "       [0, 0, 0, ..., 0, 0, 0],\n",
       "       ...,\n",
       "       [0, 0, 0, ..., 8, 0, 0],\n",
       "       [1, 2, 0, ..., 0, 0, 0],\n",
       "       [1, 0, 0, ..., 0, 0, 0]], dtype=uint64)"
      ]
     },
     "execution_count": 54,
     "metadata": {},
     "output_type": "execute_result"
    }
   ],
   "source": [
    "all_mdps_idx(X_mask)"
   ]
  }
 ],
 "metadata": {
  "kernelspec": {
   "display_name": "Python 3 (ipykernel)",
   "language": "python",
   "name": "python3"
  },
  "language_info": {
   "codemirror_mode": {
    "name": "ipython",
    "version": 3
   },
   "file_extension": ".py",
   "mimetype": "text/x-python",
   "name": "python",
   "nbconvert_exporter": "python",
   "pygments_lexer": "ipython3",
   "version": "3.7.11"
  }
 },
 "nbformat": 4,
 "nbformat_minor": 5
}
