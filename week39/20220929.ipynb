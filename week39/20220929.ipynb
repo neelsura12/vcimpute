{
 "cells": [
  {
   "cell_type": "code",
   "execution_count": 19,
   "id": "32b34a70",
   "metadata": {},
   "outputs": [],
   "source": [
    "import numpy as np\n",
    "import pyvinecopulib as pv"
   ]
  },
  {
   "cell_type": "code",
   "execution_count": null,
   "id": "4b50767b",
   "metadata": {},
   "outputs": [],
   "source": [
    "T"
   ]
  },
  {
   "cell_type": "code",
   "execution_count": null,
   "id": "6ea07e81",
   "metadata": {},
   "outputs": [],
   "source": [
    "def adhoc_patterns(T):\n",
    "    pass"
   ]
  },
  {
   "cell_type": "code",
   "execution_count": null,
   "id": "af5c9d82",
   "metadata": {},
   "outputs": [],
   "source": [
    "T2 = np.zeros(shape=(d, d), dtype=np.uint64)\n",
    "for j in range(d-1):\n",
    "    for i in range(d-j-1):\n",
    "        T2[i,j] = cop.structure.struct_array(i, j, natural_order=True)\n",
    "for j in range(d):\n",
    "    T2[d-j-1,j] = 1++j\n",
    "    "
   ]
  },
  {
   "cell_type": "code",
   "execution_count": 20,
   "id": "b805dc37",
   "metadata": {},
   "outputs": [],
   "source": [
    "structure = pv.RVineStructure(d=10)\n",
    "cop = pv.Vinecop(structure)\n",
    "T = cop.matrix"
   ]
  },
  {
   "cell_type": "code",
   "execution_count": null,
   "id": "36da9e3a",
   "metadata": {},
   "outputs": [],
   "source": [
    "\n",
    "j=0\n",
    "T2[d-j-1,0] = T[d-j-1,0]\n",
    "T2[d-j-2,0] = T[d-j-2,0]"
   ]
  },
  {
   "cell_type": "code",
   "execution_count": null,
   "id": "de4867c1",
   "metadata": {},
   "outputs": [],
   "source": [
    "T"
   ]
  },
  {
   "cell_type": "code",
   "execution_count": null,
   "id": "debe6a64",
   "metadata": {},
   "outputs": [],
   "source": [
    "structure = pv.RVin"
   ]
  },
  {
   "cell_type": "code",
   "execution_count": 38,
   "id": "4f3c8698",
   "metadata": {},
   "outputs": [],
   "source": [
    "bicop =pv.Bicop(family=pv.BicopFamily.gaussian, parameters=[0])"
   ]
  },
  {
   "cell_type": "code",
   "execution_count": 25,
   "id": "67171798",
   "metadata": {},
   "outputs": [],
   "source": [
    "def is_diagonal(T):\n",
    "    d = T.shape[1]\n",
    "    diagonal = True\n",
    "    for j in range(d-1):\n",
    "        diagonal &= T[d-j-2, j] == T[d-j-2, j+1]\n",
    "    return diagonal"
   ]
  },
  {
   "cell_type": "code",
   "execution_count": 44,
   "id": "e51dffa5",
   "metadata": {},
   "outputs": [
    {
     "data": {
      "text/plain": [
       "array([0.])"
      ]
     },
     "execution_count": 44,
     "metadata": {},
     "output_type": "execute_result"
    }
   ],
   "source": [
    "bicop.parameters[0])"
   ]
  },
  {
   "cell_type": "code",
   "execution_count": null,
   "id": "78bd74fc",
   "metadata": {},
   "outputs": [],
   "source": [
    "bicop."
   ]
  },
  {
   "cell_type": "code",
   "execution_count": 46,
   "id": "28e5c478",
   "metadata": {},
   "outputs": [
    {
     "data": {
      "text/plain": [
       "<BicopFamily.gaussian: 1>"
      ]
     },
     "execution_count": 46,
     "metadata": {},
     "output_type": "execute_result"
    }
   ],
   "source": [
    "bicop.family"
   ]
  },
  {
   "cell_type": "code",
   "execution_count": 45,
   "id": "bd5956eb",
   "metadata": {},
   "outputs": [
    {
     "data": {
      "text/plain": [
       "<pyvinecopulib.Bicop>\n",
       "Gaussian, parameters = 0"
      ]
     },
     "execution_count": 45,
     "metadata": {},
     "output_type": "execute_result"
    }
   ],
   "source": [
    "pv.Bicop(family=pv.BicopFamily.gaussian, parameters=bicop.parameters)"
   ]
  },
  {
   "cell_type": "code",
   "execution_count": 35,
   "id": "0b1144db",
   "metadata": {},
   "outputs": [
    {
     "data": {
      "text/plain": [
       "array([], shape=(0, 0), dtype=float64)"
      ]
     },
     "execution_count": 35,
     "metadata": {},
     "output_type": "execute_result"
    }
   ],
   "source": [
    "cop.get_pair_copula(0,1).parameters"
   ]
  },
  {
   "cell_type": "code",
   "execution_count": null,
   "id": "8385dbcc",
   "metadata": {},
   "outputs": [],
   "source": [
    "pv.Vinecop(pv.RVineStructure(T2))"
   ]
  },
  {
   "cell_type": "code",
   "execution_count": null,
   "id": "d4e6a18a",
   "metadata": {},
   "outputs": [],
   "source": [
    "cop"
   ]
  },
  {
   "cell_type": "code",
   "execution_count": null,
   "id": "07f7aaa4",
   "metadata": {},
   "outputs": [],
   "source": [
    "for k in range(d-j-1):\n",
    "    print(, )"
   ]
  },
  {
   "cell_type": "code",
   "execution_count": null,
   "id": "e247e510",
   "metadata": {},
   "outputs": [],
   "source": [
    "T2"
   ]
  },
  {
   "cell_type": "code",
   "execution_count": null,
   "id": "baf91b2a",
   "metadata": {},
   "outputs": [],
   "source": [
    "for j in range(1,d-1):\n",
    "    if T2[d-j-1,j] != T2[d-j-1,j-1]:\n",
    "        T2[d-j-1,j] = T2[d-j-1,j-1]\n",
    "        T2[d-j-2,j] = T[d-j-1,j]\n",
    "    \n",
    "    for k in range(d-j-2):\n",
    "        assert T2[k,j]==0\n",
    "        T2[k, j] = find(T2[d-j-1,j], k, ced, cing)\n",
    "T2[0,d-1] = T2[0,d-2]"
   ]
  },
  {
   "cell_type": "code",
   "execution_count": null,
   "id": "77090d4d",
   "metadata": {},
   "outputs": [],
   "source": [
    "structure."
   ]
  },
  {
   "cell_type": "code",
   "execution_count": null,
   "id": "f35ce91c",
   "metadata": {},
   "outputs": [],
   "source": [
    "structure.struct_array(0,6)"
   ]
  },
  {
   "cell_type": "code",
   "execution_count": 59,
   "id": "194b6b82",
   "metadata": {},
   "outputs": [],
   "source": [
    "structure = pv.RVineStructure(d=4)"
   ]
  },
  {
   "cell_type": "code",
   "execution_count": 62,
   "id": "45aa3bd5",
   "metadata": {},
   "outputs": [
    {
     "data": {
      "text/plain": [
       "array([[2, 3, 4, 4],\n",
       "       [3, 4, 3, 0],\n",
       "       [4, 2, 0, 0],\n",
       "       [1, 0, 0, 0]], dtype=uint64)"
      ]
     },
     "execution_count": 62,
     "metadata": {},
     "output_type": "execute_result"
    }
   ],
   "source": [
    "pv.Vinecop(structure).matrix"
   ]
  },
  {
   "cell_type": "code",
   "execution_count": 60,
   "id": "af7beb8f",
   "metadata": {},
   "outputs": [
    {
     "data": {
      "text/plain": [
       "<pyvinecopulib.RVineStructure>\n",
       "2 3 4 4 \n",
       "3 4 3 \n",
       "4 2 \n",
       "1 "
      ]
     },
     "execution_count": 60,
     "metadata": {},
     "output_type": "execute_result"
    }
   ],
   "source": [
    "structure"
   ]
  },
  {
   "cell_type": "code",
   "execution_count": 55,
   "id": "b46e315b",
   "metadata": {},
   "outputs": [],
   "source": [
    "T =np.array([[2, 3, 4, 5, 6, 6],\n",
    "       [3, 4, 5, 6, 5, 0],\n",
    "       [4, 5, 6, 4, 0, 0],\n",
    "       [5, 6, 3, 0, 0, 0],\n",
    "       [6, 2, 0, 0, 0, 0],\n",
    "       [1, 0, 0, 0, 0, 0]], dtype=np.uint64)"
   ]
  },
  {
   "cell_type": "code",
   "execution_count": 53,
   "id": "50927c1a",
   "metadata": {},
   "outputs": [
    {
     "data": {
      "text/plain": [
       "array([[2, 3, 4, 5, 6, 6],\n",
       "       [3, 4, 5, 6, 5, 0],\n",
       "       [4, 5, 6, 4, 0, 0],\n",
       "       [5, 6, 3, 0, 0, 0],\n",
       "       [6, 2, 0, 0, 0, 0],\n",
       "       [1, 0, 0, 0, 0, 0]], dtype=uint64)"
      ]
     },
     "execution_count": 53,
     "metadata": {},
     "output_type": "execute_result"
    }
   ],
   "source": [
    "pv.Vinecop(structure).matrix"
   ]
  },
  {
   "cell_type": "code",
   "execution_count": 56,
   "id": "c1c9ed8a",
   "metadata": {},
   "outputs": [
    {
     "data": {
      "text/plain": [
       "array([[2, 5, 3, 4, 4, 4],\n",
       "       [3, 4, 4, 3, 3, 0],\n",
       "       [4, 3, 5, 5, 0, 0],\n",
       "       [5, 2, 2, 0, 0, 0],\n",
       "       [6, 6, 0, 0, 0, 0],\n",
       "       [1, 0, 0, 0, 0, 0]], dtype=uint64)"
      ]
     },
     "execution_count": 56,
     "metadata": {},
     "output_type": "execute_result"
    }
   ],
   "source": [
    "diagonalize_matrix(T)"
   ]
  },
  {
   "cell_type": "code",
   "execution_count": null,
   "id": "13f54689",
   "metadata": {},
   "outputs": [],
   "source": [
    "pv.RVineStructure(np.array([\n",
    "[2, 4, 3, 3, 3],\n",
    "[3, 3, 4, 4, 0],\n",
    "[4, 2, 2, 0, 0],\n",
    "[5, 5, 0, 0, 0],\n",
    "[1, 0, 0, 0, 0]\n",
    "], dtype=np.uint64))"
   ]
  },
  {
   "cell_type": "code",
   "execution_count": null,
   "id": "72eb31af",
   "metadata": {},
   "outputs": [],
   "source": [
    "T"
   ]
  },
  {
   "cell_type": "code",
   "execution_count": null,
   "id": "e2ac2125",
   "metadata": {},
   "outputs": [],
   "source": [
    "cop"
   ]
  },
  {
   "cell_type": "code",
   "execution_count": null,
   "id": "4f247b18",
   "metadata": {},
   "outputs": [],
   "source": [
    "d = T.shape[1]"
   ]
  },
  {
   "cell_type": "code",
   "execution_count": 27,
   "id": "044a7116",
   "metadata": {},
   "outputs": [
    {
     "data": {
      "text/plain": [
       "True"
      ]
     },
     "execution_count": 27,
     "metadata": {},
     "output_type": "execute_result"
    }
   ],
   "source": [
    "is_diagonal(diagonalize_matrix(T))"
   ]
  },
  {
   "cell_type": "code",
   "execution_count": null,
   "id": "73779727",
   "metadata": {},
   "outputs": [],
   "source": [
    "ced, cing, _ = get_ced_cing(T)\n",
    "T2 = np.zeros(shape=(d,d),dtype=np.uint64)\n",
    "\n",
    "j=0\n",
    "T2[d-j-1,0] = T[d-j-1,0]\n",
    "T2[d-j-2,0] = T[d-j-2,1]\n",
    "\n",
    "for k in range(d-j-2):\n",
    "    assert T2[k,j]==0\n",
    "    T2[k, j] = find(T2[d-j-1,j], k, ced, cing)\n",
    "\n",
    "\n",
    "for j in range(1,d-1):\n",
    "    if T2[d-j-1,j] != T2[d-j-1,j-1]:\n",
    "        T2[d-j-1,j] = T2[d-j-1,j-1]\n",
    "        T2[d-j-2,j] = T[d-j-1,j]\n",
    "    \n",
    "    for k in range(d-j-2):\n",
    "        assert T2[k,j]==0\n",
    "        T2[k, j] = find(T2[d-j-1,j], k, ced, cing)\n",
    "T2[0,d-1] = T2[0,d-2]"
   ]
  },
  {
   "cell_type": "code",
   "execution_count": null,
   "id": "17317dc7",
   "metadata": {},
   "outputs": [],
   "source": []
  },
  {
   "cell_type": "code",
   "execution_count": null,
   "id": "b475cd0b",
   "metadata": {},
   "outputs": [],
   "source": []
  },
  {
   "cell_type": "code",
   "execution_count": null,
   "id": "e64d627e",
   "metadata": {},
   "outputs": [],
   "source": []
  },
  {
   "cell_type": "code",
   "execution_count": null,
   "id": "786fa8bf",
   "metadata": {},
   "outputs": [],
   "source": []
  }
 ],
 "metadata": {
  "kernelspec": {
   "display_name": "Python 3 (ipykernel)",
   "language": "python",
   "name": "python3"
  },
  "language_info": {
   "codemirror_mode": {
    "name": "ipython",
    "version": 3
   },
   "file_extension": ".py",
   "mimetype": "text/x-python",
   "name": "python",
   "nbconvert_exporter": "python",
   "pygments_lexer": "ipython3",
   "version": "3.7.11"
  }
 },
 "nbformat": 4,
 "nbformat_minor": 5
}
