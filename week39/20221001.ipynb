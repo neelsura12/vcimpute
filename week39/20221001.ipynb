{
 "cells": [
  {
   "cell_type": "code",
   "execution_count": 1,
   "id": "c6bc323e",
   "metadata": {
    "pycharm": {
     "name": "#%%\n"
    }
   },
   "outputs": [],
   "source": [
    "import numpy as np\n",
    "import pyvinecopulib as pv\n",
    "from vcimpute.helper_choicetree import make_tree, is_in_tree, print_tree"
   ]
  },
  {
   "cell_type": "code",
   "execution_count": 2,
   "id": "9ef4437d",
   "metadata": {
    "pycharm": {
     "name": "#%%\n"
    }
   },
   "outputs": [
    {
     "data": {
      "text/plain": [
       "array([[2, 3, 3],\n",
       "       [3, 2, 0],\n",
       "       [1, 0, 0]], dtype=uint64)"
      ]
     },
     "execution_count": 2,
     "metadata": {},
     "output_type": "execute_result"
    }
   ],
   "source": [
    "structure = pv.RVineStructure(d=3)\n",
    "T = pv.Vinecop(structure).matrix\n",
    "T"
   ]
  },
  {
   "cell_type": "code",
   "execution_count": 6,
   "id": "640225fe",
   "metadata": {
    "pycharm": {
     "name": "#%%\n"
    }
   },
   "outputs": [
    {
     "name": "stdout",
     "output_type": "stream",
     "text": [
      "0-1-3\n",
      "0-1-2\n",
      "0-3-2\n"
     ]
    }
   ],
   "source": [
    "print_tree(make_tree(T))"
   ]
  },
  {
   "cell_type": "code",
   "execution_count": null,
   "id": "13587917",
   "metadata": {
    "pycharm": {
     "name": "#%%\n"
    }
   },
   "outputs": [],
   "source": [
    "T = np.array([\n",
    "[2, 2, 2],\n",
    "[3, 3, 0],\n",
    "[1, 0, 0]\n",
    "], dtype=np.uint64)"
   ]
  },
  {
   "cell_type": "raw",
   "id": "cd791271",
   "metadata": {
    "pycharm": {
     "name": "#%% raw\n"
    }
   },
   "source": [
    "T = np.array([\n",
    "[ 3,  2,  3,  3,  3],\n",
    "[ 2,  3,  2,  2,  0],\n",
    "[ 4,  4,  4,  0,  0],\n",
    "[ 1,  1,  0,  0,  0],\n",
    "[ 5,  0,  0,  0,  0]\n",
    "], dtype=np.uint64)"
   ]
  },
  {
   "cell_type": "raw",
   "id": "d25582fa",
   "metadata": {
    "pycharm": {
     "name": "#%% raw\n"
    }
   },
   "source": [
    "T = np.array([\n",
    "[ 4,  9, 10,  9,  7,  8,  8,  4,  4,  4],\n",
    "[ 7,  1,  7,  8,  4,  4,  4,  8,  8,  0],\n",
    "[10,  8,  4,  4,  8,  7,  7,  7,  0,  0],\n",
    "[ 6,  4,  8,  7,  2,  2,  2,  0,  0,  0],\n",
    "[ 8,  7,  2,  2,  9,  9,  0,  0,  0,  0],\n",
    "[ 2,  2,  9, 10, 10,  0,  0,  0,  0,  0],\n",
    "[ 9, 10,  1,  1,  0,  0,  0,  0,  0,  0],\n",
    "[ 1,  6,  6,  0,  0,  0,  0,  0,  0,  0],\n",
    "[ 3,  3,  0,  0,  0,  0,  0,  0,  0,  0],\n",
    "[ 5,  0,  0,  0,  0,  0,  0,  0,  0,  0]\n",
    "], dtype=np.uint64)"
   ]
  },
  {
   "cell_type": "code",
   "execution_count": null,
   "id": "daba08b1",
   "metadata": {
    "pycharm": {
     "name": "#%%\n"
    }
   },
   "outputs": [],
   "source": []
  }
 ],
 "metadata": {
  "kernelspec": {
   "display_name": "Python 3 (ipykernel)",
   "language": "python",
   "name": "python3"
  },
  "language_info": {
   "codemirror_mode": {
    "name": "ipython",
    "version": 3
   },
   "file_extension": ".py",
   "mimetype": "text/x-python",
   "name": "python",
   "nbconvert_exporter": "python",
   "pygments_lexer": "ipython3",
   "version": "3.7.11"
  }
 },
 "nbformat": 4,
 "nbformat_minor": 5
}