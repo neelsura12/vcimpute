{
 "cells": [
  {
   "cell_type": "code",
   "execution_count": 3,
   "id": "ca291f12",
   "metadata": {},
   "outputs": [],
   "source": [
    "import numpy as np\n",
    "import pyvinecopulib as pv\n",
    "from vcimpute.helper_mdp import all_mdps_idx, old_to_new\n",
    "from vcimpute.helper_datagen import make_complete_data_matrix, mask_MCAR\n",
    "from vcimpute.helper_choicetree import make_tree, is_in_tree\n",
    "from vcimpute.helper_diagonalize import diagonalize_matrix\n",
    "from vcimpute.utils import get_order"
   ]
  },
  {
   "cell_type": "code",
   "execution_count": null,
   "id": "54f92611",
   "metadata": {},
   "outputs": [],
   "source": [
    "seed=10\n",
    "\n",
    "X = make_complete_data_matrix(1000, 5, 'gaussian', seed=seed)\n",
    "X_mask = mask_MCAR(X, 'general', 0.2, seed=seed)\n",
    "\n",
    "controls = pv.FitControlsVinecop(family_set=[pv.BicopFamily.gaussian])\n",
    "cop = pv.Vinecop(d=5)\n",
    "cop.select(X_mask, controls=controls)\n",
    "\n",
    "T = cop.matrix"
   ]
  },
  {
   "cell_type": "code",
   "execution_count": 23,
   "id": "011ebadc",
   "metadata": {},
   "outputs": [],
   "source": [
    "root = make_tree(T)"
   ]
  },
  {
   "cell_type": "code",
   "execution_count": 24,
   "id": "fc0ebf3a",
   "metadata": {},
   "outputs": [
    {
     "name": "stdout",
     "output_type": "stream",
     "text": [
      "[5] True\n",
      "[4] False\n",
      "[5, 4] False\n",
      "[3] False\n",
      "[5, 3] True\n",
      "[3, 4] False\n",
      "[5, 3, 4] False\n",
      "[2] True\n",
      "[2, 5] True\n",
      "[2, 4] False\n",
      "[2, 5, 4] False\n",
      "[2, 3] True\n",
      "[2, 5, 3] True\n",
      "[2, 3, 4] False\n",
      "[2, 5, 3, 4] True\n",
      "[1] False\n",
      "[5, 1] False\n",
      "[1, 4] False\n",
      "[5, 1, 4] False\n",
      "[3, 1] False\n",
      "[5, 3, 1] True\n",
      "[3, 1, 4] False\n",
      "[5, 3, 1, 4] True\n",
      "[2, 1] False\n",
      "[2, 5, 1] True\n",
      "[2, 1, 4] False\n",
      "[2, 5, 1, 4] True\n",
      "[2, 3, 1] True\n",
      "[2, 5, 3, 1] True\n",
      "[2, 3, 1, 4] True\n"
     ]
    }
   ],
   "source": [
    "for x in out:\n",
    "    print(x, is_in_tree(root, x))"
   ]
  }
 ],
 "metadata": {
  "kernelspec": {
   "display_name": "Python 3 (ipykernel)",
   "language": "python",
   "name": "python3"
  },
  "language_info": {
   "codemirror_mode": {
    "name": "ipython",
    "version": 3
   },
   "file_extension": ".py",
   "mimetype": "text/x-python",
   "name": "python",
   "nbconvert_exporter": "python",
   "pygments_lexer": "ipython3",
   "version": "3.7.11"
  }
 },
 "nbformat": 4,
 "nbformat_minor": 5
}
