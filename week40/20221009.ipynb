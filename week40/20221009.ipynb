{
 "cells": [
  {
   "cell_type": "code",
   "execution_count": 30,
   "id": "e2f53e02",
   "metadata": {},
   "outputs": [
    {
     "data": {
      "text/plain": [
       "[[4],\n",
       " [3],\n",
       " [1],\n",
       " [5, 4],\n",
       " [3, 4],\n",
       " [2, 4],\n",
       " [5, 1],\n",
       " [1, 4],\n",
       " [3, 1],\n",
       " [2, 1],\n",
       " [5, 3, 4],\n",
       " [2, 5, 4],\n",
       " [2, 3, 4],\n",
       " [5, 1, 4],\n",
       " [3, 1, 4],\n",
       " [2, 1, 4]]"
      ]
     },
     "execution_count": 30,
     "metadata": {},
     "output_type": "execute_result"
    }
   ],
   "source": [
    "import numpy as np\n",
    "import pyvinecopulib as pv\n",
    "from vcimpute.helper_datagen import make_complete_data_matrix, mask_MCAR\n",
    "from vcimpute.helper_mdp import sort_miss_vars_by_increasing_miss_vars, mdp_coords, old_to_new\n",
    "from vcimpute.sakuth import MdpFit\n",
    "from vcimpute.utils import vfunc\n",
    "\n",
    "seed = 22\n",
    "d = 5\n",
    "\n",
    "X = make_complete_data_matrix(1000, d, 'gaussian', seed=seed)\n",
    "X_mask = mask_MCAR(X, 'general', 0.2, seed=seed)\n",
    "del X # tmp\n",
    "\n",
    "model = MdpFit('gaussian', 10, seed)\n",
    "X_imp, non_adhoc_patterns = model.fit_transform(X_mask)\n",
    "\n",
    "sort_miss_vars_by_increasing_miss_vars(non_adhoc_patterns)"
   ]
  },
  {
   "cell_type": "code",
   "execution_count": 63,
   "id": "92489b89",
   "metadata": {},
   "outputs": [],
   "source": [
    "miss_vars = np.array([4])\n",
    "d = 5\n",
    "\n",
    "miss_idx = miss_vars - 1\n",
    "mdp = np.zeros(shape=(d,), dtype='bool')\n",
    "mdp[miss_idx] = True\n",
    "\n",
    "all_vars = 1 + np.arange(d)\n",
    "rest_vars = np.setdiff1d(all_vars, miss_vars)\n",
    "rest_idx = rest_vars -1 \n",
    "\n",
    "d_sub = len(rest_vars)\n",
    "old_to_new_map = old_to_new(rest_vars, 1+np.arange(d_sub))\n",
    "for j,k in zip(miss_vars, range(d_sub,d)):\n",
    "    old_to_new_map[j]=1+k\n",
    "new_to_old_map = {v:k for k,v in old_to_new_map.items()}\n",
    "    "
   ]
  },
  {
   "cell_type": "code",
   "execution_count": 32,
   "id": "ca291f12",
   "metadata": {},
   "outputs": [],
   "source": [
    "controls = pv.FitControlsVinecop(family_set=[pv.BicopFamily.gaussian], num_threads=10)\n",
    "\n",
    "cop = pv.Vinecop(d_sub)\n",
    "cop.select(X_imp[:, rest_idx], controls)"
   ]
  },
  {
   "cell_type": "code",
   "execution_count": 33,
   "id": "0aa0c18e",
   "metadata": {},
   "outputs": [
    {
     "data": {
      "text/plain": [
       "<pyvinecopulib.Vinecop>\n",
       "** Tree: 0\n",
       "3,2 <-> Gaussian, parameters = -0.82676\n",
       "2,1 <-> Gaussian, parameters = -0.17581\n",
       "1,4 <-> Gaussian, parameters = -0.5761\n",
       "** Tree: 1\n",
       "3,1 | 2 <-> Gaussian, parameters = -0.115326\n",
       "2,4 | 1 <-> Gaussian, parameters = 0.0688451\n",
       "** Tree: 2\n",
       "3,4 | 1,2 <-> Gaussian, parameters = 0.047863"
      ]
     },
     "execution_count": 33,
     "metadata": {},
     "output_type": "execute_result"
    }
   ],
   "source": [
    "cop"
   ]
  },
  {
   "cell_type": "code",
   "execution_count": 41,
   "id": "e48cc489",
   "metadata": {},
   "outputs": [],
   "source": [
    "# tree0\n",
    "candidates = rest_vars"
   ]
  },
  {
   "cell_type": "code",
   "execution_count": 42,
   "id": "311227d3",
   "metadata": {},
   "outputs": [],
   "source": [
    "idx_mis = 3\n",
    "var_mis = 4"
   ]
  },
  {
   "cell_type": "code",
   "execution_count": 55,
   "id": "13e4255f",
   "metadata": {},
   "outputs": [
    {
     "name": "stdout",
     "output_type": "stream",
     "text": [
      "1 0.34472508357796283\n",
      "2 -0.20297080319803967\n",
      "3 0.30908397517937\n",
      "5 -0.12203267006352383\n"
     ]
    }
   ],
   "source": [
    "max_kt = 0\n",
    "max_kt_idx = None\n",
    "max_kt_var = None\n",
    "best_bicop = None\n",
    "for c in candidates:\n",
    "    bicop_tmp = pv.Bicop(family=pv.BicopFamily.gaussian)\n",
    "    vfunc(bicop_tmp.fit, X_imp[:, idx_mis], X_imp[:, c-1])\n",
    "    curr_kt = bicop_tmp.parameters_to_tau(bicop_tmp.parameters)\n",
    "    print(c,curr_kt)\n",
    "    if np.abs(curr_kt) > max_kt:\n",
    "        max_kt_idx = c-1\n",
    "        max_kt_var = c\n",
    "        max_kt = np.abs(curr_kt)\n",
    "        best_bicop = bicop_tmp"
   ]
  },
  {
   "cell_type": "code",
   "execution_count": null,
   "id": "0c031380",
   "metadata": {},
   "outputs": [],
   "source": [
    "np.array([\n",
    "   [1, 2, 1, 4, 4],\n",
    "   [0, 1, 4, 1, 0],\n",
    "   [0, 4, 2, 0, 0],\n",
    "   [0, 3, 0, 0, 0],\n",
    "   [5, 0, 0, 0, 0]\n",
    "], dtype=np.uint64)"
   ]
  },
  {
   "cell_type": "code",
   "execution_count": 26,
   "id": "63ea65f7",
   "metadata": {},
   "outputs": [],
   "source": [
    "vfunc(cop0.fit, X_imp[:,3], X_imp[:,4]) # 4,2 copula # fit it and choose maximal\n",
    "cop0.parameters_to_tau(cop0.parameters)"
   ]
  },
  {
   "cell_type": "code",
   "execution_count": 6,
   "id": "36eb4999",
   "metadata": {},
   "outputs": [],
   "source": [
    "{2: vfunc(cop.get_pair_copula(0,1).hfunc2, X_imp[:,1], X_imp[:,0]),\n",
    " new_to_old_map[4]:vfunc(cop.get_pair_copula(0,1).hfunc1, X_imp[:,0], X_imp[:,new_to_old_map[4]-1])\n",
    "}"
   ]
  },
  {
   "cell_type": "code",
   "execution_count": 28,
   "id": "58955413",
   "metadata": {},
   "outputs": [
    {
     "data": {
      "text/plain": [
       "<pyvinecopulib.Bicop>\n",
       "Gaussian, parameters = -0.200525"
      ]
     },
     "execution_count": 28,
     "metadata": {},
     "output_type": "execute_result"
    }
   ],
   "source": [
    "cop0"
   ]
  },
  {
   "cell_type": "code",
   "execution_count": 4,
   "id": "60042112",
   "metadata": {},
   "outputs": [
    {
     "ename": "NameError",
     "evalue": "name 'X_' is not defined",
     "output_type": "error",
     "traceback": [
      "\u001b[0;31m---------------------------------------------------------------------------\u001b[0m",
      "\u001b[0;31mNameError\u001b[0m                                 Traceback (most recent call last)",
      "\u001b[0;32m/var/folders/6j/tj0_jn4123ld3w6lbbkzf7g80000gp/T/ipykernel_72670/597935914.py\u001b[0m in \u001b[0;36m<module>\u001b[0;34m\u001b[0m\n\u001b[1;32m      1\u001b[0m \u001b[0mcop\u001b[0m\u001b[0;34m\u001b[0m\u001b[0;34m\u001b[0m\u001b[0m\n\u001b[1;32m      2\u001b[0m \u001b[0;34m\u001b[0m\u001b[0m\n\u001b[0;32m----> 3\u001b[0;31m \u001b[0mcop\u001b[0m\u001b[0;34m.\u001b[0m\u001b[0mget_pair_copula\u001b[0m\u001b[0;34m(\u001b[0m\u001b[0;36m0\u001b[0m\u001b[0;34m,\u001b[0m\u001b[0;36m0\u001b[0m\u001b[0;34m)\u001b[0m\u001b[0;34m.\u001b[0m\u001b[0mhfunc1\u001b[0m\u001b[0;34m(\u001b[0m\u001b[0mX_\u001b[0m\u001b[0;34m)\u001b[0m\u001b[0;34m\u001b[0m\u001b[0;34m\u001b[0m\u001b[0m\n\u001b[0m\u001b[1;32m      4\u001b[0m \u001b[0;34m\u001b[0m\u001b[0m\n\u001b[1;32m      5\u001b[0m \u001b[0;34m\u001b[0m\u001b[0m\n",
      "\u001b[0;31mNameError\u001b[0m: name 'X_' is not defined"
     ]
    }
   ],
   "source": [
    "\n",
    "cop0\n",
    "\n",
    "kendalltau()\n",
    "\n",
    "cop.get_pair_copula(0,1)"
   ]
  },
  {
   "cell_type": "code",
   "execution_count": null,
   "id": "695fea7d",
   "metadata": {},
   "outputs": [],
   "source": []
  },
  {
   "cell_type": "code",
   "execution_count": null,
   "id": "62d9d6cf",
   "metadata": {},
   "outputs": [],
   "source": [
    "cop.matrix"
   ]
  },
  {
   "cell_type": "code",
   "execution_count": null,
   "id": "45656a9b",
   "metadata": {},
   "outputs": [],
   "source": [
    "# 1. for many mis var, pick order based on empirical abs kendall tau argmax to existing copula\n",
    "# add miss var to bottom left\n",
    "# add rest using h-func\n",
    "# repeat step 1\n",
    "# recreate tree and relabel\n",
    "# impute"
   ]
  }
 ],
 "metadata": {
  "kernelspec": {
   "display_name": "Python 3 (ipykernel)",
   "language": "python",
   "name": "python3"
  },
  "language_info": {
   "codemirror_mode": {
    "name": "ipython",
    "version": 3
   },
   "file_extension": ".py",
   "mimetype": "text/x-python",
   "name": "python",
   "nbconvert_exporter": "python",
   "pygments_lexer": "ipython3",
   "version": "3.7.11"
  }
 },
 "nbformat": 4,
 "nbformat_minor": 5
}
