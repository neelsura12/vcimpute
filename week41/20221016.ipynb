{
 "cells": [
  {
   "cell_type": "code",
   "execution_count": 1,
   "id": "e2f53e02",
   "metadata": {},
   "outputs": [
    {
     "data": {
      "text/plain": [
       "[[4],\n",
       " [3],\n",
       " [1],\n",
       " [5, 4],\n",
       " [3, 4],\n",
       " [2, 4],\n",
       " [5, 1],\n",
       " [1, 4],\n",
       " [3, 1],\n",
       " [2, 1],\n",
       " [5, 3, 4],\n",
       " [2, 5, 4],\n",
       " [2, 3, 4],\n",
       " [5, 1, 4],\n",
       " [3, 1, 4],\n",
       " [2, 1, 4]]"
      ]
     },
     "execution_count": 1,
     "metadata": {},
     "output_type": "execute_result"
    }
   ],
   "source": [
    "import numpy as np\n",
    "import pyvinecopulib as pv\n",
    "from vcimpute.helper_datagen import make_complete_data_matrix, mask_MCAR\n",
    "from vcimpute.helper_mdp import sort_miss_vars_by_increasing_miss_vars, mdp_coords, old_to_new\n",
    "from vcimpute.sakuth import MdpFit\n",
    "from vcimpute.utils import vfunc\n",
    "\n",
    "seed = 22\n",
    "d = 5\n",
    "\n",
    "X = make_complete_data_matrix(1000, d, 'gaussian', seed=seed)\n",
    "X_mask = mask_MCAR(X, 'general', 0.2, seed=seed)\n",
    "del X # tmp\n",
    "\n",
    "model = MdpFit('gaussian', 10, seed)\n",
    "X_imp, non_adhoc_patterns = model.fit_transform(X_mask)\n",
    "\n",
    "sort_miss_vars_by_increasing_miss_vars(non_adhoc_patterns)"
   ]
  },
  {
   "cell_type": "code",
   "execution_count": 2,
   "id": "53a39923",
   "metadata": {},
   "outputs": [],
   "source": [
    "U = X_imp[:,[0,1,2,4]]\n",
    "U_add = X_imp[:,[3]]\n",
    "\n",
    "controls = pv.FitControlsVinecop(family_set=[pv.BicopFamily.gaussian], num_threads=10)\n",
    "cop = pv.Vinecop(U.shape[1])\n",
    "cop.select(U, controls)"
   ]
  },
  {
   "cell_type": "code",
   "execution_count": 3,
   "id": "b94b39b0",
   "metadata": {},
   "outputs": [],
   "source": []
  },
  {
   "cell_type": "code",
   "execution_count": 13,
   "id": "d8779a98",
   "metadata": {},
   "outputs": [
    {
     "data": {
      "text/plain": [
       "<pyvinecopulib.Vinecop>\n",
       "** Tree: 0\n",
       "3,2 <-> Gaussian, parameters = -0.821549\n",
       "2,1 <-> Gaussian, parameters = -0.160957\n",
       "1,4 <-> Gaussian, parameters = -0.576875\n",
       "** Tree: 1\n",
       "3,1 | 2 <-> Gaussian, parameters = -0.083798\n",
       "2,4 | 1 <-> Gaussian, parameters = 0.0486191\n",
       "** Tree: 2\n",
       "3,4 | 1,2 <-> Gaussian, parameters = 0.0311746"
      ]
     },
     "execution_count": 13,
     "metadata": {},
     "output_type": "execute_result"
    }
   ],
   "source": [
    "cop"
   ]
  },
  {
   "cell_type": "code",
   "execution_count": 11,
   "id": "f33dadd4",
   "metadata": {},
   "outputs": [
    {
     "data": {
      "text/plain": [
       "<pyvinecopulib.Vinecop>\n",
       "** Tree: 0\n",
       "5,1 <-> Gaussian, parameters = 0.509395\n",
       "3,2 <-> Gaussian, parameters = -0.821549\n",
       "2,1 <-> Gaussian, parameters = -0.160957\n",
       "1,4 <-> Gaussian, parameters = -0.576875\n",
       "** Tree: 1\n",
       "5,2 | 1 <-> Gaussian, parameters = -0.275012\n",
       "3,1 | 2 <-> Gaussian, parameters = -0.083798\n",
       "2,4 | 1 <-> Gaussian, parameters = 0.0486191\n",
       "** Tree: 2\n",
       "5,3 | 2,1 <-> Gaussian, parameters = 0.529334\n",
       "3,4 | 1,2 <-> Gaussian, parameters = 0.0311746\n",
       "** Tree: 3\n",
       "5,4 | 3,2,1 <-> Gaussian, parameters = 0.18401"
      ]
     },
     "execution_count": 11,
     "metadata": {},
     "output_type": "execute_result"
    }
   ],
   "source": [
    "cop_out"
   ]
  }
 ],
 "metadata": {
  "kernelspec": {
   "display_name": "Python 3 (ipykernel)",
   "language": "python",
   "name": "python3"
  },
  "language_info": {
   "codemirror_mode": {
    "name": "ipython",
    "version": 3
   },
   "file_extension": ".py",
   "mimetype": "text/x-python",
   "name": "python",
   "nbconvert_exporter": "python",
   "pygments_lexer": "ipython3",
   "version": "3.7.11"
  }
 },
 "nbformat": 4,
 "nbformat_minor": 5
}
