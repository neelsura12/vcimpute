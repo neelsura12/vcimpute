{
 "cells": [
  {
   "cell_type": "code",
   "execution_count": 1,
   "id": "ed14a556",
   "metadata": {},
   "outputs": [
    {
     "name": "stdout",
     "output_type": "stream",
     "text": [
      "1000\n",
      "538\n",
      "206\n",
      "164\n",
      "58\n"
     ]
    },
    {
     "data": {
      "text/plain": [
       "array([[0.931     , 0.41      , 0.551     , 0.986     , 0.132     ],\n",
       "       [0.509     , 0.029     , 0.977     , 0.55      , 0.234     ],\n",
       "       [0.04214665, 0.102     , 0.94306832, 0.034     , 0.647     ],\n",
       "       ...,\n",
       "       [0.759     , 0.292     , 0.799     , 0.809     , 0.26725225],\n",
       "       [0.943     , 0.007     , 0.9995664 , 0.954     , 0.333     ],\n",
       "       [0.858     , 0.91570707, 0.175     , 0.791     , 0.88      ]])"
      ]
     },
     "execution_count": 1,
     "metadata": {},
     "output_type": "execute_result"
    }
   ],
   "source": [
    "import numpy as np\n",
    "import pyvinecopulib as pv\n",
    "from vcimpute.helper_datagen import make_complete_data_matrix, mask_MCAR\n",
    "from vcimpute.helper_mdp import sort_miss_vars_by_increasing_miss_vars, mdp_coords, old_to_new\n",
    "from vcimpute.sakuth import MdpFit\n",
    "from vcimpute.utils import vfunc\n",
    "\n",
    "seed = 22\n",
    "d = 5\n",
    "\n",
    "X = make_complete_data_matrix(1000, d, 'gaussian', seed=seed)\n",
    "X_mask = mask_MCAR(X, 'general', 0.2, seed=seed)\n",
    "\n",
    "model = MdpFit('gaussian', 10, seed)\n",
    "model.fit_transform(X_mask)"
   ]
  },
  {
   "cell_type": "code",
   "execution_count": 2,
   "id": "f46b9a50",
   "metadata": {},
   "outputs": [],
   "source": [
    "from gcimpute.helper_evaluation import get_smae"
   ]
  },
  {
   "cell_type": "code",
   "execution_count": 4,
   "id": "46c0c6a1",
   "metadata": {},
   "outputs": [
    {
     "data": {
      "text/plain": [
       "array([0.86285634, 0.78212362, 0.83783131, 0.96858591, 1.15793174])"
      ]
     },
     "execution_count": 4,
     "metadata": {},
     "output_type": "execute_result"
    }
   ],
   "source": [
    "get_smae(model.X_imp, X, X_mask)"
   ]
  },
  {
   "cell_type": "code",
   "execution_count": 5,
   "id": "f2f89443",
   "metadata": {},
   "outputs": [],
   "source": [
    "from gcimpute.gaussian_copula import GaussianCopula"
   ]
  },
  {
   "cell_type": "code",
   "execution_count": 11,
   "id": "0c835935",
   "metadata": {},
   "outputs": [
    {
     "data": {
      "text/plain": [
       "array([0.65013183, 0.49234653, 0.435378  , 0.70059486, 0.80425735])"
      ]
     },
     "execution_count": 11,
     "metadata": {},
     "output_type": "execute_result"
    }
   ],
   "source": [
    "get_smae(GaussianCopula().fit_transform(X_mask), X, X_mask)"
   ]
  }
 ],
 "metadata": {
  "kernelspec": {
   "display_name": "Python 3 (ipykernel)",
   "language": "python",
   "name": "python3"
  },
  "language_info": {
   "codemirror_mode": {
    "name": "ipython",
    "version": 3
   },
   "file_extension": ".py",
   "mimetype": "text/x-python",
   "name": "python",
   "nbconvert_exporter": "python",
   "pygments_lexer": "ipython3",
   "version": "3.7.11"
  }
 },
 "nbformat": 4,
 "nbformat_minor": 5
}
