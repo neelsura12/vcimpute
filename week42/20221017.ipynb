{
 "cells": [
  {
   "cell_type": "code",
   "execution_count": null,
   "id": "f640f6c6",
   "metadata": {},
   "outputs": [],
   "source": [
    "import numpy as np\n",
    "import pyvinecopulib as pv\n",
    "from vcimpute.helper_datagen import make_complete_data_matrix, mask_MCAR\n",
    "from vcimpute.helper_mdp import sort_miss_vars_by_increasing_miss_vars, mdp_coords, old_to_new\n",
    "from vcimpute.sakuth import MdpFit\n",
    "from vcimpute.utils import vfunc\n",
    "\n",
    "seed = 42\n",
    "d = 10\n",
    "\n",
    "X = make_complete_data_matrix(1000, d, 'gaussian', seed=seed)\n",
    "X_mask = mask_MCAR(X, 'general', 0.05, seed=seed)\n",
    "\n",
    "model = MdpFit('gaussian', 10, seed)\n",
    "model.fit_transform(X_mask)"
   ]
  },
  {
   "cell_type": "code",
   "execution_count": null,
   "id": "a381c18d",
   "metadata": {},
   "outputs": [],
   "source": [
    "from gcimpute.helper_evaluation import get_smae"
   ]
  },
  {
   "cell_type": "code",
   "execution_count": null,
   "id": "819d6e19",
   "metadata": {},
   "outputs": [],
   "source": [
    "get_smae(model.X_imp, X, X_mask)"
   ]
  },
  {
   "cell_type": "code",
   "execution_count": null,
   "id": "baafb77b",
   "metadata": {},
   "outputs": [],
   "source": [
    "np.mean(get_smae(model.X_imp, X, X_mask))"
   ]
  },
  {
   "cell_type": "code",
   "execution_count": null,
   "id": "9aee9506",
   "metadata": {},
   "outputs": [],
   "source": [
    "from gcimpute.gaussian_copula import GaussianCopula"
   ]
  },
  {
   "cell_type": "code",
   "execution_count": null,
   "id": "fb7f2063",
   "metadata": {},
   "outputs": [],
   "source": [
    "get_smae(GaussianCopula().fit_transform(X_mask), X, X_mask)"
   ]
  },
  {
   "cell_type": "code",
   "execution_count": null,
   "id": "a2f6af29",
   "metadata": {},
   "outputs": [],
   "source": [
    "np.mean(get_smae(GaussianCopula().fit_transform(X_mask), X, X_mask))"
   ]
  }
 ],
 "metadata": {
  "kernelspec": {
   "display_name": "Python 3 (ipykernel)",
   "language": "python",
   "name": "python3"
  },
  "language_info": {
   "codemirror_mode": {
    "name": "ipython",
    "version": 3
   },
   "file_extension": ".py",
   "mimetype": "text/x-python",
   "name": "python",
   "nbconvert_exporter": "python",
   "pygments_lexer": "ipython3",
   "version": "3.7.11"
  }
 },
 "nbformat": 4,
 "nbformat_minor": 5
}
