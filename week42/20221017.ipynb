{
 "cells": [
  {
   "cell_type": "code",
   "execution_count": 1,
   "id": "f5e975da",
   "metadata": {},
   "outputs": [
    {
     "data": {
      "text/plain": [
       "array([[0.408, 0.595, 0.954, ..., 0.25 , 0.121, 0.85 ],\n",
       "       [0.185, 0.885, 0.72 , ..., 0.844, 0.475, 0.367],\n",
       "       [0.486, 0.461, 0.742, ..., 0.449, 0.293, 0.902],\n",
       "       ...,\n",
       "       [0.574, 0.079, 0.433, ..., 0.913, 0.723, 0.438],\n",
       "       [0.898, 0.802, 0.034, ..., 0.597, 0.925, 0.186],\n",
       "       [0.271, 0.342, 0.805, ..., 0.048, 0.012, 0.248]])"
      ]
     },
     "execution_count": 1,
     "metadata": {},
     "output_type": "execute_result"
    }
   ],
   "source": [
    "import numpy as np\n",
    "import pyvinecopulib as pv\n",
    "from vcimpute.helper_datagen import make_complete_data_matrix, mask_MCAR\n",
    "from vcimpute.helper_mdp import sort_miss_vars_by_increasing_miss_vars, mdp_coords, old_to_new\n",
    "from vcimpute.sakuth import MdpFit\n",
    "from vcimpute.utils import vfunc\n",
    "\n",
    "seed = 42\n",
    "d = 10\n",
    "\n",
    "X = make_complete_data_matrix(1000, d, 'gaussian', seed=seed)\n",
    "X_mask = mask_MCAR(X, 'general', 0.05, seed=seed)\n",
    "\n",
    "model = MdpFit('gaussian', 10, seed)\n",
    "model.fit_transform(X_mask)"
   ]
  },
  {
   "cell_type": "code",
   "execution_count": 2,
   "id": "3f86bc13",
   "metadata": {},
   "outputs": [],
   "source": [
    "from gcimpute.helper_evaluation import get_smae"
   ]
  },
  {
   "cell_type": "code",
   "execution_count": 3,
   "id": "d9aa22ef",
   "metadata": {},
   "outputs": [
    {
     "data": {
      "text/plain": [
       "array([0.55688536, 0.31932531, 0.82172013, 0.35238312, 1.01830545,\n",
       "       0.4032271 , 0.28609389, 0.24670335, 0.40297484, 0.53013773])"
      ]
     },
     "execution_count": 3,
     "metadata": {},
     "output_type": "execute_result"
    }
   ],
   "source": [
    "get_smae(model.X_imp, X, X_mask)"
   ]
  },
  {
   "cell_type": "code",
   "execution_count": 4,
   "id": "15982841",
   "metadata": {},
   "outputs": [
    {
     "data": {
      "text/plain": [
       "0.49377562712684214"
      ]
     },
     "execution_count": 4,
     "metadata": {},
     "output_type": "execute_result"
    }
   ],
   "source": [
    "np.mean(get_smae(model.X_imp, X, X_mask))"
   ]
  },
  {
   "cell_type": "code",
   "execution_count": 5,
   "id": "0e4f9c96",
   "metadata": {},
   "outputs": [],
   "source": [
    "from gcimpute.gaussian_copula import GaussianCopula"
   ]
  },
  {
   "cell_type": "code",
   "execution_count": 6,
   "id": "6d47dd89",
   "metadata": {},
   "outputs": [
    {
     "data": {
      "text/plain": [
       "array([0.41412568, 0.19559173, 0.50286364, 0.16604731, 0.5560762 ,\n",
       "       0.2861729 , 0.16644247, 0.12731047, 0.24059434, 0.40247051])"
      ]
     },
     "execution_count": 6,
     "metadata": {},
     "output_type": "execute_result"
    }
   ],
   "source": [
    "get_smae(GaussianCopula().fit_transform(X_mask), X, X_mask)"
   ]
  },
  {
   "cell_type": "code",
   "execution_count": 7,
   "id": "fb7f7276",
   "metadata": {},
   "outputs": [
    {
     "data": {
      "text/plain": [
       "0.305769524383335"
      ]
     },
     "execution_count": 7,
     "metadata": {},
     "output_type": "execute_result"
    }
   ],
   "source": [
    "np.mean(get_smae(GaussianCopula().fit_transform(X_mask), X, X_mask))"
   ]
  }
 ],
 "metadata": {
  "kernelspec": {
   "display_name": "Python 3 (ipykernel)",
   "language": "python",
   "name": "python3"
  },
  "language_info": {
   "codemirror_mode": {
    "name": "ipython",
    "version": 3
   },
   "file_extension": ".py",
   "mimetype": "text/x-python",
   "name": "python",
   "nbconvert_exporter": "python",
   "pygments_lexer": "ipython3",
   "version": "3.7.11"
  }
 },
 "nbformat": 4,
 "nbformat_minor": 5
}
