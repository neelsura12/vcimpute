{
 "cells": [
  {
   "cell_type": "code",
   "execution_count": 2,
   "id": "1271efb9",
   "metadata": {},
   "outputs": [
    {
     "name": "stdout",
     "output_type": "stream",
     "text": [
      "500\n",
      "399\n",
      "358\n",
      "331\n",
      "295\n",
      "246\n",
      "163\n",
      "120\n",
      "112\n",
      "110\n",
      "106\n",
      "104\n",
      "85\n",
      "73\n",
      "67\n",
      "61\n",
      "55\n",
      "43\n",
      "41\n",
      "35\n",
      "26\n",
      "22\n",
      "16\n",
      "14\n",
      "10\n",
      "7\n",
      "4\n"
     ]
    },
    {
     "data": {
      "text/plain": [
       "array([[0.408, 0.595, 0.954, ..., 0.25 , 0.121, 0.85 ],\n",
       "       [0.185, 0.885, 0.72 , ..., 0.844, 0.475, 0.367],\n",
       "       [0.486, 0.461, 0.742, ..., 0.449, 0.293, 0.902],\n",
       "       ...,\n",
       "       [0.574, 0.079, 0.433, ..., 0.913, 0.723, 0.438],\n",
       "       [0.898, 0.802, 0.034, ..., 0.597, 0.925, 0.186],\n",
       "       [0.271, 0.342, 0.805, ..., 0.048, 0.012, 0.248]])"
      ]
     },
     "execution_count": 2,
     "metadata": {},
     "output_type": "execute_result"
    }
   ],
   "source": [
    "import numpy as np\n",
    "import pyvinecopulib as pv\n",
    "from vcimpute.helper_datagen import make_complete_data_matrix, mask_MCAR\n",
    "from vcimpute.helper_mdp import sort_miss_vars_by_increasing_miss_vars, mdp_coords, old_to_new\n",
    "from vcimpute.sakuth import MdpFit\n",
    "from vcimpute.utils import vfunc\n",
    "\n",
    "seed = 42\n",
    "d = 10\n",
    "\n",
    "X = make_complete_data_matrix(1000, d, 'gaussian', seed=seed)\n",
    "X_mask = mask_MCAR(X, 'general', 0.05, seed=seed)\n",
    "\n",
    "model = MdpFit('gaussian', 10, seed)\n",
    "model.fit_transform(X_mask)"
   ]
  },
  {
   "cell_type": "code",
   "execution_count": 3,
   "id": "c5bc46ed",
   "metadata": {},
   "outputs": [],
   "source": [
    "from gcimpute.helper_evaluation import get_smae"
   ]
  },
  {
   "cell_type": "code",
   "execution_count": 4,
   "id": "4b13cb82",
   "metadata": {},
   "outputs": [
    {
     "data": {
      "text/plain": [
       "array([0.58004181, 0.35174696, 0.70830291, 0.3679416 , 0.91698463,\n",
       "       0.54130891, 0.36443629, 0.23973899, 0.43112191, 0.7060708 ])"
      ]
     },
     "execution_count": 4,
     "metadata": {},
     "output_type": "execute_result"
    }
   ],
   "source": [
    "get_smae(model.X_imp, X, X_mask)"
   ]
  },
  {
   "cell_type": "code",
   "execution_count": 7,
   "id": "87de2b52",
   "metadata": {},
   "outputs": [
    {
     "data": {
      "text/plain": [
       "0.5207694809523166"
      ]
     },
     "execution_count": 7,
     "metadata": {},
     "output_type": "execute_result"
    }
   ],
   "source": [
    "np.mean(get_smae(model.X_imp, X, X_mask))"
   ]
  },
  {
   "cell_type": "code",
   "execution_count": 5,
   "id": "175fe419",
   "metadata": {},
   "outputs": [],
   "source": [
    "from gcimpute.gaussian_copula import GaussianCopula"
   ]
  },
  {
   "cell_type": "code",
   "execution_count": 6,
   "id": "65488ddd",
   "metadata": {},
   "outputs": [
    {
     "data": {
      "text/plain": [
       "array([0.41412568, 0.19559173, 0.50286364, 0.16604731, 0.5560762 ,\n",
       "       0.2861729 , 0.16644247, 0.12731047, 0.24059434, 0.40247051])"
      ]
     },
     "execution_count": 6,
     "metadata": {},
     "output_type": "execute_result"
    }
   ],
   "source": [
    "get_smae(GaussianCopula().fit_transform(X_mask), X, X_mask)"
   ]
  },
  {
   "cell_type": "code",
   "execution_count": 8,
   "id": "c3a3abfb",
   "metadata": {},
   "outputs": [
    {
     "data": {
      "text/plain": [
       "0.305769524383335"
      ]
     },
     "execution_count": 8,
     "metadata": {},
     "output_type": "execute_result"
    }
   ],
   "source": [
    "np.mean(get_smae(GaussianCopula().fit_transform(X_mask), X, X_mask))"
   ]
  }
 ],
 "metadata": {
  "kernelspec": {
   "display_name": "Python 3 (ipykernel)",
   "language": "python",
   "name": "python3"
  },
  "language_info": {
   "codemirror_mode": {
    "name": "ipython",
    "version": 3
   },
   "file_extension": ".py",
   "mimetype": "text/x-python",
   "name": "python",
   "nbconvert_exporter": "python",
   "pygments_lexer": "ipython3",
   "version": "3.7.11"
  }
 },
 "nbformat": 4,
 "nbformat_minor": 5
}
