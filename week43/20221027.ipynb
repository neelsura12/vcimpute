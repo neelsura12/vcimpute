{
 "cells": [
  {
   "cell_type": "code",
   "execution_count": 43,
   "id": "d0528068",
   "metadata": {},
   "outputs": [],
   "source": [
    "from scipy.stats import expon, norm\n",
    "import numpy as np\n",
    "import pyvinecopulib as pv\n",
    "\n",
    "from gcimpute.helper_data import generate_mixed_from_gc\n",
    "from vcimpute.helper_datagen import probability_integral_transform, mask_MCAR\n",
    "from vcimpute.utils import make_triangular_array\n",
    "from vcimpute.zeisberger import VineCopFit, VineCopReg\n",
    "from vcimpute.sakuth import MdpFit\n",
    "from gcimpute.gaussian_copula import GaussianCopula\n",
    "from gcimpute.helper_evaluation import get_smae"
   ]
  },
  {
   "cell_type": "code",
   "execution_count": 44,
   "id": "3a407db5",
   "metadata": {},
   "outputs": [],
   "source": [
    "d=3\n",
    "n=1000"
   ]
  },
  {
   "cell_type": "code",
   "execution_count": 45,
   "id": "8845861f",
   "metadata": {},
   "outputs": [],
   "source": [
    "structure = pv.RVineStructure().simulate(d=d)\n",
    "pcs = make_triangular_array(d)\n",
    "\n",
    "# only works for d=3\n",
    "pcs[0][0] = pv.Bicop(family=pv.BicopFamily.gaussian, parameters=[[0.5]])\n",
    "pcs[0][1] = pv.Bicop(family=pv.BicopFamily.gaussian, parameters=[[0.5]])\n",
    "pcs[1][0] = pv.Bicop(family=pv.BicopFamily.gaussian, parameters=[[0.9]])"
   ]
  },
  {
   "cell_type": "code",
   "execution_count": 46,
   "id": "681fc99e",
   "metadata": {},
   "outputs": [
    {
     "data": {
      "text/plain": [
       "<pyvinecopulib.RVineStructure>\n",
       "2 2 2 \n",
       "1 1 \n",
       "3 "
      ]
     },
     "execution_count": 46,
     "metadata": {},
     "output_type": "execute_result"
    }
   ],
   "source": [
    "structure"
   ]
  },
  {
   "cell_type": "raw",
   "id": "23e9b390",
   "metadata": {},
   "source": [
    "<pyvinecopulib.Vinecop>\n",
    "** Tree: 0\n",
    "1,2 <-> Gaussian, parameters = 0.5\n",
    "3,2 <-> Gaussian, parameters = 0.5\n",
    "** Tree: 1\n",
    "1,3 | 2 <-> Gaussian, parameters = 0.9\n",
    "\n",
    "with 2 missing"
   ]
  },
  {
   "cell_type": "code",
   "execution_count": 47,
   "id": "5d91cf11",
   "metadata": {},
   "outputs": [
    {
     "data": {
      "text/plain": [
       "<pyvinecopulib.Vinecop>\n",
       "** Tree: 0\n",
       "3,2 <-> Gaussian, parameters = 0.5\n",
       "1,2 <-> Gaussian, parameters = 0.5\n",
       "** Tree: 1\n",
       "3,1 | 2 <-> Gaussian, parameters = 0.9"
      ]
     },
     "execution_count": 47,
     "metadata": {},
     "output_type": "execute_result"
    }
   ],
   "source": [
    "cop = pv.Vinecop(structure, pcs)\n",
    "cop"
   ]
  },
  {
   "cell_type": "code",
   "execution_count": 48,
   "id": "3accaf05",
   "metadata": {},
   "outputs": [
    {
     "data": {
      "text/plain": [
       "array([[0.99518483, 0.73330609, 0.99641264],\n",
       "       [0.48230238, 0.34564437, 0.41356445],\n",
       "       [0.40702339, 0.66615218, 0.45154099],\n",
       "       ...,\n",
       "       [0.05556498, 0.52191108, 0.07227599],\n",
       "       [0.99416976, 0.99814403, 0.98677291],\n",
       "       [0.15374492, 0.10818382, 0.19934993]])"
      ]
     },
     "execution_count": 48,
     "metadata": {},
     "output_type": "execute_result"
    }
   ],
   "source": [
    "dat1 = cop.simulate(n=n)\n",
    "dat1"
   ]
  },
  {
   "cell_type": "code",
   "execution_count": 49,
   "id": "3eae74a7",
   "metadata": {},
   "outputs": [
    {
     "data": {
      "text/plain": [
       "array([[1.        , 0.50625717, 0.91878076],\n",
       "       [0.50625717, 1.        , 0.51138756],\n",
       "       [0.91878076, 0.51138756, 1.        ]])"
      ]
     },
     "execution_count": 49,
     "metadata": {},
     "output_type": "execute_result"
    }
   ],
   "source": [
    "sigma = np.corrcoef(dat1.T)\n",
    "sigma"
   ]
  },
  {
   "cell_type": "code",
   "execution_count": 50,
   "id": "1e2d3040",
   "metadata": {},
   "outputs": [],
   "source": [
    "dat2 = generate_mixed_from_gc(\n",
    "    n=n,\n",
    "    sigma=sigma,\n",
    "    var_types={'cont':list(range(3))},\n",
    "    cont_transform=lambda x: norm.cdf(x)\n",
    ")"
   ]
  },
  {
   "cell_type": "code",
   "execution_count": 51,
   "id": "50d7b6c1",
   "metadata": {},
   "outputs": [
    {
     "data": {
      "text/plain": [
       "0.01976976848598962"
      ]
     },
     "execution_count": 51,
     "metadata": {},
     "output_type": "execute_result"
    }
   ],
   "source": [
    "np.linalg.norm(np.corrcoef(dat2.T)-np.corrcoef(dat1.T))/np.linalg.norm(np.corrcoef(dat1.T))"
   ]
  },
  {
   "cell_type": "code",
   "execution_count": 52,
   "id": "41b00c40",
   "metadata": {},
   "outputs": [
    {
     "data": {
      "text/plain": [
       "0.019683390734061213"
      ]
     },
     "execution_count": 52,
     "metadata": {},
     "output_type": "execute_result"
    }
   ],
   "source": [
    "np.linalg.norm(np.corrcoef(dat2.T)-np.corrcoef(dat1.T))/np.linalg.norm(np.corrcoef(dat2.T))"
   ]
  },
  {
   "cell_type": "code",
   "execution_count": 53,
   "id": "e51354ca",
   "metadata": {},
   "outputs": [],
   "source": [
    "dat1_mask = mask_MCAR(dat1, 'univariate', 0.1, seed=1)\n",
    "idx = np.where(np.any(np.isnan(dat1_mask),axis=0))[0].item()\n",
    "dat2_mask = np.copy(dat2)\n",
    "dat2_mask[np.isnan(dat1_mask)[:,idx], idx] = np.nan"
   ]
  },
  {
   "cell_type": "code",
   "execution_count": 54,
   "id": "535c6698",
   "metadata": {},
   "outputs": [],
   "source": [
    "model_lst = [\n",
    "    ('gcimpute', GaussianCopula()),\n",
    "    ('mdpfit', MdpFit('gaussian', 10, 1)),\n",
    "    ('copfit', VineCopFit('gaussian', 10, True, 1)),\n",
    "    ('copreg', VineCopReg('gaussian', 10, 'R', True, 1)),\n",
    "]"
   ]
  },
  {
   "cell_type": "code",
   "execution_count": 55,
   "id": "b5f69d44",
   "metadata": {},
   "outputs": [
    {
     "data": {
      "text/plain": [
       "0.9459459459459459"
      ]
     },
     "execution_count": 55,
     "metadata": {},
     "output_type": "execute_result"
    }
   ],
   "source": [
    ".49/.518"
   ]
  },
  {
   "cell_type": "code",
   "execution_count": 56,
   "id": "91c5ae13",
   "metadata": {},
   "outputs": [
    {
     "name": "stdout",
     "output_type": "stream",
     "text": [
      "gcimpute [      nan 0.8569539       nan] [       nan 0.80467187        nan]\n",
      "mdpfit [       nan 1.02193623        nan] [       nan 1.04539937        nan]\n",
      "copfit [       nan 1.06410113        nan] [       nan 1.21082335        nan]\n",
      "copreg [       nan 1.05827614        nan] [       nan 1.06625032        nan]\n"
     ]
    }
   ],
   "source": [
    "for tag, model in model_lst:\n",
    "    dat1_imp = model.fit_transform(dat1_mask)\n",
    "    dat2_imp = model.fit_transform(dat2_mask)\n",
    "    print(tag, get_smae(dat1_imp, dat1, dat1_mask), get_smae(dat2_imp, dat2, dat2_mask))"
   ]
  },
  {
   "cell_type": "code",
   "execution_count": null,
   "id": "bd6e442b",
   "metadata": {},
   "outputs": [],
   "source": []
  }
 ],
 "metadata": {
  "kernelspec": {
   "display_name": "Python 3 (ipykernel)",
   "language": "python",
   "name": "python3"
  },
  "language_info": {
   "codemirror_mode": {
    "name": "ipython",
    "version": 3
   },
   "file_extension": ".py",
   "mimetype": "text/x-python",
   "name": "python",
   "nbconvert_exporter": "python",
   "pygments_lexer": "ipython3",
   "version": "3.7.11"
  }
 },
 "nbformat": 4,
 "nbformat_minor": 5
}
