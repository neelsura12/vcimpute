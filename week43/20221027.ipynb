{
 "cells": [
  {
   "cell_type": "code",
   "execution_count": 56,
   "id": "d0528068",
   "metadata": {},
   "outputs": [],
   "source": [
    "from scipy.stats import expon, norm\n",
    "import numpy as np\n",
    "import pyvinecopulib as pv\n",
    "\n",
    "from gcimpute.helper_data import generate_mixed_from_gc\n",
    "from vcimpute.helper_datagen import probability_integral_transform, mask_MCAR\n",
    "from vcimpute.utils import make_triangular_array\n",
    "from vcimpute.zeisberger import VineCopFit, VineCopReg\n",
    "from vcimpute.sakuth import MdpFit\n",
    "from gcimpute.gaussian_copula import GaussianCopula\n",
    "from gcimpute.helper_evaluation import get_smae"
   ]
  },
  {
   "cell_type": "code",
   "execution_count": 57,
   "id": "3a407db5",
   "metadata": {},
   "outputs": [],
   "source": [
    "d=3\n",
    "n=1000"
   ]
  },
  {
   "cell_type": "code",
   "execution_count": 58,
   "id": "8845861f",
   "metadata": {},
   "outputs": [],
   "source": [
    "structure = pv.RVineStructure().simulate(d=d)\n",
    "pcs = make_triangular_array(d)\n",
    "\n",
    "# only works for d=3\n",
    "pcs[0][0] = pv.Bicop(family=pv.BicopFamily.gaussian, parameters=[[0.5]])\n",
    "pcs[0][1] = pv.Bicop(family=pv.BicopFamily.gaussian, parameters=[[0.5]])\n",
    "pcs[1][0] = pv.Bicop(family=pv.BicopFamily.gaussian, parameters=[[0.9]])"
   ]
  },
  {
   "cell_type": "code",
   "execution_count": 59,
   "id": "76e6aed0",
   "metadata": {},
   "outputs": [
    {
     "data": {
      "text/plain": [
       "<pyvinecopulib.RVineStructure>\n",
       "2 2 2 \n",
       "1 1 \n",
       "3 "
      ]
     },
     "execution_count": 59,
     "metadata": {},
     "output_type": "execute_result"
    }
   ],
   "source": [
    "structure"
   ]
  },
  {
   "cell_type": "raw",
   "id": "23e9b390",
   "metadata": {},
   "source": [
    "<pyvinecopulib.Vinecop>\n",
    "** Tree: 0\n",
    "1,2 <-> Gaussian, parameters = 0.5\n",
    "3,2 <-> Gaussian, parameters = 0.5\n",
    "** Tree: 1\n",
    "1,3 | 2 <-> Gaussian, parameters = 0.9\n",
    "\n",
    "with 2 missing"
   ]
  },
  {
   "cell_type": "code",
   "execution_count": 60,
   "id": "5d91cf11",
   "metadata": {},
   "outputs": [
    {
     "data": {
      "text/plain": [
       "<pyvinecopulib.Vinecop>\n",
       "** Tree: 0\n",
       "3,2 <-> Gaussian, parameters = 0.5\n",
       "1,2 <-> Gaussian, parameters = 0.5\n",
       "** Tree: 1\n",
       "3,1 | 2 <-> Gaussian, parameters = 0.9"
      ]
     },
     "execution_count": 60,
     "metadata": {},
     "output_type": "execute_result"
    }
   ],
   "source": [
    "cop = pv.Vinecop(structure, pcs)\n",
    "cop"
   ]
  },
  {
   "cell_type": "code",
   "execution_count": 61,
   "id": "3accaf05",
   "metadata": {},
   "outputs": [
    {
     "data": {
      "text/plain": [
       "array([[0.39174905, 0.07371826, 0.51604085],\n",
       "       [0.44212977, 0.29780965, 0.76760869],\n",
       "       [0.37981239, 0.89924073, 0.38569533],\n",
       "       ...,\n",
       "       [0.18400469, 0.67113535, 0.05704565],\n",
       "       [0.55924298, 0.46632172, 0.48005325],\n",
       "       [0.01778223, 0.04786829, 0.03609329]])"
      ]
     },
     "execution_count": 61,
     "metadata": {},
     "output_type": "execute_result"
    }
   ],
   "source": [
    "dat1 = cop.simulate(n=n)\n",
    "dat1"
   ]
  },
  {
   "cell_type": "code",
   "execution_count": 62,
   "id": "3eae74a7",
   "metadata": {},
   "outputs": [
    {
     "data": {
      "text/plain": [
       "array([[1.        , 0.4911035 , 0.91489773],\n",
       "       [0.4911035 , 1.        , 0.48572268],\n",
       "       [0.91489773, 0.48572268, 1.        ]])"
      ]
     },
     "execution_count": 62,
     "metadata": {},
     "output_type": "execute_result"
    }
   ],
   "source": [
    "sigma = np.corrcoef(dat1.T)\n",
    "sigma"
   ]
  },
  {
   "cell_type": "code",
   "execution_count": 63,
   "id": "1e2d3040",
   "metadata": {},
   "outputs": [],
   "source": [
    "dat2 = generate_mixed_from_gc(\n",
    "    n=1000,\n",
    "    sigma=sigma,\n",
    "    var_types={'cont':list(range(3))},\n",
    "    cont_transform=lambda x: norm.cdf(x)\n",
    ")"
   ]
  },
  {
   "cell_type": "code",
   "execution_count": 64,
   "id": "50d7b6c1",
   "metadata": {},
   "outputs": [
    {
     "data": {
      "text/plain": [
       "0.020980455093923968"
      ]
     },
     "execution_count": 64,
     "metadata": {},
     "output_type": "execute_result"
    }
   ],
   "source": [
    "np.linalg.norm(np.corrcoef(dat2.T)-np.corrcoef(dat1.T))/np.linalg.norm(np.corrcoef(dat1.T))"
   ]
  },
  {
   "cell_type": "code",
   "execution_count": 65,
   "id": "41b00c40",
   "metadata": {},
   "outputs": [
    {
     "data": {
      "text/plain": [
       "0.0208858256731524"
      ]
     },
     "execution_count": 65,
     "metadata": {},
     "output_type": "execute_result"
    }
   ],
   "source": [
    "np.linalg.norm(np.corrcoef(dat2.T)-np.corrcoef(dat1.T))/np.linalg.norm(np.corrcoef(dat2.T))"
   ]
  },
  {
   "cell_type": "code",
   "execution_count": 66,
   "id": "e51354ca",
   "metadata": {},
   "outputs": [],
   "source": [
    "dat1_mask = mask_MCAR(dat1, 'univariate', 0.1, seed=1)\n",
    "idx = np.where(np.any(np.isnan(dat1_mask),axis=0))[0].item()\n",
    "dat2_mask = np.copy(dat2)\n",
    "dat2_mask[np.isnan(dat1_mask)[:,idx], idx] = np.nan"
   ]
  },
  {
   "cell_type": "code",
   "execution_count": 67,
   "id": "735ad9a7",
   "metadata": {},
   "outputs": [
    {
     "data": {
      "text/plain": [
       "array([[0.39174905,        nan, 0.51604085],\n",
       "       [0.44212977, 0.29780965, 0.76760869],\n",
       "       [0.37981239,        nan, 0.38569533],\n",
       "       ...,\n",
       "       [0.18400469, 0.67113535, 0.05704565],\n",
       "       [0.55924298,        nan, 0.48005325],\n",
       "       [0.01778223, 0.04786829, 0.03609329]])"
      ]
     },
     "execution_count": 67,
     "metadata": {},
     "output_type": "execute_result"
    }
   ],
   "source": [
    "dat1_mask"
   ]
  },
  {
   "cell_type": "code",
   "execution_count": 68,
   "id": "1b416963",
   "metadata": {},
   "outputs": [
    {
     "data": {
      "text/plain": [
       "array([[0.42901268,        nan, 0.48552131],\n",
       "       [0.91517678, 0.61812107, 0.94079086],\n",
       "       [0.72006326,        nan, 0.76928428],\n",
       "       ...,\n",
       "       [0.60584333, 0.69626166, 0.33324633],\n",
       "       [0.19290951,        nan, 0.34462737],\n",
       "       [0.90995719, 0.07719122, 0.85704983]])"
      ]
     },
     "execution_count": 68,
     "metadata": {},
     "output_type": "execute_result"
    }
   ],
   "source": [
    "dat2_mask"
   ]
  },
  {
   "cell_type": "raw",
   "id": "696e44fe",
   "metadata": {},
   "source": [
    "# todo: fix\n",
    "dat1_imp = VineCopFit('gaussian', 10, True, 1).fit_transform(dat1_mask)\n",
    "\n",
    "---------------------------------------------------------------------------\n",
    "AssertionError                            Traceback (most recent call last)\n",
    "/var/folders/6j/tj0_jn4123ld3w6lbbkzf7g80000gp/T/ipykernel_70846/1425515808.py in <module>\n",
    "      1 # todo: fix\n",
    "----> 2 dat1_imp = VineCopFit('gaussian', 10, True, 1).fit_transform(dat1_mask)\n",
    "\n",
    "~/work/vcimpute/vcimpute/zeisberger.py in fit_transform(self, X_mis)\n",
    "     90         X_imp = np.copy(X_mis)\n",
    "     91         if self.is_monotone:\n",
    "---> 92             self.impute(X_imp, [], T_orig, pcs_orig, d_orig)\n",
    "     93         else:\n",
    "     94             mdps = all_mdps(X_imp)\n",
    "\n",
    "~/work/vcimpute/vcimpute/zeisberger.py in impute(self, X_imp, mdp, T_orig, pcs_orig, d_orig)\n",
    "    151             ximp_mat = ximp_mat[miss_coords]\n",
    "    152             n_avail = ximp_mat.shape[1] - np.count_nonzero(np.isnan(ximp_mat), axis=1)\n",
    "--> 153             assert np.all(n_avail) > 0\n",
    "    154 \n",
    "    155             # insert imputed values back\n",
    "\n",
    "AssertionError: "
   ]
  },
  {
   "cell_type": "code",
   "execution_count": 77,
   "id": "535c6698",
   "metadata": {},
   "outputs": [],
   "source": [
    "model_lst = [\n",
    "    ('gcimpute', GaussianCopula()),\n",
    "    ('mdpfit', MdpFit('gaussian', 10, 1)),\n",
    "    ('copfit', VineCopFit('gaussian', 10, True, 1)),\n",
    "    ('copreg', VineCopReg('gaussian', 10, 'R', True, 1)),\n",
    "]"
   ]
  },
  {
   "cell_type": "code",
   "execution_count": 82,
   "id": "d060e90e",
   "metadata": {},
   "outputs": [
    {
     "data": {
      "text/plain": [
       "array([[0.39174905,        nan, 0.51604085],\n",
       "       [0.44212977, 0.29780965, 0.76760869],\n",
       "       [0.37981239,        nan, 0.38569533],\n",
       "       ...,\n",
       "       [0.18400469, 0.67113535, 0.05704565],\n",
       "       [0.55924298,        nan, 0.48005325],\n",
       "       [0.01778223, 0.04786829, 0.03609329]])"
      ]
     },
     "execution_count": 82,
     "metadata": {},
     "output_type": "execute_result"
    }
   ],
   "source": [
    "dat1_mask"
   ]
  },
  {
   "cell_type": "code",
   "execution_count": 80,
   "id": "ed1d88b3",
   "metadata": {},
   "outputs": [
    {
     "data": {
      "text/plain": [
       "array([[0.39174905, 0.27751547, 0.51604085],\n",
       "       [0.44212977, 0.29780965, 0.76760869],\n",
       "       [0.37981239, 0.47725616, 0.38569533],\n",
       "       ...,\n",
       "       [0.18400469, 0.67113535, 0.05704565],\n",
       "       [0.55924298, 0.44291361, 0.48005325],\n",
       "       [0.01778223, 0.04786829, 0.03609329]])"
      ]
     },
     "execution_count": 80,
     "metadata": {},
     "output_type": "execute_result"
    }
   ],
   "source": [
    "model.fit_transform(q)"
   ]
  },
  {
   "cell_type": "raw",
   "id": "e4590161",
   "metadata": {},
   "source": [
    "import pandas as pd\n",
    "pd.DataFrame(dat2_mask).to_pickle('dat2.pkl')"
   ]
  },
  {
   "cell_type": "code",
   "execution_count": 79,
   "id": "79c9ce41",
   "metadata": {},
   "outputs": [
    {
     "ename": "AssertionError",
     "evalue": "",
     "output_type": "error",
     "traceback": [
      "\u001b[0;31m---------------------------------------------------------------------------\u001b[0m",
      "\u001b[0;31mAssertionError\u001b[0m                            Traceback (most recent call last)",
      "\u001b[0;32m/var/folders/6j/tj0_jn4123ld3w6lbbkzf7g80000gp/T/ipykernel_74557/500648393.py\u001b[0m in \u001b[0;36m<module>\u001b[0;34m\u001b[0m\n\u001b[0;32m----> 1\u001b[0;31m \u001b[0mmodel\u001b[0m\u001b[0;34m.\u001b[0m\u001b[0mfit_transform\u001b[0m\u001b[0;34m(\u001b[0m\u001b[0mdat2_mask\u001b[0m\u001b[0;34m)\u001b[0m\u001b[0;34m\u001b[0m\u001b[0;34m\u001b[0m\u001b[0m\n\u001b[0m",
      "\u001b[0;32m~/work/vcimpute/vcimpute/zeisberger.py\u001b[0m in \u001b[0;36mfit_transform\u001b[0;34m(self, X_mis)\u001b[0m\n\u001b[1;32m     90\u001b[0m         \u001b[0mX_imp\u001b[0m \u001b[0;34m=\u001b[0m \u001b[0mnp\u001b[0m\u001b[0;34m.\u001b[0m\u001b[0mcopy\u001b[0m\u001b[0;34m(\u001b[0m\u001b[0mX_mis\u001b[0m\u001b[0;34m)\u001b[0m\u001b[0;34m\u001b[0m\u001b[0;34m\u001b[0m\u001b[0m\n\u001b[1;32m     91\u001b[0m         \u001b[0;32mif\u001b[0m \u001b[0mself\u001b[0m\u001b[0;34m.\u001b[0m\u001b[0mis_monotone\u001b[0m\u001b[0;34m:\u001b[0m\u001b[0;34m\u001b[0m\u001b[0;34m\u001b[0m\u001b[0m\n\u001b[0;32m---> 92\u001b[0;31m             \u001b[0mself\u001b[0m\u001b[0;34m.\u001b[0m\u001b[0mimpute\u001b[0m\u001b[0;34m(\u001b[0m\u001b[0mX_imp\u001b[0m\u001b[0;34m,\u001b[0m \u001b[0;34m[\u001b[0m\u001b[0;34m]\u001b[0m\u001b[0;34m,\u001b[0m \u001b[0mT_orig\u001b[0m\u001b[0;34m,\u001b[0m \u001b[0mpcs_orig\u001b[0m\u001b[0;34m,\u001b[0m \u001b[0md_orig\u001b[0m\u001b[0;34m)\u001b[0m\u001b[0;34m\u001b[0m\u001b[0;34m\u001b[0m\u001b[0m\n\u001b[0m\u001b[1;32m     93\u001b[0m         \u001b[0;32melse\u001b[0m\u001b[0;34m:\u001b[0m\u001b[0;34m\u001b[0m\u001b[0;34m\u001b[0m\u001b[0m\n\u001b[1;32m     94\u001b[0m             \u001b[0mmdps\u001b[0m \u001b[0;34m=\u001b[0m \u001b[0mall_mdps\u001b[0m\u001b[0;34m(\u001b[0m\u001b[0mX_imp\u001b[0m\u001b[0;34m)\u001b[0m\u001b[0;34m\u001b[0m\u001b[0;34m\u001b[0m\u001b[0m\n",
      "\u001b[0;32m~/work/vcimpute/vcimpute/zeisberger.py\u001b[0m in \u001b[0;36mimpute\u001b[0;34m(self, X_imp, mdp, T_orig, pcs_orig, d_orig)\u001b[0m\n\u001b[1;32m    151\u001b[0m             \u001b[0mximp_mat\u001b[0m \u001b[0;34m=\u001b[0m \u001b[0mximp_mat\u001b[0m\u001b[0;34m[\u001b[0m\u001b[0mmiss_coords\u001b[0m\u001b[0;34m]\u001b[0m\u001b[0;34m\u001b[0m\u001b[0;34m\u001b[0m\u001b[0m\n\u001b[1;32m    152\u001b[0m             \u001b[0mn_avail\u001b[0m \u001b[0;34m=\u001b[0m \u001b[0mximp_mat\u001b[0m\u001b[0;34m.\u001b[0m\u001b[0mshape\u001b[0m\u001b[0;34m[\u001b[0m\u001b[0;36m1\u001b[0m\u001b[0;34m]\u001b[0m \u001b[0;34m-\u001b[0m \u001b[0mnp\u001b[0m\u001b[0;34m.\u001b[0m\u001b[0mcount_nonzero\u001b[0m\u001b[0;34m(\u001b[0m\u001b[0mnp\u001b[0m\u001b[0;34m.\u001b[0m\u001b[0misnan\u001b[0m\u001b[0;34m(\u001b[0m\u001b[0mximp_mat\u001b[0m\u001b[0;34m)\u001b[0m\u001b[0;34m,\u001b[0m \u001b[0maxis\u001b[0m\u001b[0;34m=\u001b[0m\u001b[0;36m1\u001b[0m\u001b[0;34m)\u001b[0m\u001b[0;34m\u001b[0m\u001b[0;34m\u001b[0m\u001b[0m\n\u001b[0;32m--> 153\u001b[0;31m             \u001b[0;32massert\u001b[0m \u001b[0mnp\u001b[0m\u001b[0;34m.\u001b[0m\u001b[0mall\u001b[0m\u001b[0;34m(\u001b[0m\u001b[0mn_avail\u001b[0m\u001b[0;34m)\u001b[0m \u001b[0;34m>\u001b[0m \u001b[0;36m0\u001b[0m\u001b[0;34m\u001b[0m\u001b[0;34m\u001b[0m\u001b[0m\n\u001b[0m\u001b[1;32m    154\u001b[0m \u001b[0;34m\u001b[0m\u001b[0m\n\u001b[1;32m    155\u001b[0m             \u001b[0;31m# insert imputed values back\u001b[0m\u001b[0;34m\u001b[0m\u001b[0;34m\u001b[0m\u001b[0;34m\u001b[0m\u001b[0m\n",
      "\u001b[0;31mAssertionError\u001b[0m: "
     ]
    }
   ],
   "source": [
    "model.fit_transform(dat2_mask)"
   ]
  },
  {
   "cell_type": "code",
   "execution_count": 114,
   "id": "2d7fe5ca",
   "metadata": {},
   "outputs": [],
   "source": [
    "from vcimpute.helper_diagonalize import is_diagonal_matrix"
   ]
  },
  {
   "cell_type": "code",
   "execution_count": 116,
   "id": "77ab7393",
   "metadata": {},
   "outputs": [],
   "source": [
    "def diagonalize_matrix2(T1):\n",
    "    d = T1.shape[0]\n",
    "    T2 = np.copy(T1)\n",
    "    m1 = T2[d-1, 0]\n",
    "    m2 = T2[d-2, 0]\n",
    "    assert is_diagonal_matrix(T1)\n",
    "    T2[d-1,0]=m2\n",
    "    T2[d-2,:2]=m1\n",
    "    r1 = np.copy(T2[:d-2, 0])\n",
    "    T2[:d-2, 0] = T2[:d-2, 1]\n",
    "    T2[:d-2,1] = r1\n",
    "    return T2"
   ]
  },
  {
   "cell_type": "code",
   "execution_count": 118,
   "id": "08138158",
   "metadata": {},
   "outputs": [
    {
     "data": {
      "text/plain": [
       "array([[1, 1, 1],\n",
       "       [2, 2, 0],\n",
       "       [3, 0, 0]], dtype=uint64)"
      ]
     },
     "execution_count": 118,
     "metadata": {},
     "output_type": "execute_result"
    }
   ],
   "source": [
    "diagonalize_matrix(T)"
   ]
  },
  {
   "cell_type": "code",
   "execution_count": 119,
   "id": "ff953169",
   "metadata": {},
   "outputs": [
    {
     "data": {
      "text/plain": [
       "array([[1, 1, 1],\n",
       "       [3, 3, 0],\n",
       "       [2, 0, 0]], dtype=uint64)"
      ]
     },
     "execution_count": 119,
     "metadata": {},
     "output_type": "execute_result"
    }
   ],
   "source": [
    "diagonalize_matrix2(T)"
   ]
  },
  {
   "cell_type": "code",
   "execution_count": 117,
   "id": "eb112d77",
   "metadata": {},
   "outputs": [
    {
     "data": {
      "text/plain": [
       "array([[1, 1, 1],\n",
       "       [2, 2, 0],\n",
       "       [3, 0, 0]], dtype=uint64)"
      ]
     },
     "execution_count": 117,
     "metadata": {},
     "output_type": "execute_result"
    }
   ],
   "source": [
    "T = np.array([\n",
    "[1, 1, 1],\n",
    "[2, 2, 0],\n",
    "[3, 0, 0]\n",
    "], dtype=np.uint64)\n",
    "T"
   ]
  },
  {
   "cell_type": "raw",
   "id": "817039fe",
   "metadata": {},
   "source": [
    "T = np.array([\n",
    "[1, 1, 1],\n",
    "[3, 3, 0],\n",
    "[2, 0, 0]\n",
    "], dtype=np.uint64)\n",
    "T"
   ]
  },
  {
   "cell_type": "code",
   "execution_count": 92,
   "id": "877e242e",
   "metadata": {},
   "outputs": [],
   "source": [
    "def diagonalize_matrix(T1):\n",
    "    d = T1.shape[0]\n",
    "    T2 = np.zeros((d, d), dtype=np.uint64)\n",
    "    forbidden = []\n",
    "    for j in range(d):\n",
    "        for i in range(d - j)[::-1]:\n",
    "            if i == (d - 1):\n",
    "                T2[d - 1, j] = T1[d - 1, j]\n",
    "            elif (i == (d - 2)) and (j == 0):\n",
    "                T2[d - 2, j] = T1[d - 2, j]\n",
    "            elif (i == (d - j - 1)) and (j != 0):\n",
    "                T2[d - j - 1, j] = T2[d - j - 1, j - 1]\n",
    "            else:\n",
    "                for k in range(d - i - 1):\n",
    "                    if (T1[d - k - 1, k] == T2[d - j - 1, j]) and (T1[i, k] not in forbidden):\n",
    "                        T2[i, j] = T1[i, k]\n",
    "                    elif (T1[i, k] == T2[d - j - 1, j]) and (T1[d - k - 1, k] not in forbidden):\n",
    "                        T2[i, j] = T1[d - k - 1, k]\n",
    "            forbidden.append(T2[d - j - 1, j])\n",
    "    return T2"
   ]
  },
  {
   "cell_type": "code",
   "execution_count": 78,
   "id": "91c5ae13",
   "metadata": {},
   "outputs": [
    {
     "name": "stdout",
     "output_type": "stream",
     "text": [
      "gcimpute [       nan 0.80838768        nan] [       nan 0.81447025        nan]\n",
      "mdpfit [       nan 1.17982953        nan] [       nan 1.15196468        nan]\n"
     ]
    },
    {
     "ename": "AssertionError",
     "evalue": "",
     "output_type": "error",
     "traceback": [
      "\u001b[0;31m---------------------------------------------------------------------------\u001b[0m",
      "\u001b[0;31mAssertionError\u001b[0m                            Traceback (most recent call last)",
      "\u001b[0;32m/var/folders/6j/tj0_jn4123ld3w6lbbkzf7g80000gp/T/ipykernel_74557/2073407840.py\u001b[0m in \u001b[0;36m<module>\u001b[0;34m\u001b[0m\n\u001b[1;32m      1\u001b[0m \u001b[0;32mfor\u001b[0m \u001b[0mtag\u001b[0m\u001b[0;34m,\u001b[0m \u001b[0mmodel\u001b[0m \u001b[0;32min\u001b[0m \u001b[0mmodel_lst\u001b[0m\u001b[0;34m:\u001b[0m\u001b[0;34m\u001b[0m\u001b[0;34m\u001b[0m\u001b[0m\n\u001b[1;32m      2\u001b[0m     \u001b[0mdat1_imp\u001b[0m \u001b[0;34m=\u001b[0m \u001b[0mmodel\u001b[0m\u001b[0;34m.\u001b[0m\u001b[0mfit_transform\u001b[0m\u001b[0;34m(\u001b[0m\u001b[0mdat1_mask\u001b[0m\u001b[0;34m)\u001b[0m\u001b[0;34m\u001b[0m\u001b[0;34m\u001b[0m\u001b[0m\n\u001b[0;32m----> 3\u001b[0;31m     \u001b[0mdat2_imp\u001b[0m \u001b[0;34m=\u001b[0m \u001b[0mmodel\u001b[0m\u001b[0;34m.\u001b[0m\u001b[0mfit_transform\u001b[0m\u001b[0;34m(\u001b[0m\u001b[0mdat2_mask\u001b[0m\u001b[0;34m)\u001b[0m\u001b[0;34m\u001b[0m\u001b[0;34m\u001b[0m\u001b[0m\n\u001b[0m\u001b[1;32m      4\u001b[0m     \u001b[0mprint\u001b[0m\u001b[0;34m(\u001b[0m\u001b[0mtag\u001b[0m\u001b[0;34m,\u001b[0m \u001b[0mget_smae\u001b[0m\u001b[0;34m(\u001b[0m\u001b[0mdat1_imp\u001b[0m\u001b[0;34m,\u001b[0m \u001b[0mdat1\u001b[0m\u001b[0;34m,\u001b[0m \u001b[0mdat1_mask\u001b[0m\u001b[0;34m)\u001b[0m\u001b[0;34m,\u001b[0m \u001b[0mget_smae\u001b[0m\u001b[0;34m(\u001b[0m\u001b[0mdat2_imp\u001b[0m\u001b[0;34m,\u001b[0m \u001b[0mdat2\u001b[0m\u001b[0;34m,\u001b[0m \u001b[0mdat2_mask\u001b[0m\u001b[0;34m)\u001b[0m\u001b[0;34m)\u001b[0m\u001b[0;34m\u001b[0m\u001b[0;34m\u001b[0m\u001b[0m\n",
      "\u001b[0;32m~/work/vcimpute/vcimpute/zeisberger.py\u001b[0m in \u001b[0;36mfit_transform\u001b[0;34m(self, X_mis)\u001b[0m\n\u001b[1;32m     90\u001b[0m         \u001b[0mX_imp\u001b[0m \u001b[0;34m=\u001b[0m \u001b[0mnp\u001b[0m\u001b[0;34m.\u001b[0m\u001b[0mcopy\u001b[0m\u001b[0;34m(\u001b[0m\u001b[0mX_mis\u001b[0m\u001b[0;34m)\u001b[0m\u001b[0;34m\u001b[0m\u001b[0;34m\u001b[0m\u001b[0m\n\u001b[1;32m     91\u001b[0m         \u001b[0;32mif\u001b[0m \u001b[0mself\u001b[0m\u001b[0;34m.\u001b[0m\u001b[0mis_monotone\u001b[0m\u001b[0;34m:\u001b[0m\u001b[0;34m\u001b[0m\u001b[0;34m\u001b[0m\u001b[0m\n\u001b[0;32m---> 92\u001b[0;31m             \u001b[0mself\u001b[0m\u001b[0;34m.\u001b[0m\u001b[0mimpute\u001b[0m\u001b[0;34m(\u001b[0m\u001b[0mX_imp\u001b[0m\u001b[0;34m,\u001b[0m \u001b[0;34m[\u001b[0m\u001b[0;34m]\u001b[0m\u001b[0;34m,\u001b[0m \u001b[0mT_orig\u001b[0m\u001b[0;34m,\u001b[0m \u001b[0mpcs_orig\u001b[0m\u001b[0;34m,\u001b[0m \u001b[0md_orig\u001b[0m\u001b[0;34m)\u001b[0m\u001b[0;34m\u001b[0m\u001b[0;34m\u001b[0m\u001b[0m\n\u001b[0m\u001b[1;32m     93\u001b[0m         \u001b[0;32melse\u001b[0m\u001b[0;34m:\u001b[0m\u001b[0;34m\u001b[0m\u001b[0;34m\u001b[0m\u001b[0m\n\u001b[1;32m     94\u001b[0m             \u001b[0mmdps\u001b[0m \u001b[0;34m=\u001b[0m \u001b[0mall_mdps\u001b[0m\u001b[0;34m(\u001b[0m\u001b[0mX_imp\u001b[0m\u001b[0;34m)\u001b[0m\u001b[0;34m\u001b[0m\u001b[0;34m\u001b[0m\u001b[0m\n",
      "\u001b[0;32m~/work/vcimpute/vcimpute/zeisberger.py\u001b[0m in \u001b[0;36mimpute\u001b[0;34m(self, X_imp, mdp, T_orig, pcs_orig, d_orig)\u001b[0m\n\u001b[1;32m    151\u001b[0m             \u001b[0mximp_mat\u001b[0m \u001b[0;34m=\u001b[0m \u001b[0mximp_mat\u001b[0m\u001b[0;34m[\u001b[0m\u001b[0mmiss_coords\u001b[0m\u001b[0;34m]\u001b[0m\u001b[0;34m\u001b[0m\u001b[0;34m\u001b[0m\u001b[0m\n\u001b[1;32m    152\u001b[0m             \u001b[0mn_avail\u001b[0m \u001b[0;34m=\u001b[0m \u001b[0mximp_mat\u001b[0m\u001b[0;34m.\u001b[0m\u001b[0mshape\u001b[0m\u001b[0;34m[\u001b[0m\u001b[0;36m1\u001b[0m\u001b[0;34m]\u001b[0m \u001b[0;34m-\u001b[0m \u001b[0mnp\u001b[0m\u001b[0;34m.\u001b[0m\u001b[0mcount_nonzero\u001b[0m\u001b[0;34m(\u001b[0m\u001b[0mnp\u001b[0m\u001b[0;34m.\u001b[0m\u001b[0misnan\u001b[0m\u001b[0;34m(\u001b[0m\u001b[0mximp_mat\u001b[0m\u001b[0;34m)\u001b[0m\u001b[0;34m,\u001b[0m \u001b[0maxis\u001b[0m\u001b[0;34m=\u001b[0m\u001b[0;36m1\u001b[0m\u001b[0;34m)\u001b[0m\u001b[0;34m\u001b[0m\u001b[0;34m\u001b[0m\u001b[0m\n\u001b[0;32m--> 153\u001b[0;31m             \u001b[0;32massert\u001b[0m \u001b[0mnp\u001b[0m\u001b[0;34m.\u001b[0m\u001b[0mall\u001b[0m\u001b[0;34m(\u001b[0m\u001b[0mn_avail\u001b[0m\u001b[0;34m)\u001b[0m \u001b[0;34m>\u001b[0m \u001b[0;36m0\u001b[0m\u001b[0;34m\u001b[0m\u001b[0;34m\u001b[0m\u001b[0m\n\u001b[0m\u001b[1;32m    154\u001b[0m \u001b[0;34m\u001b[0m\u001b[0m\n\u001b[1;32m    155\u001b[0m             \u001b[0;31m# insert imputed values back\u001b[0m\u001b[0;34m\u001b[0m\u001b[0;34m\u001b[0m\u001b[0;34m\u001b[0m\u001b[0m\n",
      "\u001b[0;31mAssertionError\u001b[0m: "
     ]
    }
   ],
   "source": [
    "for tag, model in model_lst:\n",
    "    dat1_imp = model.fit_transform(dat1_mask)\n",
    "    dat2_imp = model.fit_transform(dat2_mask)\n",
    "    print(tag, get_smae(dat1_imp, dat1, dat1_mask), get_smae(dat2_imp, dat2, dat2_mask))"
   ]
  },
  {
   "cell_type": "code",
   "execution_count": 71,
   "id": "8dd7d105",
   "metadata": {},
   "outputs": [
    {
     "data": {
      "text/plain": [
       "<pyvinecopulib.Vinecop>\n",
       "** Tree: 0\n",
       "3,2 <-> Gaussian, parameters = 0.5\n",
       "1,2 <-> Gaussian, parameters = 0.5\n",
       "** Tree: 1\n",
       "3,1 | 2 <-> Gaussian, parameters = 0.9"
      ]
     },
     "execution_count": 71,
     "metadata": {},
     "output_type": "execute_result"
    }
   ],
   "source": [
    "cop"
   ]
  },
  {
   "cell_type": "code",
   "execution_count": 72,
   "id": "bd68d9ac",
   "metadata": {},
   "outputs": [
    {
     "data": {
      "text/plain": [
       "array([[0.08327159, 0.04051754, 0.07636132],\n",
       "       [0.04051754, 0.08174163, 0.04016636],\n",
       "       [0.07636132, 0.04016636, 0.08365749]])"
      ]
     },
     "execution_count": 72,
     "metadata": {},
     "output_type": "execute_result"
    }
   ],
   "source": [
    "np.cov(dat1.T)"
   ]
  },
  {
   "cell_type": "code",
   "execution_count": null,
   "id": "f75abe29",
   "metadata": {},
   "outputs": [],
   "source": []
  },
  {
   "cell_type": "code",
   "execution_count": 73,
   "id": "d088c348",
   "metadata": {},
   "outputs": [
    {
     "data": {
      "text/plain": [
       "array([[0.08348192, 0.04205458, 0.07463104],\n",
       "       [0.04205458, 0.0830566 , 0.04249404],\n",
       "       [0.07463104, 0.04249404, 0.08155707]])"
      ]
     },
     "execution_count": 73,
     "metadata": {},
     "output_type": "execute_result"
    }
   ],
   "source": [
    "np.cov(dat2.T)"
   ]
  },
  {
   "cell_type": "code",
   "execution_count": 74,
   "id": "71518f00",
   "metadata": {},
   "outputs": [
    {
     "data": {
      "text/plain": [
       "array([[0.39174905, 0.07371826, 0.51604085],\n",
       "       [0.44212977, 0.29780965, 0.76760869],\n",
       "       [0.37981239, 0.89924073, 0.38569533],\n",
       "       ...,\n",
       "       [0.18400469, 0.67113535, 0.05704565],\n",
       "       [0.55924298, 0.46632172, 0.48005325],\n",
       "       [0.01778223, 0.04786829, 0.03609329]])"
      ]
     },
     "execution_count": 74,
     "metadata": {},
     "output_type": "execute_result"
    }
   ],
   "source": [
    "dat1"
   ]
  },
  {
   "cell_type": "code",
   "execution_count": 75,
   "id": "6858ca7e",
   "metadata": {},
   "outputs": [
    {
     "data": {
      "text/plain": [
       "array([[1.        , 0.4911035 , 0.91489773],\n",
       "       [0.4911035 , 1.        , 0.48572268],\n",
       "       [0.91489773, 0.48572268, 1.        ]])"
      ]
     },
     "execution_count": 75,
     "metadata": {},
     "output_type": "execute_result"
    }
   ],
   "source": [
    "np.corrcoef(dat1.T)"
   ]
  },
  {
   "cell_type": "code",
   "execution_count": 76,
   "id": "1b27a45d",
   "metadata": {},
   "outputs": [
    {
     "data": {
      "text/plain": [
       "array([[1.        , 0.50504494, 0.90446645],\n",
       "       [0.50504494, 1.        , 0.51630952],\n",
       "       [0.90446645, 0.51630952, 1.        ]])"
      ]
     },
     "execution_count": 76,
     "metadata": {},
     "output_type": "execute_result"
    }
   ],
   "source": [
    "np.corrcoef(dat2.T)"
   ]
  },
  {
   "cell_type": "code",
   "execution_count": null,
   "id": "2aeeb51e",
   "metadata": {},
   "outputs": [],
   "source": []
  }
 ],
 "metadata": {
  "kernelspec": {
   "display_name": "Python 3 (ipykernel)",
   "language": "python",
   "name": "python3"
  },
  "language_info": {
   "codemirror_mode": {
    "name": "ipython",
    "version": 3
   },
   "file_extension": ".py",
   "mimetype": "text/x-python",
   "name": "python",
   "nbconvert_exporter": "python",
   "pygments_lexer": "ipython3",
   "version": "3.7.11"
  }
 },
 "nbformat": 4,
 "nbformat_minor": 5
}
