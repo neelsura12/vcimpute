{
 "cells": [
  {
   "cell_type": "code",
   "execution_count": 38,
   "id": "8b6abc7a",
   "metadata": {},
   "outputs": [],
   "source": [
    "import pandas as pd\n",
    "rawdata = pd.read_pickle('/Users/nshah/work/vcimpute/vcimpute/scripts/experiment1.pkl')"
   ]
  },
  {
   "cell_type": "code",
   "execution_count": 70,
   "id": "14956532",
   "metadata": {},
   "outputs": [],
   "source": [
    "df = pd.DataFrame([j for i in rawdata for j in i],\n",
    " columns=['tag',\n",
    " 'seed',\n",
    " 'smae1',\n",
    " 'smae2',\n",
    " 'elapsed_ns',\n",
    " 'bias1 (%)',\n",
    " 'bias2 (%)'])"
   ]
  },
  {
   "cell_type": "code",
   "execution_count": 71,
   "id": "a709a5d6",
   "metadata": {},
   "outputs": [],
   "source": [
    "summary = df.groupby('tag').mean()\n",
    "summary['elapsed_s'] = summary['elapsed_ns'] / 1_000_000_000"
   ]
  },
  {
   "cell_type": "code",
   "execution_count": 73,
   "id": "0a419eac",
   "metadata": {},
   "outputs": [
    {
     "name": "stdout",
     "output_type": "stream",
     "text": [
      "\\begin{tabular}{lrrrrr}\n",
      "\\toprule\n",
      "{} &  smae1 &  smae2 &  bias1 (\\%) &  bias2 (\\%) &  elapsed\\_s \\\\\n",
      "tag      &        &        &            &            &            \\\\\n",
      "\\midrule\n",
      "copreg   &   0.14 &   0.39 &       0.00 &       0.00 &      11.49 \\\\\n",
      "gcimpute &   0.14 &   0.28 &       0.00 &       0.00 &       0.47 \\\\\n",
      "mdpfit   &   0.15 &   0.40 &       0.00 &       0.00 &      33.24 \\\\\n",
      "copfit   &   0.32 &   0.46 &       0.01 &       0.01 &      11.87 \\\\\n",
      "\\bottomrule\n",
      "\\end{tabular}\n",
      "\n"
     ]
    }
   ],
   "source": [
    "print(summary.drop(columns=['seed','elapsed_ns']).sort_values(by='smae1').to_latex(float_format=\"{:0.2f}\".format))"
   ]
  },
  {
   "cell_type": "code",
   "execution_count": 64,
   "id": "73c34e7c",
   "metadata": {},
   "outputs": [
    {
     "data": {
      "text/plain": [
       "Index(['seed', 'smae_hier', 'smae_non_hier', 'elapsed_ns', 'bias_hier (%)',\n",
       "       'bias_non_hier (%)', 'elapsed_s'],\n",
       "      dtype='object')"
      ]
     },
     "execution_count": 64,
     "metadata": {},
     "output_type": "execute_result"
    }
   ],
   "source": [
    "summary.columns"
   ]
  },
  {
   "cell_type": "code",
   "execution_count": null,
   "id": "4eb8fe17",
   "metadata": {},
   "outputs": [],
   "source": []
  },
  {
   "cell_type": "code",
   "execution_count": 65,
   "id": "9f1b04b8",
   "metadata": {},
   "outputs": [],
   "source": [
    "summary.columns=['seed', ('smae', 'hierarchical'), ('smae', 'non-hierarchical'), 'elapsed_ns', 'bias_hier (%)',\n",
    "       'bias_non_hier (%)', 'elapsed_s']"
   ]
  },
  {
   "cell_type": "code",
   "execution_count": 66,
   "id": "7a66206c",
   "metadata": {},
   "outputs": [
    {
     "data": {
      "text/html": [
       "<div>\n",
       "<style scoped>\n",
       "    .dataframe tbody tr th:only-of-type {\n",
       "        vertical-align: middle;\n",
       "    }\n",
       "\n",
       "    .dataframe tbody tr th {\n",
       "        vertical-align: top;\n",
       "    }\n",
       "\n",
       "    .dataframe thead th {\n",
       "        text-align: right;\n",
       "    }\n",
       "</style>\n",
       "<table border=\"1\" class=\"dataframe\">\n",
       "  <thead>\n",
       "    <tr style=\"text-align: right;\">\n",
       "      <th></th>\n",
       "      <th>seed</th>\n",
       "      <th>(smae, hierarchical)</th>\n",
       "      <th>(smae, non-hierarchical)</th>\n",
       "      <th>elapsed_ns</th>\n",
       "      <th>bias_hier (%)</th>\n",
       "      <th>bias_non_hier (%)</th>\n",
       "      <th>elapsed_s</th>\n",
       "    </tr>\n",
       "    <tr>\n",
       "      <th>tag</th>\n",
       "      <th></th>\n",
       "      <th></th>\n",
       "      <th></th>\n",
       "      <th></th>\n",
       "      <th></th>\n",
       "      <th></th>\n",
       "      <th></th>\n",
       "    </tr>\n",
       "  </thead>\n",
       "  <tbody>\n",
       "    <tr>\n",
       "      <th>copfit</th>\n",
       "      <td>49.5</td>\n",
       "      <td>0.321851</td>\n",
       "      <td>0.462390</td>\n",
       "      <td>1.186900e+10</td>\n",
       "      <td>0.005095</td>\n",
       "      <td>0.005484</td>\n",
       "      <td>11.869001</td>\n",
       "    </tr>\n",
       "    <tr>\n",
       "      <th>copreg</th>\n",
       "      <td>49.5</td>\n",
       "      <td>0.139743</td>\n",
       "      <td>0.387289</td>\n",
       "      <td>1.148943e+10</td>\n",
       "      <td>0.001913</td>\n",
       "      <td>0.002984</td>\n",
       "      <td>11.489427</td>\n",
       "    </tr>\n",
       "    <tr>\n",
       "      <th>gcimpute</th>\n",
       "      <td>49.5</td>\n",
       "      <td>0.140009</td>\n",
       "      <td>0.278497</td>\n",
       "      <td>4.722571e+08</td>\n",
       "      <td>0.001601</td>\n",
       "      <td>0.002803</td>\n",
       "      <td>0.472257</td>\n",
       "    </tr>\n",
       "    <tr>\n",
       "      <th>mdpfit</th>\n",
       "      <td>49.5</td>\n",
       "      <td>0.148577</td>\n",
       "      <td>0.397360</td>\n",
       "      <td>3.324098e+10</td>\n",
       "      <td>0.002072</td>\n",
       "      <td>0.003174</td>\n",
       "      <td>33.240982</td>\n",
       "    </tr>\n",
       "  </tbody>\n",
       "</table>\n",
       "</div>"
      ],
      "text/plain": [
       "          seed  (smae, hierarchical)  (smae, non-hierarchical)    elapsed_ns  \\\n",
       "tag                                                                            \n",
       "copfit    49.5              0.321851                  0.462390  1.186900e+10   \n",
       "copreg    49.5              0.139743                  0.387289  1.148943e+10   \n",
       "gcimpute  49.5              0.140009                  0.278497  4.722571e+08   \n",
       "mdpfit    49.5              0.148577                  0.397360  3.324098e+10   \n",
       "\n",
       "          bias_hier (%)  bias_non_hier (%)  elapsed_s  \n",
       "tag                                                    \n",
       "copfit         0.005095           0.005484  11.869001  \n",
       "copreg         0.001913           0.002984  11.489427  \n",
       "gcimpute       0.001601           0.002803   0.472257  \n",
       "mdpfit         0.002072           0.003174  33.240982  "
      ]
     },
     "execution_count": 66,
     "metadata": {},
     "output_type": "execute_result"
    }
   ],
   "source": [
    "summary"
   ]
  },
  {
   "cell_type": "code",
   "execution_count": null,
   "id": "9296ca6b",
   "metadata": {},
   "outputs": [],
   "source": []
  }
 ],
 "metadata": {
  "kernelspec": {
   "display_name": "Python 3 (ipykernel)",
   "language": "python",
   "name": "python3"
  },
  "language_info": {
   "codemirror_mode": {
    "name": "ipython",
    "version": 3
   },
   "file_extension": ".py",
   "mimetype": "text/x-python",
   "name": "python",
   "nbconvert_exporter": "python",
   "pygments_lexer": "ipython3",
   "version": "3.7.11"
  }
 },
 "nbformat": 4,
 "nbformat_minor": 5
}
