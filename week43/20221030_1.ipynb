{
 "cells": [
  {
   "cell_type": "code",
   "execution_count": 95,
   "id": "51c95a18",
   "metadata": {},
   "outputs": [],
   "source": [
    "import pandas as pd"
   ]
  },
  {
   "cell_type": "code",
   "execution_count": 100,
   "id": "b4a3222a",
   "metadata": {},
   "outputs": [],
   "source": [
    "out = pd.read_pickle('/Users/nshah/work/vcimpute/vcimpute/scripts/experiment2_clayton.pkl')"
   ]
  },
  {
   "cell_type": "code",
   "execution_count": 101,
   "id": "fcf0ebf5",
   "metadata": {},
   "outputs": [],
   "source": [
    "df = pd.DataFrame([e for lst in out for e in lst],columns=['tag','seed', 'max_kt', 'mean_kt', 'smae', 'elapsed', 'bias'])"
   ]
  },
  {
   "cell_type": "code",
   "execution_count": 102,
   "id": "a582a1d4",
   "metadata": {},
   "outputs": [],
   "source": [
    "pd.set_option('display.float_format','{:,.2f}'.format)"
   ]
  },
  {
   "cell_type": "raw",
   "id": "c4561061",
   "metadata": {},
   "source": [
    "import numpy as np"
   ]
  },
  {
   "cell_type": "raw",
   "id": "6e36ac83",
   "metadata": {},
   "source": [
    "def signif(x, p):\n",
    "    x = np.asarray(x)\n",
    "    x_positive = np.where(np.isfinite(x) & (x != 0), np.abs(x), 10**(p-1))\n",
    "    mags = 10 ** (p - 1 - np.floor(np.log10(x_positive)))\n",
    "    return np.round(x * mags) / mags"
   ]
  },
  {
   "cell_type": "raw",
   "id": "b3bf6b67",
   "metadata": {},
   "source": [
    "df['tau_bucket'] = pd.qcut(df['max_kt'], [0, 0.25, 0.5, 0.75, 1], duplicates='drop')\n",
    "tmp = df.groupby(['tag', 'tau_bucket'])['seed'].count()\n",
    "df2 = df.groupby(['tag', 'tau_bucket']).mean()\n",
    "df2 = df2.merge(tmp.to_frame('n'), left_index=True, right_index=True)\n",
    "df2['elapsed_s'] = df2['elapsed'] /1e9\n",
    "df3 = df2.drop(columns=['seed','elapsed','max_kt','mean_kt'])\n",
    "df3#.drop(columns=['bias','n']).unstack(-1)"
   ]
  },
  {
   "cell_type": "code",
   "execution_count": 103,
   "id": "f594ee1f",
   "metadata": {},
   "outputs": [
    {
     "name": "stdout",
     "output_type": "stream",
     "text": [
      "\\begin{tabular}{lrrrrrrrr}\n",
      "\\toprule\n",
      "{} & \\multicolumn{4}{l}{smae} & \\multicolumn{4}{l}{elapsed\\_s} \\\\\n",
      "tau\\_bucket & (0.059, 0.7] & (0.7, 0.8] & (0.8, 0.9] & (0.9, 1.0] & (0.059, 0.7] & (0.7, 0.8] & (0.8, 0.9] & (0.9, 1.0] \\\\\n",
      "tag      &              &            &            &            &              &            &            &            \\\\\n",
      "\\midrule\n",
      "copfit   &         0.20 &       0.08 &       0.05 &       0.04 &         0.69 &       0.69 &       0.69 &       0.68 \\\\\n",
      "copreg   &         0.19 &       0.09 &       0.06 &       0.05 &         0.66 &       0.66 &       0.67 &       0.63 \\\\\n",
      "gcimpute &         0.12 &       0.05 &       0.03 &       0.02 &         0.27 &       0.28 &       0.28 &       0.27 \\\\\n",
      "mdpfit   &         0.17 &       0.07 &       0.06 &       0.04 &         1.83 &       2.05 &       2.12 &       2.13 \\\\\n",
      "\\bottomrule\n",
      "\\end{tabular}\n",
      "\n"
     ]
    }
   ],
   "source": [
    "df['tau_bucket'] = pd.qcut(signif(df['mean_kt'],1), [0, 0.25, 0.5, 0.75, 1],  duplicates='drop')\n",
    "# df['tau_bucket'] = pd.cut(df['mean_kt'], [0, 0.5, 0.7, 1], duplicates='drop')\n",
    "\n",
    "tmp = df.groupby(['tag', 'tau_bucket'])['seed'].count()\n",
    "df2 = df.groupby(['tag', 'tau_bucket']).mean()\n",
    "df2 = df2.merge(tmp.to_frame('n'), left_index=True, right_index=True)\n",
    "df2['elapsed_s'] = df2['elapsed'] /1e9\n",
    "df3 = df2.drop(columns=['seed','elapsed','max_kt','mean_kt','bias','n'])\n",
    "print(df3.unstack(-1).to_latex(float_format=\"{:0.2f}\".format))"
   ]
  },
  {
   "cell_type": "code",
   "execution_count": null,
   "id": "56e42e3c",
   "metadata": {},
   "outputs": [],
   "source": []
  }
 ],
 "metadata": {
  "kernelspec": {
   "display_name": "Python 3 (ipykernel)",
   "language": "python",
   "name": "python3"
  },
  "language_info": {
   "codemirror_mode": {
    "name": "ipython",
    "version": 3
   },
   "file_extension": ".py",
   "mimetype": "text/x-python",
   "name": "python",
   "nbconvert_exporter": "python",
   "pygments_lexer": "ipython3",
   "version": "3.7.11"
  }
 },
 "nbformat": 4,
 "nbformat_minor": 5
}
