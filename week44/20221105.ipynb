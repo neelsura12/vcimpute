{
 "cells": [
  {
   "cell_type": "code",
   "execution_count": 1,
   "id": "6bc9d9cf",
   "metadata": {},
   "outputs": [],
   "source": [
    "import numpy as np\n",
    "import pandas as pd\n",
    "from matplotlib import pyplot as plt\n",
    "from vcimpute.helper_datagen import make_complete_data_matrix, mask_MCAR\n",
    "from vcimpute.helper_mdp import all_mdps, all_miss_vars, count_missing_by_col, sort_miss_vars_by_increasing_miss_vars, count_missing_by_row"
   ]
  },
  {
   "cell_type": "code",
   "execution_count": 3,
   "id": "7fc1c98e",
   "metadata": {},
   "outputs": [],
   "source": [
    "seed = 0"
   ]
  },
  {
   "cell_type": "code",
   "execution_count": 8,
   "id": "b79239a5",
   "metadata": {},
   "outputs": [],
   "source": [
    "fname = '/Users/nshah/work/vcimpute/vcimpute/scripts/experiment3_general.pkl'\n",
    "df = pd.DataFrame(\n",
    "    [e for lst in pd.read_pickle(fname) for e in lst],\n",
    "    columns=['method', 'seed', 'n_fits', 'n_sims', 'n_mdps', 'n_cc', 'smae', 'elapsed', 'bias']\n",
    ")"
   ]
  },
  {
   "cell_type": "code",
   "execution_count": 27,
   "id": "284ec37b",
   "metadata": {},
   "outputs": [],
   "source": [
    "df['elapsed_s'] = df['elapsed']/1e9\n",
    "df['smae'] =df['smae'].apply(np.nanmean)"
   ]
  },
  {
   "cell_type": "code",
   "execution_count": 20,
   "id": "eabb9dae",
   "metadata": {},
   "outputs": [
    {
     "data": {
      "text/plain": [
       "0     583\n",
       "4     583\n",
       "8     583\n",
       "12    583\n",
       "16    583\n",
       "20    583\n",
       "24    583\n",
       "28    583\n",
       "32    583\n",
       "36    583\n",
       "Name: n_cc, dtype: int64"
      ]
     },
     "execution_count": 20,
     "metadata": {},
     "output_type": "execute_result"
    }
   ],
   "source": [
    "df[df['method']=='gcimpute']['n_cc']"
   ]
  },
  {
   "cell_type": "code",
   "execution_count": 14,
   "id": "069e0be2",
   "metadata": {},
   "outputs": [
    {
     "data": {
      "text/plain": [
       "method    n_fits\n",
       "copfit    1          88.059376\n",
       "copreg    40        448.443953\n",
       "gcimpute  1           2.567604\n",
       "mdpfit    15         18.992549\n",
       "          18        113.752280\n",
       "          19         24.647969\n",
       "          20         25.257256\n",
       "          23         58.165537\n",
       "Name: elapsed_s, dtype: float64"
      ]
     },
     "execution_count": 14,
     "metadata": {},
     "output_type": "execute_result"
    }
   ],
   "source": [
    "df.groupby(['method', 'n_fits'])['elapsed_s'].sum()"
   ]
  },
  {
   "cell_type": "code",
   "execution_count": 17,
   "id": "41679be8",
   "metadata": {},
   "outputs": [
    {
     "data": {
      "text/plain": [
       "method    n_fits  n_sims\n",
       "copfit    1       78         8.449854\n",
       "                  79         8.542310\n",
       "                  81         8.677031\n",
       "                  84         8.946438\n",
       "                  85         8.910556\n",
       "                  87         9.016844\n",
       "copreg    40      40        44.844395\n",
       "gcimpute  1       1          0.256760\n",
       "mdpfit    15      20        18.992549\n",
       "          18      20        22.750456\n",
       "          19      20        24.647969\n",
       "          20      20        25.257256\n",
       "          23      20        29.082769\n",
       "Name: elapsed_s, dtype: float64"
      ]
     },
     "execution_count": 17,
     "metadata": {},
     "output_type": "execute_result"
    }
   ],
   "source": [
    "df.groupby(['method', 'n_fits','n_sims'])['elapsed_s'].mean()"
   ]
  },
  {
   "cell_type": "code",
   "execution_count": 35,
   "id": "c5fe8a55",
   "metadata": {},
   "outputs": [
    {
     "data": {
      "text/plain": [
       "21.666666666666668"
      ]
     },
     "execution_count": 35,
     "metadata": {},
     "output_type": "execute_result"
    }
   ],
   "source": [
    "13*100/60"
   ]
  },
  {
   "cell_type": "code",
   "execution_count": 33,
   "id": "01d5d9ad",
   "metadata": {},
   "outputs": [
    {
     "data": {
      "text/plain": [
       "12.998108733333334"
      ]
     },
     "execution_count": 33,
     "metadata": {},
     "output_type": "execute_result"
    }
   ],
   "source": [
    "df['elapsed'].sum()/1e9/60"
   ]
  },
  {
   "cell_type": "code",
   "execution_count": 31,
   "id": "f8b47cc0",
   "metadata": {},
   "outputs": [
    {
     "data": {
      "text/html": [
       "<div>\n",
       "<style scoped>\n",
       "    .dataframe tbody tr th:only-of-type {\n",
       "        vertical-align: middle;\n",
       "    }\n",
       "\n",
       "    .dataframe tbody tr th {\n",
       "        vertical-align: top;\n",
       "    }\n",
       "\n",
       "    .dataframe thead th {\n",
       "        text-align: right;\n",
       "    }\n",
       "</style>\n",
       "<table border=\"1\" class=\"dataframe\">\n",
       "  <thead>\n",
       "    <tr style=\"text-align: right;\">\n",
       "      <th></th>\n",
       "      <th>bias</th>\n",
       "      <th>smae</th>\n",
       "    </tr>\n",
       "    <tr>\n",
       "      <th>method</th>\n",
       "      <th></th>\n",
       "      <th></th>\n",
       "    </tr>\n",
       "  </thead>\n",
       "  <tbody>\n",
       "    <tr>\n",
       "      <th>copfit</th>\n",
       "      <td>0.03</td>\n",
       "      <td>0.85</td>\n",
       "    </tr>\n",
       "    <tr>\n",
       "      <th>copreg</th>\n",
       "      <td>0.02</td>\n",
       "      <td>0.79</td>\n",
       "    </tr>\n",
       "    <tr>\n",
       "      <th>gcimpute</th>\n",
       "      <td>0.03</td>\n",
       "      <td>0.58</td>\n",
       "    </tr>\n",
       "    <tr>\n",
       "      <th>mdpfit</th>\n",
       "      <td>0.02</td>\n",
       "      <td>0.84</td>\n",
       "    </tr>\n",
       "  </tbody>\n",
       "</table>\n",
       "</div>"
      ],
      "text/plain": [
       "          bias  smae\n",
       "method              \n",
       "copfit    0.03  0.85\n",
       "copreg    0.02  0.79\n",
       "gcimpute  0.03  0.58\n",
       "mdpfit    0.02  0.84"
      ]
     },
     "execution_count": 31,
     "metadata": {},
     "output_type": "execute_result"
    }
   ],
   "source": [
    "pd.set_option('display.float_format', '{:,.2f}'.format)\n",
    "df.groupby('method')[['bias','smae']].mean()"
   ]
  },
  {
   "cell_type": "code",
   "execution_count": 30,
   "id": "b73c72a3",
   "metadata": {},
   "outputs": [],
   "source": []
  },
  {
   "cell_type": "code",
   "execution_count": 12,
   "id": "2488dc46",
   "metadata": {},
   "outputs": [
    {
     "data": {
      "text/plain": [
       "method\n",
       "copfit       8.805938\n",
       "copreg      44.844395\n",
       "gcimpute     0.256760\n",
       "mdpfit      24.081559\n",
       "Name: elapsed_s, dtype: float64"
      ]
     },
     "execution_count": 12,
     "metadata": {},
     "output_type": "execute_result"
    }
   ],
   "source": [
    "df.groupby('method')['elapsed_s'].mean()"
   ]
  },
  {
   "cell_type": "code",
   "execution_count": 141,
   "id": "1d7198ec",
   "metadata": {},
   "outputs": [],
   "source": [
    "X = make_complete_data_matrix(1000, 5, 'gaussian', seed)"
   ]
  },
  {
   "cell_type": "code",
   "execution_count": 9,
   "id": "ea00c92d",
   "metadata": {},
   "outputs": [],
   "source": [
    "X_mask = mask_MCAR(X, 'univariate', 0.1, seed)"
   ]
  },
  {
   "cell_type": "code",
   "execution_count": 29,
   "id": "4c9f38e7",
   "metadata": {},
   "outputs": [],
   "source": [
    "X_mask = mask_MCAR(X, 'monotone', 0.1, seed, n_cols=5)"
   ]
  },
  {
   "cell_type": "code",
   "execution_count": 30,
   "id": "3d6796bf",
   "metadata": {},
   "outputs": [],
   "source": [
    "# monotone, increase number of missing cols"
   ]
  },
  {
   "cell_type": "code",
   "execution_count": 31,
   "id": "e54609b1",
   "metadata": {},
   "outputs": [
    {
     "data": {
      "text/plain": [
       "array([  0,   0, 105, 107,  82, 108,   0,  98,   0,   0])"
      ]
     },
     "execution_count": 31,
     "metadata": {},
     "output_type": "execute_result"
    }
   ],
   "source": [
    "count_missing_by_col(X_mask)"
   ]
  },
  {
   "cell_type": "code",
   "execution_count": 142,
   "id": "c00e82c3",
   "metadata": {},
   "outputs": [],
   "source": [
    "X_mask = mask_MCAR(X, 'general', 0.1, seed)"
   ]
  },
  {
   "cell_type": "raw",
   "id": "35777732",
   "metadata": {},
   "source": [
    "amax = 0\n",
    "for seed in range(1000):\n",
    "    X_mask = mask_MCAR(X, 'general', 0.4, seed)\n",
    "    if len(all_mdps(X_mask)) > amax:\n",
    "        amax= len(all_mdps(X_mask))\n",
    "        print(amax)"
   ]
  },
  {
   "cell_type": "code",
   "execution_count": 89,
   "id": "901489d3",
   "metadata": {},
   "outputs": [],
   "source": [
    "from scipy.special import comb"
   ]
  },
  {
   "cell_type": "code",
   "execution_count": 136,
   "id": "7302b8d8",
   "metadata": {},
   "outputs": [],
   "source": [
    "d = 5"
   ]
  },
  {
   "cell_type": "code",
   "execution_count": 137,
   "id": "bd312dab",
   "metadata": {},
   "outputs": [
    {
     "data": {
      "text/plain": [
       "30.0"
      ]
     },
     "execution_count": 137,
     "metadata": {},
     "output_type": "execute_result"
    }
   ],
   "source": [
    "m = 0\n",
    "for i in range(1,d):\n",
    "    m += comb(d,i)\n",
    "m"
   ]
  },
  {
   "cell_type": "code",
   "execution_count": 140,
   "id": "47a81223",
   "metadata": {},
   "outputs": [
    {
     "data": {
      "text/plain": [
       "500.0"
      ]
     },
     "execution_count": 140,
     "metadata": {},
     "output_type": "execute_result"
    }
   ],
   "source": [
    ".1*(1000*5)"
   ]
  },
  {
   "cell_type": "code",
   "execution_count": 138,
   "id": "74e8e55e",
   "metadata": {},
   "outputs": [],
   "source": [
    "# mdps\n",
    "# univariate - 1 \n",
    "# monotonic - # mdps= 1 per n cols\n",
    "# general - # mdp"
   ]
  },
  {
   "cell_type": "code",
   "execution_count": 139,
   "id": "2814361d",
   "metadata": {},
   "outputs": [
    {
     "data": {
      "text/plain": [
       "101.6"
      ]
     },
     "execution_count": 139,
     "metadata": {},
     "output_type": "execute_result"
    }
   ],
   "source": [
    "254*24/60"
   ]
  },
  {
   "cell_type": "code",
   "execution_count": 125,
   "id": "85fbbec6",
   "metadata": {},
   "outputs": [
    {
     "ename": "SyntaxError",
     "evalue": "invalid syntax (2019850167.py, line 1)",
     "output_type": "error",
     "traceback": [
      "\u001b[0;36m  File \u001b[0;32m\"/var/folders/6j/tj0_jn4123ld3w6lbbkzf7g80000gp/T/ipykernel_21172/2019850167.py\"\u001b[0;36m, line \u001b[0;32m1\u001b[0m\n\u001b[0;31m    keep track of mdps\u001b[0m\n\u001b[0m             ^\u001b[0m\n\u001b[0;31mSyntaxError\u001b[0m\u001b[0;31m:\u001b[0m invalid syntax\n"
     ]
    }
   ],
   "source": [
    "keep track of mdps\n",
    "keep track of number of models fit\n",
    "elapsed time\n",
    "accuracy"
   ]
  },
  {
   "cell_type": "code",
   "execution_count": 66,
   "id": "a352e524",
   "metadata": {},
   "outputs": [
    {
     "data": {
      "text/plain": [
       "30.0"
      ]
     },
     "execution_count": 66,
     "metadata": {},
     "output_type": "execute_result"
    }
   ],
   "source": [
    "m"
   ]
  },
  {
   "cell_type": "code",
   "execution_count": 62,
   "id": "f9c9001f",
   "metadata": {},
   "outputs": [
    {
     "ename": "TypeError",
     "evalue": "'int' object is not iterable",
     "output_type": "error",
     "traceback": [
      "\u001b[0;31m---------------------------------------------------------------------------\u001b[0m",
      "\u001b[0;31mTypeError\u001b[0m                                 Traceback (most recent call last)",
      "\u001b[0;32m/var/folders/6j/tj0_jn4123ld3w6lbbkzf7g80000gp/T/ipykernel_21172/4196896643.py\u001b[0m in \u001b[0;36m<module>\u001b[0;34m\u001b[0m\n\u001b[0;32m----> 1\u001b[0;31m \u001b[0mnp\u001b[0m\u001b[0;34m.\u001b[0m\u001b[0mchoose\u001b[0m\u001b[0;34m(\u001b[0m\u001b[0;36m3\u001b[0m\u001b[0;34m,\u001b[0m\u001b[0;36m1\u001b[0m\u001b[0;34m)\u001b[0m\u001b[0;34m\u001b[0m\u001b[0;34m\u001b[0m\u001b[0m\n\u001b[0m",
      "\u001b[0;32m<__array_function__ internals>\u001b[0m in \u001b[0;36mchoose\u001b[0;34m(*args, **kwargs)\u001b[0m\n",
      "\u001b[0;32m~/anaconda3/envs/zhaogcimpute/lib/python3.7/site-packages/numpy/core/fromnumeric.py\u001b[0m in \u001b[0;36m_choose_dispatcher\u001b[0;34m(a, choices, out, mode)\u001b[0m\n\u001b[1;32m    302\u001b[0m \u001b[0;32mdef\u001b[0m \u001b[0m_choose_dispatcher\u001b[0m\u001b[0;34m(\u001b[0m\u001b[0ma\u001b[0m\u001b[0;34m,\u001b[0m \u001b[0mchoices\u001b[0m\u001b[0;34m,\u001b[0m \u001b[0mout\u001b[0m\u001b[0;34m=\u001b[0m\u001b[0;32mNone\u001b[0m\u001b[0;34m,\u001b[0m \u001b[0mmode\u001b[0m\u001b[0;34m=\u001b[0m\u001b[0;32mNone\u001b[0m\u001b[0;34m)\u001b[0m\u001b[0;34m:\u001b[0m\u001b[0;34m\u001b[0m\u001b[0;34m\u001b[0m\u001b[0m\n\u001b[1;32m    303\u001b[0m     \u001b[0;32myield\u001b[0m \u001b[0ma\u001b[0m\u001b[0;34m\u001b[0m\u001b[0;34m\u001b[0m\u001b[0m\n\u001b[0;32m--> 304\u001b[0;31m     \u001b[0;32myield\u001b[0m \u001b[0;32mfrom\u001b[0m \u001b[0mchoices\u001b[0m\u001b[0;34m\u001b[0m\u001b[0;34m\u001b[0m\u001b[0m\n\u001b[0m\u001b[1;32m    305\u001b[0m     \u001b[0;32myield\u001b[0m \u001b[0mout\u001b[0m\u001b[0;34m\u001b[0m\u001b[0;34m\u001b[0m\u001b[0m\n\u001b[1;32m    306\u001b[0m \u001b[0;34m\u001b[0m\u001b[0m\n",
      "\u001b[0;31mTypeError\u001b[0m: 'int' object is not iterable"
     ]
    }
   ],
   "source": [
    "numpy "
   ]
  },
  {
   "cell_type": "code",
   "execution_count": 61,
   "id": "982d67e4",
   "metadata": {},
   "outputs": [
    {
     "data": {
      "text/plain": [
       "array([[0, 0, 3],\n",
       "       [0, 2, 0],\n",
       "       [0, 2, 3],\n",
       "       [1, 0, 0],\n",
       "       [1, 0, 3],\n",
       "       [1, 2, 0]], dtype=uint64)"
      ]
     },
     "execution_count": 61,
     "metadata": {},
     "output_type": "execute_result"
    }
   ],
   "source": [
    "all_miss_vars(X_mask)"
   ]
  },
  {
   "cell_type": "code",
   "execution_count": 60,
   "id": "0ffbda36",
   "metadata": {},
   "outputs": [
    {
     "data": {
      "text/plain": [
       "[array([0, 0, 3], dtype=object),\n",
       " array([0, 2, 0], dtype=object),\n",
       " array([0, 2, 3], dtype=object),\n",
       " array([1, 0, 0], dtype=object),\n",
       " array([1, 0, 3], dtype=object),\n",
       " array([1, 2, 0], dtype=object)]"
      ]
     },
     "execution_count": 60,
     "metadata": {},
     "output_type": "execute_result"
    }
   ],
   "source": [
    "sort_miss_vars_by_increasing_miss_vars(all_miss_vars(X_mask))"
   ]
  },
  {
   "cell_type": "code",
   "execution_count": 68,
   "id": "2def6832",
   "metadata": {},
   "outputs": [],
   "source": [
    "lst = pd.read_pickle('/Users/nshah/work/vcimpute/vcimpute/scripts/experiment3_univariate.pkl')"
   ]
  },
  {
   "cell_type": "code",
   "execution_count": 74,
   "id": "2d364fa6",
   "metadata": {},
   "outputs": [],
   "source": [
    "df = pd.DataFrame([e for a_lst in lst for e in a_lst],  columns=['method', 'seed', 'n_fits', 'n_sims', 'smae', 'elapsed', 'bias'])"
   ]
  },
  {
   "cell_type": "code",
   "execution_count": 77,
   "id": "4b971579",
   "metadata": {},
   "outputs": [
    {
     "data": {
      "text/html": [
       "<div>\n",
       "<style scoped>\n",
       "    .dataframe tbody tr th:only-of-type {\n",
       "        vertical-align: middle;\n",
       "    }\n",
       "\n",
       "    .dataframe tbody tr th {\n",
       "        vertical-align: top;\n",
       "    }\n",
       "\n",
       "    .dataframe thead th {\n",
       "        text-align: right;\n",
       "    }\n",
       "</style>\n",
       "<table border=\"1\" class=\"dataframe\">\n",
       "  <thead>\n",
       "    <tr style=\"text-align: right;\">\n",
       "      <th></th>\n",
       "      <th>method</th>\n",
       "      <th>seed</th>\n",
       "      <th>n_fits</th>\n",
       "      <th>n_sims</th>\n",
       "      <th>smae</th>\n",
       "      <th>elapsed</th>\n",
       "      <th>bias</th>\n",
       "    </tr>\n",
       "  </thead>\n",
       "  <tbody>\n",
       "    <tr>\n",
       "      <th>2</th>\n",
       "      <td>copfit</td>\n",
       "      <td>0</td>\n",
       "      <td>1</td>\n",
       "      <td>3</td>\n",
       "      <td>0.508771</td>\n",
       "      <td>5968564000</td>\n",
       "      <td>0.007761</td>\n",
       "    </tr>\n",
       "    <tr>\n",
       "      <th>6</th>\n",
       "      <td>copfit</td>\n",
       "      <td>1</td>\n",
       "      <td>1</td>\n",
       "      <td>2</td>\n",
       "      <td>0.905874</td>\n",
       "      <td>6140127000</td>\n",
       "      <td>0.005199</td>\n",
       "    </tr>\n",
       "    <tr>\n",
       "      <th>10</th>\n",
       "      <td>copfit</td>\n",
       "      <td>2</td>\n",
       "      <td>1</td>\n",
       "      <td>3</td>\n",
       "      <td>0.378894</td>\n",
       "      <td>5950202000</td>\n",
       "      <td>0.005311</td>\n",
       "    </tr>\n",
       "    <tr>\n",
       "      <th>14</th>\n",
       "      <td>copfit</td>\n",
       "      <td>3</td>\n",
       "      <td>1</td>\n",
       "      <td>3</td>\n",
       "      <td>0.521822</td>\n",
       "      <td>5802320000</td>\n",
       "      <td>0.007491</td>\n",
       "    </tr>\n",
       "    <tr>\n",
       "      <th>18</th>\n",
       "      <td>copfit</td>\n",
       "      <td>4</td>\n",
       "      <td>1</td>\n",
       "      <td>9</td>\n",
       "      <td>0.682469</td>\n",
       "      <td>5321969000</td>\n",
       "      <td>0.010471</td>\n",
       "    </tr>\n",
       "    <tr>\n",
       "      <th>22</th>\n",
       "      <td>copfit</td>\n",
       "      <td>5</td>\n",
       "      <td>1</td>\n",
       "      <td>8</td>\n",
       "      <td>0.910154</td>\n",
       "      <td>4894128000</td>\n",
       "      <td>0.011464</td>\n",
       "    </tr>\n",
       "    <tr>\n",
       "      <th>26</th>\n",
       "      <td>copfit</td>\n",
       "      <td>6</td>\n",
       "      <td>1</td>\n",
       "      <td>2</td>\n",
       "      <td>0.696030</td>\n",
       "      <td>6286318000</td>\n",
       "      <td>0.005857</td>\n",
       "    </tr>\n",
       "    <tr>\n",
       "      <th>30</th>\n",
       "      <td>copfit</td>\n",
       "      <td>7</td>\n",
       "      <td>1</td>\n",
       "      <td>7</td>\n",
       "      <td>0.581230</td>\n",
       "      <td>6079180000</td>\n",
       "      <td>0.007688</td>\n",
       "    </tr>\n",
       "    <tr>\n",
       "      <th>34</th>\n",
       "      <td>copfit</td>\n",
       "      <td>8</td>\n",
       "      <td>1</td>\n",
       "      <td>5</td>\n",
       "      <td>0.260888</td>\n",
       "      <td>5827904000</td>\n",
       "      <td>0.005287</td>\n",
       "    </tr>\n",
       "    <tr>\n",
       "      <th>38</th>\n",
       "      <td>copfit</td>\n",
       "      <td>9</td>\n",
       "      <td>1</td>\n",
       "      <td>2</td>\n",
       "      <td>0.766025</td>\n",
       "      <td>6408760000</td>\n",
       "      <td>0.011374</td>\n",
       "    </tr>\n",
       "  </tbody>\n",
       "</table>\n",
       "</div>"
      ],
      "text/plain": [
       "    method  seed  n_fits  n_sims      smae     elapsed      bias\n",
       "2   copfit     0       1       3  0.508771  5968564000  0.007761\n",
       "6   copfit     1       1       2  0.905874  6140127000  0.005199\n",
       "10  copfit     2       1       3  0.378894  5950202000  0.005311\n",
       "14  copfit     3       1       3  0.521822  5802320000  0.007491\n",
       "18  copfit     4       1       9  0.682469  5321969000  0.010471\n",
       "22  copfit     5       1       8  0.910154  4894128000  0.011464\n",
       "26  copfit     6       1       2  0.696030  6286318000  0.005857\n",
       "30  copfit     7       1       7  0.581230  6079180000  0.007688\n",
       "34  copfit     8       1       5  0.260888  5827904000  0.005287\n",
       "38  copfit     9       1       2  0.766025  6408760000  0.011374"
      ]
     },
     "execution_count": 77,
     "metadata": {},
     "output_type": "execute_result"
    }
   ],
   "source": [
    "df[df['method'] == 'copfit']"
   ]
  },
  {
   "cell_type": "code",
   "execution_count": null,
   "id": "f7e16f11",
   "metadata": {},
   "outputs": [],
   "source": []
  },
  {
   "cell_type": "code",
   "execution_count": 78,
   "id": "556b4f1e",
   "metadata": {},
   "outputs": [
    {
     "data": {
      "text/html": [
       "<div>\n",
       "<style scoped>\n",
       "    .dataframe tbody tr th:only-of-type {\n",
       "        vertical-align: middle;\n",
       "    }\n",
       "\n",
       "    .dataframe tbody tr th {\n",
       "        vertical-align: top;\n",
       "    }\n",
       "\n",
       "    .dataframe thead th {\n",
       "        text-align: right;\n",
       "    }\n",
       "</style>\n",
       "<table border=\"1\" class=\"dataframe\">\n",
       "  <thead>\n",
       "    <tr style=\"text-align: right;\">\n",
       "      <th></th>\n",
       "      <th>method</th>\n",
       "      <th>seed</th>\n",
       "      <th>n_fits</th>\n",
       "      <th>n_sims</th>\n",
       "      <th>smae</th>\n",
       "      <th>elapsed</th>\n",
       "      <th>bias</th>\n",
       "    </tr>\n",
       "  </thead>\n",
       "  <tbody>\n",
       "    <tr>\n",
       "      <th>1</th>\n",
       "      <td>mdpfit</td>\n",
       "      <td>0</td>\n",
       "      <td>4</td>\n",
       "      <td>1</td>\n",
       "      <td>0.199461</td>\n",
       "      <td>21047377000</td>\n",
       "      <td>0.001875</td>\n",
       "    </tr>\n",
       "    <tr>\n",
       "      <th>5</th>\n",
       "      <td>mdpfit</td>\n",
       "      <td>1</td>\n",
       "      <td>4</td>\n",
       "      <td>1</td>\n",
       "      <td>0.870553</td>\n",
       "      <td>21116758000</td>\n",
       "      <td>0.009937</td>\n",
       "    </tr>\n",
       "    <tr>\n",
       "      <th>9</th>\n",
       "      <td>mdpfit</td>\n",
       "      <td>2</td>\n",
       "      <td>4</td>\n",
       "      <td>1</td>\n",
       "      <td>0.185286</td>\n",
       "      <td>20934866000</td>\n",
       "      <td>0.003375</td>\n",
       "    </tr>\n",
       "    <tr>\n",
       "      <th>13</th>\n",
       "      <td>mdpfit</td>\n",
       "      <td>3</td>\n",
       "      <td>4</td>\n",
       "      <td>1</td>\n",
       "      <td>0.180836</td>\n",
       "      <td>21145018000</td>\n",
       "      <td>0.001037</td>\n",
       "    </tr>\n",
       "    <tr>\n",
       "      <th>17</th>\n",
       "      <td>mdpfit</td>\n",
       "      <td>4</td>\n",
       "      <td>4</td>\n",
       "      <td>1</td>\n",
       "      <td>0.115031</td>\n",
       "      <td>21234131000</td>\n",
       "      <td>0.000756</td>\n",
       "    </tr>\n",
       "    <tr>\n",
       "      <th>21</th>\n",
       "      <td>mdpfit</td>\n",
       "      <td>5</td>\n",
       "      <td>4</td>\n",
       "      <td>1</td>\n",
       "      <td>0.142478</td>\n",
       "      <td>21121953000</td>\n",
       "      <td>0.001532</td>\n",
       "    </tr>\n",
       "    <tr>\n",
       "      <th>25</th>\n",
       "      <td>mdpfit</td>\n",
       "      <td>6</td>\n",
       "      <td>4</td>\n",
       "      <td>1</td>\n",
       "      <td>0.891738</td>\n",
       "      <td>21639493000</td>\n",
       "      <td>0.011734</td>\n",
       "    </tr>\n",
       "    <tr>\n",
       "      <th>29</th>\n",
       "      <td>mdpfit</td>\n",
       "      <td>7</td>\n",
       "      <td>4</td>\n",
       "      <td>1</td>\n",
       "      <td>0.440748</td>\n",
       "      <td>20881752000</td>\n",
       "      <td>0.006271</td>\n",
       "    </tr>\n",
       "    <tr>\n",
       "      <th>33</th>\n",
       "      <td>mdpfit</td>\n",
       "      <td>8</td>\n",
       "      <td>4</td>\n",
       "      <td>1</td>\n",
       "      <td>0.078850</td>\n",
       "      <td>21910763000</td>\n",
       "      <td>0.000661</td>\n",
       "    </tr>\n",
       "    <tr>\n",
       "      <th>37</th>\n",
       "      <td>mdpfit</td>\n",
       "      <td>9</td>\n",
       "      <td>4</td>\n",
       "      <td>1</td>\n",
       "      <td>0.863943</td>\n",
       "      <td>21826632000</td>\n",
       "      <td>0.012968</td>\n",
       "    </tr>\n",
       "  </tbody>\n",
       "</table>\n",
       "</div>"
      ],
      "text/plain": [
       "    method  seed  n_fits  n_sims      smae      elapsed      bias\n",
       "1   mdpfit     0       4       1  0.199461  21047377000  0.001875\n",
       "5   mdpfit     1       4       1  0.870553  21116758000  0.009937\n",
       "9   mdpfit     2       4       1  0.185286  20934866000  0.003375\n",
       "13  mdpfit     3       4       1  0.180836  21145018000  0.001037\n",
       "17  mdpfit     4       4       1  0.115031  21234131000  0.000756\n",
       "21  mdpfit     5       4       1  0.142478  21121953000  0.001532\n",
       "25  mdpfit     6       4       1  0.891738  21639493000  0.011734\n",
       "29  mdpfit     7       4       1  0.440748  20881752000  0.006271\n",
       "33  mdpfit     8       4       1  0.078850  21910763000  0.000661\n",
       "37  mdpfit     9       4       1  0.863943  21826632000  0.012968"
      ]
     },
     "execution_count": 78,
     "metadata": {},
     "output_type": "execute_result"
    }
   ],
   "source": [
    "df[df['method'] == 'mdpfit']"
   ]
  }
 ],
 "metadata": {
  "kernelspec": {
   "display_name": "Python 3 (ipykernel)",
   "language": "python",
   "name": "python3"
  },
  "language_info": {
   "codemirror_mode": {
    "name": "ipython",
    "version": 3
   },
   "file_extension": ".py",
   "mimetype": "text/x-python",
   "name": "python",
   "nbconvert_exporter": "python",
   "pygments_lexer": "ipython3",
   "version": "3.7.11"
  }
 },
 "nbformat": 4,
 "nbformat_minor": 5
}
