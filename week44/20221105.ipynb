{
 "cells": [
  {
   "cell_type": "code",
   "execution_count": 83,
   "id": "21e4d3c1",
   "metadata": {},
   "outputs": [],
   "source": [
    "import numpy as np\n",
    "import pandas as pd\n",
    "from matplotlib import pyplot as plt\n",
    "from vcimpute.helper_datagen import make_complete_data_matrix, mask_MCAR\n",
    "from vcimpute.helper_mdp import all_mdps, all_miss_vars, count_missing_by_col, sort_miss_vars_by_increasing_miss_vars, count_missing_by_row"
   ]
  },
  {
   "cell_type": "code",
   "execution_count": 3,
   "id": "9ac64dd6",
   "metadata": {},
   "outputs": [],
   "source": [
    "seed = 0"
   ]
  },
  {
   "cell_type": "code",
   "execution_count": 58,
   "id": "8f7deb5c",
   "metadata": {},
   "outputs": [],
   "source": [
    "X = make_complete_data_matrix(1000, 3, 'gaussian', seed)"
   ]
  },
  {
   "cell_type": "code",
   "execution_count": 9,
   "id": "4857c8cc",
   "metadata": {},
   "outputs": [],
   "source": [
    "X_mask = mask_MCAR(X, 'univariate', 0.1, seed)"
   ]
  },
  {
   "cell_type": "code",
   "execution_count": 29,
   "id": "61377ce1",
   "metadata": {},
   "outputs": [],
   "source": [
    "X_mask = mask_MCAR(X, 'monotone', 0.1, seed, n_cols=5)"
   ]
  },
  {
   "cell_type": "code",
   "execution_count": 30,
   "id": "9962ac3c",
   "metadata": {},
   "outputs": [],
   "source": [
    "# monotone, increase number of missing cols"
   ]
  },
  {
   "cell_type": "code",
   "execution_count": 31,
   "id": "34138c10",
   "metadata": {},
   "outputs": [
    {
     "data": {
      "text/plain": [
       "array([  0,   0, 105, 107,  82, 108,   0,  98,   0,   0])"
      ]
     },
     "execution_count": 31,
     "metadata": {},
     "output_type": "execute_result"
    }
   ],
   "source": [
    "count_missing_by_col(X_mask)"
   ]
  },
  {
   "cell_type": "code",
   "execution_count": 34,
   "id": "cfb564a4",
   "metadata": {},
   "outputs": [],
   "source": [
    "X_mask = mask_MCAR(X, 'general', 0.1, seed)"
   ]
  },
  {
   "cell_type": "code",
   "execution_count": 35,
   "id": "74f0e0d8",
   "metadata": {},
   "outputs": [
    {
     "data": {
      "text/plain": [
       "array([[ 0,  0,  0, ...,  0,  0, 10],\n",
       "       [ 0,  0,  0, ...,  0,  9,  0],\n",
       "       [ 0,  0,  0, ...,  0,  9, 10],\n",
       "       ...,\n",
       "       [ 1,  2,  0, ...,  0,  0,  0],\n",
       "       [ 1,  2,  0, ...,  0,  0,  0],\n",
       "       [ 1,  2,  3, ...,  0,  0,  0]], dtype=uint64)"
      ]
     },
     "execution_count": 35,
     "metadata": {},
     "output_type": "execute_result"
    }
   ],
   "source": [
    "all_miss_vars(X_mask)"
   ]
  },
  {
   "cell_type": "code",
   "execution_count": 41,
   "id": "247cb905",
   "metadata": {},
   "outputs": [
    {
     "data": {
      "text/plain": [
       "114"
      ]
     },
     "execution_count": 41,
     "metadata": {},
     "output_type": "execute_result"
    }
   ],
   "source": [
    "len(all_mdps(X_mask))"
   ]
  },
  {
   "cell_type": "code",
   "execution_count": 40,
   "id": "1cee274a",
   "metadata": {},
   "outputs": [
    {
     "data": {
      "text/plain": [
       "array([101,  95,  98,  94, 109,  91, 102, 110,  96, 104])"
      ]
     },
     "execution_count": 40,
     "metadata": {},
     "output_type": "execute_result"
    }
   ],
   "source": [
    "count_missing_by_col(X_mask)"
   ]
  },
  {
   "cell_type": "code",
   "execution_count": 51,
   "id": "737c52a5",
   "metadata": {},
   "outputs": [
    {
     "data": {
      "text/plain": [
       "array([[0.51877747, 0.49952267, 0.47961353, 0.28588137, 0.38465868],\n",
       "       [0.08183934, 0.38673747, 0.79930499, 0.15599889, 0.66666019],\n",
       "       [0.70914757, 0.70236217, 0.7355197 , 0.97272347, 0.77975731],\n",
       "       ...,\n",
       "       [0.53313907, 0.00853822, 0.99027109, 0.83923679, 0.20904907],\n",
       "       [0.69901654, 0.87648763, 0.09367378, 0.12939391, 0.21235358],\n",
       "       [0.72902856, 0.67775185, 0.66133448, 0.75687729, 0.40727539]])"
      ]
     },
     "execution_count": 51,
     "metadata": {},
     "output_type": "execute_result"
    }
   ],
   "source": []
  },
  {
   "cell_type": "raw",
   "id": "f335be4a",
   "metadata": {},
   "source": [
    "amax = 0\n",
    "for seed in range(1000):\n",
    "    X_mask = mask_MCAR(X, 'general', 0.4, seed)\n",
    "    if len(all_mdps(X_mask)) > amax:\n",
    "        amax= len(all_mdps(X_mask))\n",
    "        print(amax)"
   ]
  },
  {
   "cell_type": "raw",
   "id": "1ca270a5",
   "metadata": {},
   "source": [
    "from scipy.special import comb"
   ]
  },
  {
   "cell_type": "code",
   "execution_count": 65,
   "id": "594d97c0",
   "metadata": {},
   "outputs": [],
   "source": [
    "m = 0\n",
    "for i in range(1,5):\n",
    "    m += comb(5,i)"
   ]
  },
  {
   "cell_type": "code",
   "execution_count": null,
   "id": "9907c95b",
   "metadata": {},
   "outputs": [],
   "source": [
    "# mdps\n",
    "# univariate - 1 \n",
    "# monotonic - # mdps= 1 per n cols\n",
    "# general - # mdp"
   ]
  },
  {
   "cell_type": "code",
   "execution_count": null,
   "id": "66a3a9e8",
   "metadata": {},
   "outputs": [],
   "source": [
    "keep track of mdps\n",
    "keep track of number of models fit\n",
    "elapsed time\n",
    "accuracy"
   ]
  },
  {
   "cell_type": "code",
   "execution_count": 66,
   "id": "d1935888",
   "metadata": {},
   "outputs": [
    {
     "data": {
      "text/plain": [
       "30.0"
      ]
     },
     "execution_count": 66,
     "metadata": {},
     "output_type": "execute_result"
    }
   ],
   "source": [
    "m"
   ]
  },
  {
   "cell_type": "code",
   "execution_count": 62,
   "id": "47085150",
   "metadata": {},
   "outputs": [
    {
     "ename": "TypeError",
     "evalue": "'int' object is not iterable",
     "output_type": "error",
     "traceback": [
      "\u001b[0;31m---------------------------------------------------------------------------\u001b[0m",
      "\u001b[0;31mTypeError\u001b[0m                                 Traceback (most recent call last)",
      "\u001b[0;32m/var/folders/6j/tj0_jn4123ld3w6lbbkzf7g80000gp/T/ipykernel_21172/4196896643.py\u001b[0m in \u001b[0;36m<module>\u001b[0;34m\u001b[0m\n\u001b[0;32m----> 1\u001b[0;31m \u001b[0mnp\u001b[0m\u001b[0;34m.\u001b[0m\u001b[0mchoose\u001b[0m\u001b[0;34m(\u001b[0m\u001b[0;36m3\u001b[0m\u001b[0;34m,\u001b[0m\u001b[0;36m1\u001b[0m\u001b[0;34m)\u001b[0m\u001b[0;34m\u001b[0m\u001b[0;34m\u001b[0m\u001b[0m\n\u001b[0m",
      "\u001b[0;32m<__array_function__ internals>\u001b[0m in \u001b[0;36mchoose\u001b[0;34m(*args, **kwargs)\u001b[0m\n",
      "\u001b[0;32m~/anaconda3/envs/zhaogcimpute/lib/python3.7/site-packages/numpy/core/fromnumeric.py\u001b[0m in \u001b[0;36m_choose_dispatcher\u001b[0;34m(a, choices, out, mode)\u001b[0m\n\u001b[1;32m    302\u001b[0m \u001b[0;32mdef\u001b[0m \u001b[0m_choose_dispatcher\u001b[0m\u001b[0;34m(\u001b[0m\u001b[0ma\u001b[0m\u001b[0;34m,\u001b[0m \u001b[0mchoices\u001b[0m\u001b[0;34m,\u001b[0m \u001b[0mout\u001b[0m\u001b[0;34m=\u001b[0m\u001b[0;32mNone\u001b[0m\u001b[0;34m,\u001b[0m \u001b[0mmode\u001b[0m\u001b[0;34m=\u001b[0m\u001b[0;32mNone\u001b[0m\u001b[0;34m)\u001b[0m\u001b[0;34m:\u001b[0m\u001b[0;34m\u001b[0m\u001b[0;34m\u001b[0m\u001b[0m\n\u001b[1;32m    303\u001b[0m     \u001b[0;32myield\u001b[0m \u001b[0ma\u001b[0m\u001b[0;34m\u001b[0m\u001b[0;34m\u001b[0m\u001b[0m\n\u001b[0;32m--> 304\u001b[0;31m     \u001b[0;32myield\u001b[0m \u001b[0;32mfrom\u001b[0m \u001b[0mchoices\u001b[0m\u001b[0;34m\u001b[0m\u001b[0;34m\u001b[0m\u001b[0m\n\u001b[0m\u001b[1;32m    305\u001b[0m     \u001b[0;32myield\u001b[0m \u001b[0mout\u001b[0m\u001b[0;34m\u001b[0m\u001b[0;34m\u001b[0m\u001b[0m\n\u001b[1;32m    306\u001b[0m \u001b[0;34m\u001b[0m\u001b[0m\n",
      "\u001b[0;31mTypeError\u001b[0m: 'int' object is not iterable"
     ]
    }
   ],
   "source": [
    "numpy "
   ]
  },
  {
   "cell_type": "code",
   "execution_count": 61,
   "id": "bf28dbd9",
   "metadata": {},
   "outputs": [
    {
     "data": {
      "text/plain": [
       "array([[0, 0, 3],\n",
       "       [0, 2, 0],\n",
       "       [0, 2, 3],\n",
       "       [1, 0, 0],\n",
       "       [1, 0, 3],\n",
       "       [1, 2, 0]], dtype=uint64)"
      ]
     },
     "execution_count": 61,
     "metadata": {},
     "output_type": "execute_result"
    }
   ],
   "source": [
    "all_miss_vars(X_mask)"
   ]
  },
  {
   "cell_type": "code",
   "execution_count": 60,
   "id": "dccee20b",
   "metadata": {},
   "outputs": [
    {
     "data": {
      "text/plain": [
       "[array([0, 0, 3], dtype=object),\n",
       " array([0, 2, 0], dtype=object),\n",
       " array([0, 2, 3], dtype=object),\n",
       " array([1, 0, 0], dtype=object),\n",
       " array([1, 0, 3], dtype=object),\n",
       " array([1, 2, 0], dtype=object)]"
      ]
     },
     "execution_count": 60,
     "metadata": {},
     "output_type": "execute_result"
    }
   ],
   "source": [
    "sort_miss_vars_by_increasing_miss_vars(all_miss_vars(X_mask))"
   ]
  },
  {
   "cell_type": "code",
   "execution_count": 68,
   "id": "6391db33",
   "metadata": {},
   "outputs": [],
   "source": [
    "lst = pd.read_pickle('/Users/nshah/work/vcimpute/vcimpute/scripts/experiment3_univariate.pkl')"
   ]
  },
  {
   "cell_type": "code",
   "execution_count": 74,
   "id": "da2a8431",
   "metadata": {},
   "outputs": [],
   "source": [
    "df = pd.DataFrame([e for a_lst in lst for e in a_lst],  columns=['method', 'seed', 'n_fits', 'n_sims', 'smae', 'elapsed', 'bias'])"
   ]
  },
  {
   "cell_type": "code",
   "execution_count": 77,
   "id": "3f4f8b1c",
   "metadata": {},
   "outputs": [
    {
     "data": {
      "text/html": [
       "<div>\n",
       "<style scoped>\n",
       "    .dataframe tbody tr th:only-of-type {\n",
       "        vertical-align: middle;\n",
       "    }\n",
       "\n",
       "    .dataframe tbody tr th {\n",
       "        vertical-align: top;\n",
       "    }\n",
       "\n",
       "    .dataframe thead th {\n",
       "        text-align: right;\n",
       "    }\n",
       "</style>\n",
       "<table border=\"1\" class=\"dataframe\">\n",
       "  <thead>\n",
       "    <tr style=\"text-align: right;\">\n",
       "      <th></th>\n",
       "      <th>method</th>\n",
       "      <th>seed</th>\n",
       "      <th>n_fits</th>\n",
       "      <th>n_sims</th>\n",
       "      <th>smae</th>\n",
       "      <th>elapsed</th>\n",
       "      <th>bias</th>\n",
       "    </tr>\n",
       "  </thead>\n",
       "  <tbody>\n",
       "    <tr>\n",
       "      <th>2</th>\n",
       "      <td>copfit</td>\n",
       "      <td>0</td>\n",
       "      <td>1</td>\n",
       "      <td>3</td>\n",
       "      <td>0.508771</td>\n",
       "      <td>5968564000</td>\n",
       "      <td>0.007761</td>\n",
       "    </tr>\n",
       "    <tr>\n",
       "      <th>6</th>\n",
       "      <td>copfit</td>\n",
       "      <td>1</td>\n",
       "      <td>1</td>\n",
       "      <td>2</td>\n",
       "      <td>0.905874</td>\n",
       "      <td>6140127000</td>\n",
       "      <td>0.005199</td>\n",
       "    </tr>\n",
       "    <tr>\n",
       "      <th>10</th>\n",
       "      <td>copfit</td>\n",
       "      <td>2</td>\n",
       "      <td>1</td>\n",
       "      <td>3</td>\n",
       "      <td>0.378894</td>\n",
       "      <td>5950202000</td>\n",
       "      <td>0.005311</td>\n",
       "    </tr>\n",
       "    <tr>\n",
       "      <th>14</th>\n",
       "      <td>copfit</td>\n",
       "      <td>3</td>\n",
       "      <td>1</td>\n",
       "      <td>3</td>\n",
       "      <td>0.521822</td>\n",
       "      <td>5802320000</td>\n",
       "      <td>0.007491</td>\n",
       "    </tr>\n",
       "    <tr>\n",
       "      <th>18</th>\n",
       "      <td>copfit</td>\n",
       "      <td>4</td>\n",
       "      <td>1</td>\n",
       "      <td>9</td>\n",
       "      <td>0.682469</td>\n",
       "      <td>5321969000</td>\n",
       "      <td>0.010471</td>\n",
       "    </tr>\n",
       "    <tr>\n",
       "      <th>22</th>\n",
       "      <td>copfit</td>\n",
       "      <td>5</td>\n",
       "      <td>1</td>\n",
       "      <td>8</td>\n",
       "      <td>0.910154</td>\n",
       "      <td>4894128000</td>\n",
       "      <td>0.011464</td>\n",
       "    </tr>\n",
       "    <tr>\n",
       "      <th>26</th>\n",
       "      <td>copfit</td>\n",
       "      <td>6</td>\n",
       "      <td>1</td>\n",
       "      <td>2</td>\n",
       "      <td>0.696030</td>\n",
       "      <td>6286318000</td>\n",
       "      <td>0.005857</td>\n",
       "    </tr>\n",
       "    <tr>\n",
       "      <th>30</th>\n",
       "      <td>copfit</td>\n",
       "      <td>7</td>\n",
       "      <td>1</td>\n",
       "      <td>7</td>\n",
       "      <td>0.581230</td>\n",
       "      <td>6079180000</td>\n",
       "      <td>0.007688</td>\n",
       "    </tr>\n",
       "    <tr>\n",
       "      <th>34</th>\n",
       "      <td>copfit</td>\n",
       "      <td>8</td>\n",
       "      <td>1</td>\n",
       "      <td>5</td>\n",
       "      <td>0.260888</td>\n",
       "      <td>5827904000</td>\n",
       "      <td>0.005287</td>\n",
       "    </tr>\n",
       "    <tr>\n",
       "      <th>38</th>\n",
       "      <td>copfit</td>\n",
       "      <td>9</td>\n",
       "      <td>1</td>\n",
       "      <td>2</td>\n",
       "      <td>0.766025</td>\n",
       "      <td>6408760000</td>\n",
       "      <td>0.011374</td>\n",
       "    </tr>\n",
       "  </tbody>\n",
       "</table>\n",
       "</div>"
      ],
      "text/plain": [
       "    method  seed  n_fits  n_sims      smae     elapsed      bias\n",
       "2   copfit     0       1       3  0.508771  5968564000  0.007761\n",
       "6   copfit     1       1       2  0.905874  6140127000  0.005199\n",
       "10  copfit     2       1       3  0.378894  5950202000  0.005311\n",
       "14  copfit     3       1       3  0.521822  5802320000  0.007491\n",
       "18  copfit     4       1       9  0.682469  5321969000  0.010471\n",
       "22  copfit     5       1       8  0.910154  4894128000  0.011464\n",
       "26  copfit     6       1       2  0.696030  6286318000  0.005857\n",
       "30  copfit     7       1       7  0.581230  6079180000  0.007688\n",
       "34  copfit     8       1       5  0.260888  5827904000  0.005287\n",
       "38  copfit     9       1       2  0.766025  6408760000  0.011374"
      ]
     },
     "execution_count": 77,
     "metadata": {},
     "output_type": "execute_result"
    }
   ],
   "source": [
    "df[df['method'] == 'copfit']"
   ]
  },
  {
   "cell_type": "code",
   "execution_count": null,
   "id": "5523c3ed",
   "metadata": {},
   "outputs": [],
   "source": []
  },
  {
   "cell_type": "code",
   "execution_count": 88,
   "id": "15e33bee",
   "metadata": {},
   "outputs": [
    {
     "data": {
      "text/plain": [
       "{0: 206, 1: 450, 2: 344}"
      ]
     },
     "execution_count": 88,
     "metadata": {},
     "output_type": "execute_result"
    }
   ],
   "source": []
  },
  {
   "cell_type": "code",
   "execution_count": 78,
   "id": "e86e9052",
   "metadata": {},
   "outputs": [
    {
     "data": {
      "text/html": [
       "<div>\n",
       "<style scoped>\n",
       "    .dataframe tbody tr th:only-of-type {\n",
       "        vertical-align: middle;\n",
       "    }\n",
       "\n",
       "    .dataframe tbody tr th {\n",
       "        vertical-align: top;\n",
       "    }\n",
       "\n",
       "    .dataframe thead th {\n",
       "        text-align: right;\n",
       "    }\n",
       "</style>\n",
       "<table border=\"1\" class=\"dataframe\">\n",
       "  <thead>\n",
       "    <tr style=\"text-align: right;\">\n",
       "      <th></th>\n",
       "      <th>method</th>\n",
       "      <th>seed</th>\n",
       "      <th>n_fits</th>\n",
       "      <th>n_sims</th>\n",
       "      <th>smae</th>\n",
       "      <th>elapsed</th>\n",
       "      <th>bias</th>\n",
       "    </tr>\n",
       "  </thead>\n",
       "  <tbody>\n",
       "    <tr>\n",
       "      <th>1</th>\n",
       "      <td>mdpfit</td>\n",
       "      <td>0</td>\n",
       "      <td>4</td>\n",
       "      <td>1</td>\n",
       "      <td>0.199461</td>\n",
       "      <td>21047377000</td>\n",
       "      <td>0.001875</td>\n",
       "    </tr>\n",
       "    <tr>\n",
       "      <th>5</th>\n",
       "      <td>mdpfit</td>\n",
       "      <td>1</td>\n",
       "      <td>4</td>\n",
       "      <td>1</td>\n",
       "      <td>0.870553</td>\n",
       "      <td>21116758000</td>\n",
       "      <td>0.009937</td>\n",
       "    </tr>\n",
       "    <tr>\n",
       "      <th>9</th>\n",
       "      <td>mdpfit</td>\n",
       "      <td>2</td>\n",
       "      <td>4</td>\n",
       "      <td>1</td>\n",
       "      <td>0.185286</td>\n",
       "      <td>20934866000</td>\n",
       "      <td>0.003375</td>\n",
       "    </tr>\n",
       "    <tr>\n",
       "      <th>13</th>\n",
       "      <td>mdpfit</td>\n",
       "      <td>3</td>\n",
       "      <td>4</td>\n",
       "      <td>1</td>\n",
       "      <td>0.180836</td>\n",
       "      <td>21145018000</td>\n",
       "      <td>0.001037</td>\n",
       "    </tr>\n",
       "    <tr>\n",
       "      <th>17</th>\n",
       "      <td>mdpfit</td>\n",
       "      <td>4</td>\n",
       "      <td>4</td>\n",
       "      <td>1</td>\n",
       "      <td>0.115031</td>\n",
       "      <td>21234131000</td>\n",
       "      <td>0.000756</td>\n",
       "    </tr>\n",
       "    <tr>\n",
       "      <th>21</th>\n",
       "      <td>mdpfit</td>\n",
       "      <td>5</td>\n",
       "      <td>4</td>\n",
       "      <td>1</td>\n",
       "      <td>0.142478</td>\n",
       "      <td>21121953000</td>\n",
       "      <td>0.001532</td>\n",
       "    </tr>\n",
       "    <tr>\n",
       "      <th>25</th>\n",
       "      <td>mdpfit</td>\n",
       "      <td>6</td>\n",
       "      <td>4</td>\n",
       "      <td>1</td>\n",
       "      <td>0.891738</td>\n",
       "      <td>21639493000</td>\n",
       "      <td>0.011734</td>\n",
       "    </tr>\n",
       "    <tr>\n",
       "      <th>29</th>\n",
       "      <td>mdpfit</td>\n",
       "      <td>7</td>\n",
       "      <td>4</td>\n",
       "      <td>1</td>\n",
       "      <td>0.440748</td>\n",
       "      <td>20881752000</td>\n",
       "      <td>0.006271</td>\n",
       "    </tr>\n",
       "    <tr>\n",
       "      <th>33</th>\n",
       "      <td>mdpfit</td>\n",
       "      <td>8</td>\n",
       "      <td>4</td>\n",
       "      <td>1</td>\n",
       "      <td>0.078850</td>\n",
       "      <td>21910763000</td>\n",
       "      <td>0.000661</td>\n",
       "    </tr>\n",
       "    <tr>\n",
       "      <th>37</th>\n",
       "      <td>mdpfit</td>\n",
       "      <td>9</td>\n",
       "      <td>4</td>\n",
       "      <td>1</td>\n",
       "      <td>0.863943</td>\n",
       "      <td>21826632000</td>\n",
       "      <td>0.012968</td>\n",
       "    </tr>\n",
       "  </tbody>\n",
       "</table>\n",
       "</div>"
      ],
      "text/plain": [
       "    method  seed  n_fits  n_sims      smae      elapsed      bias\n",
       "1   mdpfit     0       4       1  0.199461  21047377000  0.001875\n",
       "5   mdpfit     1       4       1  0.870553  21116758000  0.009937\n",
       "9   mdpfit     2       4       1  0.185286  20934866000  0.003375\n",
       "13  mdpfit     3       4       1  0.180836  21145018000  0.001037\n",
       "17  mdpfit     4       4       1  0.115031  21234131000  0.000756\n",
       "21  mdpfit     5       4       1  0.142478  21121953000  0.001532\n",
       "25  mdpfit     6       4       1  0.891738  21639493000  0.011734\n",
       "29  mdpfit     7       4       1  0.440748  20881752000  0.006271\n",
       "33  mdpfit     8       4       1  0.078850  21910763000  0.000661\n",
       "37  mdpfit     9       4       1  0.863943  21826632000  0.012968"
      ]
     },
     "execution_count": 78,
     "metadata": {},
     "output_type": "execute_result"
    }
   ],
   "source": [
    "df[df['method'] == 'mdpfit']"
   ]
  }
 ],
 "metadata": {
  "kernelspec": {
   "display_name": "Python 3 (ipykernel)",
   "language": "python",
   "name": "python3"
  },
  "language_info": {
   "codemirror_mode": {
    "name": "ipython",
    "version": 3
   },
   "file_extension": ".py",
   "mimetype": "text/x-python",
   "name": "python",
   "nbconvert_exporter": "python",
   "pygments_lexer": "ipython3",
   "version": "3.7.11"
  }
 },
 "nbformat": 4,
 "nbformat_minor": 5
}
