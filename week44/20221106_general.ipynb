{
 "cells": [
  {
   "cell_type": "code",
   "execution_count": 1,
   "id": "1d0257fa",
   "metadata": {},
   "outputs": [],
   "source": [
    "import numpy as np\n",
    "import pandas as pd\n",
    "from sklearn.linear_model import LinearRegression\n",
    "\n",
    "from matplotlib import pyplot as plt"
   ]
  },
  {
   "cell_type": "code",
   "execution_count": 2,
   "id": "f3a45a36",
   "metadata": {},
   "outputs": [],
   "source": [
    "dat = pd.read_pickle('/Users/nshah/work/vcimpute/data/experiment3_general.pkl')"
   ]
  },
  {
   "cell_type": "code",
   "execution_count": 3,
   "id": "c42abb31",
   "metadata": {},
   "outputs": [],
   "source": [
    "df = pd.DataFrame(\n",
    "    [e for lst in dat for e in lst],\n",
    "    columns=['method', 'seed', 'n_fits', 'n_inference', 'mdps', 'cc', 'smae', 'elapsed_ns', 'bias']\n",
    ")"
   ]
  },
  {
   "cell_type": "code",
   "execution_count": 4,
   "id": "27c65adb",
   "metadata": {},
   "outputs": [],
   "source": [
    "df['elapsed_s'] = df['elapsed_ns'] / int(1e9)"
   ]
  },
  {
   "cell_type": "code",
   "execution_count": 5,
   "id": "15ab5663",
   "metadata": {},
   "outputs": [],
   "source": [
    "df['n_inference'] = np.where(df['method'] =='gcimpute', df['mdps'], df['n_inference'])"
   ]
  },
  {
   "cell_type": "code",
   "execution_count": 45,
   "id": "6133a138",
   "metadata": {},
   "outputs": [
    {
     "name": "stdout",
     "output_type": "stream",
     "text": [
      "\\begin{tabular}{llrrrrr}\n",
      "\\toprule\n",
      "       &    &  smae &  bias &  elapsed\\_s &  n\\_fits &  n\\_inference \\\\\n",
      "method & mdps &       &       &            &         &              \\\\\n",
      "\\midrule\n",
      "copfit & 20 &  0.84 &  0.02 &       8.06 &    1.00 &        81.15 \\\\\n",
      "copreg & 20 &  0.79 &  0.02 &      43.16 &   40.00 &        40.00 \\\\\n",
      "gcimpute & 20 &  0.58 &  0.03 &       0.26 &    1.00 &        20.00 \\\\\n",
      "mdpfit & 20 &  0.87 &  0.03 &      21.96 &   19.40 &        20.00 \\\\\n",
      "\\bottomrule\n",
      "\\end{tabular}\n",
      "\n"
     ]
    }
   ],
   "source": [
    "print(df.groupby(['method', 'mdps'])[['smae', 'bias', 'elapsed_s', 'n_fits', 'n_inference']].mean().to_latex(float_format=\"{:0.2f}\".format))"
   ]
  },
  {
   "cell_type": "code",
   "execution_count": 7,
   "id": "8c032cfb",
   "metadata": {},
   "outputs": [
    {
     "data": {
      "text/plain": [
       "method    mdps  n_fits  n_inference\n",
       "copfit    20    1       69              7.974159\n",
       "                        72              7.926812\n",
       "                        73              7.800724\n",
       "                        74              7.929799\n",
       "                        75              7.899603\n",
       "                        76              7.979371\n",
       "                        77              7.984864\n",
       "                        78              7.991166\n",
       "                        79              7.971714\n",
       "                        80              8.038370\n",
       "                        81              8.052773\n",
       "                        82              8.087135\n",
       "                        83              8.116863\n",
       "                        84              8.108318\n",
       "                        85              8.158554\n",
       "                        86              8.117565\n",
       "                        87              8.214059\n",
       "                        88              8.198533\n",
       "                        89              8.388743\n",
       "                        90              8.365268\n",
       "                        91              8.109719\n",
       "                        92              9.361829\n",
       "copreg    20    40      40             43.164301\n",
       "gcimpute  20    1       20              0.256677\n",
       "mdpfit    20    11      20             12.252898\n",
       "                15      20             17.029656\n",
       "                18      20             20.306244\n",
       "                19      20             21.823403\n",
       "                20      20             22.465245\n",
       "                22      20             25.093881\n",
       "                23      20             25.783895\n",
       "                24      20             27.314393\n",
       "                27      20             30.539277\n",
       "                28      20             31.889572\n",
       "Name: elapsed_s, dtype: float64"
      ]
     },
     "execution_count": 7,
     "metadata": {},
     "output_type": "execute_result"
    }
   ],
   "source": [
    "df.groupby(['method', 'mdps','n_fits','n_inference'])['elapsed_s'].mean()"
   ]
  },
  {
   "cell_type": "code",
   "execution_count": 41,
   "id": "1614fd00",
   "metadata": {},
   "outputs": [
    {
     "data": {
      "image/png": "[encoded data removed]",
      "text/plain": [
       "<Figure size 432x288 with 2 Axes>"
      ]
     },
     "metadata": {
      "needs_background": "light"
     },
     "output_type": "display_data"
    }
   ],
   "source": [
    "srs1 = df[df['method'] == 'copfit'].groupby('n_inference')['elapsed_s'].mean()\n",
    "srs2 = df[df['method'] == 'copfit'].groupby('n_inference')['elapsed_s'].count()\n",
    "fig, ax = plt.subplots(2,1,sharex=True)\n",
    "ax[0].plot(srs1.index, srs1.values, c='k', alpha=0.8)\n",
    "ax[0].set_ylabel('elapsed (s)')\n",
    "ax[1].bar(srs2.index, srs2.values, color='k', alpha=0.8)\n",
    "ax[1].set_ylabel('samples')\n",
    "plt.xlabel('num inferences')\n",
    "ax[0].set_title('copfit elapsed (s) by num inferences')\n",
    "plt.xlim([srs1.index.min()-1, srs1.index.max()+1])\n",
    "plt.tight_layout()\n",
    "plt.savefig('copfit5d.png', dpi=300)"
   ]
  },
  {
   "cell_type": "code",
   "execution_count": 42,
   "id": "392e1fa8",
   "metadata": {},
   "outputs": [
    {
     "data": {
      "image/png": "[encoded data removed]",
      "text/plain": [
       "<Figure size 432x288 with 2 Axes>"
      ]
     },
     "metadata": {
      "needs_background": "light"
     },
     "output_type": "display_data"
    }
   ],
   "source": [
    "import matplotlib.ticker as mticker\n",
    "\n",
    "srs1 = df[df['method'] == 'mdpfit'].groupby('n_fits')['elapsed_s'].mean()\n",
    "srs2 = df[df['method'] == 'mdpfit'].groupby('n_fits')['elapsed_s'].count()\n",
    "fig, ax = plt.subplots(2,1, sharex=True)\n",
    "ax[0].plot(srs1.index, srs1.values, color='k', alpha=0.8)\n",
    "ax[0].set_ylabel('elapsed (s)')\n",
    "ax[1].bar(srs2.index, srs2.values, color='k', alpha=0.8)\n",
    "ax[1].set_ylabel('samples')\n",
    "ax[0].xaxis.set_major_locator(mticker.MultipleLocator(2))\n",
    "ax[1].xaxis.set_major_locator(mticker.MultipleLocator(2))\n",
    "plt.xlabel('num fits')\n",
    "ax[0].set_title('mdpfit elapsed (s) by num fits')\n",
    "plt.xlim([srs1.index.min()-1, srs1.index.max()+1])\n",
    "plt.tight_layout()\n",
    "plt.savefig('mdpfit5d.png', dpi=300)"
   ]
  },
  {
   "cell_type": "raw",
   "id": "170de48c",
   "metadata": {},
   "source": [
    "plt.plot(srs.index,srs.values)\n",
    "plt.plot(srs.index,srs.index*1.15)\n",
    "model =LinearRegression()\n",
    "model.fit(np.array(srs.index[:,None]), srs.values[:,None])"
   ]
  }
 ],
 "metadata": {
  "kernelspec": {
   "display_name": "Python 3 (ipykernel)",
   "language": "python",
   "name": "python3"
  },
  "language_info": {
   "codemirror_mode": {
    "name": "ipython",
    "version": 3
   },
   "file_extension": ".py",
   "mimetype": "text/x-python",
   "name": "python",
   "nbconvert_exporter": "python",
   "pygments_lexer": "ipython3",
   "version": "3.7.11"
  }
 },
 "nbformat": 4,
 "nbformat_minor": 5
}
