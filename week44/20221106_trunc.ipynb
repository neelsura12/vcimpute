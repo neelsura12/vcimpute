{
 "cells": [
  {
   "cell_type": "code",
   "execution_count": 9,
   "id": "7fe97289",
   "metadata": {},
   "outputs": [],
   "source": [
    "import numpy as np\n",
    "import pyvinecopulib as pv\n",
    "from vcimpute.helper_datagen import make_complete_data_matrix, mask_MCAR\n",
    "from gcimpute.helper_evaluation import get_smae\n",
    "from vcimpute.zeisberger import VineCopFit,VineCopReg\n",
    "from vcimpute.sakuth import VineMdpFit\n",
    "from gcimpute.gaussian_copula import GaussianCopula"
   ]
  },
  {
   "cell_type": "code",
   "execution_count": 10,
   "id": "76937fe4",
   "metadata": {},
   "outputs": [],
   "source": [
    "X = make_complete_data_matrix(10000,100,'gaussian',0)\n",
    "X_mask = mask_MCAR(X, 'monotone', .25, 0, n_cols=50)"
   ]
  },
  {
   "cell_type": "code",
   "execution_count": 11,
   "id": "67762ea7",
   "metadata": {},
   "outputs": [],
   "source": [
    "n = 1000\n",
    "d = 10\n",
    "num_threads = 10\n",
    "copula_type = 'gaussian'\n",
    "vine_structure = 'R'"
   ]
  },
  {
   "cell_type": "code",
   "execution_count": 12,
   "id": "dab0559c",
   "metadata": {},
   "outputs": [],
   "source": [
    "seed = 0"
   ]
  },
  {
   "cell_type": "code",
   "execution_count": 13,
   "id": "c9f82e83",
   "metadata": {},
   "outputs": [],
   "source": [
    "model_lst = [\n",
    "    ('gcimpute', GaussianCopula()),\n",
    "    ('mdpfit', VineMdpFit(copula_type, num_threads, seed)),\n",
    "    ('copfit', VineCopFit(copula_type, num_threads, True, seed)),\n",
    "    ('copreg', VineCopReg(copula_type, num_threads, vine_structure, True, seed)),\n",
    "    ('mdpfit2', VineMdpFit(copula_type, num_threads, seed, True)),\n",
    "    ('copfit2', VineCopFit(copula_type, num_threads, True, seed, True)),\n",
    "    ('copreg2', VineCopReg(copula_type, num_threads, vine_structure, True, seed, True)),\n",
    "]"
   ]
  },
  {
   "cell_type": "code",
   "execution_count": null,
   "id": "24a46f5b",
   "metadata": {},
   "outputs": [],
   "source": [
    "for tag, model in model_lst:\n",
    "    X_imp = model.fit_transform(X_mask)\n",
    "    print(tag,np.nanmean(get_smae(X_imp, X, X_mask)))"
   ]
  },
  {
   "cell_type": "raw",
   "id": "84b30f7f",
   "metadata": {},
   "source": [
    "# try mi\n",
    "\n",
    "X = make_complete_data_matrix(1000,5,'gaussian',0)\n",
    "X_mask = mask_MCAR(X, 'monotone', .1, 0, n_cols=3)\n",
    "\n",
    "from vcimpute.helper_mdp import all_mdps,count_missing_by_col\n",
    "\n",
    "controls = pv.FitControlsVinecop(family_set=[pv.BicopFamily.gaussian])\n",
    "\n",
    "cop = pv.Vinecop(d=X_mask.shape[1])\n",
    "cop.select(X_mask, controls)\n",
    "\n",
    "cop.rosenblatt\n",
    "\n",
    "count_missing_by_col(X_mask)\n",
    "\n",
    "coun\n",
    "        miss_vars = np.array(miss_vars, dtype='uint64')\n",
    "        miss_idx = miss_vars - 1\n",
    "        mdp = np.zeros(shape=(self.d,), dtype='bool')\n",
    "        mdp[miss_idx] = True\n",
    "        miss_rows = mdp_coords(self.X_imp, mdp)\n",
    "\n",
    "        rb = cop.rosenblatt(self.X_imp[miss_rows])\n",
    "        rb[np.isnan(rb)] = np.random.uniform(size=np.count_nonzero(np.isnan(rb)))\n",
    "        irb = cop.inverse_rosenblatt(rb)\n",
    "        for i in range(len(miss_rows)):\n",
    "            X_imp[miss_rows[i], miss_idx] = irb[i, miss_idx]\n",
    "\n",
    "\n",
    "get_smae(X_mask)\n",
    "\n",
    "\n",
    "\n",
    "controls = pv.FitControlsVinecop(family_set=[pv.BicopFamily.gaussian])\n",
    "# controls = pv.FitControlsVinecop(family_set=[pv.BicopFamily.gaussian],select_trunc_level=True)\n",
    "# controls = pv.FitControlsVinecop(family_set=[pv.BicopFamily.gaussian], select_threshold=True)\n",
    "\n",
    "cop = pv.Vinecop(d=10)\n",
    "cop.select(X_mask, controls)\n",
    "\n",
    "cop\n",
    "\n",
    "cop.trunc_lvl\n",
    "\n",
    "cop\n",
    "\n"
   ]
  }
 ],
 "metadata": {
  "kernelspec": {
   "display_name": "Python 3 (ipykernel)",
   "language": "python",
   "name": "python3"
  },
  "language_info": {
   "codemirror_mode": {
    "name": "ipython",
    "version": 3
   },
   "file_extension": ".py",
   "mimetype": "text/x-python",
   "name": "python",
   "nbconvert_exporter": "python",
   "pygments_lexer": "ipython3",
   "version": "3.7.11"
  }
 },
 "nbformat": 4,
 "nbformat_minor": 5
}
