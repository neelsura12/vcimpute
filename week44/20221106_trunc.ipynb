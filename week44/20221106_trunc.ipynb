{
 "cells": [
  {
   "cell_type": "code",
   "execution_count": 1,
   "id": "62c1c6d2",
   "metadata": {},
   "outputs": [],
   "source": [
    "import pyvinecopulib as pv"
   ]
  },
  {
   "cell_type": "code",
   "execution_count": 2,
   "id": "c9381035",
   "metadata": {},
   "outputs": [],
   "source": [
    "from vcimpute.helper_datagen import make_complete_data_matrix, mask_MCAR"
   ]
  },
  {
   "cell_type": "code",
   "execution_count": 20,
   "id": "7934488f",
   "metadata": {},
   "outputs": [],
   "source": [
    "X = make_complete_data_matrix(1000,10,'gaussian',0)"
   ]
  },
  {
   "cell_type": "code",
   "execution_count": 21,
   "id": "268a99eb",
   "metadata": {},
   "outputs": [],
   "source": [
    "X_mask = mask_MCAR(X, 'general', .25, seed=0)"
   ]
  },
  {
   "cell_type": "code",
   "execution_count": 29,
   "id": "2ad55c7b",
   "metadata": {},
   "outputs": [],
   "source": [
    "from gcimpute.helper_evaluation import get_smae"
   ]
  },
  {
   "cell_type": "code",
   "execution_count": null,
   "id": "bdff6199",
   "metadata": {},
   "outputs": [],
   "source": [
    "from vcimpute.zeisberger import Cop"
   ]
  },
  {
   "cell_type": "code",
   "execution_count": null,
   "id": "3318ec70",
   "metadata": {},
   "outputs": [],
   "source": [
    "X_imp"
   ]
  },
  {
   "cell_type": "code",
   "execution_count": null,
   "id": "b992ae62",
   "metadata": {},
   "outputs": [],
   "source": [
    "get_smae(X_mask)"
   ]
  },
  {
   "cell_type": "raw",
   "id": "46134f5c",
   "metadata": {},
   "source": [
    "controls = pv.FitControlsVinecop(family_set=[pv.BicopFamily.gaussian])\n",
    "# controls = pv.FitControlsVinecop(family_set=[pv.BicopFamily.gaussian],select_trunc_level=True)\n",
    "# controls = pv.FitControlsVinecop(family_set=[pv.BicopFamily.gaussian], select_threshold=True)"
   ]
  },
  {
   "cell_type": "raw",
   "id": "a6110456",
   "metadata": {},
   "source": [
    "cop = pv.Vinecop(d=10)\n",
    "cop.select(X_mask, controls)"
   ]
  },
  {
   "cell_type": "raw",
   "id": "e7872f35",
   "metadata": {},
   "source": [
    "cop"
   ]
  },
  {
   "cell_type": "raw",
   "id": "af2eeaf8",
   "metadata": {},
   "source": [
    "cop.trunc_lvl"
   ]
  },
  {
   "cell_type": "raw",
   "id": "15296280",
   "metadata": {},
   "source": [
    "cop"
   ]
  },
  {
   "cell_type": "code",
   "execution_count": null,
   "id": "fc128cb7",
   "metadata": {},
   "outputs": [],
   "source": []
  }
 ],
 "metadata": {
  "kernelspec": {
   "display_name": "Python 3 (ipykernel)",
   "language": "python",
   "name": "python3"
  },
  "language_info": {
   "codemirror_mode": {
    "name": "ipython",
    "version": 3
   },
   "file_extension": ".py",
   "mimetype": "text/x-python",
   "name": "python",
   "nbconvert_exporter": "python",
   "pygments_lexer": "ipython3",
   "version": "3.7.11"
  }
 },
 "nbformat": 4,
 "nbformat_minor": 5
}
