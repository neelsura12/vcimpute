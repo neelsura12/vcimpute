{
 "cells": [
  {
   "cell_type": "code",
   "execution_count": 4,
   "id": "f7e2cef3",
   "metadata": {},
   "outputs": [],
   "source": [
    "import numpy as np\n",
    "import pandas as pd\n",
    "from matplotlib import pyplot as plt\n",
    "dat = pd.read_pickle('/Users/nshah/work/vcimpute/data/experiment3_univariate.pkl')"
   ]
  },
  {
   "cell_type": "code",
   "execution_count": null,
   "id": "3805c435",
   "metadata": {},
   "outputs": [],
   "source": [
    "        tag,\n",
    "            seed,\n",
    "            getattr(model, 'n_fits', 1),\n",
    "            getattr(model, 'n_sims', 1),\n",
    "            len(all_mdps(X_mask)),\n",
    "            get_smae(X_imp, X, X_mask)[idx_mis],\n",
    "            elapsed,\n",
    "            bias(X_imp, X),"
   ]
  },
  {
   "cell_type": "code",
   "execution_count": 12,
   "id": "3988ab25",
   "metadata": {},
   "outputs": [],
   "source": [
    "df = pd.DataFrame(\n",
    "    [e for lst in dat for e in lst],\n",
    "    columns=['method','seed','n_fits','n_sims','mdps', 'smae', 'elapsed', 'bias']\n",
    ")\n",
    "df['elapsed'] = df['elapsed']/int(1e9)"
   ]
  },
  {
   "cell_type": "code",
   "execution_count": 16,
   "id": "b4b13de5",
   "metadata": {},
   "outputs": [],
   "source": [
    "from scipy.special import comb"
   ]
  },
  {
   "cell_type": "code",
   "execution_count": 21,
   "id": "51e05787",
   "metadata": {},
   "outputs": [],
   "source": [
    "d=25"
   ]
  },
  {
   "cell_type": "code",
   "execution_count": null,
   "id": "19c5d63a",
   "metadata": {},
   "outputs": [],
   "source": [
    "33554430.0"
   ]
  },
  {
   "cell_type": "code",
   "execution_count": 22,
   "id": "31476991",
   "metadata": {},
   "outputs": [
    {
     "name": "stdout",
     "output_type": "stream",
     "text": [
      "33554430.0\n"
     ]
    }
   ],
   "source": [
    "m=0\n",
    "for i in range(1,d):\n",
    "    m+= comb(d,i)\n",
    "print(m)"
   ]
  },
  {
   "cell_type": "code",
   "execution_count": 25,
   "id": "87c34717",
   "metadata": {},
   "outputs": [],
   "source": [
    "srs = df[lambda x: x['method'] == 'copfit'].groupby('n_sims')['elapsed'].mean()"
   ]
  },
  {
   "cell_type": "code",
   "execution_count": 26,
   "id": "2d3b7aa0",
   "metadata": {},
   "outputs": [],
   "source": [
    "from sklearn import linear_model"
   ]
  },
  {
   "cell_type": "code",
   "execution_count": 27,
   "id": "cff1c1ec",
   "metadata": {},
   "outputs": [],
   "source": [
    "model = linear_model.LinearRegression()"
   ]
  },
  {
   "cell_type": "code",
   "execution_count": 28,
   "id": "6b30371a",
   "metadata": {},
   "outputs": [
    {
     "data": {
      "text/plain": [
       "LinearRegression()"
      ]
     },
     "execution_count": 28,
     "metadata": {},
     "output_type": "execute_result"
    }
   ],
   "source": [
    "model.fit(np.array(srs.index)[:, None], srs.values[:, None])"
   ]
  },
  {
   "cell_type": "code",
   "execution_count": 34,
   "id": "16a2392a",
   "metadata": {},
   "outputs": [],
   "source": [
    "from vcimpute.helper_datagen import make_complete_data_matrix, mask_MCAR"
   ]
  },
  {
   "cell_type": "code",
   "execution_count": 37,
   "id": "6173bbbb",
   "metadata": {},
   "outputs": [],
   "source": [
    "X = make_complete_data_matrix(1000,25,'gaussian',0)"
   ]
  },
  {
   "cell_type": "code",
   "execution_count": 40,
   "id": "b4aa05c7",
   "metadata": {},
   "outputs": [],
   "source": [
    "X_mask =mask_MCAR(X, 'general', .25, 0)"
   ]
  },
  {
   "cell_type": "code",
   "execution_count": 41,
   "id": "c4c0259a",
   "metadata": {},
   "outputs": [],
   "source": [
    "from vcimpute.helper_mdp import all_mdps"
   ]
  },
  {
   "cell_type": "code",
   "execution_count": 44,
   "id": "5eb5cf0c",
   "metadata": {},
   "outputs": [
    {
     "data": {
      "text/plain": [
       "0.5963999999999999"
      ]
     },
     "execution_count": 44,
     "metadata": {},
     "output_type": "execute_result"
    }
   ],
   "source": [
    "(994*.0006)"
   ]
  },
  {
   "cell_type": "code",
   "execution_count": 42,
   "id": "d42abf67",
   "metadata": {},
   "outputs": [
    {
     "data": {
      "text/plain": [
       "994"
      ]
     },
     "execution_count": 42,
     "metadata": {},
     "output_type": "execute_result"
    }
   ],
   "source": [
    "len(all_mdps(X_mask))"
   ]
  },
  {
   "cell_type": "code",
   "execution_count": 33,
   "id": "a81ed93e",
   "metadata": {},
   "outputs": [
    {
     "data": {
      "text/plain": [
       "5.592404999999999"
      ]
     },
     "execution_count": 33,
     "metadata": {},
     "output_type": "execute_result"
    }
   ],
   "source": [
    ".0006*33554430.0/(3600)"
   ]
  },
  {
   "cell_type": "code",
   "execution_count": 48,
   "id": "2d4e271c",
   "metadata": {},
   "outputs": [
    {
     "data": {
      "text/html": [
       "<div>\n",
       "<style scoped>\n",
       "    .dataframe tbody tr th:only-of-type {\n",
       "        vertical-align: middle;\n",
       "    }\n",
       "\n",
       "    .dataframe tbody tr th {\n",
       "        vertical-align: top;\n",
       "    }\n",
       "\n",
       "    .dataframe thead th {\n",
       "        text-align: right;\n",
       "    }\n",
       "</style>\n",
       "<table border=\"1\" class=\"dataframe\">\n",
       "  <thead>\n",
       "    <tr style=\"text-align: right;\">\n",
       "      <th></th>\n",
       "      <th></th>\n",
       "      <th>smae</th>\n",
       "      <th>elapsed</th>\n",
       "      <th>bias</th>\n",
       "    </tr>\n",
       "    <tr>\n",
       "      <th>method</th>\n",
       "      <th>n_fits</th>\n",
       "      <th></th>\n",
       "      <th></th>\n",
       "      <th></th>\n",
       "    </tr>\n",
       "  </thead>\n",
       "  <tbody>\n",
       "    <tr>\n",
       "      <th>copfit</th>\n",
       "      <th>1</th>\n",
       "      <td>1000</td>\n",
       "      <td>1000</td>\n",
       "      <td>1000</td>\n",
       "    </tr>\n",
       "    <tr>\n",
       "      <th>copreg</th>\n",
       "      <th>1</th>\n",
       "      <td>1000</td>\n",
       "      <td>1000</td>\n",
       "      <td>1000</td>\n",
       "    </tr>\n",
       "    <tr>\n",
       "      <th>gcimpute</th>\n",
       "      <th>1</th>\n",
       "      <td>1000</td>\n",
       "      <td>1000</td>\n",
       "      <td>1000</td>\n",
       "    </tr>\n",
       "    <tr>\n",
       "      <th rowspan=\"2\" valign=\"top\">mdpfit</th>\n",
       "      <th>1</th>\n",
       "      <td>246</td>\n",
       "      <td>246</td>\n",
       "      <td>246</td>\n",
       "    </tr>\n",
       "    <tr>\n",
       "      <th>4</th>\n",
       "      <td>754</td>\n",
       "      <td>754</td>\n",
       "      <td>754</td>\n",
       "    </tr>\n",
       "  </tbody>\n",
       "</table>\n",
       "</div>"
      ],
      "text/plain": [
       "                 smae  elapsed  bias\n",
       "method   n_fits                     \n",
       "copfit   1       1000     1000  1000\n",
       "copreg   1       1000     1000  1000\n",
       "gcimpute 1       1000     1000  1000\n",
       "mdpfit   1        246      246   246\n",
       "         4        754      754   754"
      ]
     },
     "execution_count": 48,
     "metadata": {},
     "output_type": "execute_result"
    }
   ],
   "source": [
    "df.groupby(['method','n_fits'])[['smae','elapsed','bias']].count()"
   ]
  },
  {
   "cell_type": "code",
   "execution_count": 49,
   "id": "b86ba1ac",
   "metadata": {},
   "outputs": [
    {
     "data": {
      "text/html": [
       "<div>\n",
       "<style scoped>\n",
       "    .dataframe tbody tr th:only-of-type {\n",
       "        vertical-align: middle;\n",
       "    }\n",
       "\n",
       "    .dataframe tbody tr th {\n",
       "        vertical-align: top;\n",
       "    }\n",
       "\n",
       "    .dataframe thead th {\n",
       "        text-align: right;\n",
       "    }\n",
       "</style>\n",
       "<table border=\"1\" class=\"dataframe\">\n",
       "  <thead>\n",
       "    <tr style=\"text-align: right;\">\n",
       "      <th></th>\n",
       "      <th>smae</th>\n",
       "      <th>elapsed</th>\n",
       "      <th>bias</th>\n",
       "    </tr>\n",
       "    <tr>\n",
       "      <th>method</th>\n",
       "      <th></th>\n",
       "      <th></th>\n",
       "      <th></th>\n",
       "    </tr>\n",
       "  </thead>\n",
       "  <tbody>\n",
       "    <tr>\n",
       "      <th>copfit</th>\n",
       "      <td>0.555606</td>\n",
       "      <td>5.844434</td>\n",
       "      <td>0.008657</td>\n",
       "    </tr>\n",
       "    <tr>\n",
       "      <th>copreg</th>\n",
       "      <td>0.342318</td>\n",
       "      <td>5.633529</td>\n",
       "      <td>0.004193</td>\n",
       "    </tr>\n",
       "    <tr>\n",
       "      <th>gcimpute</th>\n",
       "      <td>0.262039</td>\n",
       "      <td>0.240818</td>\n",
       "      <td>0.003492</td>\n",
       "    </tr>\n",
       "    <tr>\n",
       "      <th>mdpfit</th>\n",
       "      <td>0.348336</td>\n",
       "      <td>17.112419</td>\n",
       "      <td>0.004243</td>\n",
       "    </tr>\n",
       "  </tbody>\n",
       "</table>\n",
       "</div>"
      ],
      "text/plain": [
       "              smae    elapsed      bias\n",
       "method                                 \n",
       "copfit    0.555606   5.844434  0.008657\n",
       "copreg    0.342318   5.633529  0.004193\n",
       "gcimpute  0.262039   0.240818  0.003492\n",
       "mdpfit    0.348336  17.112419  0.004243"
      ]
     },
     "execution_count": 49,
     "metadata": {},
     "output_type": "execute_result"
    }
   ],
   "source": [
    "df.groupby(['method'])[['smae','elapsed','bias']].mean()"
   ]
  },
  {
   "cell_type": "code",
   "execution_count": null,
   "id": "9d1e0e7e",
   "metadata": {},
   "outputs": [],
   "source": [
    "\n"
   ]
  }
 ],
 "metadata": {
  "kernelspec": {
   "display_name": "Python 3 (ipykernel)",
   "language": "python",
   "name": "python3"
  },
  "language_info": {
   "codemirror_mode": {
    "name": "ipython",
    "version": 3
   },
   "file_extension": ".py",
   "mimetype": "text/x-python",
   "name": "python",
   "nbconvert_exporter": "python",
   "pygments_lexer": "ipython3",
   "version": "3.7.11"
  }
 },
 "nbformat": 4,
 "nbformat_minor": 5
}
