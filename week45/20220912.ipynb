{
 "cells": [
  {
   "cell_type": "code",
   "execution_count": 87,
   "id": "d0060bf3",
   "metadata": {},
   "outputs": [],
   "source": [
    "import numpy as np\n",
    "import pandas as pd\n",
    "from matplotlib import pyplot as plt"
   ]
  },
  {
   "cell_type": "code",
   "execution_count": 88,
   "id": "4ba42115",
   "metadata": {},
   "outputs": [],
   "source": [
    "data_dir = '/Users/nshah/work/vcimpute/data'"
   ]
  },
  {
   "cell_type": "code",
   "execution_count": 89,
   "id": "91a17c0a",
   "metadata": {},
   "outputs": [],
   "source": [
    "df = pd.DataFrame()\n",
    "for i in range(10):\n",
    "    tmp = pd.read_pickle(f'{data_dir}/experiment3_monotone_{i}.pkl')\n",
    "    _df = pd.DataFrame(\n",
    "        [e for lst in tmp for e in lst],\n",
    "        columns=['tag','seed','n_fits','n_sims','n_mdps', 'n_cols_mis','n_cc','miss_by_col','raw_smae','elapsed','bias']\n",
    "    )\n",
    "    df = pd.concat([_df, df])"
   ]
  },
  {
   "cell_type": "code",
   "execution_count": 90,
   "id": "1ef03aa9",
   "metadata": {},
   "outputs": [],
   "source": [
    "df['smae'] = df['raw_smae'].apply(np.nanmean)\n",
    "df['smae2'] = df[['miss_by_col', 'raw_smae']].apply(lambda x: np.dot(x['miss_by_col'],np.nan_to_num(x['raw_smae']))/np.sum(x['miss_by_col']), axis=1)\n",
    "df['elapsed_s'] = df['elapsed'] / int(1e9)"
   ]
  },
  {
   "cell_type": "code",
   "execution_count": 54,
   "id": "9782b66e",
   "metadata": {},
   "outputs": [],
   "source": [
    "pd.set_option('display.max_rows', 800)\n",
    "pd.set_option('display.float_format','{:,.2f}'.format)"
   ]
  },
  {
   "cell_type": "raw",
   "id": "ac0d8660",
   "metadata": {},
   "source": [
    "dat = df.groupby(['tag','n_cols_mis','n_fits'])[['elapsed_s']].mean()\n",
    "for n_cols_mis in range(1,11):\n",
    "    for tag in ['copfit', 'copreg','gcimpute','mdpfit']:\n",
    "        dat.loc[pd.IndexSlice[tag, n_cols_mis, :], :]\n",
    "        break\n",
    "    break"
   ]
  },
  {
   "cell_type": "raw",
   "id": "1fd3af43",
   "metadata": {},
   "source": [
    "plt.boxplot([dat.loc[pd.IndexSlice[tag, 9, :], :]['elapsed_s'].to_list()\n",
    "for tag in ['copfit', 'copreg','gcimpute','mdpfit']])"
   ]
  },
  {
   "cell_type": "raw",
   "id": "b93663af",
   "metadata": {},
   "source": [
    "plt.boxplot(dat.loc[pd.IndexSlice['mdpfit', 9, :], :]['elapsed_s'].to_list())"
   ]
  },
  {
   "cell_type": "code",
   "execution_count": 101,
   "id": "c84f8c6d",
   "metadata": {},
   "outputs": [
    {
     "name": "stdout",
     "output_type": "stream",
     "text": [
      "\\begin{tabular}{lrrrrrrrrr}\n",
      "\\toprule\n",
      "{} & \\multicolumn{9}{l}{bias} \\\\\n",
      "n\\_cols\\_mis &    1 &    2 &    3 &    4 &    5 &    6 &    7 &    8 &    9 \\\\\n",
      "tag      &      &      &      &      &      &      &      &      &      \\\\\n",
      "\\midrule\n",
      "copfit   & 0.01 & 0.03 & 0.04 & 0.05 & 0.06 & 0.06 & 0.06 & 0.06 & 0.06 \\\\\n",
      "copreg   & 0.00 & 0.01 & 0.01 & 0.02 & 0.02 & 0.03 & 0.03 & 0.03 & 0.03 \\\\\n",
      "gcimpute & 0.00 & 0.01 & 0.01 & 0.02 & 0.02 & 0.03 & 0.03 & 0.04 & 0.04 \\\\\n",
      "mdpfit   & 0.00 & 0.01 & 0.01 & 0.02 & 0.02 & 0.02 & 0.03 & 0.03 & 0.04 \\\\\n",
      "\\bottomrule\n",
      "\\end{tabular}\n",
      "\n"
     ]
    }
   ],
   "source": [
    "print(df.groupby(['n_cols_mis','tag'])[['bias']].mean().unstack(-2).to_latex(float_format='{:,.2f}'.format))"
   ]
  },
  {
   "cell_type": "code",
   "execution_count": 94,
   "id": "e799a8e8",
   "metadata": {},
   "outputs": [
    {
     "name": "stdout",
     "output_type": "stream",
     "text": [
      "\\begin{tabular}{lrrrrrrrr}\n",
      "\\toprule\n",
      "{} & \\multicolumn{4}{l}{smae} & \\multicolumn{4}{l}{bias} \\\\\n",
      "tag & copfit & copreg & gcimpute & mdpfit & copfit & copreg & gcimpute & mdpfit \\\\\n",
      "n\\_cols\\_mis &        &        &          &        &        &        &          &        \\\\\n",
      "\\midrule\n",
      "1          &   0.55 &   0.34 &     0.26 &   0.35 &   0.01 &   0.00 &     0.00 &   0.00 \\\\\n",
      "2          &   0.69 &   0.49 &     0.34 &   0.46 &   0.03 &   0.01 &     0.01 &   0.01 \\\\\n",
      "3          &   0.77 &   0.60 &     0.40 &   0.57 &   0.04 &   0.01 &     0.01 &   0.01 \\\\\n",
      "4          &   0.85 &   0.72 &     0.47 &   0.68 &   0.05 &   0.02 &     0.02 &   0.02 \\\\\n",
      "5          &   0.91 &   0.84 &     0.55 &   0.80 &   0.06 &   0.02 &     0.02 &   0.02 \\\\\n",
      "6          &   0.97 &   0.95 &     0.63 &   0.91 &   0.06 &   0.03 &     0.03 &   0.02 \\\\\n",
      "7          &   1.03 &   1.06 &     0.71 &   1.03 &   0.06 &   0.03 &     0.03 &   0.03 \\\\\n",
      "8          &   1.08 &   1.17 &     0.79 &   1.16 &   0.06 &   0.03 &     0.04 &   0.03 \\\\\n",
      "9          &   1.15 &   1.27 &     0.87 &   1.25 &   0.06 &   0.03 &     0.04 &   0.04 \\\\\n",
      "\\bottomrule\n",
      "\\end{tabular}\n",
      "\n"
     ]
    }
   ],
   "source": [
    "print(df.groupby(['n_cols_mis','tag'])[['smae', 'bias']].mean().unstack(-1).to_latex(float_format='{:,.2f}'.format))"
   ]
  },
  {
   "cell_type": "code",
   "execution_count": null,
   "id": "b07080a5",
   "metadata": {},
   "outputs": [],
   "source": []
  }
 ],
 "metadata": {
  "kernelspec": {
   "display_name": "Python 3 (ipykernel)",
   "language": "python",
   "name": "python3"
  },
  "language_info": {
   "codemirror_mode": {
    "name": "ipython",
    "version": 3
   },
   "file_extension": ".py",
   "mimetype": "text/x-python",
   "name": "python",
   "nbconvert_exporter": "python",
   "pygments_lexer": "ipython3",
   "version": "3.7.11"
  }
 },
 "nbformat": 4,
 "nbformat_minor": 5
}
