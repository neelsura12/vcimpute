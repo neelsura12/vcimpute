{
 "cells": [
  {
   "cell_type": "code",
   "execution_count": 46,
   "id": "76fde265",
   "metadata": {},
   "outputs": [],
   "source": [
    "import numpy as np\n",
    "from gcimpute.helper_evaluation import get_smae\n",
    "from gcimpute.gaussian_copula import GaussianCopula\n",
    "from vcimpute.helper_datagen import make_complete_data_matrix, mask_MCAR"
   ]
  },
  {
   "cell_type": "code",
   "execution_count": 47,
   "id": "b07283b0",
   "metadata": {},
   "outputs": [],
   "source": [
    "X = make_complete_data_matrix(1000, 5,'gaussian',seed=1)"
   ]
  },
  {
   "cell_type": "code",
   "execution_count": 48,
   "id": "cdc3b5c7",
   "metadata": {},
   "outputs": [],
   "source": [
    "X_mis = mask_MCAR(X, 'general', mask_frac=0.2, seed=1)"
   ]
  },
  {
   "cell_type": "code",
   "execution_count": 49,
   "id": "e7b3371c",
   "metadata": {},
   "outputs": [],
   "source": [
    "cop = GaussianCopula()\n",
    "X_imp = cop.fit_transform(X_mis)"
   ]
  },
  {
   "cell_type": "code",
   "execution_count": 50,
   "id": "ef8cb36a",
   "metadata": {},
   "outputs": [
    {
     "data": {
      "text/plain": [
       "0.6403765957102953"
      ]
     },
     "execution_count": 50,
     "metadata": {},
     "output_type": "execute_result"
    }
   ],
   "source": [
    "np.mean(get_smae(X_imp, X, X_mis))"
   ]
  },
  {
   "cell_type": "code",
   "execution_count": 43,
   "id": "c499e6cf",
   "metadata": {},
   "outputs": [],
   "source": [
    "cop.sample_imputation?"
   ]
  },
  {
   "cell_type": "code",
   "execution_count": 57,
   "id": "6be00f3c",
   "metadata": {},
   "outputs": [
    {
     "data": {
      "text/plain": [
       "array([[0.08614976, 0.45792556, 0.57842989, 0.40389887, 0.56055436],\n",
       "       [0.57587862, 0.60825491, 0.23541011, 0.24640224, 0.36782704],\n",
       "       [       nan, 0.55782556,        nan, 0.65505927, 0.75488677],\n",
       "       ...,\n",
       "       [0.69710546, 0.05108624, 0.95522378, 0.62137791,        nan],\n",
       "       [0.83227832, 0.78643521,        nan, 0.96580871, 0.13767796],\n",
       "       [0.80699903,        nan, 0.70881685, 0.92214362, 0.42980842]])"
      ]
     },
     "execution_count": 57,
     "metadata": {},
     "output_type": "execute_result"
    }
   ],
   "source": [
    "X_mis"
   ]
  },
  {
   "cell_type": "code",
   "execution_count": 58,
   "id": "45708004",
   "metadata": {},
   "outputs": [],
   "source": [
    "from scipy.stats import norm"
   ]
  },
  {
   "cell_type": "code",
   "execution_count": 60,
   "id": "3321267d",
   "metadata": {},
   "outputs": [
    {
     "data": {
      "text/plain": [
       "array([0.79525348, 0.93251534, 0.69079755, 0.82331288, 0.8       ])"
      ]
     },
     "execution_count": 60,
     "metadata": {},
     "output_type": "execute_result"
    }
   ],
   "source": [
    "norm.cdf(cop._latent_Zimp[:,0])[-5:]"
   ]
  },
  {
   "cell_type": "code",
   "execution_count": 80,
   "id": "60ceca73",
   "metadata": {},
   "outputs": [],
   "source": [
    "X_imp = norm.cdf(cop._latent_Zimp)"
   ]
  },
  {
   "cell_type": "raw",
   "id": "793b1ec9",
   "metadata": {},
   "source": [
    "np.mean(get_smae(X_imp, X, X_mis))"
   ]
  },
  {
   "cell_type": "code",
   "execution_count": 74,
   "id": "aae5ca12",
   "metadata": {},
   "outputs": [
    {
     "data": {
      "text/plain": [
       "array([[6.94551107e-310, 2.14267093e-314, 2.69384353e-319,\n",
       "                    nan, 3.59534816e+246],\n",
       "       [1.75631032e-152, 3.17058865e+180, 8.44747281e+252,\n",
       "        5.28400063e+005, 1.15476817e-259],\n",
       "       [6.19962459e+223, 1.39647039e+228, 6.01346953e-154,\n",
       "        2.13776925e+161, 1.19273052e+180],\n",
       "       ...,\n",
       "       [9.10434163e+276, 9.38185659e-154, 2.16401696e-027,\n",
       "        1.81783298e+185, 1.42716889e+248],\n",
       "       [1.42734010e+228, 1.22681370e-259, 1.99611597e+161,\n",
       "        1.44529796e+166, 1.06185660e-153],\n",
       "       [1.96871856e-153, 2.25064919e-153, 3.02880389e-086,\n",
       "        4.81433988e+199, 1.92220079e+227]])"
      ]
     },
     "execution_count": 74,
     "metadata": {},
     "output_type": "execute_result"
    }
   ],
   "source": [
    "cop._sample_latent(cop._latent_Zimp, cop._Z_ord_lower, cop._Z_ord_upper, 1)[...,0]"
   ]
  },
  {
   "cell_type": "code",
   "execution_count": 56,
   "id": "b781130f",
   "metadata": {},
   "outputs": [
    {
     "data": {
      "text/plain": [
       "array([[-1.46716459, -0.13045996,  0.08616427, -0.31205332,  0.15274643],\n",
       "       [ 0.18403279,  0.2566249 , -0.76890861, -0.77219321, -0.34724068],\n",
       "       [-0.24976304,  0.13045996,  0.12862592,  0.38532047,  0.72559823],\n",
       "       ...,\n",
       "       [ 0.49811228, -1.58079879,  1.7965349 ,  0.28584087, -0.30167423],\n",
       "       [ 0.92806427,  0.77133848, -0.15531628,  1.84525812, -1.16182481],\n",
       "       [ 0.84162123, -0.24498877,  0.48635343,  1.41352982, -0.15274643]])"
      ]
     },
     "execution_count": 56,
     "metadata": {},
     "output_type": "execute_result"
    }
   ],
   "source": []
  },
  {
   "cell_type": "code",
   "execution_count": 55,
   "id": "ea22c1fd",
   "metadata": {},
   "outputs": [
    {
     "data": {
      "text/plain": [
       "['_Z_ord_lower',\n",
       " '_Z_ord_upper',\n",
       " '__class__',\n",
       " '__delattr__',\n",
       " '__dict__',\n",
       " '__dir__',\n",
       " '__doc__',\n",
       " '__eq__',\n",
       " '__format__',\n",
       " '__ge__',\n",
       " '__getattribute__',\n",
       " '__gt__',\n",
       " '__hash__',\n",
       " '__init__',\n",
       " '__init_subclass__',\n",
       " '__le__',\n",
       " '__lt__',\n",
       " '__module__',\n",
       " '__ne__',\n",
       " '__new__',\n",
       " '__reduce__',\n",
       " '__reduce_ex__',\n",
       " '__repr__',\n",
       " '__setattr__',\n",
       " '__sizeof__',\n",
       " '__str__',\n",
       " '__subclasshook__',\n",
       " '__weakref__',\n",
       " '_batch_size',\n",
       " '_cont_indices',\n",
       " '_corr',\n",
       " '_corr_diff_type',\n",
       " '_decay',\n",
       " '_em_step',\n",
       " '_fillup_latent',\n",
       " '_fit_covariance',\n",
       " '_get_cond_std_missing',\n",
       " '_get_scaled_diff',\n",
       " '_init_Z_ord',\n",
       " '_init_copula_corr',\n",
       " '_iter',\n",
       " '_latent_Cord',\n",
       " '_latent_Zimp',\n",
       " '_latent_to_imp',\n",
       " '_max_iter',\n",
       " '_max_workers',\n",
       " '_min_ord_ratio',\n",
       " '_num_ord_updates',\n",
       " '_num_pass',\n",
       " '_observed_to_latent',\n",
       " '_ord_indices',\n",
       " '_preprocess_data',\n",
       " '_project_to_correlation',\n",
       " '_realtime_marginal',\n",
       " '_rng',\n",
       " '_sample_latent',\n",
       " '_sample_seed',\n",
       " '_seed',\n",
       " '_set_n_iter',\n",
       " '_threshold',\n",
       " '_training_mode',\n",
       " '_update_corr_diff',\n",
       " '_verbose',\n",
       " '_window_size',\n",
       " 'change_point_test',\n",
       " 'cont_indices',\n",
       " 'corr_diff',\n",
       " 'corrupdate',\n",
       " 'features_names',\n",
       " 'fit',\n",
       " 'fit_change_point_test',\n",
       " 'fit_offline',\n",
       " 'fit_transform',\n",
       " 'fit_transform_evaluate',\n",
       " 'fit_transform_offline',\n",
       " 'fit_transform_online',\n",
       " 'get_cdf_estimation_type',\n",
       " 'get_imputed_confidence_interval',\n",
       " 'get_imputed_confidence_interval_quantile',\n",
       " 'get_matrix_diff',\n",
       " 'get_params',\n",
       " 'get_reliability',\n",
       " 'get_reliability_cont',\n",
       " 'get_reliability_ord',\n",
       " 'get_vartype_indices',\n",
       " 'get_vartypes',\n",
       " 'has_truncation',\n",
       " 'likelihood',\n",
       " 'n_iter_',\n",
       " 'ord_indices',\n",
       " 'partial_fit',\n",
       " 'partial_fit_transform',\n",
       " 'sample_imputation',\n",
       " 'set_indices',\n",
       " 'store_var_type',\n",
       " 'transform',\n",
       " 'transform_function',\n",
       " 'var_type_dict']"
      ]
     },
     "execution_count": 55,
     "metadata": {},
     "output_type": "execute_result"
    }
   ],
   "source": [
    "dir(cop)"
   ]
  },
  {
   "cell_type": "code",
   "execution_count": 54,
   "id": "e5f74f19",
   "metadata": {},
   "outputs": [
    {
     "ename": "AttributeError",
     "evalue": "'GaussianCopula' object has no attribute 'latent_Zimp'",
     "output_type": "error",
     "traceback": [
      "\u001b[0;31m---------------------------------------------------------------------------\u001b[0m",
      "\u001b[0;31mAttributeError\u001b[0m                            Traceback (most recent call last)",
      "\u001b[0;32m/var/folders/6j/tj0_jn4123ld3w6lbbkzf7g80000gp/T/ipykernel_31179/2555005448.py\u001b[0m in \u001b[0;36m<module>\u001b[0;34m\u001b[0m\n\u001b[0;32m----> 1\u001b[0;31m \u001b[0mcop\u001b[0m\u001b[0;34m.\u001b[0m\u001b[0mlatent_Zimp\u001b[0m\u001b[0;34m\u001b[0m\u001b[0;34m\u001b[0m\u001b[0m\n\u001b[0m",
      "\u001b[0;31mAttributeError\u001b[0m: 'GaussianCopula' object has no attribute 'latent_Zimp'"
     ]
    }
   ],
   "source": [
    "cop.latent_Zimp"
   ]
  },
  {
   "cell_type": "code",
   "execution_count": 51,
   "id": "bd65f1f4",
   "metadata": {},
   "outputs": [],
   "source": [
    "tmp = cop.sample_imputation(X_mis)"
   ]
  },
  {
   "cell_type": "code",
   "execution_count": 52,
   "id": "2cb01824",
   "metadata": {},
   "outputs": [
    {
     "data": {
      "text/plain": [
       "array([[[0.08614976, 0.08614976, 0.08614976, 0.08614976, 0.08614976],\n",
       "        [0.45792556, 0.45792556, 0.45792556, 0.45792556, 0.45792556],\n",
       "        [0.57842989, 0.57842989, 0.57842989, 0.57842989, 0.57842989],\n",
       "        [0.40389887, 0.40389887, 0.40389887, 0.40389887, 0.40389887],\n",
       "        [0.56055436, 0.56055436, 0.56055436, 0.56055436, 0.56055436]],\n",
       "\n",
       "       [[0.57587862, 0.57587862, 0.57587862, 0.57587862, 0.57587862],\n",
       "        [0.60825491, 0.60825491, 0.60825491, 0.60825491, 0.60825491],\n",
       "        [0.23541011, 0.23541011, 0.23541011, 0.23541011, 0.23541011],\n",
       "        [0.24640224, 0.24640224, 0.24640224, 0.24640224, 0.24640224],\n",
       "        [0.36782704, 0.36782704, 0.36782704, 0.36782704, 0.36782704]],\n",
       "\n",
       "       [[0.02218121, 0.22681584, 0.24934443, 0.67208359, 0.90130727],\n",
       "        [0.55782556, 0.55782556, 0.55782556, 0.55782556, 0.55782556],\n",
       "        [0.86598892, 0.729616  , 0.61181095, 0.59725838, 0.48564185],\n",
       "        [0.65505927, 0.65505927, 0.65505927, 0.65505927, 0.65505927],\n",
       "        [0.75488677, 0.75488677, 0.75488677, 0.75488677, 0.75488677]],\n",
       "\n",
       "       ...,\n",
       "\n",
       "       [[0.69710546, 0.69710546, 0.69710546, 0.69710546, 0.69710546],\n",
       "        [0.05108624, 0.05108624, 0.05108624, 0.05108624, 0.05108624],\n",
       "        [0.95522378, 0.95522378, 0.95522378, 0.95522378, 0.95522378],\n",
       "        [0.62137791, 0.62137791, 0.62137791, 0.62137791, 0.62137791],\n",
       "        [0.96570798, 0.56563466, 0.65859195, 0.53446886, 0.5722103 ]],\n",
       "\n",
       "       [[0.83227832, 0.83227832, 0.83227832, 0.83227832, 0.83227832],\n",
       "        [0.78643521, 0.78643521, 0.78643521, 0.78643521, 0.78643521],\n",
       "        [0.84670863, 0.59051979, 0.63108265, 0.57028286, 0.59346303],\n",
       "        [0.96580871, 0.96580871, 0.96580871, 0.96580871, 0.96580871],\n",
       "        [0.13767796, 0.13767796, 0.13767796, 0.13767796, 0.13767796]],\n",
       "\n",
       "       [[0.80699903, 0.80699903, 0.80699903, 0.80699903, 0.80699903],\n",
       "        [0.84825251, 0.52816334, 0.58353103, 0.50736487, 0.53394623],\n",
       "        [0.70881685, 0.70881685, 0.70881685, 0.70881685, 0.70881685],\n",
       "        [0.92214362, 0.92214362, 0.92214362, 0.92214362, 0.92214362],\n",
       "        [0.42980842, 0.42980842, 0.42980842, 0.42980842, 0.42980842]]])"
      ]
     },
     "execution_count": 52,
     "metadata": {},
     "output_type": "execute_result"
    }
   ],
   "source": [
    "tmp"
   ]
  },
  {
   "cell_type": "code",
   "execution_count": 45,
   "id": "422b7564",
   "metadata": {},
   "outputs": [
    {
     "data": {
      "text/plain": [
       "array([[0.08614976, 0.45792556, 0.57842989, 0.40389887, 0.56055436],\n",
       "       [0.57587862, 0.60825491, 0.23541011, 0.24640224, 0.36782704],\n",
       "       [       nan, 0.55782556,        nan, 0.65505927, 0.75488677],\n",
       "       ...,\n",
       "       [0.69710546, 0.05108624, 0.95522378, 0.62137791,        nan],\n",
       "       [0.83227832, 0.78643521,        nan, 0.96580871, 0.13767796],\n",
       "       [0.80699903,        nan, 0.70881685, 0.92214362, 0.42980842]])"
      ]
     },
     "execution_count": 45,
     "metadata": {},
     "output_type": "execute_result"
    }
   ],
   "source": [
    "X_mis"
   ]
  },
  {
   "cell_type": "code",
   "execution_count": 44,
   "id": "20fd721f",
   "metadata": {},
   "outputs": [
    {
     "data": {
      "text/plain": [
       "array([[0.56055436, 0.56055436, 0.56055436, 0.56055436, 0.56055436],\n",
       "       [0.36782704, 0.36782704, 0.36782704, 0.36782704, 0.36782704],\n",
       "       [0.75488677, 0.75488677, 0.75488677, 0.75488677, 0.75488677],\n",
       "       ...,\n",
       "       [0.96570798, 0.56563466, 0.65859195, 0.53446886, 0.5722103 ],\n",
       "       [0.13767796, 0.13767796, 0.13767796, 0.13767796, 0.13767796],\n",
       "       [0.42980842, 0.42980842, 0.42980842, 0.42980842, 0.42980842]])"
      ]
     },
     "execution_count": 44,
     "metadata": {},
     "output_type": "execute_result"
    }
   ],
   "source": [
    "X_imp"
   ]
  },
  {
   "cell_type": "code",
   "execution_count": 42,
   "id": "d78c51bb",
   "metadata": {},
   "outputs": [
    {
     "name": "stdout",
     "output_type": "stream",
     "text": [
      "1.43469628795332\n",
      "1.3916951616393543\n",
      "1.2025055237548579\n",
      "1.1926284839285006\n",
      "1.431248921506579\n"
     ]
    }
   ],
   "source": [
    "for i in range(5):\n",
    "    X_imp = tmp[:,i]\n",
    "    print(np.nanmean(get_smae(X_imp, X, X_mis)))"
   ]
  },
  {
   "cell_type": "code",
   "execution_count": null,
   "id": "19c81bc5",
   "metadata": {},
   "outputs": [],
   "source": []
  }
 ],
 "metadata": {
  "kernelspec": {
   "display_name": "Python 3 (ipykernel)",
   "language": "python",
   "name": "python3"
  },
  "language_info": {
   "codemirror_mode": {
    "name": "ipython",
    "version": 3
   },
   "file_extension": ".py",
   "mimetype": "text/x-python",
   "name": "python",
   "nbconvert_exporter": "python",
   "pygments_lexer": "ipython3",
   "version": "3.7.11"
  }
 },
 "nbformat": 4,
 "nbformat_minor": 5
}
