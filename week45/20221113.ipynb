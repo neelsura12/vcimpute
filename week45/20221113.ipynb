{
 "cells": [
  {
   "cell_type": "code",
   "execution_count": 12,
   "id": "2770a581",
   "metadata": {},
   "outputs": [],
   "source": [
    "import numpy as np\n",
    "import pandas as pd\n",
    "\n",
    "dat = pd.read_pickle('/Users/nshah/work/vcimpute/vcimpute/scripts/experiment4_univariate_34_0.pkl')"
   ]
  },
  {
   "cell_type": "code",
   "execution_count": 16,
   "id": "36dd57b5",
   "metadata": {},
   "outputs": [],
   "source": [
    "df = pd.DataFrame(\n",
    "    [e for lst in dat for e in lst],\n",
    "    columns=['tag', 'seed', 'n_fits', 'n_sims', 'mdps', 'smae', 'elapsed', 'bias']\n",
    ")"
   ]
  },
  {
   "cell_type": "code",
   "execution_count": 30,
   "id": "0979d98a",
   "metadata": {},
   "outputs": [],
   "source": [
    "df['elapsed_s'] = df['elapsed']/int(1e9)"
   ]
  },
  {
   "cell_type": "code",
   "execution_count": 31,
   "id": "778fa0d3",
   "metadata": {},
   "outputs": [
    {
     "data": {
      "text/html": [
       "<div>\n",
       "<style scoped>\n",
       "    .dataframe tbody tr th:only-of-type {\n",
       "        vertical-align: middle;\n",
       "    }\n",
       "\n",
       "    .dataframe tbody tr th {\n",
       "        vertical-align: top;\n",
       "    }\n",
       "\n",
       "    .dataframe thead th {\n",
       "        text-align: right;\n",
       "    }\n",
       "</style>\n",
       "<table border=\"1\" class=\"dataframe\">\n",
       "  <thead>\n",
       "    <tr style=\"text-align: right;\">\n",
       "      <th></th>\n",
       "      <th>smae</th>\n",
       "      <th>elapsed_s</th>\n",
       "      <th>bias</th>\n",
       "    </tr>\n",
       "    <tr>\n",
       "      <th>tag</th>\n",
       "      <th></th>\n",
       "      <th></th>\n",
       "      <th></th>\n",
       "    </tr>\n",
       "  </thead>\n",
       "  <tbody>\n",
       "    <tr>\n",
       "      <th>copfit</th>\n",
       "      <td>0.647634</td>\n",
       "      <td>85.091902</td>\n",
       "      <td>0.008536</td>\n",
       "    </tr>\n",
       "    <tr>\n",
       "      <th>copreg</th>\n",
       "      <td>0.261991</td>\n",
       "      <td>62.361390</td>\n",
       "      <td>0.003943</td>\n",
       "    </tr>\n",
       "    <tr>\n",
       "      <th>gcimpute</th>\n",
       "      <td>0.235054</td>\n",
       "      <td>0.348705</td>\n",
       "      <td>0.003132</td>\n",
       "    </tr>\n",
       "    <tr>\n",
       "      <th>mdpfit</th>\n",
       "      <td>0.258604</td>\n",
       "      <td>207.997122</td>\n",
       "      <td>0.003781</td>\n",
       "    </tr>\n",
       "  </tbody>\n",
       "</table>\n",
       "</div>"
      ],
      "text/plain": [
       "              smae   elapsed_s      bias\n",
       "tag                                     \n",
       "copfit    0.647634   85.091902  0.008536\n",
       "copreg    0.261991   62.361390  0.003943\n",
       "gcimpute  0.235054    0.348705  0.003132\n",
       "mdpfit    0.258604  207.997122  0.003781"
      ]
     },
     "execution_count": 31,
     "metadata": {},
     "output_type": "execute_result"
    }
   ],
   "source": [
    "# 34\n",
    "df.groupby('tag')[['smae', 'elapsed_s','bias']].mean()"
   ]
  },
  {
   "cell_type": "code",
   "execution_count": 37,
   "id": "b1277c4b",
   "metadata": {},
   "outputs": [
    {
     "data": {
      "text/plain": [
       "0.0185"
      ]
     },
     "execution_count": 37,
     "metadata": {},
     "output_type": "execute_result"
    }
   ],
   "source": [
    "999/(1000*54)"
   ]
  },
  {
   "cell_type": "code",
   "execution_count": 32,
   "id": "e312b21c",
   "metadata": {},
   "outputs": [],
   "source": [
    "from vcimpute.helper_mdp import all_miss_vars"
   ]
  },
  {
   "cell_type": "code",
   "execution_count": 33,
   "id": "d6bdb39f",
   "metadata": {},
   "outputs": [
    {
     "data": {
      "text/plain": [
       "50000"
      ]
     },
     "execution_count": 33,
     "metadata": {},
     "output_type": "execute_result"
    }
   ],
   "source": [
    "50*1000"
   ]
  },
  {
   "cell_type": "code",
   "execution_count": 34,
   "id": "56a71b8e",
   "metadata": {},
   "outputs": [
    {
     "data": {
      "text/html": [
       "<div>\n",
       "<style scoped>\n",
       "    .dataframe tbody tr th:only-of-type {\n",
       "        vertical-align: middle;\n",
       "    }\n",
       "\n",
       "    .dataframe tbody tr th {\n",
       "        vertical-align: top;\n",
       "    }\n",
       "\n",
       "    .dataframe thead th {\n",
       "        text-align: right;\n",
       "    }\n",
       "</style>\n",
       "<table border=\"1\" class=\"dataframe\">\n",
       "  <thead>\n",
       "    <tr style=\"text-align: right;\">\n",
       "      <th></th>\n",
       "      <th>smae</th>\n",
       "      <th>elapsed_s</th>\n",
       "      <th>bias</th>\n",
       "    </tr>\n",
       "    <tr>\n",
       "      <th>tag</th>\n",
       "      <th></th>\n",
       "      <th></th>\n",
       "      <th></th>\n",
       "    </tr>\n",
       "  </thead>\n",
       "  <tbody>\n",
       "    <tr>\n",
       "      <th>copfit</th>\n",
       "      <td>0.647634</td>\n",
       "      <td>85.091902</td>\n",
       "      <td>0.008536</td>\n",
       "    </tr>\n",
       "    <tr>\n",
       "      <th>copreg</th>\n",
       "      <td>0.261991</td>\n",
       "      <td>62.361390</td>\n",
       "      <td>0.003943</td>\n",
       "    </tr>\n",
       "    <tr>\n",
       "      <th>gcimpute</th>\n",
       "      <td>0.235054</td>\n",
       "      <td>0.348705</td>\n",
       "      <td>0.003132</td>\n",
       "    </tr>\n",
       "    <tr>\n",
       "      <th>mdpfit</th>\n",
       "      <td>0.258604</td>\n",
       "      <td>207.997122</td>\n",
       "      <td>0.003781</td>\n",
       "    </tr>\n",
       "  </tbody>\n",
       "</table>\n",
       "</div>"
      ],
      "text/plain": [
       "              smae   elapsed_s      bias\n",
       "tag                                     \n",
       "copfit    0.647634   85.091902  0.008536\n",
       "copreg    0.261991   62.361390  0.003943\n",
       "gcimpute  0.235054    0.348705  0.003132\n",
       "mdpfit    0.258604  207.997122  0.003781"
      ]
     },
     "execution_count": 34,
     "metadata": {},
     "output_type": "execute_result"
    }
   ],
   "source": [
    "# 54\n",
    "df.groupby('tag')[['smae', 'elapsed_s','bias']].mean()"
   ]
  },
  {
   "cell_type": "code",
   "execution_count": 105,
   "id": "be514c23",
   "metadata": {},
   "outputs": [
    {
     "name": "stdout",
     "output_type": "stream",
     "text": [
      "0.21\n",
      "0.20952380952380953\n",
      "0.20754716981132076\n",
      "0.2037037037037037\n",
      "0.20909090909090908\n",
      "0.2072072072072072\n",
      "0.20353982300884957\n",
      "0.20833333333333334\n",
      "0.20155038759689922\n",
      "0.20454545454545456\n",
      "0.20437956204379562\n",
      "0.20714285714285716\n",
      "0.20567375886524822\n",
      "0.20134228187919462\n",
      "0.20382165605095542\n",
      "0.20125786163522014\n",
      "0.20496894409937888\n",
      "0.2037037037037037\n",
      "0.20606060606060606\n",
      "0.20348837209302326\n",
      "0.20108695652173914\n",
      "0.20540540540540542\n",
      "0.20212765957446807\n",
      "0.20207253886010362\n",
      "0.20100502512562815\n"
     ]
    }
   ],
   "source": [
    "out = []\n",
    "target_rate = 0.1\n",
    "for d in range(100,200):\n",
    "    n_cols = 1 \n",
    "    mask_frac = target_rate*d\n",
    "    while (mask_frac >= .5) and (n_cols < d//2):\n",
    "        mask_frac = (n_cols/(n_cols + 1))*mask_frac\n",
    "        n_cols += 1        \n",
    "    possible = mask_frac*n_cols == target_rate*d\n",
    "    if possible:\n",
    "#         print(d, mask_frac, n_cols, possible)\n",
    "        out.append((d, round(mask_frac,2), n_cols))"
   ]
  },
  {
   "cell_type": "code",
   "execution_count": 118,
   "id": "2543e75a",
   "metadata": {},
   "outputs": [
    {
     "data": {
      "text/plain": [
       "4.125"
      ]
     },
     "execution_count": 118,
     "metadata": {},
     "output_type": "execute_result"
    }
   ],
   "source": [
    "np.mean(np.diff(list(map(lambda x: x[0], out))))"
   ]
  },
  {
   "cell_type": "code",
   "execution_count": 103,
   "id": "c316ac50",
   "metadata": {},
   "outputs": [
    {
     "data": {
      "text/plain": [
       "[(100, 0.48, 21),\n",
       " (105, 0.48, 22),\n",
       " (106, 0.48, 22),\n",
       " (108, 0.49, 22),\n",
       " (110, 0.48, 23),\n",
       " (111, 0.48, 23),\n",
       " (113, 0.49, 23),\n",
       " (120, 0.48, 25),\n",
       " (129, 0.5, 26),\n",
       " (132, 0.49, 27),\n",
       " (137, 0.49, 28),\n",
       " (140, 0.48, 29),\n",
       " (141, 0.49, 29),\n",
       " (149, 0.5, 30),\n",
       " (157, 0.49, 32),\n",
       " (159, 0.5, 32),\n",
       " (161, 0.49, 33),\n",
       " (162, 0.49, 33),\n",
       " (165, 0.49, 34),\n",
       " (172, 0.49, 35),\n",
       " (184, 0.5, 37),\n",
       " (185, 0.49, 38),\n",
       " (188, 0.49, 38),\n",
       " (193, 0.49, 39),\n",
       " (199, 0.5, 40)]"
      ]
     },
     "execution_count": 103,
     "metadata": {},
     "output_type": "execute_result"
    }
   ],
   "source": [
    "out"
   ]
  },
  {
   "cell_type": "code",
   "execution_count": 100,
   "id": "ff65a09c",
   "metadata": {},
   "outputs": [
    {
     "data": {
      "text/plain": [
       "[(100, 0.47619047619047616, 21),\n",
       " (105, 0.4772727272727273, 22),\n",
       " (106, 0.4818181818181819, 22),\n",
       " (108, 0.4909090909090909, 22),\n",
       " (110, 0.4782608695652174, 23),\n",
       " (111, 0.482608695652174, 23),\n",
       " (113, 0.491304347826087, 23),\n",
       " (120, 0.48, 25),\n",
       " (129, 0.49615384615384617, 26),\n",
       " (132, 0.48888888888888893, 27),\n",
       " (137, 0.4892857142857143, 28),\n",
       " (140, 0.4827586206896552, 29),\n",
       " (141, 0.48620689655172417, 29),\n",
       " (149, 0.4966666666666667, 30),\n",
       " (157, 0.49062500000000003, 32),\n",
       " (159, 0.496875, 32),\n",
       " (161, 0.4878787878787879, 33),\n",
       " (162, 0.4909090909090909, 33),\n",
       " (165, 0.4852941176470588, 34),\n",
       " (172, 0.4914285714285714, 35),\n",
       " (184, 0.4972972972972974, 37),\n",
       " (185, 0.4868421052631579, 38),\n",
       " (188, 0.4947368421052632, 38),\n",
       " (193, 0.4948717948717949, 39),\n",
       " (199, 0.49750000000000005, 40)]"
      ]
     },
     "execution_count": 100,
     "metadata": {},
     "output_type": "execute_result"
    }
   ],
   "source": [
    "out"
   ]
  },
  {
   "cell_type": "code",
   "execution_count": 81,
   "id": "ddd4fc5d",
   "metadata": {},
   "outputs": [
    {
     "data": {
      "text/plain": [
       "0.99"
      ]
     },
     "execution_count": 81,
     "metadata": {},
     "output_type": "execute_result"
    }
   ],
   "source": [
    "mask_frac"
   ]
  },
  {
   "cell_type": "code",
   "execution_count": 77,
   "id": "ddedf974",
   "metadata": {},
   "outputs": [
    {
     "data": {
      "text/plain": [
       "100"
      ]
     },
     "execution_count": 77,
     "metadata": {},
     "output_type": "execute_result"
    }
   ],
   "source": [
    "d"
   ]
  },
  {
   "cell_type": "code",
   "execution_count": 64,
   "id": "566b9caf",
   "metadata": {},
   "outputs": [
    {
     "data": {
      "text/plain": [
       "1000.0"
      ]
     },
     "execution_count": 64,
     "metadata": {},
     "output_type": "execute_result"
    }
   ],
   "source": [
    ".5*1000*2"
   ]
  },
  {
   "cell_type": "code",
   "execution_count": 65,
   "id": "27e12942",
   "metadata": {},
   "outputs": [
    {
     "data": {
      "text/plain": [
       "0.01"
      ]
     },
     "execution_count": 65,
     "metadata": {},
     "output_type": "execute_result"
    }
   ],
   "source": [
    "1000/(1000*100)"
   ]
  },
  {
   "cell_type": "code",
   "execution_count": 63,
   "id": "4a3997a4",
   "metadata": {},
   "outputs": [
    {
     "data": {
      "text/plain": [
       "0.5"
      ]
     },
     "execution_count": 63,
     "metadata": {},
     "output_type": "execute_result"
    }
   ],
   "source": [
    "x"
   ]
  },
  {
   "cell_type": "code",
   "execution_count": 56,
   "id": "e52c0910",
   "metadata": {},
   "outputs": [],
   "source": [
    "n_cols = 1\n",
    "for d in range(5,500):\n",
    "    x = .01*d\n",
    "    while x >= 1:\n",
    "        x = ((n_cols + 1)/n_cols)*x\n",
    "        n_cols += 1        \n",
    "        if n_cols == (d-1):\n",
    "            break\n",
    "    "
   ]
  },
  {
   "cell_type": "code",
   "execution_count": null,
   "id": "bc7adc6e",
   "metadata": {},
   "outputs": [],
   "source": []
  }
 ],
 "metadata": {
  "kernelspec": {
   "display_name": "Python 3 (ipykernel)",
   "language": "python",
   "name": "python3"
  },
  "language_info": {
   "codemirror_mode": {
    "name": "ipython",
    "version": 3
   },
   "file_extension": ".py",
   "mimetype": "text/x-python",
   "name": "python",
   "nbconvert_exporter": "python",
   "pygments_lexer": "ipython3",
   "version": "3.7.11"
  }
 },
 "nbformat": 4,
 "nbformat_minor": 5
}
