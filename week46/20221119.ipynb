{
 "cells": [
  {
   "cell_type": "code",
   "execution_count": 5,
   "id": "b1ea6746",
   "metadata": {},
   "outputs": [],
   "source": [
    "import os\n",
    "import numpy as np\n",
    "import pandas as pd\n",
    "from matplotlib import pyplot as plt\n",
    "from sklearn import linear_model"
   ]
  },
  {
   "cell_type": "code",
   "execution_count": 6,
   "id": "0c59fc33",
   "metadata": {},
   "outputs": [],
   "source": [
    "data_dir = '/Users/nshah/work/vcimpute/data/experiment4'"
   ]
  },
  {
   "cell_type": "code",
   "execution_count": 7,
   "id": "669a7408",
   "metadata": {},
   "outputs": [],
   "source": [
    "cols = [\n",
    "    'tag',\n",
    "    'seed',\n",
    "    'n_fits',\n",
    "    'n_sims',\n",
    "    'mdps',\n",
    "    'smae',\n",
    "    'elapsed',\n",
    "    'bias'\n",
    "]\n",
    "\n",
    "file_lst =[\n",
    "    'experiment4_univariate_54_0.pkl',\n",
    "    'experiment4_univariate_34_0.pkl',\n",
    "    'experiment4_univariate_14_1.pkl',\n",
    "    'experiment4_univariate_14_0.pkl',\n",
    "    'experiment4_univariate_13.pkl',\n",
    "    'experiment4_univariate_12.pkl',\n",
    "    'experiment4_univariate_11.pkl',\n",
    "    'experiment4_univariate_10.pkl'\n",
    "]"
   ]
  },
  {
   "cell_type": "code",
   "execution_count": 9,
   "id": "c205fe4e",
   "metadata": {},
   "outputs": [],
   "source": [
    "out = {}\n",
    "for fname in file_lst:\n",
    "    df = pd.DataFrame([e for lst in pd.read_pickle(os.path.join(data_dir,fname)) for e in lst], columns=cols)\n",
    "    df['elapsed'] /= 1e9\n",
    "    out[fname] = df"
   ]
  },
  {
   "cell_type": "code",
   "execution_count": 13,
   "id": "3b6ec328",
   "metadata": {
    "scrolled": false
   },
   "outputs": [
    {
     "name": "stdout",
     "output_type": "stream",
     "text": [
      "runs 100\n",
      "d 54\n",
      "total time (h) 27\n",
      "tag\n",
      "copfit      4.425145\n",
      "copreg      2.645904\n",
      "gcimpute    0.007483\n",
      "mdpfit      8.962586\n",
      "Name: elapsed, dtype: float64\n",
      "runs 100\n",
      "d 34\n",
      "total time (h) 10\n",
      "tag\n",
      "copfit      1.418198\n",
      "copreg      1.039356\n",
      "gcimpute    0.005812\n",
      "mdpfit      3.466619\n",
      "Name: elapsed, dtype: float64\n",
      "runs 100\n",
      "d 14\n",
      "total time (h) 1\n",
      "tag\n",
      "copfit      0.183248\n",
      "copreg      0.170608\n",
      "gcimpute    0.003769\n",
      "mdpfit      0.538568\n",
      "Name: elapsed, dtype: float64\n",
      "runs 100\n",
      "d 14\n",
      "total time (h) 2\n",
      "tag\n",
      "copfit      0.185928\n",
      "copreg      0.170566\n",
      "gcimpute    0.003821\n",
      "mdpfit      0.553822\n",
      "Name: elapsed, dtype: float64\n",
      "runs 1000\n",
      "d 13\n",
      "total time (h) 13\n",
      "tag\n",
      "copfit      0.155879\n",
      "copreg      0.146708\n",
      "gcimpute    0.003767\n",
      "mdpfit      0.455147\n",
      "Name: elapsed, dtype: float64\n",
      "runs 1000\n",
      "d 12\n",
      "total time (h) 11\n",
      "tag\n",
      "copfit      0.130708\n",
      "copreg      0.123525\n",
      "gcimpute    0.003658\n",
      "mdpfit      0.384204\n",
      "Name: elapsed, dtype: float64\n",
      "runs 1000\n",
      "d 11\n",
      "total time (h) 9\n",
      "tag\n",
      "copfit      0.107574\n",
      "copreg      0.103361\n",
      "gcimpute    0.003569\n",
      "mdpfit      0.327404\n",
      "Name: elapsed, dtype: float64\n",
      "runs 1000\n",
      "d 10\n",
      "total time (h) 7\n",
      "tag\n",
      "copfit      0.087391\n",
      "copreg      0.084334\n",
      "gcimpute    0.003528\n",
      "mdpfit      0.256370\n",
      "Name: elapsed, dtype: float64\n"
     ]
    }
   ],
   "source": [
    "out2 = {}\n",
    "out3 = {}\n",
    "out3 = {}\n",
    "for fname in file_lst:\n",
    "    n_runs = out[fname]['seed'].nunique()\n",
    "    d = int(fname.split('_')[2].split('.')[0])\n",
    "    total_time = out[fname].groupby('seed')['elapsed'].sum().sum()/3600\n",
    "    \n",
    "    print('runs', n_runs)\n",
    "    print('d', d)\n",
    "    print('total time (h)', f'{total_time:,.0f}')\n",
    "    out2[d] = out[fname].groupby('seed')['elapsed'].sum().mean()/60\n",
    "    out3[d] = total_time\n",
    "    \n",
    "    print(out[fname].groupby(['tag','seed'])['elapsed'].sum().groupby('tag').mean()/60)"
   ]
  },
  {
   "cell_type": "code",
   "execution_count": 19,
   "id": "2477064b",
   "metadata": {},
   "outputs": [
    {
     "data": {
      "text/plain": [
       "26.666666666666668"
      ]
     },
     "execution_count": 19,
     "metadata": {},
     "output_type": "execute_result"
    }
   ],
   "source": [
    "100*16/60"
   ]
  },
  {
   "cell_type": "code",
   "execution_count": 20,
   "id": "53ef46c4",
   "metadata": {},
   "outputs": [
    {
     "data": {
      "text/plain": [
       "5.333333333333333"
      ]
     },
     "execution_count": 20,
     "metadata": {},
     "output_type": "execute_result"
    }
   ],
   "source": [
    "16*20/60"
   ]
  },
  {
   "cell_type": "code",
   "execution_count": 17,
   "id": "e0c182ab",
   "metadata": {},
   "outputs": [
    {
     "data": {
      "image/png": "[encoded data removed]",
      "text/plain": [
       "<Figure size 432x288 with 1 Axes>"
      ]
     },
     "metadata": {
      "needs_background": "light"
     },
     "output_type": "display_data"
    }
   ],
   "source": [
    "X = pd.DataFrame.from_dict(out2, orient='index').reset_index().values\n",
    "\n",
    "plt.plot(X[:,[0]],X[:,[1]], color='k')\n",
    "plt.title('experiment runtime by dimension (per dataset)')\n",
    "plt.ylabel('minutes')\n",
    "plt.xlabel('dimension')\n",
    "plt.tight_layout()\n",
    "plt.savefig('runtime_by_dim.png', dpi=300)"
   ]
  }
 ],
 "metadata": {
  "kernelspec": {
   "display_name": "Python 3 (ipykernel)",
   "language": "python",
   "name": "python3"
  },
  "language_info": {
   "codemirror_mode": {
    "name": "ipython",
    "version": 3
   },
   "file_extension": ".py",
   "mimetype": "text/x-python",
   "name": "python",
   "nbconvert_exporter": "python",
   "pygments_lexer": "ipython3",
   "version": "3.7.11"
  }
 },
 "nbformat": 4,
 "nbformat_minor": 5
}
