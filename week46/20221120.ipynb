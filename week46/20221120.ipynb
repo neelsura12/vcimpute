{
 "cells": [
  {
   "cell_type": "code",
   "execution_count": 51,
   "id": "1e0e6d5b",
   "metadata": {},
   "outputs": [],
   "source": [
    "import os\n",
    "\n",
    "import numpy as np\n",
    "import pandas as pd"
   ]
  },
  {
   "cell_type": "code",
   "execution_count": 52,
   "id": "8a36231f",
   "metadata": {},
   "outputs": [],
   "source": [
    "root_dir = '/Users/nshah/work/vcimpute/vcimpute/scripts/'"
   ]
  },
  {
   "cell_type": "code",
   "execution_count": 50,
   "id": "b94ea5aa",
   "metadata": {},
   "outputs": [
    {
     "name": "stdout",
     "output_type": "stream",
     "text": [
      "26\n",
      "50 0.2 36 0.57 0.79 0.13 0.11\n",
      "60 0.17 53 0.53 0.75 0.11 0.11\n",
      "50 0.2 35 0.59 0.84 0.14 0.12\n",
      "50 0.2 35 0.57 0.84 0.13 0.12\n",
      "50 0.2 35 0.59 0.82 0.14 0.11\n",
      "60 0.17 53 0.53 0.75 0.1 0.11\n",
      "60 0.17 53 0.55 0.76 0.12 0.1\n",
      "60 0.17 53 0.56 0.78 0.12 0.11\n",
      "60 0.17 54 0.55 0.78 0.11 0.11\n",
      "50 0.2 35 0.61 0.86 0.14 0.11\n",
      "80 0.12 99 0.47 0.66 0.09 0.1\n",
      "80 0.12 101 0.45 0.63 0.08 0.1\n",
      "80 0.13 99 0.44 0.65 0.09 0.11\n",
      "80 0.13 99 0.46 0.65 0.09 0.11\n",
      "100 0.1 160 0.45 0.64 0.08 0.11\n",
      "100 0.1 160 0.44 0.63 0.08 0.11\n",
      "100 0.1 159 0.45 0.63 0.08 0.11\n",
      "100 0.1 158 0.43 0.61 0.08 0.1\n",
      "90 0.11 129 0.45 0.65 0.08 0.11\n",
      "90 0.11 128 0.45 0.62 0.08 0.1\n",
      "90 0.11 128 0.45 0.64 0.08 0.1\n",
      "90 0.11 127 0.45 0.63 0.08 0.11\n",
      "70 0.14 74 0.52 0.74 0.11 0.11\n",
      "70 0.14 74 0.52 0.73 0.12 0.11\n",
      "70 0.14 75 0.53 0.72 0.11 0.11\n",
      "70 0.14 74 0.53 0.75 0.11 0.11\n"
     ]
    }
   ],
   "source": [
    "fname_lst = list(filter(lambda x: x.endswith('.pkl'), os.listdir(root_dir)))\n",
    "print(len(fname_lst))\n",
    "for fname in fname_lst:\n",
    "    tmp = pd.read_pickle(os.path.join(root_dir,fname))\n",
    "    df = pd.DataFrame(tmp)\n",
    "    elapsed_min = sum(df[9])/1e9/60\n",
    "    d = int(fname.split('_')[2])\n",
    "    print(\n",
    "        d,\n",
    "        round(np.sum(df[7].iloc[0])/(d*1000),2),\n",
    "        int(elapsed_min),\n",
    "        round(np.nanmean(df[8].iloc[0]),2),\n",
    "        round(np.nanmean(df[8].iloc[1]),2),\n",
    "        round(df[10].iloc[0],2), \n",
    "        round(df[10].iloc[1],2)\n",
    "    )"
   ]
  },
  {
   "cell_type": "code",
   "execution_count": null,
   "id": "d1219334",
   "metadata": {},
   "outputs": [],
   "source": []
  }
 ],
 "metadata": {
  "kernelspec": {
   "display_name": "Python 3 (ipykernel)",
   "language": "python",
   "name": "python3"
  },
  "language_info": {
   "codemirror_mode": {
    "name": "ipython",
    "version": 3
   },
   "file_extension": ".py",
   "mimetype": "text/x-python",
   "name": "python",
   "nbconvert_exporter": "python",
   "pygments_lexer": "ipython3",
   "version": "3.7.11"
  }
 },
 "nbformat": 4,
 "nbformat_minor": 5
}
